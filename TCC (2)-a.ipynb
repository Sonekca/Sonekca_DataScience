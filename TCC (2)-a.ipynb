{
 "cells": [
  {
   "cell_type": "markdown",
   "metadata": {
    "colab_type": "text",
    "id": "m4frAB8mOgwk"
   },
   "source": [
    "**Henrique Gomes de Sousa <br>**\n",
    "**Magno Araujo de Sousa<br>**\n",
    "**Sthefani Simões dos Santos<br>**"
   ]
  },
  {
   "cell_type": "code",
   "execution_count": 0,
   "metadata": {
    "colab": {},
    "colab_type": "code",
    "id": "_noSiAgvs5Xk"
   },
   "outputs": [],
   "source": [
    "# Biblioteca necessarias para o algoritmo\n",
    "import pandas as pd\n",
    "from sklearn.tree import DecisionTreeClassifier,export_graphviz\n",
    "from sklearn.model_selection import train_test_split\n",
    "from sklearn.model_selection import KFold\n",
    "from sklearn.model_selection import cross_val_score"
   ]
  },
  {
   "cell_type": "code",
   "execution_count": 0,
   "metadata": {
    "colab": {},
    "colab_type": "code",
    "id": "fVkDWu-us7G4"
   },
   "outputs": [],
   "source": [
    "#Importando a base de dados\n",
    "# DataFrame utilizado para cálculo do modelo de hipertensão\n",
    "df_base_pes = pd.read_csv('ARQUIVO_SAIDA_VIGITEL_vr5.csv',delimiter=';',encoding='UTF-8') "
   ]
  },
  {
   "cell_type": "code",
   "execution_count": 3,
   "metadata": {
    "colab": {
     "base_uri": "https://localhost:8080/",
     "height": 100
    },
    "colab_type": "code",
    "id": "g_XGnp6vl_Pj",
    "outputId": "75733108-34ff-4df2-9645-9599c66597f1"
   },
   "outputs": [
    {
     "name": "stdout",
     "output_type": "stream",
     "text": [
      "<class 'pandas.core.frame.DataFrame'>\n",
      "RangeIndex: 52395 entries, 0 to 52394\n",
      "Columns: 190 entries, GR_IDADE_18_26_ANOS to IN_ALVO_DIABETES\n",
      "dtypes: float64(4), int64(186)\n",
      "memory usage: 76.0 MB\n"
     ]
    }
   ],
   "source": [
    "#Drop da coluna IN_ALVO_DIABETES\n",
    "df_base_pes.drop('IN_ALVO_DIABETES', axis=1, inplace=False)\n",
    "#informações sobre a base de dados\n",
    "df_base_pes.info()"
   ]
  },
  {
   "cell_type": "code",
   "execution_count": 0,
   "metadata": {
    "colab": {},
    "colab_type": "code",
    "id": "DuvmySMhfVk7"
   },
   "outputs": [],
   "source": [
    "#DataFrame que receberá os resultados dos modelos pra comparação\n",
    "df_comp = pd.DataFrame(columns=['*******************', 'HIPERTENSÃO', 'DIABETES'])"
   ]
  },
  {
   "cell_type": "markdown",
   "metadata": {
    "colab_type": "text",
    "id": "KeA_rXi7VuFO"
   },
   "source": [
    "# **1) PRÉ-PROCESSAMENTO DOS DADOS**"
   ]
  },
  {
   "cell_type": "code",
   "execution_count": 0,
   "metadata": {
    "colab": {},
    "colab_type": "code",
    "id": "ozixTLw1s7Mi"
   },
   "outputs": [],
   "source": [
    "#Retirando as linhas com valores nulos da base\n",
    "df_base_pes.dropna(axis=0,how='any',inplace = True)"
   ]
  },
  {
   "cell_type": "code",
   "execution_count": 6,
   "metadata": {
    "colab": {
     "base_uri": "https://localhost:8080/",
     "height": 100
    },
    "colab_type": "code",
    "id": "w8wSvHYimDhY",
    "outputId": "0f2337d6-b9a5-4dac-eb9e-acec61a1f9f0"
   },
   "outputs": [
    {
     "name": "stdout",
     "output_type": "stream",
     "text": [
      "<class 'pandas.core.frame.DataFrame'>\n",
      "Int64Index: 47653 entries, 0 to 52394\n",
      "Columns: 190 entries, GR_IDADE_18_26_ANOS to IN_ALVO_DIABETES\n",
      "dtypes: float64(4), int64(186)\n",
      "memory usage: 69.4 MB\n"
     ]
    }
   ],
   "source": [
    "#informações sobre a base de dados\n",
    "df_base_pes.info()"
   ]
  },
  {
   "cell_type": "markdown",
   "metadata": {
    "colab_type": "text",
    "id": "4twt_AKUz9oz"
   },
   "source": [
    "# **PRE-PROCESSAMENTO DA BASE PARA HIPERTENSAO**"
   ]
  },
  {
   "cell_type": "code",
   "execution_count": 0,
   "metadata": {
    "colab": {},
    "colab_type": "code",
    "id": "KI44OCOCs7Us"
   },
   "outputs": [],
   "source": [
    "# Dividindo os dados em treino e teste:\n",
    "X_train, X_test, y_train, y_test = train_test_split(df_base_pes, df_base_pes['IN_ALVO_HIPERTENSAO'],test_size =0.2)"
   ]
  },
  {
   "cell_type": "code",
   "execution_count": 8,
   "metadata": {
    "colab": {
     "base_uri": "https://localhost:8080/",
     "height": 50
    },
    "colab_type": "code",
    "id": "egVlzlfXtOU2",
    "outputId": "a1313f69-4e00-4521-9e5c-21fe28a93f7c"
   },
   "outputs": [
    {
     "name": "stdout",
     "output_type": "stream",
     "text": [
      "Conjunto de Treinamento: (38122, 190) (38122,)\n",
      "Conjunto de Teste:       (9531, 190) (9531,)\n"
     ]
    }
   ],
   "source": [
    "# Verificando as formas dos dados dos conjuntos:\n",
    "print('Conjunto de Treinamento: {} {}'.format( X_train.shape, y_train.shape))\n",
    "print('Conjunto de Teste:       {} {}'.format(X_test.shape,y_test.shape))"
   ]
  },
  {
   "cell_type": "markdown",
   "metadata": {
    "colab_type": "text",
    "id": "xJTGcYb7WZEp"
   },
   "source": [
    "**1.1) BALANCEANDO CONJUNTO DE TREINAMENTO COM UNDERSAMPLING E OVERSAMPLING**"
   ]
  },
  {
   "cell_type": "code",
   "execution_count": 9,
   "metadata": {
    "colab": {
     "base_uri": "https://localhost:8080/",
     "height": 83
    },
    "colab_type": "code",
    "id": "fJYtfid5dZ7U",
    "outputId": "c6c49731-5d59-4b9c-f2ab-b37a31619c44"
   },
   "outputs": [
    {
     "name": "stdout",
     "output_type": "stream",
     "text": [
      "DATASET DESBALANCEADO\n",
      "  Total Classe 0 (NÃO): 25224\n",
      "  Total Classe 1 (SIM): 12898\n",
      "\n"
     ]
    }
   ],
   "source": [
    "# DATASET DESBALANCEADO - Contagem das classes\n",
    "qtde_classe_0, qtde_classe_1 = X_train.IN_ALVO_HIPERTENSAO.value_counts()\n",
    "print('DATASET DESBALANCEADO\\n  Total Classe 0 (NÃO): {}\\n  Total Classe 1 (SIM): {}\\n'.format(qtde_classe_0, qtde_classe_1))"
   ]
  },
  {
   "cell_type": "code",
   "execution_count": 0,
   "metadata": {
    "colab": {},
    "colab_type": "code",
    "id": "TWRv2TJpxpFr"
   },
   "outputs": [],
   "source": [
    "# Dividindo o dataset original por classes em dois DataFrames\n",
    "df_class_0 = X_train[X_train['IN_ALVO_HIPERTENSAO'] == 0]\n",
    "df_class_1 = X_train[X_train['IN_ALVO_HIPERTENSAO'] == 1]"
   ]
  },
  {
   "cell_type": "markdown",
   "metadata": {
    "colab_type": "text",
    "id": "cig6xLn9X9b3"
   },
   "source": [
    "**1.1.1.) OVERSAMPLING DA CLASSE 1 - AUMENTO DA CLASSE 1 EM 50% DA DIFERENÇA ATÉ A QTDE DA CLASSE 0**"
   ]
  },
  {
   "cell_type": "code",
   "execution_count": 0,
   "metadata": {
    "colab": {},
    "colab_type": "code",
    "id": "KP1y1y4XxpPe"
   },
   "outputs": [],
   "source": [
    "import numpy as np\n",
    "# Cria uma lista com os índices do DataFrame das Classes 1\n",
    "list_index = list(df_class_1.index)"
   ]
  },
  {
   "cell_type": "code",
   "execution_count": 0,
   "metadata": {
    "colab": {},
    "colab_type": "code",
    "id": "1zATfoSbmJzJ"
   },
   "outputs": [],
   "source": [
    "# armazena numa nova lista 50% dos indíces da list_index  \n",
    "list_indexes = np.random.choice(list_index, int((len(df_class_0) - len(df_class_1))/2))"
   ]
  },
  {
   "cell_type": "code",
   "execution_count": 0,
   "metadata": {
    "colab": {},
    "colab_type": "code",
    "id": "qy8jVo9MmMMH"
   },
   "outputs": [],
   "source": [
    "# concatena ao DataFrame df_class_1 os registros aleatórios desse mesmo DataFrame contidos em list_indexes\n",
    "df_class_1 = pd.concat([df_class_1, df_class_1.loc[list_indexes]], axis=0)"
   ]
  },
  {
   "cell_type": "code",
   "execution_count": 0,
   "metadata": {
    "colab": {},
    "colab_type": "code",
    "id": "X6k0wkH8mSFz"
   },
   "outputs": [],
   "source": [
    "# Atualiza o Conjunto de treinamento concatenando o \n",
    "X_train = pd.concat([df_class_0, df_class_1], axis=0)"
   ]
  },
  {
   "cell_type": "code",
   "execution_count": 15,
   "metadata": {
    "colab": {
     "base_uri": "https://localhost:8080/",
     "height": 83
    },
    "colab_type": "code",
    "id": "Yx1KarFm8Dpo",
    "outputId": "6731920d-0525-4def-adea-bd50f929943d"
   },
   "outputs": [
    {
     "name": "stdout",
     "output_type": "stream",
     "text": [
      "DATASET DESBALANCEADO\n",
      "  Total Classe 0 (NÃO): 25224\n",
      "  Total Classe 1 (SIM): 19061\n",
      "\n"
     ]
    }
   ],
   "source": [
    "# DATASET PARCIALMENTE BALANCEADO - Contagem das classes\n",
    "qtde_classe_0, qtde_classe_1 = X_train.IN_ALVO_HIPERTENSAO.value_counts()\n",
    "print('DATASET DESBALANCEADO\\n  Total Classe 0 (NÃO): {}\\n  Total Classe 1 (SIM): {}\\n'.format(qtde_classe_0, qtde_classe_1))"
   ]
  },
  {
   "cell_type": "markdown",
   "metadata": {
    "colab_type": "text",
    "id": "Kv_sWko_YqCD"
   },
   "source": [
    "**1.1.2.) UNDERSAMPLING DA CLASSE 0 - REDUÇÃO DA CLASSE 0 ATÉ ATINGIR A QTDE DA CLASSE 1**"
   ]
  },
  {
   "cell_type": "code",
   "execution_count": 0,
   "metadata": {
    "colab": {},
    "colab_type": "code",
    "id": "M4RP67-VxpW-"
   },
   "outputs": [],
   "source": [
    "#Balanceando com undersampling e criando e recriando o DataFrame df_base_pes\n",
    "df_class_0_under = df_class_0.sample(qtde_classe_1)\n",
    "X_train = pd.concat([df_class_0_under, df_class_1], axis=0)"
   ]
  },
  {
   "cell_type": "code",
   "execution_count": 17,
   "metadata": {
    "colab": {
     "base_uri": "https://localhost:8080/",
     "height": 83
    },
    "colab_type": "code",
    "id": "AwjZHlyfxpMh",
    "outputId": "8694f30d-4a8f-417f-e443-6dc9139e7068"
   },
   "outputs": [
    {
     "name": "stdout",
     "output_type": "stream",
     "text": [
      "DATASET BALANCEADO\n",
      "  Total Classe 0 (NÃO): 19061\n",
      "  Total Classe 1 (SIM): 19061\n",
      "\n"
     ]
    }
   ],
   "source": [
    "# DATASET BALANCEADO - Contagem das classes\n",
    "qtde_classe_0, qtde_classe_1 = X_train.IN_ALVO_HIPERTENSAO.value_counts()\n",
    "print('DATASET BALANCEADO\\n  Total Classe 0 (NÃO): {}\\n  Total Classe 1 (SIM): {}\\n'.format(qtde_classe_0, qtde_classe_1))"
   ]
  },
  {
   "cell_type": "markdown",
   "metadata": {
    "colab_type": "text",
    "id": "v_28W7aQhCV-"
   },
   "source": [
    "**1.1.3) AJUSTES FINAIS NOS DATAFRAMES DE TREINO E TESTE**\n",
    "* y_train e y_test: Manutenção apenas da variável alvo\n",
    "* X_train e X_test: Remoção da variável ALVO e manutenção das demais"
   ]
  },
  {
   "cell_type": "code",
   "execution_count": 0,
   "metadata": {
    "colab": {},
    "colab_type": "code",
    "id": "yWaGybwu-hcn"
   },
   "outputs": [],
   "source": [
    "y_train = X_train['IN_ALVO_HIPERTENSAO']\n",
    "y_test = X_test['IN_ALVO_HIPERTENSAO']\n",
    "X_train = X_train.drop('IN_ALVO_HIPERTENSAO',axis=1)\n",
    "X_test = X_test.drop('IN_ALVO_HIPERTENSAO',axis=1)"
   ]
  },
  {
   "cell_type": "code",
   "execution_count": 19,
   "metadata": {
    "colab": {
     "base_uri": "https://localhost:8080/",
     "height": 50
    },
    "colab_type": "code",
    "id": "tGjeTS0EIDN-",
    "outputId": "fc027682-650b-49fc-d02b-4cb4e75fef3c"
   },
   "outputs": [
    {
     "name": "stdout",
     "output_type": "stream",
     "text": [
      "Conjunto de Treinamento (HIPER): (38122, 189) (38122,)\n",
      "Conjunto de Teste (HIPER):       (9531, 189) (9531,)\n"
     ]
    }
   ],
   "source": [
    "# Verificando novamente as formas dos dados dos conjuntos:\n",
    "print('Conjunto de Treinamento (HIPER): {} {}'.format( X_train.shape, y_train.shape))\n",
    "print('Conjunto de Teste (HIPER):       {} {}'.format(X_test.shape,y_test.shape))"
   ]
  },
  {
   "cell_type": "code",
   "execution_count": 20,
   "metadata": {
    "colab": {
     "base_uri": "https://localhost:8080/",
     "height": 246
    },
    "colab_type": "code",
    "id": "isJlWaFd2Ry4",
    "outputId": "e9e3a3c5-364c-421d-d97d-8c047b9f22ed"
   },
   "outputs": [
    {
     "data": {
      "text/html": [
       "<div>\n",
       "<style scoped>\n",
       "    .dataframe tbody tr th:only-of-type {\n",
       "        vertical-align: middle;\n",
       "    }\n",
       "\n",
       "    .dataframe tbody tr th {\n",
       "        vertical-align: top;\n",
       "    }\n",
       "\n",
       "    .dataframe thead th {\n",
       "        text-align: right;\n",
       "    }\n",
       "</style>\n",
       "<table border=\"1\" class=\"dataframe\">\n",
       "  <thead>\n",
       "    <tr style=\"text-align: right;\">\n",
       "      <th></th>\n",
       "      <th>GR_IDADE_18_26_ANOS</th>\n",
       "      <th>GR_IDADE_27_35_ANOS</th>\n",
       "      <th>GR_IDADE_36_44_ANOS</th>\n",
       "      <th>GR_IDADE_45_53_ANOS</th>\n",
       "      <th>GR_IDADE_54_62_ANOS</th>\n",
       "      <th>GR_IDADE_63_71_ANOS</th>\n",
       "      <th>GR_IDADE_MAIS_71_ANOS</th>\n",
       "      <th>TP_SEXO_MASC</th>\n",
       "      <th>TP_SEXO_FEM</th>\n",
       "      <th>GR_ANOS_EST_ATE_9</th>\n",
       "      <th>GR_ANOS_EST_10_14</th>\n",
       "      <th>GR_ANOS_EST_MAIOR_15</th>\n",
       "      <th>IN_EXC_PESO</th>\n",
       "      <th>IN_OBESIDADE_VIG</th>\n",
       "      <th>IN_FREQ_HORT_1</th>\n",
       "      <th>IN_FREQ_HORT_2</th>\n",
       "      <th>IN_FREQ_HORT_3</th>\n",
       "      <th>IN_FREQ_HORT_4</th>\n",
       "      <th>IN_FREQ_HORT_5</th>\n",
       "      <th>IN_FREQ_HORT_6</th>\n",
       "      <th>IN_FREQ_HORT_7</th>\n",
       "      <th>IN_FREQ_HORT_8</th>\n",
       "      <th>IN_FREQ_HORT_9</th>\n",
       "      <th>IN_FREQ_HORT_10</th>\n",
       "      <th>IN_FREQ_HORT_11</th>\n",
       "      <th>IN_FREQ_SUCO_FRUTA_1</th>\n",
       "      <th>IN_FREQ_SUCO_FRUTA_2</th>\n",
       "      <th>IN_FREQ_SUCO_FRUTA_3</th>\n",
       "      <th>IN_FREQ_SUCO_FRUTA_4</th>\n",
       "      <th>IN_FREQ_SUCO_FRUTA_5</th>\n",
       "      <th>IN_FREQ_SUCO_FRUTA_6</th>\n",
       "      <th>IN_FREQ_SUCO_FRUTA_7</th>\n",
       "      <th>IN_FREQ_SUCO_FRUTA_8</th>\n",
       "      <th>IN_FREQ_SUCO_FRUTA_9</th>\n",
       "      <th>IN_FREQ_SUCO_FRUTA_10</th>\n",
       "      <th>IN_FREQ_SUCO_FRUTA_11</th>\n",
       "      <th>IN_FREQ_SUCO_FRUTA_12</th>\n",
       "      <th>IN_FREQ_SUCO_FRUTA_13</th>\n",
       "      <th>IN_FREQ_SUCO_FRUTA_14</th>\n",
       "      <th>IN_FREQ_SUCO_FRUTA_15</th>\n",
       "      <th>...</th>\n",
       "      <th>IN_EXER_FIS_1</th>\n",
       "      <th>IN_EXER_FIS_2</th>\n",
       "      <th>IN_EXER_FIS_3</th>\n",
       "      <th>IN_EXER_FIS_4</th>\n",
       "      <th>IN_EXER_FIS_5</th>\n",
       "      <th>IN_EXER_FIS_6</th>\n",
       "      <th>IN_EXER_FIS_7</th>\n",
       "      <th>IN_EXER_FIS_8</th>\n",
       "      <th>IN_EXER_FIS_9</th>\n",
       "      <th>IN_EXER_FIS_10</th>\n",
       "      <th>IN_EXER_FIS_11</th>\n",
       "      <th>IN_EXER_FIS_12</th>\n",
       "      <th>IN_EXER_FIS_13</th>\n",
       "      <th>IN_EXER_FIS_14</th>\n",
       "      <th>IN_EXER_FIS_15</th>\n",
       "      <th>IN_EXER_FIS_16</th>\n",
       "      <th>IN_EXER_FIS_17</th>\n",
       "      <th>IN_EXER_FIS_18</th>\n",
       "      <th>IN_EXER_FIS_19</th>\n",
       "      <th>IN_EXER_FIS_20</th>\n",
       "      <th>IN_EXER_FIS_21</th>\n",
       "      <th>IN_EXER_FIS_22</th>\n",
       "      <th>IN_EXER_FIS_23</th>\n",
       "      <th>IN_EXER_FIS_24</th>\n",
       "      <th>IN_EXER_FIS_25</th>\n",
       "      <th>IN_EXER_FIS_26</th>\n",
       "      <th>IN_EXER_FIS_27</th>\n",
       "      <th>IN_EXER_FIS_28</th>\n",
       "      <th>IN_EXER_FIS_29</th>\n",
       "      <th>IN_EXER_FIS_30</th>\n",
       "      <th>IN_FREQ_FUMANTE_1</th>\n",
       "      <th>IN_FREQ_FUMANTE_2</th>\n",
       "      <th>IN_FREQ_FUMANTE_3</th>\n",
       "      <th>IN_FREQ_FUMANTE_4</th>\n",
       "      <th>IN_FREQ_FUMANTE_5</th>\n",
       "      <th>IN_FREQ_FUMANTE_6</th>\n",
       "      <th>IN_FREQ_FUMANTE_7</th>\n",
       "      <th>IN_FREQ_FUMANTE_8</th>\n",
       "      <th>IN_ALVO_HIPERTENSAO</th>\n",
       "      <th>IN_ALVO_DIABETES</th>\n",
       "    </tr>\n",
       "  </thead>\n",
       "  <tbody>\n",
       "    <tr>\n",
       "      <th>0</th>\n",
       "      <td>1</td>\n",
       "      <td>0</td>\n",
       "      <td>0</td>\n",
       "      <td>0</td>\n",
       "      <td>0</td>\n",
       "      <td>0</td>\n",
       "      <td>0</td>\n",
       "      <td>0</td>\n",
       "      <td>1</td>\n",
       "      <td>0</td>\n",
       "      <td>0</td>\n",
       "      <td>1</td>\n",
       "      <td>2.0</td>\n",
       "      <td>2.0</td>\n",
       "      <td>0</td>\n",
       "      <td>0</td>\n",
       "      <td>0</td>\n",
       "      <td>0</td>\n",
       "      <td>0</td>\n",
       "      <td>0</td>\n",
       "      <td>1</td>\n",
       "      <td>0</td>\n",
       "      <td>0</td>\n",
       "      <td>0</td>\n",
       "      <td>0</td>\n",
       "      <td>0</td>\n",
       "      <td>0</td>\n",
       "      <td>0</td>\n",
       "      <td>0</td>\n",
       "      <td>1</td>\n",
       "      <td>0</td>\n",
       "      <td>0</td>\n",
       "      <td>0</td>\n",
       "      <td>0</td>\n",
       "      <td>0</td>\n",
       "      <td>0</td>\n",
       "      <td>0</td>\n",
       "      <td>0</td>\n",
       "      <td>0</td>\n",
       "      <td>0</td>\n",
       "      <td>...</td>\n",
       "      <td>0</td>\n",
       "      <td>0</td>\n",
       "      <td>0</td>\n",
       "      <td>0</td>\n",
       "      <td>0</td>\n",
       "      <td>0</td>\n",
       "      <td>1</td>\n",
       "      <td>0</td>\n",
       "      <td>0</td>\n",
       "      <td>0</td>\n",
       "      <td>0</td>\n",
       "      <td>0</td>\n",
       "      <td>0</td>\n",
       "      <td>0</td>\n",
       "      <td>0</td>\n",
       "      <td>0</td>\n",
       "      <td>0</td>\n",
       "      <td>0</td>\n",
       "      <td>0</td>\n",
       "      <td>0</td>\n",
       "      <td>0</td>\n",
       "      <td>0</td>\n",
       "      <td>0</td>\n",
       "      <td>0</td>\n",
       "      <td>0</td>\n",
       "      <td>0</td>\n",
       "      <td>0</td>\n",
       "      <td>0</td>\n",
       "      <td>0</td>\n",
       "      <td>0</td>\n",
       "      <td>0</td>\n",
       "      <td>0</td>\n",
       "      <td>0</td>\n",
       "      <td>0</td>\n",
       "      <td>0</td>\n",
       "      <td>0</td>\n",
       "      <td>1</td>\n",
       "      <td>0</td>\n",
       "      <td>0.0</td>\n",
       "      <td>0.0</td>\n",
       "    </tr>\n",
       "    <tr>\n",
       "      <th>1</th>\n",
       "      <td>0</td>\n",
       "      <td>0</td>\n",
       "      <td>0</td>\n",
       "      <td>0</td>\n",
       "      <td>0</td>\n",
       "      <td>1</td>\n",
       "      <td>0</td>\n",
       "      <td>1</td>\n",
       "      <td>0</td>\n",
       "      <td>0</td>\n",
       "      <td>0</td>\n",
       "      <td>1</td>\n",
       "      <td>1.0</td>\n",
       "      <td>2.0</td>\n",
       "      <td>0</td>\n",
       "      <td>0</td>\n",
       "      <td>0</td>\n",
       "      <td>0</td>\n",
       "      <td>0</td>\n",
       "      <td>0</td>\n",
       "      <td>0</td>\n",
       "      <td>1</td>\n",
       "      <td>0</td>\n",
       "      <td>0</td>\n",
       "      <td>0</td>\n",
       "      <td>1</td>\n",
       "      <td>0</td>\n",
       "      <td>0</td>\n",
       "      <td>0</td>\n",
       "      <td>0</td>\n",
       "      <td>0</td>\n",
       "      <td>0</td>\n",
       "      <td>0</td>\n",
       "      <td>0</td>\n",
       "      <td>0</td>\n",
       "      <td>0</td>\n",
       "      <td>0</td>\n",
       "      <td>0</td>\n",
       "      <td>0</td>\n",
       "      <td>0</td>\n",
       "      <td>...</td>\n",
       "      <td>0</td>\n",
       "      <td>0</td>\n",
       "      <td>0</td>\n",
       "      <td>0</td>\n",
       "      <td>0</td>\n",
       "      <td>0</td>\n",
       "      <td>0</td>\n",
       "      <td>0</td>\n",
       "      <td>0</td>\n",
       "      <td>0</td>\n",
       "      <td>0</td>\n",
       "      <td>0</td>\n",
       "      <td>0</td>\n",
       "      <td>1</td>\n",
       "      <td>0</td>\n",
       "      <td>0</td>\n",
       "      <td>0</td>\n",
       "      <td>0</td>\n",
       "      <td>0</td>\n",
       "      <td>0</td>\n",
       "      <td>0</td>\n",
       "      <td>0</td>\n",
       "      <td>0</td>\n",
       "      <td>0</td>\n",
       "      <td>0</td>\n",
       "      <td>0</td>\n",
       "      <td>0</td>\n",
       "      <td>0</td>\n",
       "      <td>0</td>\n",
       "      <td>0</td>\n",
       "      <td>0</td>\n",
       "      <td>0</td>\n",
       "      <td>0</td>\n",
       "      <td>0</td>\n",
       "      <td>0</td>\n",
       "      <td>0</td>\n",
       "      <td>1</td>\n",
       "      <td>0</td>\n",
       "      <td>0.0</td>\n",
       "      <td>0.0</td>\n",
       "    </tr>\n",
       "    <tr>\n",
       "      <th>2</th>\n",
       "      <td>0</td>\n",
       "      <td>0</td>\n",
       "      <td>0</td>\n",
       "      <td>1</td>\n",
       "      <td>0</td>\n",
       "      <td>0</td>\n",
       "      <td>0</td>\n",
       "      <td>0</td>\n",
       "      <td>1</td>\n",
       "      <td>0</td>\n",
       "      <td>0</td>\n",
       "      <td>1</td>\n",
       "      <td>1.0</td>\n",
       "      <td>2.0</td>\n",
       "      <td>0</td>\n",
       "      <td>0</td>\n",
       "      <td>0</td>\n",
       "      <td>0</td>\n",
       "      <td>0</td>\n",
       "      <td>0</td>\n",
       "      <td>1</td>\n",
       "      <td>0</td>\n",
       "      <td>0</td>\n",
       "      <td>0</td>\n",
       "      <td>0</td>\n",
       "      <td>0</td>\n",
       "      <td>0</td>\n",
       "      <td>0</td>\n",
       "      <td>0</td>\n",
       "      <td>0</td>\n",
       "      <td>0</td>\n",
       "      <td>0</td>\n",
       "      <td>1</td>\n",
       "      <td>0</td>\n",
       "      <td>0</td>\n",
       "      <td>0</td>\n",
       "      <td>0</td>\n",
       "      <td>0</td>\n",
       "      <td>0</td>\n",
       "      <td>0</td>\n",
       "      <td>...</td>\n",
       "      <td>0</td>\n",
       "      <td>0</td>\n",
       "      <td>0</td>\n",
       "      <td>0</td>\n",
       "      <td>0</td>\n",
       "      <td>0</td>\n",
       "      <td>0</td>\n",
       "      <td>0</td>\n",
       "      <td>0</td>\n",
       "      <td>0</td>\n",
       "      <td>0</td>\n",
       "      <td>0</td>\n",
       "      <td>0</td>\n",
       "      <td>0</td>\n",
       "      <td>0</td>\n",
       "      <td>0</td>\n",
       "      <td>0</td>\n",
       "      <td>0</td>\n",
       "      <td>0</td>\n",
       "      <td>0</td>\n",
       "      <td>0</td>\n",
       "      <td>0</td>\n",
       "      <td>0</td>\n",
       "      <td>0</td>\n",
       "      <td>0</td>\n",
       "      <td>0</td>\n",
       "      <td>0</td>\n",
       "      <td>0</td>\n",
       "      <td>0</td>\n",
       "      <td>1</td>\n",
       "      <td>0</td>\n",
       "      <td>0</td>\n",
       "      <td>0</td>\n",
       "      <td>0</td>\n",
       "      <td>0</td>\n",
       "      <td>0</td>\n",
       "      <td>0</td>\n",
       "      <td>0</td>\n",
       "      <td>0.0</td>\n",
       "      <td>0.0</td>\n",
       "    </tr>\n",
       "    <tr>\n",
       "      <th>3</th>\n",
       "      <td>0</td>\n",
       "      <td>0</td>\n",
       "      <td>0</td>\n",
       "      <td>0</td>\n",
       "      <td>1</td>\n",
       "      <td>0</td>\n",
       "      <td>0</td>\n",
       "      <td>0</td>\n",
       "      <td>1</td>\n",
       "      <td>0</td>\n",
       "      <td>0</td>\n",
       "      <td>1</td>\n",
       "      <td>1.0</td>\n",
       "      <td>2.0</td>\n",
       "      <td>0</td>\n",
       "      <td>0</td>\n",
       "      <td>0</td>\n",
       "      <td>0</td>\n",
       "      <td>0</td>\n",
       "      <td>0</td>\n",
       "      <td>0</td>\n",
       "      <td>0</td>\n",
       "      <td>1</td>\n",
       "      <td>0</td>\n",
       "      <td>0</td>\n",
       "      <td>0</td>\n",
       "      <td>0</td>\n",
       "      <td>1</td>\n",
       "      <td>0</td>\n",
       "      <td>0</td>\n",
       "      <td>0</td>\n",
       "      <td>0</td>\n",
       "      <td>0</td>\n",
       "      <td>0</td>\n",
       "      <td>0</td>\n",
       "      <td>0</td>\n",
       "      <td>0</td>\n",
       "      <td>0</td>\n",
       "      <td>0</td>\n",
       "      <td>0</td>\n",
       "      <td>...</td>\n",
       "      <td>0</td>\n",
       "      <td>0</td>\n",
       "      <td>0</td>\n",
       "      <td>0</td>\n",
       "      <td>0</td>\n",
       "      <td>0</td>\n",
       "      <td>0</td>\n",
       "      <td>0</td>\n",
       "      <td>0</td>\n",
       "      <td>0</td>\n",
       "      <td>0</td>\n",
       "      <td>0</td>\n",
       "      <td>0</td>\n",
       "      <td>0</td>\n",
       "      <td>0</td>\n",
       "      <td>0</td>\n",
       "      <td>0</td>\n",
       "      <td>0</td>\n",
       "      <td>0</td>\n",
       "      <td>0</td>\n",
       "      <td>0</td>\n",
       "      <td>0</td>\n",
       "      <td>0</td>\n",
       "      <td>0</td>\n",
       "      <td>0</td>\n",
       "      <td>0</td>\n",
       "      <td>0</td>\n",
       "      <td>0</td>\n",
       "      <td>0</td>\n",
       "      <td>1</td>\n",
       "      <td>0</td>\n",
       "      <td>0</td>\n",
       "      <td>0</td>\n",
       "      <td>0</td>\n",
       "      <td>0</td>\n",
       "      <td>0</td>\n",
       "      <td>1</td>\n",
       "      <td>0</td>\n",
       "      <td>0.0</td>\n",
       "      <td>0.0</td>\n",
       "    </tr>\n",
       "    <tr>\n",
       "      <th>4</th>\n",
       "      <td>0</td>\n",
       "      <td>0</td>\n",
       "      <td>0</td>\n",
       "      <td>0</td>\n",
       "      <td>1</td>\n",
       "      <td>0</td>\n",
       "      <td>0</td>\n",
       "      <td>0</td>\n",
       "      <td>1</td>\n",
       "      <td>0</td>\n",
       "      <td>0</td>\n",
       "      <td>1</td>\n",
       "      <td>1.0</td>\n",
       "      <td>2.0</td>\n",
       "      <td>0</td>\n",
       "      <td>0</td>\n",
       "      <td>0</td>\n",
       "      <td>0</td>\n",
       "      <td>0</td>\n",
       "      <td>1</td>\n",
       "      <td>0</td>\n",
       "      <td>0</td>\n",
       "      <td>0</td>\n",
       "      <td>0</td>\n",
       "      <td>0</td>\n",
       "      <td>0</td>\n",
       "      <td>0</td>\n",
       "      <td>0</td>\n",
       "      <td>0</td>\n",
       "      <td>0</td>\n",
       "      <td>0</td>\n",
       "      <td>0</td>\n",
       "      <td>0</td>\n",
       "      <td>0</td>\n",
       "      <td>0</td>\n",
       "      <td>0</td>\n",
       "      <td>0</td>\n",
       "      <td>0</td>\n",
       "      <td>0</td>\n",
       "      <td>0</td>\n",
       "      <td>...</td>\n",
       "      <td>0</td>\n",
       "      <td>0</td>\n",
       "      <td>0</td>\n",
       "      <td>0</td>\n",
       "      <td>0</td>\n",
       "      <td>0</td>\n",
       "      <td>1</td>\n",
       "      <td>0</td>\n",
       "      <td>0</td>\n",
       "      <td>0</td>\n",
       "      <td>0</td>\n",
       "      <td>0</td>\n",
       "      <td>0</td>\n",
       "      <td>0</td>\n",
       "      <td>0</td>\n",
       "      <td>0</td>\n",
       "      <td>0</td>\n",
       "      <td>0</td>\n",
       "      <td>0</td>\n",
       "      <td>0</td>\n",
       "      <td>0</td>\n",
       "      <td>0</td>\n",
       "      <td>0</td>\n",
       "      <td>0</td>\n",
       "      <td>0</td>\n",
       "      <td>0</td>\n",
       "      <td>0</td>\n",
       "      <td>0</td>\n",
       "      <td>0</td>\n",
       "      <td>0</td>\n",
       "      <td>0</td>\n",
       "      <td>0</td>\n",
       "      <td>0</td>\n",
       "      <td>0</td>\n",
       "      <td>0</td>\n",
       "      <td>0</td>\n",
       "      <td>1</td>\n",
       "      <td>0</td>\n",
       "      <td>1.0</td>\n",
       "      <td>0.0</td>\n",
       "    </tr>\n",
       "  </tbody>\n",
       "</table>\n",
       "<p>5 rows × 190 columns</p>\n",
       "</div>"
      ],
      "text/plain": [
       "   GR_IDADE_18_26_ANOS  ...  IN_ALVO_DIABETES\n",
       "0                    1  ...               0.0\n",
       "1                    0  ...               0.0\n",
       "2                    0  ...               0.0\n",
       "3                    0  ...               0.0\n",
       "4                    0  ...               0.0\n",
       "\n",
       "[5 rows x 190 columns]"
      ]
     },
     "execution_count": 20,
     "metadata": {
      "tags": []
     },
     "output_type": "execute_result"
    }
   ],
   "source": [
    "df_base_pes.head()"
   ]
  },
  {
   "cell_type": "markdown",
   "metadata": {
    "colab_type": "text",
    "id": "p3cmeW7A0TVs"
   },
   "source": [
    "# **PRE-PROCESSAMENTO PARA BASE DE DIABETICOS**"
   ]
  },
  {
   "cell_type": "code",
   "execution_count": 0,
   "metadata": {
    "colab": {},
    "colab_type": "code",
    "id": "WqHtxQFt0dcl"
   },
   "outputs": [],
   "source": [
    "# Dividindo os dados em treino e teste:\n",
    "X_train_diabetes, X_test_diabetes, y_train_diabetes, y_test_diabetes = train_test_split(df_base_pes, df_base_pes['IN_ALVO_DIABETES'],test_size =0.2)"
   ]
  },
  {
   "cell_type": "code",
   "execution_count": 22,
   "metadata": {
    "colab": {
     "base_uri": "https://localhost:8080/",
     "height": 50
    },
    "colab_type": "code",
    "id": "-Oopa8tI0dfr",
    "outputId": "ba3b8af3-f94d-4ba5-d2a3-f2dfc60d2123"
   },
   "outputs": [
    {
     "name": "stdout",
     "output_type": "stream",
     "text": [
      "Conjunto de Treinamento: (38122, 190) (38122,)\n",
      "Conjunto de Teste:       (9531, 190) (9531,)\n"
     ]
    }
   ],
   "source": [
    "# Verificando as formas dos dados dos conjuntos:\n",
    "print('Conjunto de Treinamento: {} {}'.format( X_train_diabetes.shape, y_train_diabetes.shape))\n",
    "print('Conjunto de Teste:       {} {}'.format(X_test_diabetes.shape,y_test_diabetes.shape))"
   ]
  },
  {
   "cell_type": "markdown",
   "metadata": {
    "colab_type": "text",
    "id": "RgdQ3vnwxxmm"
   },
   "source": [
    "**1.1) BALANCEANDO CONJUNTO DE TREINAMENTO COM UNDERSAMPLING E OVERSAMPLING**"
   ]
  },
  {
   "cell_type": "code",
   "execution_count": 23,
   "metadata": {
    "colab": {
     "base_uri": "https://localhost:8080/",
     "height": 83
    },
    "colab_type": "code",
    "id": "_vrHLqVV0dra",
    "outputId": "4dae5800-f808-4dc9-e773-959079f529e0"
   },
   "outputs": [
    {
     "name": "stdout",
     "output_type": "stream",
     "text": [
      "DATASET DESBALANCEADO\n",
      "  Total Classe 0 (NÃO): 34035\n",
      "  Total Classe 1 (SIM): 4087\n",
      "\n"
     ]
    }
   ],
   "source": [
    "# DATASET DESBALANCEADO - Contagem das classes\n",
    "qtde_classe_0, qtde_classe_1 = X_train_diabetes.IN_ALVO_DIABETES.value_counts()\n",
    "print('DATASET DESBALANCEADO\\n  Total Classe 0 (NÃO): {}\\n  Total Classe 1 (SIM): {}\\n'.format(qtde_classe_0, qtde_classe_1))"
   ]
  },
  {
   "cell_type": "code",
   "execution_count": 0,
   "metadata": {
    "colab": {},
    "colab_type": "code",
    "id": "Dexx1Hnp0dwE"
   },
   "outputs": [],
   "source": [
    "# Dividindo o dataset original por classes em dois DataFrames\n",
    "df_diab_class_0 = X_train_diabetes[X_train_diabetes['IN_ALVO_DIABETES'] == 0]\n",
    "df_diab_class_1 = X_train_diabetes[X_train_diabetes['IN_ALVO_DIABETES'] == 1]"
   ]
  },
  {
   "cell_type": "code",
   "execution_count": 0,
   "metadata": {
    "colab": {},
    "colab_type": "code",
    "id": "JAXi1Er30duZ"
   },
   "outputs": [],
   "source": [
    "import numpy as np\n",
    "# Cria uma lista com os índices do DataFrame das Classes 1\n",
    "list_index = list(df_diab_class_1.index)"
   ]
  },
  {
   "cell_type": "code",
   "execution_count": 0,
   "metadata": {
    "colab": {},
    "colab_type": "code",
    "id": "aJ00995zKaLn"
   },
   "outputs": [],
   "source": [
    "# armazena numa nova lista 50% dos indíces da list_index  \n",
    "list_indexes = np.random.choice(list_index, int((len(df_diab_class_0) - len(df_diab_class_1))/2))"
   ]
  },
  {
   "cell_type": "code",
   "execution_count": 0,
   "metadata": {
    "colab": {},
    "colab_type": "code",
    "id": "FysHsrQ30dm_"
   },
   "outputs": [],
   "source": [
    "# concatena ao DataFrame df_class_1 os registros aleatórios desse mesmo DataFrame contidos em list_indexes\n",
    "df_diab_class_1 = pd.concat([df_diab_class_1, df_diab_class_1.loc[list_indexes]], axis=0)"
   ]
  },
  {
   "cell_type": "code",
   "execution_count": 0,
   "metadata": {
    "colab": {},
    "colab_type": "code",
    "id": "H4EvSEYn0dkv"
   },
   "outputs": [],
   "source": [
    "# Atualiza o Conjunto de treinamento concatenando o \n",
    "X_train_diabetes = pd.concat([df_diab_class_0, df_diab_class_1], axis=0)"
   ]
  },
  {
   "cell_type": "code",
   "execution_count": 29,
   "metadata": {
    "colab": {
     "base_uri": "https://localhost:8080/",
     "height": 83
    },
    "colab_type": "code",
    "id": "z2pGqVtp09Wr",
    "outputId": "e6e5cd11-fdcb-4182-81d0-8b7b697762dd"
   },
   "outputs": [
    {
     "name": "stdout",
     "output_type": "stream",
     "text": [
      "DATASET DESBALANCEADO\n",
      "  Total Classe 0 (NÃO): 34035\n",
      "  Total Classe 1 (SIM): 19061\n",
      "\n"
     ]
    }
   ],
   "source": [
    "# DATASET PARCIALMENTE BALANCEADO - Contagem das classes\n",
    "qtde_classe_0, qtde_classe_1 = X_train_diabetes.IN_ALVO_DIABETES.value_counts()\n",
    "print('DATASET DESBALANCEADO\\n  Total Classe 0 (NÃO): {}\\n  Total Classe 1 (SIM): {}\\n'.format(qtde_classe_0, qtde_classe_1))"
   ]
  },
  {
   "cell_type": "markdown",
   "metadata": {
    "colab_type": "text",
    "id": "_J1VqYpnx-OX"
   },
   "source": [
    "**1.1.2.) UNDERSAMPLING DA CLASSE 0 - REDUÇÃO DA CLASSE 0 ATÉ ATINGIR A QTDE DA CLASSE 1**"
   ]
  },
  {
   "cell_type": "code",
   "execution_count": 0,
   "metadata": {
    "colab": {},
    "colab_type": "code",
    "id": "s63OjHxS09ae"
   },
   "outputs": [],
   "source": [
    "#Balanceando com undersampling e criando e recriando o DataFrame df_base_pes\n",
    "df_diab_class_0_under = df_diab_class_0.sample(qtde_classe_1)\n",
    "X_train_diabetes = pd.concat([df_diab_class_0_under, df_diab_class_1], axis=0)"
   ]
  },
  {
   "cell_type": "code",
   "execution_count": 31,
   "metadata": {
    "colab": {
     "base_uri": "https://localhost:8080/",
     "height": 83
    },
    "colab_type": "code",
    "id": "w1a74R_e0djA",
    "outputId": "2e328ac9-64d6-431f-8371-16b10aeae05e"
   },
   "outputs": [
    {
     "name": "stdout",
     "output_type": "stream",
     "text": [
      "DATASET BALANCEADO\n",
      "  Total Classe 0 (NÃO): 19061\n",
      "  Total Classe 1 (SIM): 19061\n",
      "\n"
     ]
    }
   ],
   "source": [
    "# DATASET BALANCEADO - Contagem das classes\n",
    "qtde_classe_0, qtde_classe_1 = X_train_diabetes.IN_ALVO_DIABETES.value_counts()\n",
    "print('DATASET BALANCEADO\\n  Total Classe 0 (NÃO): {}\\n  Total Classe 1 (SIM): {}\\n'.format(qtde_classe_0, qtde_classe_1))"
   ]
  },
  {
   "cell_type": "markdown",
   "metadata": {
    "colab_type": "text",
    "id": "xsrdqNMJyLxQ"
   },
   "source": [
    "**1.1.3) AJUSTES FINAIS NOS DATAFRAMES DE TREINO E TESTE**\n",
    "* y_train e y_test: Manutenção apenas da variável alvo\n",
    "* X_train e X_test: Remoção da variável ALVO e manutenção das demais"
   ]
  },
  {
   "cell_type": "code",
   "execution_count": 0,
   "metadata": {
    "colab": {},
    "colab_type": "code",
    "id": "to4X6eJj1Nej"
   },
   "outputs": [],
   "source": [
    "y_train_diabetes = X_train_diabetes['IN_ALVO_DIABETES']\n",
    "y_test_diabetes = X_test_diabetes['IN_ALVO_DIABETES']\n",
    "X_train_diabetes = X_train_diabetes.drop('IN_ALVO_DIABETES',axis=1)\n",
    "X_test_diabetes = X_test_diabetes.drop('IN_ALVO_DIABETES',axis=1)"
   ]
  },
  {
   "cell_type": "code",
   "execution_count": 33,
   "metadata": {
    "colab": {
     "base_uri": "https://localhost:8080/",
     "height": 50
    },
    "colab_type": "code",
    "id": "e2NvlTzQ1Nj3",
    "outputId": "8a77f843-b162-429e-8504-1e4680fd0d89"
   },
   "outputs": [
    {
     "name": "stdout",
     "output_type": "stream",
     "text": [
      "Conjunto de Treinamento (DIAB): (38122, 189) (38122,)\n",
      "Conjunto de Teste (DIAB):       (9531, 189) (9531,)\n"
     ]
    }
   ],
   "source": [
    "# Verificando novamente as formas dos dados dos conjuntos:\n",
    "print('Conjunto de Treinamento (DIAB): {} {}'.format( X_train_diabetes.shape, y_train_diabetes.shape))\n",
    "print('Conjunto de Teste (DIAB):       {} {}'.format(X_test_diabetes.shape,y_test_diabetes.shape))"
   ]
  },
  {
   "cell_type": "code",
   "execution_count": 0,
   "metadata": {
    "colab": {},
    "colab_type": "code",
    "id": "4dLpAAX_1Nie"
   },
   "outputs": [],
   "source": []
  },
  {
   "cell_type": "markdown",
   "metadata": {
    "colab_type": "text",
    "id": "7ig5iuFuZldO"
   },
   "source": [
    "# **2) CRIAÇÃO DO MODELO DE ÁRVORE DE DECISÃO**"
   ]
  },
  {
   "cell_type": "code",
   "execution_count": 0,
   "metadata": {
    "colab": {},
    "colab_type": "code",
    "id": "Gl3oYyiUpmXH"
   },
   "outputs": [],
   "source": [
    "#from sklearn import metrics\n",
    "from sklearn.metrics import accuracy_score\n",
    "from sklearn.metrics import confusion_matrix\n",
    "\n",
    "# Criação do DataFrame Vazio para armazenamento de todas as configurações e resultados dos modelos de \n",
    "#árvore de decisão implementados\n",
    "df_scores = pd.DataFrame(columns=['x_depht', 'y_split', 'accuracy_score', 'MC - NAO(N/S)', 'MC - SIM (S/N)', 'Matriz Conf NAO', 'Matriz Conf SIM', 'Criterion', 'ALVO'])"
   ]
  },
  {
   "cell_type": "markdown",
   "metadata": {
    "colab_type": "text",
    "id": "UoVUW--kaQ5z"
   },
   "source": [
    "**2.1) FUNÇAO DE INSTANCIAÇÃO DE CLASSIFICADORES**"
   ]
  },
  {
   "cell_type": "code",
   "execution_count": 0,
   "metadata": {
    "colab": {},
    "colab_type": "code",
    "id": "Mi9GCFQ2tT6v"
   },
   "outputs": [],
   "source": [
    "# Função de instanciação de classificadores\n",
    "def func_instancia_classif(TP_CRITERION, NU_DEPHT_INI, NU_DEPHT_FIM, NU_DEPHT_INC, NU_SPLIT_INI, NU_SPLIT_FIM, NU_SPLIT_INC, \n",
    "                           Y_TRAIN, Y_TEST, X_TRAIN, X_TEST, IN_ALVO):\n",
    "    print('\\nRESULTADOS COM {}\\n'.format(TP_CRITERION.upper()))\n",
    "\n",
    "    # Instânciando objeto classificador:\n",
    "    for x_depht in range(NU_DEPHT_INI, NU_DEPHT_FIM, NU_DEPHT_INC):\n",
    "        for y_split in range(NU_SPLIT_INI, NU_SPLIT_FIM, NU_SPLIT_INC):\n",
    "            clf = DecisionTreeClassifier(criterion = TP_CRITERION, max_depth = x_depht, min_samples_split = y_split)\n",
    "            clf = clf.fit(X_TRAIN, Y_TRAIN)\n",
    "            resultado = clf.predict(X_TEST)\n",
    "            #Calcula a acurácia\n",
    "            acuracia = accuracy_score(Y_TEST, resultado)\n",
    "            #Retorna a Matriz de Confusão\n",
    "            matriz_confusao = confusion_matrix(Y_TEST, resultado)\n",
    "            erro_matriz_nao = 100 - (100 * (matriz_confusao[0][1] / (matriz_confusao[0][0] + matriz_confusao[0][1])))\n",
    "            erro_matriz_sim = 100 - (100 * (matriz_confusao[1][0] / (matriz_confusao[1][0] + matriz_confusao[1][1])))\n",
    "\n",
    "            #Insere o registro no DataFrame\n",
    "            df_scores.loc[len(df_scores)] = [x_depht, y_split, acuracia, erro_matriz_nao, erro_matriz_sim,  matriz_confusao[0], matriz_confusao[1], TP_CRITERION, IN_ALVO]\n",
    "            print('Depht: {} | Split: {} | Acurácia: {} | ERRO MC-NAO(N/S): {} | ERRO MC-SIM(S/N): {} | '\n",
    "                'MC-NAO(N/S): {} | MC-SIM (S/N): {} | Criterion: {}, | ALVO: {}'\n",
    "                .format(x_depht, y_split, acuracia, erro_matriz_nao, erro_matriz_sim, matriz_confusao[0], matriz_confusao[1], TP_CRITERION, IN_ALVO))"
   ]
  },
  {
   "cell_type": "markdown",
   "metadata": {
    "colab_type": "text",
    "id": "ryKkmaveaoD0"
   },
   "source": [
    "**2.2) CHAMADA DA FUNÇÃO DE INSTANCIAÇÃO DE CLASSIFICADORES**"
   ]
  },
  {
   "cell_type": "code",
   "execution_count": 0,
   "metadata": {
    "colab": {},
    "colab_type": "code",
    "id": "FMAgWLyNpDRR"
   },
   "outputs": [],
   "source": [
    "# Configurações de profundidade da árvore\n",
    "NU_DEPHT_INI = 5\n",
    "NU_DEPHT_FIM = 51\n",
    "NU_DEPHT_INC = 5\n",
    "\n",
    "# Configuração corte da árvore\n",
    "NU_SPLIT_INI = 200\n",
    "NU_SPLIT_FIM = 2001\n",
    "NU_SPLIT_INC = 100\n"
   ]
  },
  {
   "cell_type": "markdown",
   "metadata": {
    "colab_type": "text",
    "id": "0vR10VZSqh0y"
   },
   "source": [
    "**2.2.1) Criação de Modelos com Árvore de Decisão (HIPERTENSÃO)**"
   ]
  },
  {
   "cell_type": "code",
   "execution_count": 37,
   "metadata": {
    "colab": {
     "base_uri": "https://localhost:8080/",
     "height": 1000
    },
    "colab_type": "code",
    "id": "lWqovfjrssG7",
    "outputId": "3e27a207-db60-4df9-84b8-e981c5a1d42f"
   },
   "outputs": [
    {
     "name": "stdout",
     "output_type": "stream",
     "text": [
      "\n",
      "RESULTADOS COM ENTROPY\n",
      "\n",
      "Depht: 5 | Split: 200 | Acurácia: 0.6887000314762355 | ERRO MC-NAO(N/S): 63.61904761904762 | ERRO MC-SIM(S/N): 79.10863509749304 | MC-NAO(N/S): [4008 2292] | MC-SIM (S/N): [ 675 2556] | Criterion: entropy, | ALVO: HIPERTENSAO\n",
      "Depht: 5 | Split: 300 | Acurácia: 0.6887000314762355 | ERRO MC-NAO(N/S): 63.61904761904762 | ERRO MC-SIM(S/N): 79.10863509749304 | MC-NAO(N/S): [4008 2292] | MC-SIM (S/N): [ 675 2556] | Criterion: entropy, | ALVO: HIPERTENSAO\n",
      "Depht: 5 | Split: 400 | Acurácia: 0.6887000314762355 | ERRO MC-NAO(N/S): 63.65079365079365 | ERRO MC-SIM(S/N): 79.04673475704116 | MC-NAO(N/S): [4010 2290] | MC-SIM (S/N): [ 677 2554] | Criterion: entropy, | ALVO: HIPERTENSAO\n",
      "Depht: 5 | Split: 500 | Acurácia: 0.6887000314762355 | ERRO MC-NAO(N/S): 63.65079365079365 | ERRO MC-SIM(S/N): 79.04673475704116 | MC-NAO(N/S): [4010 2290] | MC-SIM (S/N): [ 677 2554] | Criterion: entropy, | ALVO: HIPERTENSAO\n",
      "Depht: 5 | Split: 600 | Acurácia: 0.6887000314762355 | ERRO MC-NAO(N/S): 63.65079365079365 | ERRO MC-SIM(S/N): 79.04673475704116 | MC-NAO(N/S): [4010 2290] | MC-SIM (S/N): [ 677 2554] | Criterion: entropy, | ALVO: HIPERTENSAO\n",
      "Depht: 5 | Split: 700 | Acurácia: 0.688595110691428 | ERRO MC-NAO(N/S): 63.682539682539684 | ERRO MC-SIM(S/N): 78.95388424636336 | MC-NAO(N/S): [4012 2288] | MC-SIM (S/N): [ 680 2551] | Criterion: entropy, | ALVO: HIPERTENSAO\n",
      "Depht: 5 | Split: 800 | Acurácia: 0.688595110691428 | ERRO MC-NAO(N/S): 63.682539682539684 | ERRO MC-SIM(S/N): 78.95388424636336 | MC-NAO(N/S): [4012 2288] | MC-SIM (S/N): [ 680 2551] | Criterion: entropy, | ALVO: HIPERTENSAO\n",
      "Depht: 5 | Split: 900 | Acurácia: 0.688595110691428 | ERRO MC-NAO(N/S): 63.682539682539684 | ERRO MC-SIM(S/N): 78.95388424636336 | MC-NAO(N/S): [4012 2288] | MC-SIM (S/N): [ 680 2551] | Criterion: entropy, | ALVO: HIPERTENSAO\n",
      "Depht: 5 | Split: 1000 | Acurácia: 0.6880705067673906 | ERRO MC-NAO(N/S): 63.82539682539682 | ERRO MC-SIM(S/N): 78.52058186320025 | MC-NAO(N/S): [4021 2279] | MC-SIM (S/N): [ 694 2537] | Criterion: entropy, | ALVO: HIPERTENSAO\n",
      "Depht: 5 | Split: 1100 | Acurácia: 0.6880705067673906 | ERRO MC-NAO(N/S): 63.82539682539682 | ERRO MC-SIM(S/N): 78.52058186320025 | MC-NAO(N/S): [4021 2279] | MC-SIM (S/N): [ 694 2537] | Criterion: entropy, | ALVO: HIPERTENSAO\n",
      "Depht: 5 | Split: 1200 | Acurácia: 0.6880705067673906 | ERRO MC-NAO(N/S): 63.82539682539682 | ERRO MC-SIM(S/N): 78.52058186320025 | MC-NAO(N/S): [4021 2279] | MC-SIM (S/N): [ 694 2537] | Criterion: entropy, | ALVO: HIPERTENSAO\n",
      "Depht: 5 | Split: 1300 | Acurácia: 0.6880705067673906 | ERRO MC-NAO(N/S): 63.82539682539682 | ERRO MC-SIM(S/N): 78.52058186320025 | MC-NAO(N/S): [4021 2279] | MC-SIM (S/N): [ 694 2537] | Criterion: entropy, | ALVO: HIPERTENSAO\n",
      "Depht: 5 | Split: 1400 | Acurácia: 0.6880705067673906 | ERRO MC-NAO(N/S): 63.82539682539682 | ERRO MC-SIM(S/N): 78.52058186320025 | MC-NAO(N/S): [4021 2279] | MC-SIM (S/N): [ 694 2537] | Criterion: entropy, | ALVO: HIPERTENSAO\n",
      "Depht: 5 | Split: 1500 | Acurácia: 0.6880705067673906 | ERRO MC-NAO(N/S): 63.82539682539682 | ERRO MC-SIM(S/N): 78.52058186320025 | MC-NAO(N/S): [4021 2279] | MC-SIM (S/N): [ 694 2537] | Criterion: entropy, | ALVO: HIPERTENSAO\n",
      "Depht: 5 | Split: 1600 | Acurácia: 0.6880705067673906 | ERRO MC-NAO(N/S): 63.82539682539682 | ERRO MC-SIM(S/N): 78.52058186320025 | MC-NAO(N/S): [4021 2279] | MC-SIM (S/N): [ 694 2537] | Criterion: entropy, | ALVO: HIPERTENSAO\n",
      "Depht: 5 | Split: 1700 | Acurácia: 0.6880705067673906 | ERRO MC-NAO(N/S): 63.82539682539682 | ERRO MC-SIM(S/N): 78.52058186320025 | MC-NAO(N/S): [4021 2279] | MC-SIM (S/N): [ 694 2537] | Criterion: entropy, | ALVO: HIPERTENSAO\n",
      "Depht: 5 | Split: 1800 | Acurácia: 0.6880705067673906 | ERRO MC-NAO(N/S): 63.82539682539682 | ERRO MC-SIM(S/N): 78.52058186320025 | MC-NAO(N/S): [4021 2279] | MC-SIM (S/N): [ 694 2537] | Criterion: entropy, | ALVO: HIPERTENSAO\n",
      "Depht: 5 | Split: 1900 | Acurácia: 0.6880705067673906 | ERRO MC-NAO(N/S): 63.82539682539682 | ERRO MC-SIM(S/N): 78.52058186320025 | MC-NAO(N/S): [4021 2279] | MC-SIM (S/N): [ 694 2537] | Criterion: entropy, | ALVO: HIPERTENSAO\n",
      "Depht: 5 | Split: 2000 | Acurácia: 0.6880705067673906 | ERRO MC-NAO(N/S): 63.82539682539682 | ERRO MC-SIM(S/N): 78.52058186320025 | MC-NAO(N/S): [4021 2279] | MC-SIM (S/N): [ 694 2537] | Criterion: entropy, | ALVO: HIPERTENSAO\n",
      "Depht: 10 | Split: 200 | Acurácia: 0.706011960969468 | ERRO MC-NAO(N/S): 66.06349206349206 | ERRO MC-SIM(S/N): 79.44908696997834 | MC-NAO(N/S): [4162 2138] | MC-SIM (S/N): [ 664 2567] | Criterion: entropy, | ALVO: HIPERTENSAO\n",
      "Depht: 10 | Split: 300 | Acurácia: 0.7066414856783129 | ERRO MC-NAO(N/S): 66.15873015873015 | ERRO MC-SIM(S/N): 79.44908696997834 | MC-NAO(N/S): [4168 2132] | MC-SIM (S/N): [ 664 2567] | Criterion: entropy, | ALVO: HIPERTENSAO\n",
      "Depht: 10 | Split: 400 | Acurácia: 0.709789109222537 | ERRO MC-NAO(N/S): 66.93650793650794 | ERRO MC-SIM(S/N): 78.86103373568554 | MC-NAO(N/S): [4217 2083] | MC-SIM (S/N): [ 683 2548] | Criterion: entropy, | ALVO: HIPERTENSAO\n",
      "Depht: 10 | Split: 500 | Acurácia: 0.7106284755009967 | ERRO MC-NAO(N/S): 67.04761904761905 | ERRO MC-SIM(S/N): 78.89198390591149 | MC-NAO(N/S): [4224 2076] | MC-SIM (S/N): [ 682 2549] | Criterion: entropy, | ALVO: HIPERTENSAO\n",
      "Depht: 10 | Split: 600 | Acurácia: 0.7072710103871577 | ERRO MC-NAO(N/S): 66.30158730158729 | ERRO MC-SIM(S/N): 79.35623645930053 | MC-NAO(N/S): [4177 2123] | MC-SIM (S/N): [ 667 2564] | Criterion: entropy, | ALVO: HIPERTENSAO\n",
      "Depht: 10 | Split: 700 | Acurácia: 0.7072710103871577 | ERRO MC-NAO(N/S): 66.36507936507937 | ERRO MC-SIM(S/N): 79.23243577839678 | MC-NAO(N/S): [4181 2119] | MC-SIM (S/N): [ 671 2560] | Criterion: entropy, | ALVO: HIPERTENSAO\n",
      "Depht: 10 | Split: 800 | Acurácia: 0.7072710103871577 | ERRO MC-NAO(N/S): 66.36507936507937 | ERRO MC-SIM(S/N): 79.23243577839678 | MC-NAO(N/S): [4181 2119] | MC-SIM (S/N): [ 671 2560] | Criterion: entropy, | ALVO: HIPERTENSAO\n",
      "Depht: 10 | Split: 900 | Acurácia: 0.7082152974504249 | ERRO MC-NAO(N/S): 66.66666666666667 | ERRO MC-SIM(S/N): 78.92293407613742 | MC-NAO(N/S): [4200 2100] | MC-SIM (S/N): [ 681 2550] | Criterion: entropy, | ALVO: HIPERTENSAO\n",
      "Depht: 10 | Split: 1000 | Acurácia: 0.7076906935263876 | ERRO MC-NAO(N/S): 66.80952380952381 | ERRO MC-SIM(S/N): 78.48963169297431 | MC-NAO(N/S): [4209 2091] | MC-SIM (S/N): [ 695 2536] | Criterion: entropy, | ALVO: HIPERTENSAO\n",
      "Depht: 10 | Split: 1100 | Acurácia: 0.706011960969468 | ERRO MC-NAO(N/S): 66.22222222222223 | ERRO MC-SIM(S/N): 79.13958526771897 | MC-NAO(N/S): [4172 2128] | MC-SIM (S/N): [ 674 2557] | Criterion: entropy, | ALVO: HIPERTENSAO\n",
      "Depht: 10 | Split: 1200 | Acurácia: 0.706011960969468 | ERRO MC-NAO(N/S): 66.22222222222223 | ERRO MC-SIM(S/N): 79.13958526771897 | MC-NAO(N/S): [4172 2128] | MC-SIM (S/N): [ 674 2557] | Criterion: entropy, | ALVO: HIPERTENSAO\n",
      "Depht: 10 | Split: 1300 | Acurácia: 0.7129367327667611 | ERRO MC-NAO(N/S): 67.87301587301587 | ERRO MC-SIM(S/N): 77.9634787991334 | MC-NAO(N/S): [4276 2024] | MC-SIM (S/N): [ 712 2519] | Criterion: entropy, | ALVO: HIPERTENSAO\n",
      "Depht: 10 | Split: 1400 | Acurácia: 0.7129367327667611 | ERRO MC-NAO(N/S): 67.87301587301587 | ERRO MC-SIM(S/N): 77.9634787991334 | MC-NAO(N/S): [4276 2024] | MC-SIM (S/N): [ 712 2519] | Criterion: entropy, | ALVO: HIPERTENSAO\n",
      "Depht: 10 | Split: 1500 | Acurácia: 0.7129367327667611 | ERRO MC-NAO(N/S): 67.87301587301587 | ERRO MC-SIM(S/N): 77.9634787991334 | MC-NAO(N/S): [4276 2024] | MC-SIM (S/N): [ 712 2519] | Criterion: entropy, | ALVO: HIPERTENSAO\n",
      "Depht: 10 | Split: 1600 | Acurácia: 0.7129367327667611 | ERRO MC-NAO(N/S): 67.87301587301587 | ERRO MC-SIM(S/N): 77.9634787991334 | MC-NAO(N/S): [4276 2024] | MC-SIM (S/N): [ 712 2519] | Criterion: entropy, | ALVO: HIPERTENSAO\n",
      "Depht: 10 | Split: 1700 | Acurácia: 0.7129367327667611 | ERRO MC-NAO(N/S): 67.87301587301587 | ERRO MC-SIM(S/N): 77.9634787991334 | MC-NAO(N/S): [4276 2024] | MC-SIM (S/N): [ 712 2519] | Criterion: entropy, | ALVO: HIPERTENSAO\n",
      "Depht: 10 | Split: 1800 | Acurácia: 0.7129367327667611 | ERRO MC-NAO(N/S): 67.87301587301587 | ERRO MC-SIM(S/N): 77.9634787991334 | MC-NAO(N/S): [4276 2024] | MC-SIM (S/N): [ 712 2519] | Criterion: entropy, | ALVO: HIPERTENSAO\n",
      "Depht: 10 | Split: 1900 | Acurácia: 0.7125170496275313 | ERRO MC-NAO(N/S): 67.77777777777777 | ERRO MC-SIM(S/N): 78.02537913958527 | MC-NAO(N/S): [4270 2030] | MC-SIM (S/N): [ 710 2521] | Criterion: entropy, | ALVO: HIPERTENSAO\n",
      "Depht: 10 | Split: 2000 | Acurácia: 0.7125170496275313 | ERRO MC-NAO(N/S): 67.77777777777777 | ERRO MC-SIM(S/N): 78.02537913958527 | MC-NAO(N/S): [4270 2030] | MC-SIM (S/N): [ 710 2521] | Criterion: entropy, | ALVO: HIPERTENSAO\n",
      "Depht: 15 | Split: 200 | Acurácia: 0.7006610009442871 | ERRO MC-NAO(N/S): 66.79365079365078 | ERRO MC-SIM(S/N): 76.44692045806252 | MC-NAO(N/S): [4208 2092] | MC-SIM (S/N): [ 761 2470] | Criterion: entropy, | ALVO: HIPERTENSAO\n",
      "Depht: 15 | Split: 300 | Acurácia: 0.7063267233238905 | ERRO MC-NAO(N/S): 67.92063492063491 | ERRO MC-SIM(S/N): 75.9207675642216 | MC-NAO(N/S): [4279 2021] | MC-SIM (S/N): [ 778 2453] | Criterion: entropy, | ALVO: HIPERTENSAO\n",
      "Depht: 15 | Split: 400 | Acurácia: 0.7118875249186863 | ERRO MC-NAO(N/S): 69.3015873015873 | ERRO MC-SIM(S/N): 74.86846177653976 | MC-NAO(N/S): [4366 1934] | MC-SIM (S/N): [ 812 2419] | Criterion: entropy, | ALVO: HIPERTENSAO\n",
      "Depht: 15 | Split: 500 | Acurácia: 0.7174483265134823 | ERRO MC-NAO(N/S): 70.3015873015873 | ERRO MC-SIM(S/N): 74.5589600742804 | MC-NAO(N/S): [4429 1871] | MC-SIM (S/N): [ 822 2409] | Criterion: entropy, | ALVO: HIPERTENSAO\n",
      "Depht: 15 | Split: 600 | Acurácia: 0.7086349805896548 | ERRO MC-NAO(N/S): 68.34920634920636 | ERRO MC-SIM(S/N): 75.76601671309191 | MC-NAO(N/S): [4306 1994] | MC-SIM (S/N): [ 783 2448] | Criterion: entropy, | ALVO: HIPERTENSAO\n",
      "Depht: 15 | Split: 700 | Acurácia: 0.706221802539083 | ERRO MC-NAO(N/S): 66.96825396825398 | ERRO MC-SIM(S/N): 77.74682760755184 | MC-NAO(N/S): [4219 2081] | MC-SIM (S/N): [ 719 2512] | Criterion: entropy, | ALVO: HIPERTENSAO\n",
      "Depht: 15 | Split: 800 | Acurácia: 0.7061168817542756 | ERRO MC-NAO(N/S): 66.85714285714286 | ERRO MC-SIM(S/N): 77.93252862890746 | MC-NAO(N/S): [4212 2088] | MC-SIM (S/N): [ 713 2518] | Criterion: entropy, | ALVO: HIPERTENSAO\n",
      "Depht: 15 | Split: 900 | Acurácia: 0.7070611688175428 | ERRO MC-NAO(N/S): 67.15873015873015 | ERRO MC-SIM(S/N): 77.6230269266481 | MC-NAO(N/S): [4231 2069] | MC-SIM (S/N): [ 723 2508] | Criterion: entropy, | ALVO: HIPERTENSAO\n",
      "Depht: 15 | Split: 1000 | Acurácia: 0.7063267233238905 | ERRO MC-NAO(N/S): 67.20634920634922 | ERRO MC-SIM(S/N): 77.31352522438874 | MC-NAO(N/S): [4234 2066] | MC-SIM (S/N): [ 733 2498] | Criterion: entropy, | ALVO: HIPERTENSAO\n",
      "Depht: 15 | Split: 1100 | Acurácia: 0.7048578323365858 | ERRO MC-NAO(N/S): 66.46031746031746 | ERRO MC-SIM(S/N): 78.33488084184464 | MC-NAO(N/S): [4187 2113] | MC-SIM (S/N): [ 700 2531] | Criterion: entropy, | ALVO: HIPERTENSAO\n",
      "Depht: 15 | Split: 1200 | Acurácia: 0.7048578323365858 | ERRO MC-NAO(N/S): 66.46031746031746 | ERRO MC-SIM(S/N): 78.33488084184464 | MC-NAO(N/S): [4187 2113] | MC-SIM (S/N): [ 700 2531] | Criterion: entropy, | ALVO: HIPERTENSAO\n",
      "Depht: 15 | Split: 1300 | Acurácia: 0.7138810198300283 | ERRO MC-NAO(N/S): 68.44444444444444 | ERRO MC-SIM(S/N): 77.12782420303311 | MC-NAO(N/S): [4312 1988] | MC-SIM (S/N): [ 739 2492] | Criterion: entropy, | ALVO: HIPERTENSAO\n",
      "Depht: 15 | Split: 1400 | Acurácia: 0.713356415905991 | ERRO MC-NAO(N/S): 68.19047619047619 | ERRO MC-SIM(S/N): 77.46827607551842 | MC-NAO(N/S): [4296 2004] | MC-SIM (S/N): [ 728 2503] | Criterion: entropy, | ALVO: HIPERTENSAO\n",
      "Depht: 15 | Split: 1500 | Acurácia: 0.713356415905991 | ERRO MC-NAO(N/S): 68.19047619047619 | ERRO MC-SIM(S/N): 77.46827607551842 | MC-NAO(N/S): [4296 2004] | MC-SIM (S/N): [ 728 2503] | Criterion: entropy, | ALVO: HIPERTENSAO\n",
      "Depht: 15 | Split: 1600 | Acurácia: 0.7128318119819537 | ERRO MC-NAO(N/S): 67.88888888888889 | ERRO MC-SIM(S/N): 77.90157845868153 | MC-NAO(N/S): [4277 2023] | MC-SIM (S/N): [ 714 2517] | Criterion: entropy, | ALVO: HIPERTENSAO\n",
      "Depht: 15 | Split: 1700 | Acurácia: 0.7128318119819537 | ERRO MC-NAO(N/S): 67.88888888888889 | ERRO MC-SIM(S/N): 77.90157845868153 | MC-NAO(N/S): [4277 2023] | MC-SIM (S/N): [ 714 2517] | Criterion: entropy, | ALVO: HIPERTENSAO\n",
      "Depht: 15 | Split: 1800 | Acurácia: 0.7128318119819537 | ERRO MC-NAO(N/S): 67.88888888888889 | ERRO MC-SIM(S/N): 77.90157845868153 | MC-NAO(N/S): [4277 2023] | MC-SIM (S/N): [ 714 2517] | Criterion: entropy, | ALVO: HIPERTENSAO\n",
      "Depht: 15 | Split: 1900 | Acurácia: 0.7124121288427238 | ERRO MC-NAO(N/S): 67.7936507936508 | ERRO MC-SIM(S/N): 77.9634787991334 | MC-NAO(N/S): [4271 2029] | MC-SIM (S/N): [ 712 2519] | Criterion: entropy, | ALVO: HIPERTENSAO\n",
      "Depht: 15 | Split: 2000 | Acurácia: 0.7124121288427238 | ERRO MC-NAO(N/S): 67.7936507936508 | ERRO MC-SIM(S/N): 77.9634787991334 | MC-NAO(N/S): [4271 2029] | MC-SIM (S/N): [ 712 2519] | Criterion: entropy, | ALVO: HIPERTENSAO\n",
      "Depht: 20 | Split: 200 | Acurácia: 0.6926870212989193 | ERRO MC-NAO(N/S): 65.68253968253968 | ERRO MC-SIM(S/N): 76.26121943670691 | MC-NAO(N/S): [4138 2162] | MC-SIM (S/N): [ 767 2464] | Criterion: entropy, | ALVO: HIPERTENSAO\n",
      "Depht: 20 | Split: 300 | Acurácia: 0.6999265554506348 | ERRO MC-NAO(N/S): 66.92063492063491 | ERRO MC-SIM(S/N): 75.98266790467348 | MC-NAO(N/S): [4216 2084] | MC-SIM (S/N): [ 776 2455] | Criterion: entropy, | ALVO: HIPERTENSAO\n",
      "Depht: 20 | Split: 400 | Acurácia: 0.7068513272479278 | ERRO MC-NAO(N/S): 68.88888888888889 | ERRO MC-SIM(S/N): 74.18755803156917 | MC-NAO(N/S): [4340 1960] | MC-SIM (S/N): [ 834 2397] | Criterion: entropy, | ALVO: HIPERTENSAO\n",
      "Depht: 20 | Split: 500 | Acurácia: 0.7175532472982898 | ERRO MC-NAO(N/S): 71.06349206349206 | ERRO MC-SIM(S/N): 73.1043020736614 | MC-NAO(N/S): [4477 1823] | MC-SIM (S/N): [ 869 2362] | Criterion: entropy, | ALVO: HIPERTENSAO\n",
      "Depht: 20 | Split: 600 | Acurácia: 0.7087399013744623 | ERRO MC-NAO(N/S): 69.11111111111111 | ERRO MC-SIM(S/N): 74.31135871247292 | MC-NAO(N/S): [4354 1946] | MC-SIM (S/N): [ 830 2401] | Criterion: entropy, | ALVO: HIPERTENSAO\n",
      "Depht: 20 | Split: 700 | Acurácia: 0.706431644108698 | ERRO MC-NAO(N/S): 67.73015873015873 | ERRO MC-SIM(S/N): 76.32311977715878 | MC-NAO(N/S): [4267 2033] | MC-SIM (S/N): [ 765 2466] | Criterion: entropy, | ALVO: HIPERTENSAO\n",
      "Depht: 20 | Split: 800 | Acurácia: 0.7063267233238905 | ERRO MC-NAO(N/S): 67.61904761904762 | ERRO MC-SIM(S/N): 76.50882079851439 | MC-NAO(N/S): [4260 2040] | MC-SIM (S/N): [ 759 2472] | Criterion: entropy, | ALVO: HIPERTENSAO\n",
      "Depht: 20 | Split: 900 | Acurácia: 0.7072710103871577 | ERRO MC-NAO(N/S): 67.92063492063491 | ERRO MC-SIM(S/N): 76.19931909625504 | MC-NAO(N/S): [4279 2021] | MC-SIM (S/N): [ 769 2462] | Criterion: entropy, | ALVO: HIPERTENSAO\n",
      "Depht: 20 | Split: 1000 | Acurácia: 0.7065365648935054 | ERRO MC-NAO(N/S): 67.96825396825398 | ERRO MC-SIM(S/N): 75.88981739399567 | MC-NAO(N/S): [4282 2018] | MC-SIM (S/N): [ 779 2452] | Criterion: entropy, | ALVO: HIPERTENSAO\n",
      "Depht: 20 | Split: 1100 | Acurácia: 0.7055922778302381 | ERRO MC-NAO(N/S): 67.04761904761905 | ERRO MC-SIM(S/N): 77.40637573506655 | MC-NAO(N/S): [4224 2076] | MC-SIM (S/N): [ 730 2501] | Criterion: entropy, | ALVO: HIPERTENSAO\n",
      "Depht: 20 | Split: 1200 | Acurácia: 0.7055922778302381 | ERRO MC-NAO(N/S): 67.04761904761905 | ERRO MC-SIM(S/N): 77.40637573506655 | MC-NAO(N/S): [4224 2076] | MC-SIM (S/N): [ 730 2501] | Criterion: entropy, | ALVO: HIPERTENSAO\n",
      "Depht: 20 | Split: 1300 | Acurácia: 0.7138810198300283 | ERRO MC-NAO(N/S): 68.44444444444444 | ERRO MC-SIM(S/N): 77.12782420303311 | MC-NAO(N/S): [4312 1988] | MC-SIM (S/N): [ 739 2492] | Criterion: entropy, | ALVO: HIPERTENSAO\n",
      "Depht: 20 | Split: 1400 | Acurácia: 0.713356415905991 | ERRO MC-NAO(N/S): 68.19047619047619 | ERRO MC-SIM(S/N): 77.46827607551842 | MC-NAO(N/S): [4296 2004] | MC-SIM (S/N): [ 728 2503] | Criterion: entropy, | ALVO: HIPERTENSAO\n",
      "Depht: 20 | Split: 1500 | Acurácia: 0.713356415905991 | ERRO MC-NAO(N/S): 68.19047619047619 | ERRO MC-SIM(S/N): 77.46827607551842 | MC-NAO(N/S): [4296 2004] | MC-SIM (S/N): [ 728 2503] | Criterion: entropy, | ALVO: HIPERTENSAO\n",
      "Depht: 20 | Split: 1600 | Acurácia: 0.7128318119819537 | ERRO MC-NAO(N/S): 67.88888888888889 | ERRO MC-SIM(S/N): 77.90157845868153 | MC-NAO(N/S): [4277 2023] | MC-SIM (S/N): [ 714 2517] | Criterion: entropy, | ALVO: HIPERTENSAO\n",
      "Depht: 20 | Split: 1700 | Acurácia: 0.7128318119819537 | ERRO MC-NAO(N/S): 67.88888888888889 | ERRO MC-SIM(S/N): 77.90157845868153 | MC-NAO(N/S): [4277 2023] | MC-SIM (S/N): [ 714 2517] | Criterion: entropy, | ALVO: HIPERTENSAO\n",
      "Depht: 20 | Split: 1800 | Acurácia: 0.7128318119819537 | ERRO MC-NAO(N/S): 67.88888888888889 | ERRO MC-SIM(S/N): 77.90157845868153 | MC-NAO(N/S): [4277 2023] | MC-SIM (S/N): [ 714 2517] | Criterion: entropy, | ALVO: HIPERTENSAO\n",
      "Depht: 20 | Split: 1900 | Acurácia: 0.7124121288427238 | ERRO MC-NAO(N/S): 67.7936507936508 | ERRO MC-SIM(S/N): 77.9634787991334 | MC-NAO(N/S): [4271 2029] | MC-SIM (S/N): [ 712 2519] | Criterion: entropy, | ALVO: HIPERTENSAO\n",
      "Depht: 20 | Split: 2000 | Acurácia: 0.7124121288427238 | ERRO MC-NAO(N/S): 67.7936507936508 | ERRO MC-SIM(S/N): 77.9634787991334 | MC-NAO(N/S): [4271 2029] | MC-SIM (S/N): [ 712 2519] | Criterion: entropy, | ALVO: HIPERTENSAO\n",
      "Depht: 25 | Split: 200 | Acurácia: 0.6975133774000629 | ERRO MC-NAO(N/S): 67.74603174603175 | ERRO MC-SIM(S/N): 73.66140513772825 | MC-NAO(N/S): [4268 2032] | MC-SIM (S/N): [ 851 2380] | Criterion: entropy, | ALVO: HIPERTENSAO\n",
      "Depht: 25 | Split: 300 | Acurácia: 0.7035987829188962 | ERRO MC-NAO(N/S): 68.2063492063492 | ERRO MC-SIM(S/N): 74.5589600742804 | MC-NAO(N/S): [4297 2003] | MC-SIM (S/N): [ 822 2409] | Criterion: entropy, | ALVO: HIPERTENSAO\n",
      "Depht: 25 | Split: 400 | Acurácia: 0.7071660896023503 | ERRO MC-NAO(N/S): 69.17460317460316 | ERRO MC-SIM(S/N): 73.72330547818012 | MC-NAO(N/S): [4358 1942] | MC-SIM (S/N): [ 849 2382] | Criterion: entropy, | ALVO: HIPERTENSAO\n",
      "Depht: 25 | Split: 500 | Acurácia: 0.7174483265134823 | ERRO MC-NAO(N/S): 71.11111111111111 | ERRO MC-SIM(S/N): 72.98050139275766 | MC-NAO(N/S): [4480 1820] | MC-SIM (S/N): [ 873 2358] | Criterion: entropy, | ALVO: HIPERTENSAO\n",
      "Depht: 25 | Split: 600 | Acurácia: 0.7086349805896548 | ERRO MC-NAO(N/S): 69.15873015873015 | ERRO MC-SIM(S/N): 74.18755803156917 | MC-NAO(N/S): [4357 1943] | MC-SIM (S/N): [ 834 2397] | Criterion: entropy, | ALVO: HIPERTENSAO\n",
      "Depht: 25 | Split: 700 | Acurácia: 0.706221802539083 | ERRO MC-NAO(N/S): 67.76190476190476 | ERRO MC-SIM(S/N): 76.19931909625504 | MC-NAO(N/S): [4269 2031] | MC-SIM (S/N): [ 769 2462] | Criterion: entropy, | ALVO: HIPERTENSAO\n",
      "Depht: 25 | Split: 800 | Acurácia: 0.7061168817542756 | ERRO MC-NAO(N/S): 67.65079365079364 | ERRO MC-SIM(S/N): 76.38502011761065 | MC-NAO(N/S): [4262 2038] | MC-SIM (S/N): [ 763 2468] | Criterion: entropy, | ALVO: HIPERTENSAO\n",
      "Depht: 25 | Split: 900 | Acurácia: 0.7072710103871577 | ERRO MC-NAO(N/S): 67.92063492063491 | ERRO MC-SIM(S/N): 76.19931909625504 | MC-NAO(N/S): [4279 2021] | MC-SIM (S/N): [ 769 2462] | Criterion: entropy, | ALVO: HIPERTENSAO\n",
      "Depht: 25 | Split: 1000 | Acurácia: 0.7065365648935054 | ERRO MC-NAO(N/S): 67.96825396825398 | ERRO MC-SIM(S/N): 75.88981739399567 | MC-NAO(N/S): [4282 2018] | MC-SIM (S/N): [ 779 2452] | Criterion: entropy, | ALVO: HIPERTENSAO\n",
      "Depht: 25 | Split: 1100 | Acurácia: 0.7055922778302381 | ERRO MC-NAO(N/S): 67.04761904761905 | ERRO MC-SIM(S/N): 77.40637573506655 | MC-NAO(N/S): [4224 2076] | MC-SIM (S/N): [ 730 2501] | Criterion: entropy, | ALVO: HIPERTENSAO\n",
      "Depht: 25 | Split: 1200 | Acurácia: 0.7055922778302381 | ERRO MC-NAO(N/S): 67.04761904761905 | ERRO MC-SIM(S/N): 77.40637573506655 | MC-NAO(N/S): [4224 2076] | MC-SIM (S/N): [ 730 2501] | Criterion: entropy, | ALVO: HIPERTENSAO\n",
      "Depht: 25 | Split: 1300 | Acurácia: 0.7138810198300283 | ERRO MC-NAO(N/S): 68.44444444444444 | ERRO MC-SIM(S/N): 77.12782420303311 | MC-NAO(N/S): [4312 1988] | MC-SIM (S/N): [ 739 2492] | Criterion: entropy, | ALVO: HIPERTENSAO\n",
      "Depht: 25 | Split: 1400 | Acurácia: 0.713356415905991 | ERRO MC-NAO(N/S): 68.19047619047619 | ERRO MC-SIM(S/N): 77.46827607551842 | MC-NAO(N/S): [4296 2004] | MC-SIM (S/N): [ 728 2503] | Criterion: entropy, | ALVO: HIPERTENSAO\n",
      "Depht: 25 | Split: 1500 | Acurácia: 0.713356415905991 | ERRO MC-NAO(N/S): 68.19047619047619 | ERRO MC-SIM(S/N): 77.46827607551842 | MC-NAO(N/S): [4296 2004] | MC-SIM (S/N): [ 728 2503] | Criterion: entropy, | ALVO: HIPERTENSAO\n",
      "Depht: 25 | Split: 1600 | Acurácia: 0.7128318119819537 | ERRO MC-NAO(N/S): 67.88888888888889 | ERRO MC-SIM(S/N): 77.90157845868153 | MC-NAO(N/S): [4277 2023] | MC-SIM (S/N): [ 714 2517] | Criterion: entropy, | ALVO: HIPERTENSAO\n",
      "Depht: 25 | Split: 1700 | Acurácia: 0.7128318119819537 | ERRO MC-NAO(N/S): 67.88888888888889 | ERRO MC-SIM(S/N): 77.90157845868153 | MC-NAO(N/S): [4277 2023] | MC-SIM (S/N): [ 714 2517] | Criterion: entropy, | ALVO: HIPERTENSAO\n",
      "Depht: 25 | Split: 1800 | Acurácia: 0.7128318119819537 | ERRO MC-NAO(N/S): 67.88888888888889 | ERRO MC-SIM(S/N): 77.90157845868153 | MC-NAO(N/S): [4277 2023] | MC-SIM (S/N): [ 714 2517] | Criterion: entropy, | ALVO: HIPERTENSAO\n",
      "Depht: 25 | Split: 1900 | Acurácia: 0.7124121288427238 | ERRO MC-NAO(N/S): 67.7936507936508 | ERRO MC-SIM(S/N): 77.9634787991334 | MC-NAO(N/S): [4271 2029] | MC-SIM (S/N): [ 712 2519] | Criterion: entropy, | ALVO: HIPERTENSAO\n",
      "Depht: 25 | Split: 2000 | Acurácia: 0.7124121288427238 | ERRO MC-NAO(N/S): 67.7936507936508 | ERRO MC-SIM(S/N): 77.9634787991334 | MC-NAO(N/S): [4271 2029] | MC-SIM (S/N): [ 712 2519] | Criterion: entropy, | ALVO: HIPERTENSAO\n",
      "Depht: 30 | Split: 200 | Acurácia: 0.6963592487671808 | ERRO MC-NAO(N/S): 67.3015873015873 | ERRO MC-SIM(S/N): 74.18755803156917 | MC-NAO(N/S): [4240 2060] | MC-SIM (S/N): [ 834 2397] | Criterion: entropy, | ALVO: HIPERTENSAO\n",
      "Depht: 30 | Split: 300 | Acurácia: 0.7033889413492813 | ERRO MC-NAO(N/S): 68.25396825396825 | ERRO MC-SIM(S/N): 74.40420922315073 | MC-NAO(N/S): [4300 2000] | MC-SIM (S/N): [ 827 2404] | Criterion: entropy, | ALVO: HIPERTENSAO\n",
      "Depht: 30 | Split: 400 | Acurácia: 0.7071660896023503 | ERRO MC-NAO(N/S): 69.17460317460316 | ERRO MC-SIM(S/N): 73.72330547818012 | MC-NAO(N/S): [4358 1942] | MC-SIM (S/N): [ 849 2382] | Criterion: entropy, | ALVO: HIPERTENSAO\n",
      "Depht: 30 | Split: 500 | Acurácia: 0.7175532472982898 | ERRO MC-NAO(N/S): 71.12698412698413 | ERRO MC-SIM(S/N): 72.98050139275766 | MC-NAO(N/S): [4481 1819] | MC-SIM (S/N): [ 873 2358] | Criterion: entropy, | ALVO: HIPERTENSAO\n",
      "Depht: 30 | Split: 600 | Acurácia: 0.7087399013744623 | ERRO MC-NAO(N/S): 69.15873015873015 | ERRO MC-SIM(S/N): 74.2185082017951 | MC-NAO(N/S): [4357 1943] | MC-SIM (S/N): [ 833 2398] | Criterion: entropy, | ALVO: HIPERTENSAO\n",
      "Depht: 30 | Split: 700 | Acurácia: 0.706221802539083 | ERRO MC-NAO(N/S): 67.76190476190476 | ERRO MC-SIM(S/N): 76.19931909625504 | MC-NAO(N/S): [4269 2031] | MC-SIM (S/N): [ 769 2462] | Criterion: entropy, | ALVO: HIPERTENSAO\n",
      "Depht: 30 | Split: 800 | Acurácia: 0.7061168817542756 | ERRO MC-NAO(N/S): 67.65079365079364 | ERRO MC-SIM(S/N): 76.38502011761065 | MC-NAO(N/S): [4262 2038] | MC-SIM (S/N): [ 763 2468] | Criterion: entropy, | ALVO: HIPERTENSAO\n",
      "Depht: 30 | Split: 900 | Acurácia: 0.7072710103871577 | ERRO MC-NAO(N/S): 67.92063492063491 | ERRO MC-SIM(S/N): 76.19931909625504 | MC-NAO(N/S): [4279 2021] | MC-SIM (S/N): [ 769 2462] | Criterion: entropy, | ALVO: HIPERTENSAO\n",
      "Depht: 30 | Split: 1000 | Acurácia: 0.7065365648935054 | ERRO MC-NAO(N/S): 67.96825396825398 | ERRO MC-SIM(S/N): 75.88981739399567 | MC-NAO(N/S): [4282 2018] | MC-SIM (S/N): [ 779 2452] | Criterion: entropy, | ALVO: HIPERTENSAO\n",
      "Depht: 30 | Split: 1100 | Acurácia: 0.7055922778302381 | ERRO MC-NAO(N/S): 67.04761904761905 | ERRO MC-SIM(S/N): 77.40637573506655 | MC-NAO(N/S): [4224 2076] | MC-SIM (S/N): [ 730 2501] | Criterion: entropy, | ALVO: HIPERTENSAO\n",
      "Depht: 30 | Split: 1200 | Acurácia: 0.7055922778302381 | ERRO MC-NAO(N/S): 67.04761904761905 | ERRO MC-SIM(S/N): 77.40637573506655 | MC-NAO(N/S): [4224 2076] | MC-SIM (S/N): [ 730 2501] | Criterion: entropy, | ALVO: HIPERTENSAO\n",
      "Depht: 30 | Split: 1300 | Acurácia: 0.7138810198300283 | ERRO MC-NAO(N/S): 68.44444444444444 | ERRO MC-SIM(S/N): 77.12782420303311 | MC-NAO(N/S): [4312 1988] | MC-SIM (S/N): [ 739 2492] | Criterion: entropy, | ALVO: HIPERTENSAO\n",
      "Depht: 30 | Split: 1400 | Acurácia: 0.713356415905991 | ERRO MC-NAO(N/S): 68.19047619047619 | ERRO MC-SIM(S/N): 77.46827607551842 | MC-NAO(N/S): [4296 2004] | MC-SIM (S/N): [ 728 2503] | Criterion: entropy, | ALVO: HIPERTENSAO\n",
      "Depht: 30 | Split: 1500 | Acurácia: 0.713356415905991 | ERRO MC-NAO(N/S): 68.19047619047619 | ERRO MC-SIM(S/N): 77.46827607551842 | MC-NAO(N/S): [4296 2004] | MC-SIM (S/N): [ 728 2503] | Criterion: entropy, | ALVO: HIPERTENSAO\n",
      "Depht: 30 | Split: 1600 | Acurácia: 0.7128318119819537 | ERRO MC-NAO(N/S): 67.88888888888889 | ERRO MC-SIM(S/N): 77.90157845868153 | MC-NAO(N/S): [4277 2023] | MC-SIM (S/N): [ 714 2517] | Criterion: entropy, | ALVO: HIPERTENSAO\n",
      "Depht: 30 | Split: 1700 | Acurácia: 0.7128318119819537 | ERRO MC-NAO(N/S): 67.88888888888889 | ERRO MC-SIM(S/N): 77.90157845868153 | MC-NAO(N/S): [4277 2023] | MC-SIM (S/N): [ 714 2517] | Criterion: entropy, | ALVO: HIPERTENSAO\n",
      "Depht: 30 | Split: 1800 | Acurácia: 0.7128318119819537 | ERRO MC-NAO(N/S): 67.88888888888889 | ERRO MC-SIM(S/N): 77.90157845868153 | MC-NAO(N/S): [4277 2023] | MC-SIM (S/N): [ 714 2517] | Criterion: entropy, | ALVO: HIPERTENSAO\n",
      "Depht: 30 | Split: 1900 | Acurácia: 0.7124121288427238 | ERRO MC-NAO(N/S): 67.7936507936508 | ERRO MC-SIM(S/N): 77.9634787991334 | MC-NAO(N/S): [4271 2029] | MC-SIM (S/N): [ 712 2519] | Criterion: entropy, | ALVO: HIPERTENSAO\n",
      "Depht: 30 | Split: 2000 | Acurácia: 0.7124121288427238 | ERRO MC-NAO(N/S): 67.7936507936508 | ERRO MC-SIM(S/N): 77.9634787991334 | MC-NAO(N/S): [4271 2029] | MC-SIM (S/N): [ 712 2519] | Criterion: entropy, | ALVO: HIPERTENSAO\n",
      "Depht: 35 | Split: 200 | Acurácia: 0.6959395656279509 | ERRO MC-NAO(N/S): 67.33333333333334 | ERRO MC-SIM(S/N): 74.00185701021356 | MC-NAO(N/S): [4242 2058] | MC-SIM (S/N): [ 840 2391] | Criterion: entropy, | ALVO: HIPERTENSAO\n",
      "Depht: 35 | Split: 300 | Acurácia: 0.7035987829188962 | ERRO MC-NAO(N/S): 68.26984126984127 | ERRO MC-SIM(S/N): 74.43515939337667 | MC-NAO(N/S): [4301 1999] | MC-SIM (S/N): [ 826 2405] | Criterion: entropy, | ALVO: HIPERTENSAO\n",
      "Depht: 35 | Split: 400 | Acurácia: 0.7071660896023503 | ERRO MC-NAO(N/S): 69.17460317460316 | ERRO MC-SIM(S/N): 73.72330547818012 | MC-NAO(N/S): [4358 1942] | MC-SIM (S/N): [ 849 2382] | Criterion: entropy, | ALVO: HIPERTENSAO\n",
      "Depht: 35 | Split: 500 | Acurácia: 0.7178680096527122 | ERRO MC-NAO(N/S): 71.17460317460318 | ERRO MC-SIM(S/N): 72.98050139275766 | MC-NAO(N/S): [4484 1816] | MC-SIM (S/N): [ 873 2358] | Criterion: entropy, | ALVO: HIPERTENSAO\n",
      "Depht: 35 | Split: 600 | Acurácia: 0.7087399013744623 | ERRO MC-NAO(N/S): 69.15873015873015 | ERRO MC-SIM(S/N): 74.2185082017951 | MC-NAO(N/S): [4357 1943] | MC-SIM (S/N): [ 833 2398] | Criterion: entropy, | ALVO: HIPERTENSAO\n",
      "Depht: 35 | Split: 700 | Acurácia: 0.706221802539083 | ERRO MC-NAO(N/S): 67.76190476190476 | ERRO MC-SIM(S/N): 76.19931909625504 | MC-NAO(N/S): [4269 2031] | MC-SIM (S/N): [ 769 2462] | Criterion: entropy, | ALVO: HIPERTENSAO\n",
      "Depht: 35 | Split: 800 | Acurácia: 0.7061168817542756 | ERRO MC-NAO(N/S): 67.65079365079364 | ERRO MC-SIM(S/N): 76.38502011761065 | MC-NAO(N/S): [4262 2038] | MC-SIM (S/N): [ 763 2468] | Criterion: entropy, | ALVO: HIPERTENSAO\n",
      "Depht: 35 | Split: 900 | Acurácia: 0.7072710103871577 | ERRO MC-NAO(N/S): 67.92063492063491 | ERRO MC-SIM(S/N): 76.19931909625504 | MC-NAO(N/S): [4279 2021] | MC-SIM (S/N): [ 769 2462] | Criterion: entropy, | ALVO: HIPERTENSAO\n",
      "Depht: 35 | Split: 1000 | Acurácia: 0.7065365648935054 | ERRO MC-NAO(N/S): 67.96825396825398 | ERRO MC-SIM(S/N): 75.88981739399567 | MC-NAO(N/S): [4282 2018] | MC-SIM (S/N): [ 779 2452] | Criterion: entropy, | ALVO: HIPERTENSAO\n",
      "Depht: 35 | Split: 1100 | Acurácia: 0.7055922778302381 | ERRO MC-NAO(N/S): 67.04761904761905 | ERRO MC-SIM(S/N): 77.40637573506655 | MC-NAO(N/S): [4224 2076] | MC-SIM (S/N): [ 730 2501] | Criterion: entropy, | ALVO: HIPERTENSAO\n",
      "Depht: 35 | Split: 1200 | Acurácia: 0.7055922778302381 | ERRO MC-NAO(N/S): 67.04761904761905 | ERRO MC-SIM(S/N): 77.40637573506655 | MC-NAO(N/S): [4224 2076] | MC-SIM (S/N): [ 730 2501] | Criterion: entropy, | ALVO: HIPERTENSAO\n",
      "Depht: 35 | Split: 1300 | Acurácia: 0.7138810198300283 | ERRO MC-NAO(N/S): 68.44444444444444 | ERRO MC-SIM(S/N): 77.12782420303311 | MC-NAO(N/S): [4312 1988] | MC-SIM (S/N): [ 739 2492] | Criterion: entropy, | ALVO: HIPERTENSAO\n",
      "Depht: 35 | Split: 1400 | Acurácia: 0.713356415905991 | ERRO MC-NAO(N/S): 68.19047619047619 | ERRO MC-SIM(S/N): 77.46827607551842 | MC-NAO(N/S): [4296 2004] | MC-SIM (S/N): [ 728 2503] | Criterion: entropy, | ALVO: HIPERTENSAO\n",
      "Depht: 35 | Split: 1500 | Acurácia: 0.713356415905991 | ERRO MC-NAO(N/S): 68.19047619047619 | ERRO MC-SIM(S/N): 77.46827607551842 | MC-NAO(N/S): [4296 2004] | MC-SIM (S/N): [ 728 2503] | Criterion: entropy, | ALVO: HIPERTENSAO\n",
      "Depht: 35 | Split: 1600 | Acurácia: 0.7128318119819537 | ERRO MC-NAO(N/S): 67.88888888888889 | ERRO MC-SIM(S/N): 77.90157845868153 | MC-NAO(N/S): [4277 2023] | MC-SIM (S/N): [ 714 2517] | Criterion: entropy, | ALVO: HIPERTENSAO\n",
      "Depht: 35 | Split: 1700 | Acurácia: 0.7128318119819537 | ERRO MC-NAO(N/S): 67.88888888888889 | ERRO MC-SIM(S/N): 77.90157845868153 | MC-NAO(N/S): [4277 2023] | MC-SIM (S/N): [ 714 2517] | Criterion: entropy, | ALVO: HIPERTENSAO\n",
      "Depht: 35 | Split: 1800 | Acurácia: 0.7128318119819537 | ERRO MC-NAO(N/S): 67.88888888888889 | ERRO MC-SIM(S/N): 77.90157845868153 | MC-NAO(N/S): [4277 2023] | MC-SIM (S/N): [ 714 2517] | Criterion: entropy, | ALVO: HIPERTENSAO\n",
      "Depht: 35 | Split: 1900 | Acurácia: 0.7124121288427238 | ERRO MC-NAO(N/S): 67.7936507936508 | ERRO MC-SIM(S/N): 77.9634787991334 | MC-NAO(N/S): [4271 2029] | MC-SIM (S/N): [ 712 2519] | Criterion: entropy, | ALVO: HIPERTENSAO\n",
      "Depht: 35 | Split: 2000 | Acurácia: 0.7124121288427238 | ERRO MC-NAO(N/S): 67.7936507936508 | ERRO MC-SIM(S/N): 77.9634787991334 | MC-NAO(N/S): [4271 2029] | MC-SIM (S/N): [ 712 2519] | Criterion: entropy, | ALVO: HIPERTENSAO\n",
      "Depht: 40 | Split: 200 | Acurácia: 0.6966740111216032 | ERRO MC-NAO(N/S): 67.65079365079364 | ERRO MC-SIM(S/N): 73.59950479727638 | MC-NAO(N/S): [4262 2038] | MC-SIM (S/N): [ 853 2378] | Criterion: entropy, | ALVO: HIPERTENSAO\n",
      "Depht: 40 | Split: 300 | Acurácia: 0.7034938621340887 | ERRO MC-NAO(N/S): 68.26984126984127 | ERRO MC-SIM(S/N): 74.40420922315073 | MC-NAO(N/S): [4301 1999] | MC-SIM (S/N): [ 827 2404] | Criterion: entropy, | ALVO: HIPERTENSAO\n",
      "Depht: 40 | Split: 400 | Acurácia: 0.7071660896023503 | ERRO MC-NAO(N/S): 69.17460317460316 | ERRO MC-SIM(S/N): 73.72330547818012 | MC-NAO(N/S): [4358 1942] | MC-SIM (S/N): [ 849 2382] | Criterion: entropy, | ALVO: HIPERTENSAO\n",
      "Depht: 40 | Split: 500 | Acurácia: 0.7178680096527122 | ERRO MC-NAO(N/S): 71.17460317460318 | ERRO MC-SIM(S/N): 72.98050139275766 | MC-NAO(N/S): [4484 1816] | MC-SIM (S/N): [ 873 2358] | Criterion: entropy, | ALVO: HIPERTENSAO\n",
      "Depht: 40 | Split: 600 | Acurácia: 0.7086349805896548 | ERRO MC-NAO(N/S): 69.15873015873015 | ERRO MC-SIM(S/N): 74.18755803156917 | MC-NAO(N/S): [4357 1943] | MC-SIM (S/N): [ 834 2397] | Criterion: entropy, | ALVO: HIPERTENSAO\n",
      "Depht: 40 | Split: 700 | Acurácia: 0.706221802539083 | ERRO MC-NAO(N/S): 67.76190476190476 | ERRO MC-SIM(S/N): 76.19931909625504 | MC-NAO(N/S): [4269 2031] | MC-SIM (S/N): [ 769 2462] | Criterion: entropy, | ALVO: HIPERTENSAO\n",
      "Depht: 40 | Split: 800 | Acurácia: 0.7061168817542756 | ERRO MC-NAO(N/S): 67.65079365079364 | ERRO MC-SIM(S/N): 76.38502011761065 | MC-NAO(N/S): [4262 2038] | MC-SIM (S/N): [ 763 2468] | Criterion: entropy, | ALVO: HIPERTENSAO\n",
      "Depht: 40 | Split: 900 | Acurácia: 0.7072710103871577 | ERRO MC-NAO(N/S): 67.92063492063491 | ERRO MC-SIM(S/N): 76.19931909625504 | MC-NAO(N/S): [4279 2021] | MC-SIM (S/N): [ 769 2462] | Criterion: entropy, | ALVO: HIPERTENSAO\n",
      "Depht: 40 | Split: 1000 | Acurácia: 0.7065365648935054 | ERRO MC-NAO(N/S): 67.96825396825398 | ERRO MC-SIM(S/N): 75.88981739399567 | MC-NAO(N/S): [4282 2018] | MC-SIM (S/N): [ 779 2452] | Criterion: entropy, | ALVO: HIPERTENSAO\n",
      "Depht: 40 | Split: 1100 | Acurácia: 0.7055922778302381 | ERRO MC-NAO(N/S): 67.04761904761905 | ERRO MC-SIM(S/N): 77.40637573506655 | MC-NAO(N/S): [4224 2076] | MC-SIM (S/N): [ 730 2501] | Criterion: entropy, | ALVO: HIPERTENSAO\n",
      "Depht: 40 | Split: 1200 | Acurácia: 0.7055922778302381 | ERRO MC-NAO(N/S): 67.04761904761905 | ERRO MC-SIM(S/N): 77.40637573506655 | MC-NAO(N/S): [4224 2076] | MC-SIM (S/N): [ 730 2501] | Criterion: entropy, | ALVO: HIPERTENSAO\n",
      "Depht: 40 | Split: 1300 | Acurácia: 0.7138810198300283 | ERRO MC-NAO(N/S): 68.44444444444444 | ERRO MC-SIM(S/N): 77.12782420303311 | MC-NAO(N/S): [4312 1988] | MC-SIM (S/N): [ 739 2492] | Criterion: entropy, | ALVO: HIPERTENSAO\n",
      "Depht: 40 | Split: 1400 | Acurácia: 0.713356415905991 | ERRO MC-NAO(N/S): 68.19047619047619 | ERRO MC-SIM(S/N): 77.46827607551842 | MC-NAO(N/S): [4296 2004] | MC-SIM (S/N): [ 728 2503] | Criterion: entropy, | ALVO: HIPERTENSAO\n",
      "Depht: 40 | Split: 1500 | Acurácia: 0.713356415905991 | ERRO MC-NAO(N/S): 68.19047619047619 | ERRO MC-SIM(S/N): 77.46827607551842 | MC-NAO(N/S): [4296 2004] | MC-SIM (S/N): [ 728 2503] | Criterion: entropy, | ALVO: HIPERTENSAO\n",
      "Depht: 40 | Split: 1600 | Acurácia: 0.7128318119819537 | ERRO MC-NAO(N/S): 67.88888888888889 | ERRO MC-SIM(S/N): 77.90157845868153 | MC-NAO(N/S): [4277 2023] | MC-SIM (S/N): [ 714 2517] | Criterion: entropy, | ALVO: HIPERTENSAO\n",
      "Depht: 40 | Split: 1700 | Acurácia: 0.7128318119819537 | ERRO MC-NAO(N/S): 67.88888888888889 | ERRO MC-SIM(S/N): 77.90157845868153 | MC-NAO(N/S): [4277 2023] | MC-SIM (S/N): [ 714 2517] | Criterion: entropy, | ALVO: HIPERTENSAO\n",
      "Depht: 40 | Split: 1800 | Acurácia: 0.7128318119819537 | ERRO MC-NAO(N/S): 67.88888888888889 | ERRO MC-SIM(S/N): 77.90157845868153 | MC-NAO(N/S): [4277 2023] | MC-SIM (S/N): [ 714 2517] | Criterion: entropy, | ALVO: HIPERTENSAO\n",
      "Depht: 40 | Split: 1900 | Acurácia: 0.7124121288427238 | ERRO MC-NAO(N/S): 67.7936507936508 | ERRO MC-SIM(S/N): 77.9634787991334 | MC-NAO(N/S): [4271 2029] | MC-SIM (S/N): [ 712 2519] | Criterion: entropy, | ALVO: HIPERTENSAO\n",
      "Depht: 40 | Split: 2000 | Acurácia: 0.7124121288427238 | ERRO MC-NAO(N/S): 67.7936507936508 | ERRO MC-SIM(S/N): 77.9634787991334 | MC-NAO(N/S): [4271 2029] | MC-SIM (S/N): [ 712 2519] | Criterion: entropy, | ALVO: HIPERTENSAO\n",
      "Depht: 45 | Split: 200 | Acurácia: 0.6967789319064107 | ERRO MC-NAO(N/S): 67.65079365079364 | ERRO MC-SIM(S/N): 73.63045496750232 | MC-NAO(N/S): [4262 2038] | MC-SIM (S/N): [ 852 2379] | Criterion: entropy, | ALVO: HIPERTENSAO\n",
      "Depht: 45 | Split: 300 | Acurácia: 0.7034938621340887 | ERRO MC-NAO(N/S): 68.26984126984127 | ERRO MC-SIM(S/N): 74.40420922315073 | MC-NAO(N/S): [4301 1999] | MC-SIM (S/N): [ 827 2404] | Criterion: entropy, | ALVO: HIPERTENSAO\n",
      "Depht: 45 | Split: 400 | Acurácia: 0.7072710103871577 | ERRO MC-NAO(N/S): 69.19047619047619 | ERRO MC-SIM(S/N): 73.72330547818012 | MC-NAO(N/S): [4359 1941] | MC-SIM (S/N): [ 849 2382] | Criterion: entropy, | ALVO: HIPERTENSAO\n",
      "Depht: 45 | Split: 500 | Acurácia: 0.7175532472982898 | ERRO MC-NAO(N/S): 71.12698412698413 | ERRO MC-SIM(S/N): 72.98050139275766 | MC-NAO(N/S): [4481 1819] | MC-SIM (S/N): [ 873 2358] | Criterion: entropy, | ALVO: HIPERTENSAO\n",
      "Depht: 45 | Split: 600 | Acurácia: 0.7086349805896548 | ERRO MC-NAO(N/S): 69.15873015873015 | ERRO MC-SIM(S/N): 74.18755803156917 | MC-NAO(N/S): [4357 1943] | MC-SIM (S/N): [ 834 2397] | Criterion: entropy, | ALVO: HIPERTENSAO\n",
      "Depht: 45 | Split: 700 | Acurácia: 0.706221802539083 | ERRO MC-NAO(N/S): 67.76190476190476 | ERRO MC-SIM(S/N): 76.19931909625504 | MC-NAO(N/S): [4269 2031] | MC-SIM (S/N): [ 769 2462] | Criterion: entropy, | ALVO: HIPERTENSAO\n",
      "Depht: 45 | Split: 800 | Acurácia: 0.7061168817542756 | ERRO MC-NAO(N/S): 67.65079365079364 | ERRO MC-SIM(S/N): 76.38502011761065 | MC-NAO(N/S): [4262 2038] | MC-SIM (S/N): [ 763 2468] | Criterion: entropy, | ALVO: HIPERTENSAO\n",
      "Depht: 45 | Split: 900 | Acurácia: 0.7072710103871577 | ERRO MC-NAO(N/S): 67.92063492063491 | ERRO MC-SIM(S/N): 76.19931909625504 | MC-NAO(N/S): [4279 2021] | MC-SIM (S/N): [ 769 2462] | Criterion: entropy, | ALVO: HIPERTENSAO\n",
      "Depht: 45 | Split: 1000 | Acurácia: 0.7065365648935054 | ERRO MC-NAO(N/S): 67.96825396825398 | ERRO MC-SIM(S/N): 75.88981739399567 | MC-NAO(N/S): [4282 2018] | MC-SIM (S/N): [ 779 2452] | Criterion: entropy, | ALVO: HIPERTENSAO\n",
      "Depht: 45 | Split: 1100 | Acurácia: 0.7055922778302381 | ERRO MC-NAO(N/S): 67.04761904761905 | ERRO MC-SIM(S/N): 77.40637573506655 | MC-NAO(N/S): [4224 2076] | MC-SIM (S/N): [ 730 2501] | Criterion: entropy, | ALVO: HIPERTENSAO\n",
      "Depht: 45 | Split: 1200 | Acurácia: 0.7055922778302381 | ERRO MC-NAO(N/S): 67.04761904761905 | ERRO MC-SIM(S/N): 77.40637573506655 | MC-NAO(N/S): [4224 2076] | MC-SIM (S/N): [ 730 2501] | Criterion: entropy, | ALVO: HIPERTENSAO\n",
      "Depht: 45 | Split: 1300 | Acurácia: 0.7138810198300283 | ERRO MC-NAO(N/S): 68.44444444444444 | ERRO MC-SIM(S/N): 77.12782420303311 | MC-NAO(N/S): [4312 1988] | MC-SIM (S/N): [ 739 2492] | Criterion: entropy, | ALVO: HIPERTENSAO\n",
      "Depht: 45 | Split: 1400 | Acurácia: 0.713356415905991 | ERRO MC-NAO(N/S): 68.19047619047619 | ERRO MC-SIM(S/N): 77.46827607551842 | MC-NAO(N/S): [4296 2004] | MC-SIM (S/N): [ 728 2503] | Criterion: entropy, | ALVO: HIPERTENSAO\n",
      "Depht: 45 | Split: 1500 | Acurácia: 0.713356415905991 | ERRO MC-NAO(N/S): 68.19047619047619 | ERRO MC-SIM(S/N): 77.46827607551842 | MC-NAO(N/S): [4296 2004] | MC-SIM (S/N): [ 728 2503] | Criterion: entropy, | ALVO: HIPERTENSAO\n",
      "Depht: 45 | Split: 1600 | Acurácia: 0.7128318119819537 | ERRO MC-NAO(N/S): 67.88888888888889 | ERRO MC-SIM(S/N): 77.90157845868153 | MC-NAO(N/S): [4277 2023] | MC-SIM (S/N): [ 714 2517] | Criterion: entropy, | ALVO: HIPERTENSAO\n",
      "Depht: 45 | Split: 1700 | Acurácia: 0.7128318119819537 | ERRO MC-NAO(N/S): 67.88888888888889 | ERRO MC-SIM(S/N): 77.90157845868153 | MC-NAO(N/S): [4277 2023] | MC-SIM (S/N): [ 714 2517] | Criterion: entropy, | ALVO: HIPERTENSAO\n",
      "Depht: 45 | Split: 1800 | Acurácia: 0.7128318119819537 | ERRO MC-NAO(N/S): 67.88888888888889 | ERRO MC-SIM(S/N): 77.90157845868153 | MC-NAO(N/S): [4277 2023] | MC-SIM (S/N): [ 714 2517] | Criterion: entropy, | ALVO: HIPERTENSAO\n",
      "Depht: 45 | Split: 1900 | Acurácia: 0.7124121288427238 | ERRO MC-NAO(N/S): 67.7936507936508 | ERRO MC-SIM(S/N): 77.9634787991334 | MC-NAO(N/S): [4271 2029] | MC-SIM (S/N): [ 712 2519] | Criterion: entropy, | ALVO: HIPERTENSAO\n",
      "Depht: 45 | Split: 2000 | Acurácia: 0.7124121288427238 | ERRO MC-NAO(N/S): 67.7936507936508 | ERRO MC-SIM(S/N): 77.9634787991334 | MC-NAO(N/S): [4271 2029] | MC-SIM (S/N): [ 712 2519] | Criterion: entropy, | ALVO: HIPERTENSAO\n",
      "Depht: 50 | Split: 200 | Acurácia: 0.6958346448431434 | ERRO MC-NAO(N/S): 67.33333333333334 | ERRO MC-SIM(S/N): 73.97090683998762 | MC-NAO(N/S): [4242 2058] | MC-SIM (S/N): [ 841 2390] | Criterion: entropy, | ALVO: HIPERTENSAO\n",
      "Depht: 50 | Split: 300 | Acurácia: 0.7035987829188962 | ERRO MC-NAO(N/S): 68.26984126984127 | ERRO MC-SIM(S/N): 74.43515939337667 | MC-NAO(N/S): [4301 1999] | MC-SIM (S/N): [ 826 2405] | Criterion: entropy, | ALVO: HIPERTENSAO\n",
      "Depht: 50 | Split: 400 | Acurácia: 0.7072710103871577 | ERRO MC-NAO(N/S): 69.19047619047619 | ERRO MC-SIM(S/N): 73.72330547818012 | MC-NAO(N/S): [4359 1941] | MC-SIM (S/N): [ 849 2382] | Criterion: entropy, | ALVO: HIPERTENSAO\n",
      "Depht: 50 | Split: 500 | Acurácia: 0.7179729304375196 | ERRO MC-NAO(N/S): 71.19047619047619 | ERRO MC-SIM(S/N): 72.98050139275766 | MC-NAO(N/S): [4485 1815] | MC-SIM (S/N): [ 873 2358] | Criterion: entropy, | ALVO: HIPERTENSAO\n",
      "Depht: 50 | Split: 600 | Acurácia: 0.7086349805896548 | ERRO MC-NAO(N/S): 69.15873015873015 | ERRO MC-SIM(S/N): 74.18755803156917 | MC-NAO(N/S): [4357 1943] | MC-SIM (S/N): [ 834 2397] | Criterion: entropy, | ALVO: HIPERTENSAO\n",
      "Depht: 50 | Split: 700 | Acurácia: 0.706221802539083 | ERRO MC-NAO(N/S): 67.76190476190476 | ERRO MC-SIM(S/N): 76.19931909625504 | MC-NAO(N/S): [4269 2031] | MC-SIM (S/N): [ 769 2462] | Criterion: entropy, | ALVO: HIPERTENSAO\n",
      "Depht: 50 | Split: 800 | Acurácia: 0.7061168817542756 | ERRO MC-NAO(N/S): 67.65079365079364 | ERRO MC-SIM(S/N): 76.38502011761065 | MC-NAO(N/S): [4262 2038] | MC-SIM (S/N): [ 763 2468] | Criterion: entropy, | ALVO: HIPERTENSAO\n",
      "Depht: 50 | Split: 900 | Acurácia: 0.7072710103871577 | ERRO MC-NAO(N/S): 67.92063492063491 | ERRO MC-SIM(S/N): 76.19931909625504 | MC-NAO(N/S): [4279 2021] | MC-SIM (S/N): [ 769 2462] | Criterion: entropy, | ALVO: HIPERTENSAO\n",
      "Depht: 50 | Split: 1000 | Acurácia: 0.7065365648935054 | ERRO MC-NAO(N/S): 67.96825396825398 | ERRO MC-SIM(S/N): 75.88981739399567 | MC-NAO(N/S): [4282 2018] | MC-SIM (S/N): [ 779 2452] | Criterion: entropy, | ALVO: HIPERTENSAO\n",
      "Depht: 50 | Split: 1100 | Acurácia: 0.7055922778302381 | ERRO MC-NAO(N/S): 67.04761904761905 | ERRO MC-SIM(S/N): 77.40637573506655 | MC-NAO(N/S): [4224 2076] | MC-SIM (S/N): [ 730 2501] | Criterion: entropy, | ALVO: HIPERTENSAO\n",
      "Depht: 50 | Split: 1200 | Acurácia: 0.7055922778302381 | ERRO MC-NAO(N/S): 67.04761904761905 | ERRO MC-SIM(S/N): 77.40637573506655 | MC-NAO(N/S): [4224 2076] | MC-SIM (S/N): [ 730 2501] | Criterion: entropy, | ALVO: HIPERTENSAO\n",
      "Depht: 50 | Split: 1300 | Acurácia: 0.7138810198300283 | ERRO MC-NAO(N/S): 68.44444444444444 | ERRO MC-SIM(S/N): 77.12782420303311 | MC-NAO(N/S): [4312 1988] | MC-SIM (S/N): [ 739 2492] | Criterion: entropy, | ALVO: HIPERTENSAO\n",
      "Depht: 50 | Split: 1400 | Acurácia: 0.713356415905991 | ERRO MC-NAO(N/S): 68.19047619047619 | ERRO MC-SIM(S/N): 77.46827607551842 | MC-NAO(N/S): [4296 2004] | MC-SIM (S/N): [ 728 2503] | Criterion: entropy, | ALVO: HIPERTENSAO\n",
      "Depht: 50 | Split: 1500 | Acurácia: 0.713356415905991 | ERRO MC-NAO(N/S): 68.19047619047619 | ERRO MC-SIM(S/N): 77.46827607551842 | MC-NAO(N/S): [4296 2004] | MC-SIM (S/N): [ 728 2503] | Criterion: entropy, | ALVO: HIPERTENSAO\n",
      "Depht: 50 | Split: 1600 | Acurácia: 0.7128318119819537 | ERRO MC-NAO(N/S): 67.88888888888889 | ERRO MC-SIM(S/N): 77.90157845868153 | MC-NAO(N/S): [4277 2023] | MC-SIM (S/N): [ 714 2517] | Criterion: entropy, | ALVO: HIPERTENSAO\n",
      "Depht: 50 | Split: 1700 | Acurácia: 0.7128318119819537 | ERRO MC-NAO(N/S): 67.88888888888889 | ERRO MC-SIM(S/N): 77.90157845868153 | MC-NAO(N/S): [4277 2023] | MC-SIM (S/N): [ 714 2517] | Criterion: entropy, | ALVO: HIPERTENSAO\n",
      "Depht: 50 | Split: 1800 | Acurácia: 0.7128318119819537 | ERRO MC-NAO(N/S): 67.88888888888889 | ERRO MC-SIM(S/N): 77.90157845868153 | MC-NAO(N/S): [4277 2023] | MC-SIM (S/N): [ 714 2517] | Criterion: entropy, | ALVO: HIPERTENSAO\n",
      "Depht: 50 | Split: 1900 | Acurácia: 0.7124121288427238 | ERRO MC-NAO(N/S): 67.7936507936508 | ERRO MC-SIM(S/N): 77.9634787991334 | MC-NAO(N/S): [4271 2029] | MC-SIM (S/N): [ 712 2519] | Criterion: entropy, | ALVO: HIPERTENSAO\n",
      "Depht: 50 | Split: 2000 | Acurácia: 0.7124121288427238 | ERRO MC-NAO(N/S): 67.7936507936508 | ERRO MC-SIM(S/N): 77.9634787991334 | MC-NAO(N/S): [4271 2029] | MC-SIM (S/N): [ 712 2519] | Criterion: entropy, | ALVO: HIPERTENSAO\n"
     ]
    }
   ],
   "source": [
    "# Criação de modelos com ENTROPY\n",
    "TP_CRITERION = 'entropy'\n",
    "func_instancia_classif(TP_CRITERION, NU_DEPHT_INI, NU_DEPHT_FIM, NU_DEPHT_INC, NU_SPLIT_INI, NU_SPLIT_FIM, NU_SPLIT_INC,\n",
    "                       y_train, y_test, X_train, X_test, 'HIPERTENSAO')"
   ]
  },
  {
   "cell_type": "code",
   "execution_count": 38,
   "metadata": {
    "colab": {
     "base_uri": "https://localhost:8080/",
     "height": 1000
    },
    "colab_type": "code",
    "id": "k4AHDsHysvC0",
    "outputId": "48903c82-2939-4b41-e659-7c95aae75175"
   },
   "outputs": [
    {
     "name": "stdout",
     "output_type": "stream",
     "text": [
      "\n",
      "RESULTADOS COM GINI\n",
      "\n",
      "Depht: 5 | Split: 200 | Acurácia: 0.6589025285909138 | ERRO MC-NAO(N/S): 55.12698412698413 | ERRO MC-SIM(S/N): 86.87712782420303 | MC-NAO(N/S): [3473 2827] | MC-SIM (S/N): [ 424 2807] | Criterion: gini, | ALVO: HIPERTENSAO\n",
      "Depht: 5 | Split: 300 | Acurácia: 0.6586926870212989 | ERRO MC-NAO(N/S): 55.142857142857146 | ERRO MC-SIM(S/N): 86.78427731352522 | MC-NAO(N/S): [3474 2826] | MC-SIM (S/N): [ 427 2804] | Criterion: gini, | ALVO: HIPERTENSAO\n",
      "Depht: 5 | Split: 400 | Acurácia: 0.6586926870212989 | ERRO MC-NAO(N/S): 55.17460317460318 | ERRO MC-SIM(S/N): 86.72237697307335 | MC-NAO(N/S): [3476 2824] | MC-SIM (S/N): [ 429 2802] | Criterion: gini, | ALVO: HIPERTENSAO\n",
      "Depht: 5 | Split: 500 | Acurácia: 0.6586926870212989 | ERRO MC-NAO(N/S): 55.17460317460318 | ERRO MC-SIM(S/N): 86.72237697307335 | MC-NAO(N/S): [3476 2824] | MC-SIM (S/N): [ 429 2802] | Criterion: gini, | ALVO: HIPERTENSAO\n",
      "Depht: 5 | Split: 600 | Acurácia: 0.6586926870212989 | ERRO MC-NAO(N/S): 55.17460317460318 | ERRO MC-SIM(S/N): 86.72237697307335 | MC-NAO(N/S): [3476 2824] | MC-SIM (S/N): [ 429 2802] | Criterion: gini, | ALVO: HIPERTENSAO\n",
      "Depht: 5 | Split: 700 | Acurácia: 0.6585877662364914 | ERRO MC-NAO(N/S): 55.20634920634921 | ERRO MC-SIM(S/N): 86.62952646239555 | MC-NAO(N/S): [3478 2822] | MC-SIM (S/N): [ 432 2799] | Criterion: gini, | ALVO: HIPERTENSAO\n",
      "Depht: 5 | Split: 800 | Acurácia: 0.6585877662364914 | ERRO MC-NAO(N/S): 55.20634920634921 | ERRO MC-SIM(S/N): 86.62952646239555 | MC-NAO(N/S): [3478 2822] | MC-SIM (S/N): [ 432 2799] | Criterion: gini, | ALVO: HIPERTENSAO\n",
      "Depht: 5 | Split: 900 | Acurácia: 0.6585877662364914 | ERRO MC-NAO(N/S): 55.20634920634921 | ERRO MC-SIM(S/N): 86.62952646239555 | MC-NAO(N/S): [3478 2822] | MC-SIM (S/N): [ 432 2799] | Criterion: gini, | ALVO: HIPERTENSAO\n",
      "Depht: 5 | Split: 1000 | Acurácia: 0.6580631623124541 | ERRO MC-NAO(N/S): 55.34920634920635 | ERRO MC-SIM(S/N): 86.19622407923244 | MC-NAO(N/S): [3487 2813] | MC-SIM (S/N): [ 446 2785] | Criterion: gini, | ALVO: HIPERTENSAO\n",
      "Depht: 5 | Split: 1100 | Acurácia: 0.6580631623124541 | ERRO MC-NAO(N/S): 55.34920634920635 | ERRO MC-SIM(S/N): 86.19622407923244 | MC-NAO(N/S): [3487 2813] | MC-SIM (S/N): [ 446 2785] | Criterion: gini, | ALVO: HIPERTENSAO\n",
      "Depht: 5 | Split: 1200 | Acurácia: 0.6580631623124541 | ERRO MC-NAO(N/S): 55.34920634920635 | ERRO MC-SIM(S/N): 86.19622407923244 | MC-NAO(N/S): [3487 2813] | MC-SIM (S/N): [ 446 2785] | Criterion: gini, | ALVO: HIPERTENSAO\n",
      "Depht: 5 | Split: 1300 | Acurácia: 0.6580631623124541 | ERRO MC-NAO(N/S): 55.34920634920635 | ERRO MC-SIM(S/N): 86.19622407923244 | MC-NAO(N/S): [3487 2813] | MC-SIM (S/N): [ 446 2785] | Criterion: gini, | ALVO: HIPERTENSAO\n",
      "Depht: 5 | Split: 1400 | Acurácia: 0.6580631623124541 | ERRO MC-NAO(N/S): 55.34920634920635 | ERRO MC-SIM(S/N): 86.19622407923244 | MC-NAO(N/S): [3487 2813] | MC-SIM (S/N): [ 446 2785] | Criterion: gini, | ALVO: HIPERTENSAO\n",
      "Depht: 5 | Split: 1500 | Acurácia: 0.6580631623124541 | ERRO MC-NAO(N/S): 55.34920634920635 | ERRO MC-SIM(S/N): 86.19622407923244 | MC-NAO(N/S): [3487 2813] | MC-SIM (S/N): [ 446 2785] | Criterion: gini, | ALVO: HIPERTENSAO\n",
      "Depht: 5 | Split: 1600 | Acurácia: 0.6580631623124541 | ERRO MC-NAO(N/S): 55.34920634920635 | ERRO MC-SIM(S/N): 86.19622407923244 | MC-NAO(N/S): [3487 2813] | MC-SIM (S/N): [ 446 2785] | Criterion: gini, | ALVO: HIPERTENSAO\n",
      "Depht: 5 | Split: 1700 | Acurácia: 0.6580631623124541 | ERRO MC-NAO(N/S): 55.34920634920635 | ERRO MC-SIM(S/N): 86.19622407923244 | MC-NAO(N/S): [3487 2813] | MC-SIM (S/N): [ 446 2785] | Criterion: gini, | ALVO: HIPERTENSAO\n",
      "Depht: 5 | Split: 1800 | Acurácia: 0.6580631623124541 | ERRO MC-NAO(N/S): 55.34920634920635 | ERRO MC-SIM(S/N): 86.19622407923244 | MC-NAO(N/S): [3487 2813] | MC-SIM (S/N): [ 446 2785] | Criterion: gini, | ALVO: HIPERTENSAO\n",
      "Depht: 5 | Split: 1900 | Acurácia: 0.6580631623124541 | ERRO MC-NAO(N/S): 55.34920634920635 | ERRO MC-SIM(S/N): 86.19622407923244 | MC-NAO(N/S): [3487 2813] | MC-SIM (S/N): [ 446 2785] | Criterion: gini, | ALVO: HIPERTENSAO\n",
      "Depht: 5 | Split: 2000 | Acurácia: 0.6580631623124541 | ERRO MC-NAO(N/S): 55.34920634920635 | ERRO MC-SIM(S/N): 86.19622407923244 | MC-NAO(N/S): [3487 2813] | MC-SIM (S/N): [ 446 2785] | Criterion: gini, | ALVO: HIPERTENSAO\n",
      "Depht: 10 | Split: 200 | Acurácia: 0.7030741789948589 | ERRO MC-NAO(N/S): 65.07936507936509 | ERRO MC-SIM(S/N): 80.50139275766017 | MC-NAO(N/S): [4100 2200] | MC-SIM (S/N): [ 630 2601] | Criterion: gini, | ALVO: HIPERTENSAO\n",
      "Depht: 10 | Split: 300 | Acurácia: 0.7047529115517784 | ERRO MC-NAO(N/S): 65.4126984126984 | ERRO MC-SIM(S/N): 80.3466419065305 | MC-NAO(N/S): [4121 2179] | MC-SIM (S/N): [ 635 2596] | Criterion: gini, | ALVO: HIPERTENSAO\n",
      "Depht: 10 | Split: 400 | Acurácia: 0.7086349805896548 | ERRO MC-NAO(N/S): 66.31746031746032 | ERRO MC-SIM(S/N): 79.72763850201176 | MC-NAO(N/S): [4178 2122] | MC-SIM (S/N): [ 655 2576] | Criterion: gini, | ALVO: HIPERTENSAO\n",
      "Depht: 10 | Split: 500 | Acurácia: 0.7089497429440772 | ERRO MC-NAO(N/S): 66.39682539682539 | ERRO MC-SIM(S/N): 79.66573816155989 | MC-NAO(N/S): [4183 2117] | MC-SIM (S/N): [ 657 2574] | Criterion: gini, | ALVO: HIPERTENSAO\n",
      "Depht: 10 | Split: 600 | Acurácia: 0.7048578323365858 | ERRO MC-NAO(N/S): 65.5873015873016 | ERRO MC-SIM(S/N): 80.03714020427113 | MC-NAO(N/S): [4132 2168] | MC-SIM (S/N): [ 645 2586] | Criterion: gini, | ALVO: HIPERTENSAO\n",
      "Depht: 10 | Split: 700 | Acurácia: 0.7048578323365858 | ERRO MC-NAO(N/S): 65.65079365079364 | ERRO MC-SIM(S/N): 79.91333952336738 | MC-NAO(N/S): [4136 2164] | MC-SIM (S/N): [ 649 2582] | Criterion: gini, | ALVO: HIPERTENSAO\n",
      "Depht: 10 | Split: 800 | Acurácia: 0.7048578323365858 | ERRO MC-NAO(N/S): 65.65079365079364 | ERRO MC-SIM(S/N): 79.91333952336738 | MC-NAO(N/S): [4136 2164] | MC-SIM (S/N): [ 649 2582] | Criterion: gini, | ALVO: HIPERTENSAO\n",
      "Depht: 10 | Split: 900 | Acurácia: 0.7058021193998532 | ERRO MC-NAO(N/S): 65.95238095238095 | ERRO MC-SIM(S/N): 79.60383782110802 | MC-NAO(N/S): [4155 2145] | MC-SIM (S/N): [ 659 2572] | Criterion: gini, | ALVO: HIPERTENSAO\n",
      "Depht: 10 | Split: 1000 | Acurácia: 0.7055922778302381 | ERRO MC-NAO(N/S): 66.17460317460318 | ERRO MC-SIM(S/N): 79.10863509749304 | MC-NAO(N/S): [4169 2131] | MC-SIM (S/N): [ 675 2556] | Criterion: gini, | ALVO: HIPERTENSAO\n",
      "Depht: 10 | Split: 1100 | Acurácia: 0.7055922778302381 | ERRO MC-NAO(N/S): 66.17460317460318 | ERRO MC-SIM(S/N): 79.10863509749304 | MC-NAO(N/S): [4169 2131] | MC-SIM (S/N): [ 675 2556] | Criterion: gini, | ALVO: HIPERTENSAO\n",
      "Depht: 10 | Split: 1200 | Acurácia: 0.7055922778302381 | ERRO MC-NAO(N/S): 66.15873015873015 | ERRO MC-SIM(S/N): 79.13958526771897 | MC-NAO(N/S): [4168 2132] | MC-SIM (S/N): [ 674 2557] | Criterion: gini, | ALVO: HIPERTENSAO\n",
      "Depht: 10 | Split: 1300 | Acurácia: 0.7125170496275313 | ERRO MC-NAO(N/S): 67.80952380952381 | ERRO MC-SIM(S/N): 77.9634787991334 | MC-NAO(N/S): [4272 2028] | MC-SIM (S/N): [ 712 2519] | Criterion: gini, | ALVO: HIPERTENSAO\n",
      "Depht: 10 | Split: 1400 | Acurácia: 0.7126219704123387 | ERRO MC-NAO(N/S): 67.82539682539684 | ERRO MC-SIM(S/N): 77.9634787991334 | MC-NAO(N/S): [4273 2027] | MC-SIM (S/N): [ 712 2519] | Criterion: gini, | ALVO: HIPERTENSAO\n",
      "Depht: 10 | Split: 1500 | Acurácia: 0.7126219704123387 | ERRO MC-NAO(N/S): 67.82539682539684 | ERRO MC-SIM(S/N): 77.9634787991334 | MC-NAO(N/S): [4273 2027] | MC-SIM (S/N): [ 712 2519] | Criterion: gini, | ALVO: HIPERTENSAO\n",
      "Depht: 10 | Split: 1600 | Acurácia: 0.7126219704123387 | ERRO MC-NAO(N/S): 67.82539682539684 | ERRO MC-SIM(S/N): 77.9634787991334 | MC-NAO(N/S): [4273 2027] | MC-SIM (S/N): [ 712 2519] | Criterion: gini, | ALVO: HIPERTENSAO\n",
      "Depht: 10 | Split: 1700 | Acurácia: 0.7126219704123387 | ERRO MC-NAO(N/S): 67.82539682539684 | ERRO MC-SIM(S/N): 77.9634787991334 | MC-NAO(N/S): [4273 2027] | MC-SIM (S/N): [ 712 2519] | Criterion: gini, | ALVO: HIPERTENSAO\n",
      "Depht: 10 | Split: 1800 | Acurácia: 0.7126219704123387 | ERRO MC-NAO(N/S): 67.82539682539684 | ERRO MC-SIM(S/N): 77.9634787991334 | MC-NAO(N/S): [4273 2027] | MC-SIM (S/N): [ 712 2519] | Criterion: gini, | ALVO: HIPERTENSAO\n",
      "Depht: 10 | Split: 1900 | Acurácia: 0.7122022872731089 | ERRO MC-NAO(N/S): 67.73015873015873 | ERRO MC-SIM(S/N): 78.02537913958527 | MC-NAO(N/S): [4267 2033] | MC-SIM (S/N): [ 710 2521] | Criterion: gini, | ALVO: HIPERTENSAO\n",
      "Depht: 10 | Split: 2000 | Acurácia: 0.7128318119819537 | ERRO MC-NAO(N/S): 68.04761904761904 | ERRO MC-SIM(S/N): 77.59207675642216 | MC-NAO(N/S): [4287 2013] | MC-SIM (S/N): [ 724 2507] | Criterion: gini, | ALVO: HIPERTENSAO\n",
      "Depht: 15 | Split: 200 | Acurácia: 0.6942608330710314 | ERRO MC-NAO(N/S): 66.17460317460318 | ERRO MC-SIM(S/N): 75.76601671309191 | MC-NAO(N/S): [4169 2131] | MC-SIM (S/N): [ 783 2448] | Criterion: gini, | ALVO: HIPERTENSAO\n",
      "Depht: 15 | Split: 300 | Acurácia: 0.7054873570454308 | ERRO MC-NAO(N/S): 68.01587301587301 | ERRO MC-SIM(S/N): 75.4874651810585 | MC-NAO(N/S): [4285 2015] | MC-SIM (S/N): [ 792 2439] | Criterion: gini, | ALVO: HIPERTENSAO\n",
      "Depht: 15 | Split: 400 | Acurácia: 0.7116776833490714 | ERRO MC-NAO(N/S): 69.4920634920635 | ERRO MC-SIM(S/N): 74.43515939337667 | MC-NAO(N/S): [4378 1922] | MC-SIM (S/N): [ 826 2405] | Criterion: gini, | ALVO: HIPERTENSAO\n",
      "Depht: 15 | Split: 500 | Acurácia: 0.7144056237540657 | ERRO MC-NAO(N/S): 70.07936507936508 | ERRO MC-SIM(S/N): 74.09470752089138 | MC-NAO(N/S): [4415 1885] | MC-SIM (S/N): [ 837 2394] | Criterion: gini, | ALVO: HIPERTENSAO\n",
      "Depht: 15 | Split: 600 | Acurácia: 0.7050676739062008 | ERRO MC-NAO(N/S): 67.80952380952381 | ERRO MC-SIM(S/N): 75.76601671309191 | MC-NAO(N/S): [4272 2028] | MC-SIM (S/N): [ 783 2448] | Criterion: gini, | ALVO: HIPERTENSAO\n",
      "Depht: 15 | Split: 700 | Acurácia: 0.7043332284125485 | ERRO MC-NAO(N/S): 66.95238095238095 | ERRO MC-SIM(S/N): 77.22067471371093 | MC-NAO(N/S): [4218 2082] | MC-SIM (S/N): [ 736 2495] | Criterion: gini, | ALVO: HIPERTENSAO\n",
      "Depht: 15 | Split: 800 | Acurácia: 0.7043332284125485 | ERRO MC-NAO(N/S): 66.84126984126985 | ERRO MC-SIM(S/N): 77.43732590529248 | MC-NAO(N/S): [4211 2089] | MC-SIM (S/N): [ 729 2502] | Criterion: gini, | ALVO: HIPERTENSAO\n",
      "Depht: 15 | Split: 900 | Acurácia: 0.7052775154758157 | ERRO MC-NAO(N/S): 67.14285714285714 | ERRO MC-SIM(S/N): 77.12782420303311 | MC-NAO(N/S): [4230 2070] | MC-SIM (S/N): [ 739 2492] | Criterion: gini, | ALVO: HIPERTENSAO\n",
      "Depht: 15 | Split: 1000 | Acurácia: 0.7048578323365858 | ERRO MC-NAO(N/S): 67.26984126984127 | ERRO MC-SIM(S/N): 76.75642216032188 | MC-NAO(N/S): [4238 2062] | MC-SIM (S/N): [ 751 2480] | Criterion: gini, | ALVO: HIPERTENSAO\n",
      "Depht: 15 | Split: 1100 | Acurácia: 0.7051725946910082 | ERRO MC-NAO(N/S): 67.0 | ERRO MC-SIM(S/N): 77.37542556484061 | MC-NAO(N/S): [4221 2079] | MC-SIM (S/N): [ 731 2500] | Criterion: gini, | ALVO: HIPERTENSAO\n",
      "Depht: 15 | Split: 1200 | Acurácia: 0.7051725946910082 | ERRO MC-NAO(N/S): 66.96825396825398 | ERRO MC-SIM(S/N): 77.43732590529248 | MC-NAO(N/S): [4219 2081] | MC-SIM (S/N): [ 729 2502] | Criterion: gini, | ALVO: HIPERTENSAO\n",
      "Depht: 15 | Split: 1300 | Acurácia: 0.713356415905991 | ERRO MC-NAO(N/S): 68.39682539682539 | ERRO MC-SIM(S/N): 77.06592386258124 | MC-NAO(N/S): [4309 1991] | MC-SIM (S/N): [ 741 2490] | Criterion: gini, | ALVO: HIPERTENSAO\n",
      "Depht: 15 | Split: 1400 | Acurácia: 0.7129367327667611 | ERRO MC-NAO(N/S): 68.15873015873015 | ERRO MC-SIM(S/N): 77.40637573506655 | MC-NAO(N/S): [4294 2006] | MC-SIM (S/N): [ 730 2501] | Criterion: gini, | ALVO: HIPERTENSAO\n",
      "Depht: 15 | Split: 1500 | Acurácia: 0.7129367327667611 | ERRO MC-NAO(N/S): 68.15873015873015 | ERRO MC-SIM(S/N): 77.40637573506655 | MC-NAO(N/S): [4294 2006] | MC-SIM (S/N): [ 730 2501] | Criterion: gini, | ALVO: HIPERTENSAO\n",
      "Depht: 15 | Split: 1600 | Acurácia: 0.7124121288427238 | ERRO MC-NAO(N/S): 67.85714285714286 | ERRO MC-SIM(S/N): 77.83967811822964 | MC-NAO(N/S): [4275 2025] | MC-SIM (S/N): [ 716 2515] | Criterion: gini, | ALVO: HIPERTENSAO\n",
      "Depht: 15 | Split: 1700 | Acurácia: 0.7124121288427238 | ERRO MC-NAO(N/S): 67.85714285714286 | ERRO MC-SIM(S/N): 77.83967811822964 | MC-NAO(N/S): [4275 2025] | MC-SIM (S/N): [ 716 2515] | Criterion: gini, | ALVO: HIPERTENSAO\n",
      "Depht: 15 | Split: 1800 | Acurácia: 0.7124121288427238 | ERRO MC-NAO(N/S): 67.85714285714286 | ERRO MC-SIM(S/N): 77.83967811822964 | MC-NAO(N/S): [4275 2025] | MC-SIM (S/N): [ 716 2515] | Criterion: gini, | ALVO: HIPERTENSAO\n",
      "Depht: 15 | Split: 1900 | Acurácia: 0.7119924457034938 | ERRO MC-NAO(N/S): 67.76190476190476 | ERRO MC-SIM(S/N): 77.90157845868153 | MC-NAO(N/S): [4269 2031] | MC-SIM (S/N): [ 714 2517] | Criterion: gini, | ALVO: HIPERTENSAO\n",
      "Depht: 15 | Split: 2000 | Acurácia: 0.7126219704123387 | ERRO MC-NAO(N/S): 68.07936507936508 | ERRO MC-SIM(S/N): 77.46827607551842 | MC-NAO(N/S): [4289 2011] | MC-SIM (S/N): [ 728 2503] | Criterion: gini, | ALVO: HIPERTENSAO\n",
      "Depht: 20 | Split: 200 | Acurácia: 0.6905886056027699 | ERRO MC-NAO(N/S): 65.52380952380952 | ERRO MC-SIM(S/N): 75.95171773444754 | MC-NAO(N/S): [4128 2172] | MC-SIM (S/N): [ 777 2454] | Criterion: gini, | ALVO: HIPERTENSAO\n",
      "Depht: 20 | Split: 300 | Acurácia: 0.7020249711467842 | ERRO MC-NAO(N/S): 67.19047619047619 | ERRO MC-SIM(S/N): 76.07551841535128 | MC-NAO(N/S): [4233 2067] | MC-SIM (S/N): [ 773 2458] | Criterion: gini, | ALVO: HIPERTENSAO\n",
      "Depht: 20 | Split: 400 | Acurácia: 0.7103137131465743 | ERRO MC-NAO(N/S): 69.06349206349206 | ERRO MC-SIM(S/N): 74.86846177653976 | MC-NAO(N/S): [4351 1949] | MC-SIM (S/N): [ 812 2419] | Criterion: gini, | ALVO: HIPERTENSAO\n",
      "Depht: 20 | Split: 500 | Acurácia: 0.7138810198300283 | ERRO MC-NAO(N/S): 70.14285714285714 | ERRO MC-SIM(S/N): 73.81615598885794 | MC-NAO(N/S): [4419 1881] | MC-SIM (S/N): [ 846 2385] | Criterion: gini, | ALVO: HIPERTENSAO\n",
      "Depht: 20 | Split: 600 | Acurácia: 0.7045430699821634 | ERRO MC-NAO(N/S): 67.87301587301587 | ERRO MC-SIM(S/N): 75.4874651810585 | MC-NAO(N/S): [4276 2024] | MC-SIM (S/N): [ 792 2439] | Criterion: gini, | ALVO: HIPERTENSAO\n",
      "Depht: 20 | Split: 700 | Acurácia: 0.7040184660581261 | ERRO MC-NAO(N/S): 67.0 | ERRO MC-SIM(S/N): 77.03497369235531 | MC-NAO(N/S): [4221 2079] | MC-SIM (S/N): [ 742 2489] | Criterion: gini, | ALVO: HIPERTENSAO\n",
      "Depht: 20 | Split: 800 | Acurácia: 0.7039135452733186 | ERRO MC-NAO(N/S): 66.85714285714286 | ERRO MC-SIM(S/N): 77.2825750541628 | MC-NAO(N/S): [4212 2088] | MC-SIM (S/N): [ 734 2497] | Criterion: gini, | ALVO: HIPERTENSAO\n",
      "Depht: 20 | Split: 900 | Acurácia: 0.7048578323365858 | ERRO MC-NAO(N/S): 67.15873015873015 | ERRO MC-SIM(S/N): 76.97307335190344 | MC-NAO(N/S): [4231 2069] | MC-SIM (S/N): [ 744 2487] | Criterion: gini, | ALVO: HIPERTENSAO\n",
      "Depht: 20 | Split: 1000 | Acurácia: 0.704438149197356 | ERRO MC-NAO(N/S): 67.28571428571428 | ERRO MC-SIM(S/N): 76.6016713091922 | MC-NAO(N/S): [4239 2061] | MC-SIM (S/N): [ 756 2475] | Criterion: gini, | ALVO: HIPERTENSAO\n",
      "Depht: 20 | Split: 1100 | Acurácia: 0.7051725946910082 | ERRO MC-NAO(N/S): 67.0 | ERRO MC-SIM(S/N): 77.37542556484061 | MC-NAO(N/S): [4221 2079] | MC-SIM (S/N): [ 731 2500] | Criterion: gini, | ALVO: HIPERTENSAO\n",
      "Depht: 20 | Split: 1200 | Acurácia: 0.7051725946910082 | ERRO MC-NAO(N/S): 66.96825396825398 | ERRO MC-SIM(S/N): 77.43732590529248 | MC-NAO(N/S): [4219 2081] | MC-SIM (S/N): [ 729 2502] | Criterion: gini, | ALVO: HIPERTENSAO\n",
      "Depht: 20 | Split: 1300 | Acurácia: 0.713356415905991 | ERRO MC-NAO(N/S): 68.39682539682539 | ERRO MC-SIM(S/N): 77.06592386258124 | MC-NAO(N/S): [4309 1991] | MC-SIM (S/N): [ 741 2490] | Criterion: gini, | ALVO: HIPERTENSAO\n",
      "Depht: 20 | Split: 1400 | Acurácia: 0.7129367327667611 | ERRO MC-NAO(N/S): 68.15873015873015 | ERRO MC-SIM(S/N): 77.40637573506655 | MC-NAO(N/S): [4294 2006] | MC-SIM (S/N): [ 730 2501] | Criterion: gini, | ALVO: HIPERTENSAO\n",
      "Depht: 20 | Split: 1500 | Acurácia: 0.7129367327667611 | ERRO MC-NAO(N/S): 68.15873015873015 | ERRO MC-SIM(S/N): 77.40637573506655 | MC-NAO(N/S): [4294 2006] | MC-SIM (S/N): [ 730 2501] | Criterion: gini, | ALVO: HIPERTENSAO\n",
      "Depht: 20 | Split: 1600 | Acurácia: 0.7124121288427238 | ERRO MC-NAO(N/S): 67.85714285714286 | ERRO MC-SIM(S/N): 77.83967811822964 | MC-NAO(N/S): [4275 2025] | MC-SIM (S/N): [ 716 2515] | Criterion: gini, | ALVO: HIPERTENSAO\n",
      "Depht: 20 | Split: 1700 | Acurácia: 0.7124121288427238 | ERRO MC-NAO(N/S): 67.85714285714286 | ERRO MC-SIM(S/N): 77.83967811822964 | MC-NAO(N/S): [4275 2025] | MC-SIM (S/N): [ 716 2515] | Criterion: gini, | ALVO: HIPERTENSAO\n",
      "Depht: 20 | Split: 1800 | Acurácia: 0.7124121288427238 | ERRO MC-NAO(N/S): 67.85714285714286 | ERRO MC-SIM(S/N): 77.83967811822964 | MC-NAO(N/S): [4275 2025] | MC-SIM (S/N): [ 716 2515] | Criterion: gini, | ALVO: HIPERTENSAO\n",
      "Depht: 20 | Split: 1900 | Acurácia: 0.7119924457034938 | ERRO MC-NAO(N/S): 67.76190476190476 | ERRO MC-SIM(S/N): 77.90157845868153 | MC-NAO(N/S): [4269 2031] | MC-SIM (S/N): [ 714 2517] | Criterion: gini, | ALVO: HIPERTENSAO\n",
      "Depht: 20 | Split: 2000 | Acurácia: 0.7126219704123387 | ERRO MC-NAO(N/S): 68.07936507936508 | ERRO MC-SIM(S/N): 77.46827607551842 | MC-NAO(N/S): [4289 2011] | MC-SIM (S/N): [ 728 2503] | Criterion: gini, | ALVO: HIPERTENSAO\n",
      "Depht: 25 | Split: 200 | Acurácia: 0.6924771797293043 | ERRO MC-NAO(N/S): 66.65079365079364 | ERRO MC-SIM(S/N): 74.31135871247292 | MC-NAO(N/S): [4199 2101] | MC-SIM (S/N): [ 830 2401] | Criterion: gini, | ALVO: HIPERTENSAO\n",
      "Depht: 25 | Split: 300 | Acurácia: 0.7016052880075543 | ERRO MC-NAO(N/S): 67.07936507936508 | ERRO MC-SIM(S/N): 76.16836892602909 | MC-NAO(N/S): [4226 2074] | MC-SIM (S/N): [ 770 2461] | Criterion: gini, | ALVO: HIPERTENSAO\n",
      "Depht: 25 | Split: 400 | Acurácia: 0.7102087923617668 | ERRO MC-NAO(N/S): 69.07936507936508 | ERRO MC-SIM(S/N): 74.80656143608789 | MC-NAO(N/S): [4352 1948] | MC-SIM (S/N): [ 814 2417] | Criterion: gini, | ALVO: HIPERTENSAO\n",
      "Depht: 25 | Split: 500 | Acurácia: 0.7139859406148358 | ERRO MC-NAO(N/S): 70.17460317460318 | ERRO MC-SIM(S/N): 73.78520581863201 | MC-NAO(N/S): [4421 1879] | MC-SIM (S/N): [ 847 2384] | Criterion: gini, | ALVO: HIPERTENSAO\n",
      "Depht: 25 | Split: 600 | Acurácia: 0.7046479907669709 | ERRO MC-NAO(N/S): 67.9047619047619 | ERRO MC-SIM(S/N): 75.45651501083256 | MC-NAO(N/S): [4278 2022] | MC-SIM (S/N): [ 793 2438] | Criterion: gini, | ALVO: HIPERTENSAO\n",
      "Depht: 25 | Split: 700 | Acurácia: 0.7041233868429336 | ERRO MC-NAO(N/S): 67.0 | ERRO MC-SIM(S/N): 77.06592386258124 | MC-NAO(N/S): [4221 2079] | MC-SIM (S/N): [ 741 2490] | Criterion: gini, | ALVO: HIPERTENSAO\n",
      "Depht: 25 | Split: 800 | Acurácia: 0.7039135452733186 | ERRO MC-NAO(N/S): 66.85714285714286 | ERRO MC-SIM(S/N): 77.2825750541628 | MC-NAO(N/S): [4212 2088] | MC-SIM (S/N): [ 734 2497] | Criterion: gini, | ALVO: HIPERTENSAO\n",
      "Depht: 25 | Split: 900 | Acurácia: 0.7048578323365858 | ERRO MC-NAO(N/S): 67.15873015873015 | ERRO MC-SIM(S/N): 76.97307335190344 | MC-NAO(N/S): [4231 2069] | MC-SIM (S/N): [ 744 2487] | Criterion: gini, | ALVO: HIPERTENSAO\n",
      "Depht: 25 | Split: 1000 | Acurácia: 0.704438149197356 | ERRO MC-NAO(N/S): 67.28571428571428 | ERRO MC-SIM(S/N): 76.6016713091922 | MC-NAO(N/S): [4239 2061] | MC-SIM (S/N): [ 756 2475] | Criterion: gini, | ALVO: HIPERTENSAO\n",
      "Depht: 25 | Split: 1100 | Acurácia: 0.7051725946910082 | ERRO MC-NAO(N/S): 67.0 | ERRO MC-SIM(S/N): 77.37542556484061 | MC-NAO(N/S): [4221 2079] | MC-SIM (S/N): [ 731 2500] | Criterion: gini, | ALVO: HIPERTENSAO\n",
      "Depht: 25 | Split: 1200 | Acurácia: 0.7051725946910082 | ERRO MC-NAO(N/S): 66.96825396825398 | ERRO MC-SIM(S/N): 77.43732590529248 | MC-NAO(N/S): [4219 2081] | MC-SIM (S/N): [ 729 2502] | Criterion: gini, | ALVO: HIPERTENSAO\n",
      "Depht: 25 | Split: 1300 | Acurácia: 0.713356415905991 | ERRO MC-NAO(N/S): 68.39682539682539 | ERRO MC-SIM(S/N): 77.06592386258124 | MC-NAO(N/S): [4309 1991] | MC-SIM (S/N): [ 741 2490] | Criterion: gini, | ALVO: HIPERTENSAO\n",
      "Depht: 25 | Split: 1400 | Acurácia: 0.7129367327667611 | ERRO MC-NAO(N/S): 68.15873015873015 | ERRO MC-SIM(S/N): 77.40637573506655 | MC-NAO(N/S): [4294 2006] | MC-SIM (S/N): [ 730 2501] | Criterion: gini, | ALVO: HIPERTENSAO\n",
      "Depht: 25 | Split: 1500 | Acurácia: 0.7129367327667611 | ERRO MC-NAO(N/S): 68.15873015873015 | ERRO MC-SIM(S/N): 77.40637573506655 | MC-NAO(N/S): [4294 2006] | MC-SIM (S/N): [ 730 2501] | Criterion: gini, | ALVO: HIPERTENSAO\n",
      "Depht: 25 | Split: 1600 | Acurácia: 0.7124121288427238 | ERRO MC-NAO(N/S): 67.85714285714286 | ERRO MC-SIM(S/N): 77.83967811822964 | MC-NAO(N/S): [4275 2025] | MC-SIM (S/N): [ 716 2515] | Criterion: gini, | ALVO: HIPERTENSAO\n",
      "Depht: 25 | Split: 1700 | Acurácia: 0.7124121288427238 | ERRO MC-NAO(N/S): 67.85714285714286 | ERRO MC-SIM(S/N): 77.83967811822964 | MC-NAO(N/S): [4275 2025] | MC-SIM (S/N): [ 716 2515] | Criterion: gini, | ALVO: HIPERTENSAO\n",
      "Depht: 25 | Split: 1800 | Acurácia: 0.7124121288427238 | ERRO MC-NAO(N/S): 67.85714285714286 | ERRO MC-SIM(S/N): 77.83967811822964 | MC-NAO(N/S): [4275 2025] | MC-SIM (S/N): [ 716 2515] | Criterion: gini, | ALVO: HIPERTENSAO\n",
      "Depht: 25 | Split: 1900 | Acurácia: 0.7119924457034938 | ERRO MC-NAO(N/S): 67.76190476190476 | ERRO MC-SIM(S/N): 77.90157845868153 | MC-NAO(N/S): [4269 2031] | MC-SIM (S/N): [ 714 2517] | Criterion: gini, | ALVO: HIPERTENSAO\n",
      "Depht: 25 | Split: 2000 | Acurácia: 0.7126219704123387 | ERRO MC-NAO(N/S): 68.07936507936508 | ERRO MC-SIM(S/N): 77.46827607551842 | MC-NAO(N/S): [4289 2011] | MC-SIM (S/N): [ 728 2503] | Criterion: gini, | ALVO: HIPERTENSAO\n",
      "Depht: 30 | Split: 200 | Acurácia: 0.6918476550204595 | ERRO MC-NAO(N/S): 66.73015873015873 | ERRO MC-SIM(S/N): 73.97090683998762 | MC-NAO(N/S): [4204 2096] | MC-SIM (S/N): [ 841 2390] | Criterion: gini, | ALVO: HIPERTENSAO\n",
      "Depht: 30 | Split: 300 | Acurácia: 0.7011856048683244 | ERRO MC-NAO(N/S): 67.12698412698413 | ERRO MC-SIM(S/N): 75.95171773444754 | MC-NAO(N/S): [4229 2071] | MC-SIM (S/N): [ 777 2454] | Criterion: gini, | ALVO: HIPERTENSAO\n",
      "Depht: 30 | Split: 400 | Acurácia: 0.7104186339313818 | ERRO MC-NAO(N/S): 69.11111111111111 | ERRO MC-SIM(S/N): 74.80656143608789 | MC-NAO(N/S): [4354 1946] | MC-SIM (S/N): [ 814 2417] | Criterion: gini, | ALVO: HIPERTENSAO\n",
      "Depht: 30 | Split: 500 | Acurácia: 0.7138810198300283 | ERRO MC-NAO(N/S): 70.19047619047619 | ERRO MC-SIM(S/N): 73.72330547818012 | MC-NAO(N/S): [4422 1878] | MC-SIM (S/N): [ 849 2382] | Criterion: gini, | ALVO: HIPERTENSAO\n",
      "Depht: 30 | Split: 600 | Acurácia: 0.7046479907669709 | ERRO MC-NAO(N/S): 67.9047619047619 | ERRO MC-SIM(S/N): 75.45651501083256 | MC-NAO(N/S): [4278 2022] | MC-SIM (S/N): [ 793 2438] | Criterion: gini, | ALVO: HIPERTENSAO\n",
      "Depht: 30 | Split: 700 | Acurácia: 0.7040184660581261 | ERRO MC-NAO(N/S): 67.0 | ERRO MC-SIM(S/N): 77.03497369235531 | MC-NAO(N/S): [4221 2079] | MC-SIM (S/N): [ 742 2489] | Criterion: gini, | ALVO: HIPERTENSAO\n",
      "Depht: 30 | Split: 800 | Acurácia: 0.7039135452733186 | ERRO MC-NAO(N/S): 66.85714285714286 | ERRO MC-SIM(S/N): 77.2825750541628 | MC-NAO(N/S): [4212 2088] | MC-SIM (S/N): [ 734 2497] | Criterion: gini, | ALVO: HIPERTENSAO\n",
      "Depht: 30 | Split: 900 | Acurácia: 0.7048578323365858 | ERRO MC-NAO(N/S): 67.15873015873015 | ERRO MC-SIM(S/N): 76.97307335190344 | MC-NAO(N/S): [4231 2069] | MC-SIM (S/N): [ 744 2487] | Criterion: gini, | ALVO: HIPERTENSAO\n",
      "Depht: 30 | Split: 1000 | Acurácia: 0.704438149197356 | ERRO MC-NAO(N/S): 67.28571428571428 | ERRO MC-SIM(S/N): 76.6016713091922 | MC-NAO(N/S): [4239 2061] | MC-SIM (S/N): [ 756 2475] | Criterion: gini, | ALVO: HIPERTENSAO\n",
      "Depht: 30 | Split: 1100 | Acurácia: 0.7051725946910082 | ERRO MC-NAO(N/S): 67.0 | ERRO MC-SIM(S/N): 77.37542556484061 | MC-NAO(N/S): [4221 2079] | MC-SIM (S/N): [ 731 2500] | Criterion: gini, | ALVO: HIPERTENSAO\n",
      "Depht: 30 | Split: 1200 | Acurácia: 0.7051725946910082 | ERRO MC-NAO(N/S): 66.96825396825398 | ERRO MC-SIM(S/N): 77.43732590529248 | MC-NAO(N/S): [4219 2081] | MC-SIM (S/N): [ 729 2502] | Criterion: gini, | ALVO: HIPERTENSAO\n",
      "Depht: 30 | Split: 1300 | Acurácia: 0.713356415905991 | ERRO MC-NAO(N/S): 68.39682539682539 | ERRO MC-SIM(S/N): 77.06592386258124 | MC-NAO(N/S): [4309 1991] | MC-SIM (S/N): [ 741 2490] | Criterion: gini, | ALVO: HIPERTENSAO\n",
      "Depht: 30 | Split: 1400 | Acurácia: 0.7129367327667611 | ERRO MC-NAO(N/S): 68.15873015873015 | ERRO MC-SIM(S/N): 77.40637573506655 | MC-NAO(N/S): [4294 2006] | MC-SIM (S/N): [ 730 2501] | Criterion: gini, | ALVO: HIPERTENSAO\n",
      "Depht: 30 | Split: 1500 | Acurácia: 0.7129367327667611 | ERRO MC-NAO(N/S): 68.15873015873015 | ERRO MC-SIM(S/N): 77.40637573506655 | MC-NAO(N/S): [4294 2006] | MC-SIM (S/N): [ 730 2501] | Criterion: gini, | ALVO: HIPERTENSAO\n",
      "Depht: 30 | Split: 1600 | Acurácia: 0.7124121288427238 | ERRO MC-NAO(N/S): 67.85714285714286 | ERRO MC-SIM(S/N): 77.83967811822964 | MC-NAO(N/S): [4275 2025] | MC-SIM (S/N): [ 716 2515] | Criterion: gini, | ALVO: HIPERTENSAO\n",
      "Depht: 30 | Split: 1700 | Acurácia: 0.7124121288427238 | ERRO MC-NAO(N/S): 67.85714285714286 | ERRO MC-SIM(S/N): 77.83967811822964 | MC-NAO(N/S): [4275 2025] | MC-SIM (S/N): [ 716 2515] | Criterion: gini, | ALVO: HIPERTENSAO\n",
      "Depht: 30 | Split: 1800 | Acurácia: 0.7124121288427238 | ERRO MC-NAO(N/S): 67.85714285714286 | ERRO MC-SIM(S/N): 77.83967811822964 | MC-NAO(N/S): [4275 2025] | MC-SIM (S/N): [ 716 2515] | Criterion: gini, | ALVO: HIPERTENSAO\n",
      "Depht: 30 | Split: 1900 | Acurácia: 0.7119924457034938 | ERRO MC-NAO(N/S): 67.76190476190476 | ERRO MC-SIM(S/N): 77.90157845868153 | MC-NAO(N/S): [4269 2031] | MC-SIM (S/N): [ 714 2517] | Criterion: gini, | ALVO: HIPERTENSAO\n",
      "Depht: 30 | Split: 2000 | Acurácia: 0.7126219704123387 | ERRO MC-NAO(N/S): 68.07936507936508 | ERRO MC-SIM(S/N): 77.46827607551842 | MC-NAO(N/S): [4289 2011] | MC-SIM (S/N): [ 728 2503] | Criterion: gini, | ALVO: HIPERTENSAO\n",
      "Depht: 35 | Split: 200 | Acurácia: 0.6920574965900745 | ERRO MC-NAO(N/S): 66.73015873015873 | ERRO MC-SIM(S/N): 74.03280718043949 | MC-NAO(N/S): [4204 2096] | MC-SIM (S/N): [ 839 2392] | Criterion: gini, | ALVO: HIPERTENSAO\n",
      "Depht: 35 | Split: 300 | Acurácia: 0.7013954464379394 | ERRO MC-NAO(N/S): 67.12698412698413 | ERRO MC-SIM(S/N): 76.01361807489941 | MC-NAO(N/S): [4229 2071] | MC-SIM (S/N): [ 775 2456] | Criterion: gini, | ALVO: HIPERTENSAO\n",
      "Depht: 35 | Split: 400 | Acurácia: 0.7104186339313818 | ERRO MC-NAO(N/S): 69.11111111111111 | ERRO MC-SIM(S/N): 74.80656143608789 | MC-NAO(N/S): [4354 1946] | MC-SIM (S/N): [ 814 2417] | Criterion: gini, | ALVO: HIPERTENSAO\n",
      "Depht: 35 | Split: 500 | Acurácia: 0.7138810198300283 | ERRO MC-NAO(N/S): 70.19047619047619 | ERRO MC-SIM(S/N): 73.72330547818012 | MC-NAO(N/S): [4422 1878] | MC-SIM (S/N): [ 849 2382] | Criterion: gini, | ALVO: HIPERTENSAO\n",
      "Depht: 35 | Split: 600 | Acurácia: 0.7046479907669709 | ERRO MC-NAO(N/S): 67.9047619047619 | ERRO MC-SIM(S/N): 75.45651501083256 | MC-NAO(N/S): [4278 2022] | MC-SIM (S/N): [ 793 2438] | Criterion: gini, | ALVO: HIPERTENSAO\n",
      "Depht: 35 | Split: 700 | Acurácia: 0.7041233868429336 | ERRO MC-NAO(N/S): 67.0 | ERRO MC-SIM(S/N): 77.06592386258124 | MC-NAO(N/S): [4221 2079] | MC-SIM (S/N): [ 741 2490] | Criterion: gini, | ALVO: HIPERTENSAO\n",
      "Depht: 35 | Split: 800 | Acurácia: 0.7039135452733186 | ERRO MC-NAO(N/S): 66.85714285714286 | ERRO MC-SIM(S/N): 77.2825750541628 | MC-NAO(N/S): [4212 2088] | MC-SIM (S/N): [ 734 2497] | Criterion: gini, | ALVO: HIPERTENSAO\n",
      "Depht: 35 | Split: 900 | Acurácia: 0.7048578323365858 | ERRO MC-NAO(N/S): 67.15873015873015 | ERRO MC-SIM(S/N): 76.97307335190344 | MC-NAO(N/S): [4231 2069] | MC-SIM (S/N): [ 744 2487] | Criterion: gini, | ALVO: HIPERTENSAO\n",
      "Depht: 35 | Split: 1000 | Acurácia: 0.704438149197356 | ERRO MC-NAO(N/S): 67.28571428571428 | ERRO MC-SIM(S/N): 76.6016713091922 | MC-NAO(N/S): [4239 2061] | MC-SIM (S/N): [ 756 2475] | Criterion: gini, | ALVO: HIPERTENSAO\n",
      "Depht: 35 | Split: 1100 | Acurácia: 0.7051725946910082 | ERRO MC-NAO(N/S): 67.0 | ERRO MC-SIM(S/N): 77.37542556484061 | MC-NAO(N/S): [4221 2079] | MC-SIM (S/N): [ 731 2500] | Criterion: gini, | ALVO: HIPERTENSAO\n",
      "Depht: 35 | Split: 1200 | Acurácia: 0.7051725946910082 | ERRO MC-NAO(N/S): 66.96825396825398 | ERRO MC-SIM(S/N): 77.43732590529248 | MC-NAO(N/S): [4219 2081] | MC-SIM (S/N): [ 729 2502] | Criterion: gini, | ALVO: HIPERTENSAO\n",
      "Depht: 35 | Split: 1300 | Acurácia: 0.713356415905991 | ERRO MC-NAO(N/S): 68.39682539682539 | ERRO MC-SIM(S/N): 77.06592386258124 | MC-NAO(N/S): [4309 1991] | MC-SIM (S/N): [ 741 2490] | Criterion: gini, | ALVO: HIPERTENSAO\n",
      "Depht: 35 | Split: 1400 | Acurácia: 0.7129367327667611 | ERRO MC-NAO(N/S): 68.15873015873015 | ERRO MC-SIM(S/N): 77.40637573506655 | MC-NAO(N/S): [4294 2006] | MC-SIM (S/N): [ 730 2501] | Criterion: gini, | ALVO: HIPERTENSAO\n",
      "Depht: 35 | Split: 1500 | Acurácia: 0.7129367327667611 | ERRO MC-NAO(N/S): 68.15873015873015 | ERRO MC-SIM(S/N): 77.40637573506655 | MC-NAO(N/S): [4294 2006] | MC-SIM (S/N): [ 730 2501] | Criterion: gini, | ALVO: HIPERTENSAO\n",
      "Depht: 35 | Split: 1600 | Acurácia: 0.7124121288427238 | ERRO MC-NAO(N/S): 67.85714285714286 | ERRO MC-SIM(S/N): 77.83967811822964 | MC-NAO(N/S): [4275 2025] | MC-SIM (S/N): [ 716 2515] | Criterion: gini, | ALVO: HIPERTENSAO\n",
      "Depht: 35 | Split: 1700 | Acurácia: 0.7124121288427238 | ERRO MC-NAO(N/S): 67.85714285714286 | ERRO MC-SIM(S/N): 77.83967811822964 | MC-NAO(N/S): [4275 2025] | MC-SIM (S/N): [ 716 2515] | Criterion: gini, | ALVO: HIPERTENSAO\n",
      "Depht: 35 | Split: 1800 | Acurácia: 0.7124121288427238 | ERRO MC-NAO(N/S): 67.85714285714286 | ERRO MC-SIM(S/N): 77.83967811822964 | MC-NAO(N/S): [4275 2025] | MC-SIM (S/N): [ 716 2515] | Criterion: gini, | ALVO: HIPERTENSAO\n",
      "Depht: 35 | Split: 1900 | Acurácia: 0.7119924457034938 | ERRO MC-NAO(N/S): 67.76190476190476 | ERRO MC-SIM(S/N): 77.90157845868153 | MC-NAO(N/S): [4269 2031] | MC-SIM (S/N): [ 714 2517] | Criterion: gini, | ALVO: HIPERTENSAO\n",
      "Depht: 35 | Split: 2000 | Acurácia: 0.7126219704123387 | ERRO MC-NAO(N/S): 68.07936507936508 | ERRO MC-SIM(S/N): 77.46827607551842 | MC-NAO(N/S): [4289 2011] | MC-SIM (S/N): [ 728 2503] | Criterion: gini, | ALVO: HIPERTENSAO\n",
      "Depht: 40 | Split: 200 | Acurácia: 0.6915328926660371 | ERRO MC-NAO(N/S): 66.6984126984127 | ERRO MC-SIM(S/N): 73.93995666976168 | MC-NAO(N/S): [4202 2098] | MC-SIM (S/N): [ 842 2389] | Criterion: gini, | ALVO: HIPERTENSAO\n",
      "Depht: 40 | Split: 300 | Acurácia: 0.7013954464379394 | ERRO MC-NAO(N/S): 67.12698412698413 | ERRO MC-SIM(S/N): 76.01361807489941 | MC-NAO(N/S): [4229 2071] | MC-SIM (S/N): [ 775 2456] | Criterion: gini, | ALVO: HIPERTENSAO\n",
      "Depht: 40 | Split: 400 | Acurácia: 0.7104186339313818 | ERRO MC-NAO(N/S): 69.11111111111111 | ERRO MC-SIM(S/N): 74.80656143608789 | MC-NAO(N/S): [4354 1946] | MC-SIM (S/N): [ 814 2417] | Criterion: gini, | ALVO: HIPERTENSAO\n",
      "Depht: 40 | Split: 500 | Acurácia: 0.7139859406148358 | ERRO MC-NAO(N/S): 70.19047619047619 | ERRO MC-SIM(S/N): 73.75425564840606 | MC-NAO(N/S): [4422 1878] | MC-SIM (S/N): [ 848 2383] | Criterion: gini, | ALVO: HIPERTENSAO\n",
      "Depht: 40 | Split: 600 | Acurácia: 0.7046479907669709 | ERRO MC-NAO(N/S): 67.9047619047619 | ERRO MC-SIM(S/N): 75.45651501083256 | MC-NAO(N/S): [4278 2022] | MC-SIM (S/N): [ 793 2438] | Criterion: gini, | ALVO: HIPERTENSAO\n",
      "Depht: 40 | Split: 700 | Acurácia: 0.7040184660581261 | ERRO MC-NAO(N/S): 67.0 | ERRO MC-SIM(S/N): 77.03497369235531 | MC-NAO(N/S): [4221 2079] | MC-SIM (S/N): [ 742 2489] | Criterion: gini, | ALVO: HIPERTENSAO\n",
      "Depht: 40 | Split: 800 | Acurácia: 0.7039135452733186 | ERRO MC-NAO(N/S): 66.85714285714286 | ERRO MC-SIM(S/N): 77.2825750541628 | MC-NAO(N/S): [4212 2088] | MC-SIM (S/N): [ 734 2497] | Criterion: gini, | ALVO: HIPERTENSAO\n",
      "Depht: 40 | Split: 900 | Acurácia: 0.7048578323365858 | ERRO MC-NAO(N/S): 67.15873015873015 | ERRO MC-SIM(S/N): 76.97307335190344 | MC-NAO(N/S): [4231 2069] | MC-SIM (S/N): [ 744 2487] | Criterion: gini, | ALVO: HIPERTENSAO\n",
      "Depht: 40 | Split: 1000 | Acurácia: 0.704438149197356 | ERRO MC-NAO(N/S): 67.28571428571428 | ERRO MC-SIM(S/N): 76.6016713091922 | MC-NAO(N/S): [4239 2061] | MC-SIM (S/N): [ 756 2475] | Criterion: gini, | ALVO: HIPERTENSAO\n",
      "Depht: 40 | Split: 1100 | Acurácia: 0.7051725946910082 | ERRO MC-NAO(N/S): 67.0 | ERRO MC-SIM(S/N): 77.37542556484061 | MC-NAO(N/S): [4221 2079] | MC-SIM (S/N): [ 731 2500] | Criterion: gini, | ALVO: HIPERTENSAO\n",
      "Depht: 40 | Split: 1200 | Acurácia: 0.7051725946910082 | ERRO MC-NAO(N/S): 66.96825396825398 | ERRO MC-SIM(S/N): 77.43732590529248 | MC-NAO(N/S): [4219 2081] | MC-SIM (S/N): [ 729 2502] | Criterion: gini, | ALVO: HIPERTENSAO\n",
      "Depht: 40 | Split: 1300 | Acurácia: 0.713356415905991 | ERRO MC-NAO(N/S): 68.39682539682539 | ERRO MC-SIM(S/N): 77.06592386258124 | MC-NAO(N/S): [4309 1991] | MC-SIM (S/N): [ 741 2490] | Criterion: gini, | ALVO: HIPERTENSAO\n",
      "Depht: 40 | Split: 1400 | Acurácia: 0.7129367327667611 | ERRO MC-NAO(N/S): 68.15873015873015 | ERRO MC-SIM(S/N): 77.40637573506655 | MC-NAO(N/S): [4294 2006] | MC-SIM (S/N): [ 730 2501] | Criterion: gini, | ALVO: HIPERTENSAO\n",
      "Depht: 40 | Split: 1500 | Acurácia: 0.7129367327667611 | ERRO MC-NAO(N/S): 68.15873015873015 | ERRO MC-SIM(S/N): 77.40637573506655 | MC-NAO(N/S): [4294 2006] | MC-SIM (S/N): [ 730 2501] | Criterion: gini, | ALVO: HIPERTENSAO\n",
      "Depht: 40 | Split: 1600 | Acurácia: 0.7124121288427238 | ERRO MC-NAO(N/S): 67.85714285714286 | ERRO MC-SIM(S/N): 77.83967811822964 | MC-NAO(N/S): [4275 2025] | MC-SIM (S/N): [ 716 2515] | Criterion: gini, | ALVO: HIPERTENSAO\n",
      "Depht: 40 | Split: 1700 | Acurácia: 0.7124121288427238 | ERRO MC-NAO(N/S): 67.85714285714286 | ERRO MC-SIM(S/N): 77.83967811822964 | MC-NAO(N/S): [4275 2025] | MC-SIM (S/N): [ 716 2515] | Criterion: gini, | ALVO: HIPERTENSAO\n",
      "Depht: 40 | Split: 1800 | Acurácia: 0.7124121288427238 | ERRO MC-NAO(N/S): 67.85714285714286 | ERRO MC-SIM(S/N): 77.83967811822964 | MC-NAO(N/S): [4275 2025] | MC-SIM (S/N): [ 716 2515] | Criterion: gini, | ALVO: HIPERTENSAO\n",
      "Depht: 40 | Split: 1900 | Acurácia: 0.7119924457034938 | ERRO MC-NAO(N/S): 67.76190476190476 | ERRO MC-SIM(S/N): 77.90157845868153 | MC-NAO(N/S): [4269 2031] | MC-SIM (S/N): [ 714 2517] | Criterion: gini, | ALVO: HIPERTENSAO\n",
      "Depht: 40 | Split: 2000 | Acurácia: 0.7126219704123387 | ERRO MC-NAO(N/S): 68.07936507936508 | ERRO MC-SIM(S/N): 77.46827607551842 | MC-NAO(N/S): [4289 2011] | MC-SIM (S/N): [ 728 2503] | Criterion: gini, | ALVO: HIPERTENSAO\n",
      "Depht: 45 | Split: 200 | Acurácia: 0.6921624173748819 | ERRO MC-NAO(N/S): 66.73015873015873 | ERRO MC-SIM(S/N): 74.06375735066543 | MC-NAO(N/S): [4204 2096] | MC-SIM (S/N): [ 838 2393] | Criterion: gini, | ALVO: HIPERTENSAO\n",
      "Depht: 45 | Split: 300 | Acurácia: 0.7011856048683244 | ERRO MC-NAO(N/S): 67.12698412698413 | ERRO MC-SIM(S/N): 75.95171773444754 | MC-NAO(N/S): [4229 2071] | MC-SIM (S/N): [ 777 2454] | Criterion: gini, | ALVO: HIPERTENSAO\n",
      "Depht: 45 | Split: 400 | Acurácia: 0.7103137131465743 | ERRO MC-NAO(N/S): 69.09523809523809 | ERRO MC-SIM(S/N): 74.80656143608789 | MC-NAO(N/S): [4353 1947] | MC-SIM (S/N): [ 814 2417] | Criterion: gini, | ALVO: HIPERTENSAO\n",
      "Depht: 45 | Split: 500 | Acurácia: 0.7139859406148358 | ERRO MC-NAO(N/S): 70.19047619047619 | ERRO MC-SIM(S/N): 73.75425564840606 | MC-NAO(N/S): [4422 1878] | MC-SIM (S/N): [ 848 2383] | Criterion: gini, | ALVO: HIPERTENSAO\n",
      "Depht: 45 | Split: 600 | Acurácia: 0.7046479907669709 | ERRO MC-NAO(N/S): 67.9047619047619 | ERRO MC-SIM(S/N): 75.45651501083256 | MC-NAO(N/S): [4278 2022] | MC-SIM (S/N): [ 793 2438] | Criterion: gini, | ALVO: HIPERTENSAO\n",
      "Depht: 45 | Split: 700 | Acurácia: 0.7041233868429336 | ERRO MC-NAO(N/S): 67.0 | ERRO MC-SIM(S/N): 77.06592386258124 | MC-NAO(N/S): [4221 2079] | MC-SIM (S/N): [ 741 2490] | Criterion: gini, | ALVO: HIPERTENSAO\n",
      "Depht: 45 | Split: 800 | Acurácia: 0.7039135452733186 | ERRO MC-NAO(N/S): 66.85714285714286 | ERRO MC-SIM(S/N): 77.2825750541628 | MC-NAO(N/S): [4212 2088] | MC-SIM (S/N): [ 734 2497] | Criterion: gini, | ALVO: HIPERTENSAO\n",
      "Depht: 45 | Split: 900 | Acurácia: 0.7048578323365858 | ERRO MC-NAO(N/S): 67.15873015873015 | ERRO MC-SIM(S/N): 76.97307335190344 | MC-NAO(N/S): [4231 2069] | MC-SIM (S/N): [ 744 2487] | Criterion: gini, | ALVO: HIPERTENSAO\n",
      "Depht: 45 | Split: 1000 | Acurácia: 0.704438149197356 | ERRO MC-NAO(N/S): 67.28571428571428 | ERRO MC-SIM(S/N): 76.6016713091922 | MC-NAO(N/S): [4239 2061] | MC-SIM (S/N): [ 756 2475] | Criterion: gini, | ALVO: HIPERTENSAO\n",
      "Depht: 45 | Split: 1100 | Acurácia: 0.7051725946910082 | ERRO MC-NAO(N/S): 67.0 | ERRO MC-SIM(S/N): 77.37542556484061 | MC-NAO(N/S): [4221 2079] | MC-SIM (S/N): [ 731 2500] | Criterion: gini, | ALVO: HIPERTENSAO\n",
      "Depht: 45 | Split: 1200 | Acurácia: 0.7051725946910082 | ERRO MC-NAO(N/S): 66.96825396825398 | ERRO MC-SIM(S/N): 77.43732590529248 | MC-NAO(N/S): [4219 2081] | MC-SIM (S/N): [ 729 2502] | Criterion: gini, | ALVO: HIPERTENSAO\n",
      "Depht: 45 | Split: 1300 | Acurácia: 0.713356415905991 | ERRO MC-NAO(N/S): 68.39682539682539 | ERRO MC-SIM(S/N): 77.06592386258124 | MC-NAO(N/S): [4309 1991] | MC-SIM (S/N): [ 741 2490] | Criterion: gini, | ALVO: HIPERTENSAO\n",
      "Depht: 45 | Split: 1400 | Acurácia: 0.7129367327667611 | ERRO MC-NAO(N/S): 68.15873015873015 | ERRO MC-SIM(S/N): 77.40637573506655 | MC-NAO(N/S): [4294 2006] | MC-SIM (S/N): [ 730 2501] | Criterion: gini, | ALVO: HIPERTENSAO\n",
      "Depht: 45 | Split: 1500 | Acurácia: 0.7129367327667611 | ERRO MC-NAO(N/S): 68.15873015873015 | ERRO MC-SIM(S/N): 77.40637573506655 | MC-NAO(N/S): [4294 2006] | MC-SIM (S/N): [ 730 2501] | Criterion: gini, | ALVO: HIPERTENSAO\n",
      "Depht: 45 | Split: 1600 | Acurácia: 0.7124121288427238 | ERRO MC-NAO(N/S): 67.85714285714286 | ERRO MC-SIM(S/N): 77.83967811822964 | MC-NAO(N/S): [4275 2025] | MC-SIM (S/N): [ 716 2515] | Criterion: gini, | ALVO: HIPERTENSAO\n",
      "Depht: 45 | Split: 1700 | Acurácia: 0.7124121288427238 | ERRO MC-NAO(N/S): 67.85714285714286 | ERRO MC-SIM(S/N): 77.83967811822964 | MC-NAO(N/S): [4275 2025] | MC-SIM (S/N): [ 716 2515] | Criterion: gini, | ALVO: HIPERTENSAO\n",
      "Depht: 45 | Split: 1800 | Acurácia: 0.7124121288427238 | ERRO MC-NAO(N/S): 67.85714285714286 | ERRO MC-SIM(S/N): 77.83967811822964 | MC-NAO(N/S): [4275 2025] | MC-SIM (S/N): [ 716 2515] | Criterion: gini, | ALVO: HIPERTENSAO\n",
      "Depht: 45 | Split: 1900 | Acurácia: 0.7119924457034938 | ERRO MC-NAO(N/S): 67.76190476190476 | ERRO MC-SIM(S/N): 77.90157845868153 | MC-NAO(N/S): [4269 2031] | MC-SIM (S/N): [ 714 2517] | Criterion: gini, | ALVO: HIPERTENSAO\n",
      "Depht: 45 | Split: 2000 | Acurácia: 0.7126219704123387 | ERRO MC-NAO(N/S): 68.07936507936508 | ERRO MC-SIM(S/N): 77.46827607551842 | MC-NAO(N/S): [4289 2011] | MC-SIM (S/N): [ 728 2503] | Criterion: gini, | ALVO: HIPERTENSAO\n",
      "Depht: 50 | Split: 200 | Acurácia: 0.6915328926660371 | ERRO MC-NAO(N/S): 66.71428571428572 | ERRO MC-SIM(S/N): 73.90900649953575 | MC-NAO(N/S): [4203 2097] | MC-SIM (S/N): [ 843 2388] | Criterion: gini, | ALVO: HIPERTENSAO\n",
      "Depht: 50 | Split: 300 | Acurácia: 0.7011856048683244 | ERRO MC-NAO(N/S): 67.12698412698413 | ERRO MC-SIM(S/N): 75.95171773444754 | MC-NAO(N/S): [4229 2071] | MC-SIM (S/N): [ 777 2454] | Criterion: gini, | ALVO: HIPERTENSAO\n",
      "Depht: 50 | Split: 400 | Acurácia: 0.7101038715769594 | ERRO MC-NAO(N/S): 69.09523809523809 | ERRO MC-SIM(S/N): 74.74466109563603 | MC-NAO(N/S): [4353 1947] | MC-SIM (S/N): [ 816 2415] | Criterion: gini, | ALVO: HIPERTENSAO\n",
      "Depht: 50 | Split: 500 | Acurácia: 0.7139859406148358 | ERRO MC-NAO(N/S): 70.19047619047619 | ERRO MC-SIM(S/N): 73.75425564840606 | MC-NAO(N/S): [4422 1878] | MC-SIM (S/N): [ 848 2383] | Criterion: gini, | ALVO: HIPERTENSAO\n",
      "Depht: 50 | Split: 600 | Acurácia: 0.7046479907669709 | ERRO MC-NAO(N/S): 67.9047619047619 | ERRO MC-SIM(S/N): 75.45651501083256 | MC-NAO(N/S): [4278 2022] | MC-SIM (S/N): [ 793 2438] | Criterion: gini, | ALVO: HIPERTENSAO\n",
      "Depht: 50 | Split: 700 | Acurácia: 0.7040184660581261 | ERRO MC-NAO(N/S): 67.0 | ERRO MC-SIM(S/N): 77.03497369235531 | MC-NAO(N/S): [4221 2079] | MC-SIM (S/N): [ 742 2489] | Criterion: gini, | ALVO: HIPERTENSAO\n",
      "Depht: 50 | Split: 800 | Acurácia: 0.7039135452733186 | ERRO MC-NAO(N/S): 66.85714285714286 | ERRO MC-SIM(S/N): 77.2825750541628 | MC-NAO(N/S): [4212 2088] | MC-SIM (S/N): [ 734 2497] | Criterion: gini, | ALVO: HIPERTENSAO\n",
      "Depht: 50 | Split: 900 | Acurácia: 0.7048578323365858 | ERRO MC-NAO(N/S): 67.15873015873015 | ERRO MC-SIM(S/N): 76.97307335190344 | MC-NAO(N/S): [4231 2069] | MC-SIM (S/N): [ 744 2487] | Criterion: gini, | ALVO: HIPERTENSAO\n",
      "Depht: 50 | Split: 1000 | Acurácia: 0.704438149197356 | ERRO MC-NAO(N/S): 67.28571428571428 | ERRO MC-SIM(S/N): 76.6016713091922 | MC-NAO(N/S): [4239 2061] | MC-SIM (S/N): [ 756 2475] | Criterion: gini, | ALVO: HIPERTENSAO\n",
      "Depht: 50 | Split: 1100 | Acurácia: 0.7051725946910082 | ERRO MC-NAO(N/S): 67.0 | ERRO MC-SIM(S/N): 77.37542556484061 | MC-NAO(N/S): [4221 2079] | MC-SIM (S/N): [ 731 2500] | Criterion: gini, | ALVO: HIPERTENSAO\n",
      "Depht: 50 | Split: 1200 | Acurácia: 0.7051725946910082 | ERRO MC-NAO(N/S): 66.96825396825398 | ERRO MC-SIM(S/N): 77.43732590529248 | MC-NAO(N/S): [4219 2081] | MC-SIM (S/N): [ 729 2502] | Criterion: gini, | ALVO: HIPERTENSAO\n",
      "Depht: 50 | Split: 1300 | Acurácia: 0.713356415905991 | ERRO MC-NAO(N/S): 68.39682539682539 | ERRO MC-SIM(S/N): 77.06592386258124 | MC-NAO(N/S): [4309 1991] | MC-SIM (S/N): [ 741 2490] | Criterion: gini, | ALVO: HIPERTENSAO\n",
      "Depht: 50 | Split: 1400 | Acurácia: 0.7129367327667611 | ERRO MC-NAO(N/S): 68.15873015873015 | ERRO MC-SIM(S/N): 77.40637573506655 | MC-NAO(N/S): [4294 2006] | MC-SIM (S/N): [ 730 2501] | Criterion: gini, | ALVO: HIPERTENSAO\n",
      "Depht: 50 | Split: 1500 | Acurácia: 0.7129367327667611 | ERRO MC-NAO(N/S): 68.15873015873015 | ERRO MC-SIM(S/N): 77.40637573506655 | MC-NAO(N/S): [4294 2006] | MC-SIM (S/N): [ 730 2501] | Criterion: gini, | ALVO: HIPERTENSAO\n",
      "Depht: 50 | Split: 1600 | Acurácia: 0.7124121288427238 | ERRO MC-NAO(N/S): 67.85714285714286 | ERRO MC-SIM(S/N): 77.83967811822964 | MC-NAO(N/S): [4275 2025] | MC-SIM (S/N): [ 716 2515] | Criterion: gini, | ALVO: HIPERTENSAO\n",
      "Depht: 50 | Split: 1700 | Acurácia: 0.7124121288427238 | ERRO MC-NAO(N/S): 67.85714285714286 | ERRO MC-SIM(S/N): 77.83967811822964 | MC-NAO(N/S): [4275 2025] | MC-SIM (S/N): [ 716 2515] | Criterion: gini, | ALVO: HIPERTENSAO\n",
      "Depht: 50 | Split: 1800 | Acurácia: 0.7124121288427238 | ERRO MC-NAO(N/S): 67.85714285714286 | ERRO MC-SIM(S/N): 77.83967811822964 | MC-NAO(N/S): [4275 2025] | MC-SIM (S/N): [ 716 2515] | Criterion: gini, | ALVO: HIPERTENSAO\n",
      "Depht: 50 | Split: 1900 | Acurácia: 0.7119924457034938 | ERRO MC-NAO(N/S): 67.76190476190476 | ERRO MC-SIM(S/N): 77.90157845868153 | MC-NAO(N/S): [4269 2031] | MC-SIM (S/N): [ 714 2517] | Criterion: gini, | ALVO: HIPERTENSAO\n",
      "Depht: 50 | Split: 2000 | Acurácia: 0.7126219704123387 | ERRO MC-NAO(N/S): 68.07936507936508 | ERRO MC-SIM(S/N): 77.46827607551842 | MC-NAO(N/S): [4289 2011] | MC-SIM (S/N): [ 728 2503] | Criterion: gini, | ALVO: HIPERTENSAO\n"
     ]
    }
   ],
   "source": [
    "# Criação de modelos com GINI\n",
    "TP_CRITERION = 'gini'\n",
    "func_instancia_classif(TP_CRITERION, NU_DEPHT_INI, NU_DEPHT_FIM, NU_DEPHT_INC, NU_SPLIT_INI, NU_SPLIT_FIM, NU_SPLIT_INC,\n",
    "                       y_train, y_test, X_train, X_test, 'HIPERTENSAO')"
   ]
  },
  {
   "cell_type": "markdown",
   "metadata": {
    "colab_type": "text",
    "id": "X6L1YXz1q0er"
   },
   "source": [
    "**2.2.1) Criação de Modelos com Árvore de Decisão (DIABETES)**"
   ]
  },
  {
   "cell_type": "code",
   "execution_count": 39,
   "metadata": {
    "colab": {
     "base_uri": "https://localhost:8080/",
     "height": 1000
    },
    "colab_type": "code",
    "id": "dutif7WEwQ4i",
    "outputId": "c4e40a32-de57-4a74-97cb-c0d2de8b08f2"
   },
   "outputs": [
    {
     "name": "stdout",
     "output_type": "stream",
     "text": [
      "\n",
      "RESULTADOS COM ENTROPY\n",
      "\n",
      "Depht: 5 | Split: 200 | Acurácia: 0.6887000314762355 | ERRO MC-NAO(N/S): 63.61904761904762 | ERRO MC-SIM(S/N): 79.10863509749304 | MC-NAO(N/S): [4008 2292] | MC-SIM (S/N): [ 675 2556] | Criterion: entropy, | ALVO: DIABETES\n",
      "Depht: 5 | Split: 300 | Acurácia: 0.6887000314762355 | ERRO MC-NAO(N/S): 63.61904761904762 | ERRO MC-SIM(S/N): 79.10863509749304 | MC-NAO(N/S): [4008 2292] | MC-SIM (S/N): [ 675 2556] | Criterion: entropy, | ALVO: DIABETES\n",
      "Depht: 5 | Split: 400 | Acurácia: 0.6887000314762355 | ERRO MC-NAO(N/S): 63.65079365079365 | ERRO MC-SIM(S/N): 79.04673475704116 | MC-NAO(N/S): [4010 2290] | MC-SIM (S/N): [ 677 2554] | Criterion: entropy, | ALVO: DIABETES\n",
      "Depht: 5 | Split: 500 | Acurácia: 0.6887000314762355 | ERRO MC-NAO(N/S): 63.65079365079365 | ERRO MC-SIM(S/N): 79.04673475704116 | MC-NAO(N/S): [4010 2290] | MC-SIM (S/N): [ 677 2554] | Criterion: entropy, | ALVO: DIABETES\n",
      "Depht: 5 | Split: 600 | Acurácia: 0.6887000314762355 | ERRO MC-NAO(N/S): 63.65079365079365 | ERRO MC-SIM(S/N): 79.04673475704116 | MC-NAO(N/S): [4010 2290] | MC-SIM (S/N): [ 677 2554] | Criterion: entropy, | ALVO: DIABETES\n",
      "Depht: 5 | Split: 700 | Acurácia: 0.688595110691428 | ERRO MC-NAO(N/S): 63.682539682539684 | ERRO MC-SIM(S/N): 78.95388424636336 | MC-NAO(N/S): [4012 2288] | MC-SIM (S/N): [ 680 2551] | Criterion: entropy, | ALVO: DIABETES\n",
      "Depht: 5 | Split: 800 | Acurácia: 0.688595110691428 | ERRO MC-NAO(N/S): 63.682539682539684 | ERRO MC-SIM(S/N): 78.95388424636336 | MC-NAO(N/S): [4012 2288] | MC-SIM (S/N): [ 680 2551] | Criterion: entropy, | ALVO: DIABETES\n",
      "Depht: 5 | Split: 900 | Acurácia: 0.688595110691428 | ERRO MC-NAO(N/S): 63.682539682539684 | ERRO MC-SIM(S/N): 78.95388424636336 | MC-NAO(N/S): [4012 2288] | MC-SIM (S/N): [ 680 2551] | Criterion: entropy, | ALVO: DIABETES\n",
      "Depht: 5 | Split: 1000 | Acurácia: 0.6880705067673906 | ERRO MC-NAO(N/S): 63.82539682539682 | ERRO MC-SIM(S/N): 78.52058186320025 | MC-NAO(N/S): [4021 2279] | MC-SIM (S/N): [ 694 2537] | Criterion: entropy, | ALVO: DIABETES\n",
      "Depht: 5 | Split: 1100 | Acurácia: 0.6880705067673906 | ERRO MC-NAO(N/S): 63.82539682539682 | ERRO MC-SIM(S/N): 78.52058186320025 | MC-NAO(N/S): [4021 2279] | MC-SIM (S/N): [ 694 2537] | Criterion: entropy, | ALVO: DIABETES\n",
      "Depht: 5 | Split: 1200 | Acurácia: 0.6880705067673906 | ERRO MC-NAO(N/S): 63.82539682539682 | ERRO MC-SIM(S/N): 78.52058186320025 | MC-NAO(N/S): [4021 2279] | MC-SIM (S/N): [ 694 2537] | Criterion: entropy, | ALVO: DIABETES\n",
      "Depht: 5 | Split: 1300 | Acurácia: 0.6880705067673906 | ERRO MC-NAO(N/S): 63.82539682539682 | ERRO MC-SIM(S/N): 78.52058186320025 | MC-NAO(N/S): [4021 2279] | MC-SIM (S/N): [ 694 2537] | Criterion: entropy, | ALVO: DIABETES\n",
      "Depht: 5 | Split: 1400 | Acurácia: 0.6880705067673906 | ERRO MC-NAO(N/S): 63.82539682539682 | ERRO MC-SIM(S/N): 78.52058186320025 | MC-NAO(N/S): [4021 2279] | MC-SIM (S/N): [ 694 2537] | Criterion: entropy, | ALVO: DIABETES\n",
      "Depht: 5 | Split: 1500 | Acurácia: 0.6880705067673906 | ERRO MC-NAO(N/S): 63.82539682539682 | ERRO MC-SIM(S/N): 78.52058186320025 | MC-NAO(N/S): [4021 2279] | MC-SIM (S/N): [ 694 2537] | Criterion: entropy, | ALVO: DIABETES\n",
      "Depht: 5 | Split: 1600 | Acurácia: 0.6880705067673906 | ERRO MC-NAO(N/S): 63.82539682539682 | ERRO MC-SIM(S/N): 78.52058186320025 | MC-NAO(N/S): [4021 2279] | MC-SIM (S/N): [ 694 2537] | Criterion: entropy, | ALVO: DIABETES\n",
      "Depht: 5 | Split: 1700 | Acurácia: 0.6880705067673906 | ERRO MC-NAO(N/S): 63.82539682539682 | ERRO MC-SIM(S/N): 78.52058186320025 | MC-NAO(N/S): [4021 2279] | MC-SIM (S/N): [ 694 2537] | Criterion: entropy, | ALVO: DIABETES\n",
      "Depht: 5 | Split: 1800 | Acurácia: 0.6880705067673906 | ERRO MC-NAO(N/S): 63.82539682539682 | ERRO MC-SIM(S/N): 78.52058186320025 | MC-NAO(N/S): [4021 2279] | MC-SIM (S/N): [ 694 2537] | Criterion: entropy, | ALVO: DIABETES\n",
      "Depht: 5 | Split: 1900 | Acurácia: 0.6880705067673906 | ERRO MC-NAO(N/S): 63.82539682539682 | ERRO MC-SIM(S/N): 78.52058186320025 | MC-NAO(N/S): [4021 2279] | MC-SIM (S/N): [ 694 2537] | Criterion: entropy, | ALVO: DIABETES\n",
      "Depht: 5 | Split: 2000 | Acurácia: 0.6880705067673906 | ERRO MC-NAO(N/S): 63.82539682539682 | ERRO MC-SIM(S/N): 78.52058186320025 | MC-NAO(N/S): [4021 2279] | MC-SIM (S/N): [ 694 2537] | Criterion: entropy, | ALVO: DIABETES\n",
      "Depht: 10 | Split: 200 | Acurácia: 0.706011960969468 | ERRO MC-NAO(N/S): 66.06349206349206 | ERRO MC-SIM(S/N): 79.44908696997834 | MC-NAO(N/S): [4162 2138] | MC-SIM (S/N): [ 664 2567] | Criterion: entropy, | ALVO: DIABETES\n",
      "Depht: 10 | Split: 300 | Acurácia: 0.7066414856783129 | ERRO MC-NAO(N/S): 66.15873015873015 | ERRO MC-SIM(S/N): 79.44908696997834 | MC-NAO(N/S): [4168 2132] | MC-SIM (S/N): [ 664 2567] | Criterion: entropy, | ALVO: DIABETES\n",
      "Depht: 10 | Split: 400 | Acurácia: 0.709789109222537 | ERRO MC-NAO(N/S): 66.93650793650794 | ERRO MC-SIM(S/N): 78.86103373568554 | MC-NAO(N/S): [4217 2083] | MC-SIM (S/N): [ 683 2548] | Criterion: entropy, | ALVO: DIABETES\n",
      "Depht: 10 | Split: 500 | Acurácia: 0.7106284755009967 | ERRO MC-NAO(N/S): 67.04761904761905 | ERRO MC-SIM(S/N): 78.89198390591149 | MC-NAO(N/S): [4224 2076] | MC-SIM (S/N): [ 682 2549] | Criterion: entropy, | ALVO: DIABETES\n",
      "Depht: 10 | Split: 600 | Acurácia: 0.7072710103871577 | ERRO MC-NAO(N/S): 66.30158730158729 | ERRO MC-SIM(S/N): 79.35623645930053 | MC-NAO(N/S): [4177 2123] | MC-SIM (S/N): [ 667 2564] | Criterion: entropy, | ALVO: DIABETES\n",
      "Depht: 10 | Split: 700 | Acurácia: 0.7072710103871577 | ERRO MC-NAO(N/S): 66.36507936507937 | ERRO MC-SIM(S/N): 79.23243577839678 | MC-NAO(N/S): [4181 2119] | MC-SIM (S/N): [ 671 2560] | Criterion: entropy, | ALVO: DIABETES\n",
      "Depht: 10 | Split: 800 | Acurácia: 0.7072710103871577 | ERRO MC-NAO(N/S): 66.36507936507937 | ERRO MC-SIM(S/N): 79.23243577839678 | MC-NAO(N/S): [4181 2119] | MC-SIM (S/N): [ 671 2560] | Criterion: entropy, | ALVO: DIABETES\n",
      "Depht: 10 | Split: 900 | Acurácia: 0.7082152974504249 | ERRO MC-NAO(N/S): 66.66666666666667 | ERRO MC-SIM(S/N): 78.92293407613742 | MC-NAO(N/S): [4200 2100] | MC-SIM (S/N): [ 681 2550] | Criterion: entropy, | ALVO: DIABETES\n",
      "Depht: 10 | Split: 1000 | Acurácia: 0.7076906935263876 | ERRO MC-NAO(N/S): 66.80952380952381 | ERRO MC-SIM(S/N): 78.48963169297431 | MC-NAO(N/S): [4209 2091] | MC-SIM (S/N): [ 695 2536] | Criterion: entropy, | ALVO: DIABETES\n",
      "Depht: 10 | Split: 1100 | Acurácia: 0.706011960969468 | ERRO MC-NAO(N/S): 66.22222222222223 | ERRO MC-SIM(S/N): 79.13958526771897 | MC-NAO(N/S): [4172 2128] | MC-SIM (S/N): [ 674 2557] | Criterion: entropy, | ALVO: DIABETES\n",
      "Depht: 10 | Split: 1200 | Acurácia: 0.706011960969468 | ERRO MC-NAO(N/S): 66.22222222222223 | ERRO MC-SIM(S/N): 79.13958526771897 | MC-NAO(N/S): [4172 2128] | MC-SIM (S/N): [ 674 2557] | Criterion: entropy, | ALVO: DIABETES\n",
      "Depht: 10 | Split: 1300 | Acurácia: 0.7129367327667611 | ERRO MC-NAO(N/S): 67.87301587301587 | ERRO MC-SIM(S/N): 77.9634787991334 | MC-NAO(N/S): [4276 2024] | MC-SIM (S/N): [ 712 2519] | Criterion: entropy, | ALVO: DIABETES\n",
      "Depht: 10 | Split: 1400 | Acurácia: 0.7129367327667611 | ERRO MC-NAO(N/S): 67.87301587301587 | ERRO MC-SIM(S/N): 77.9634787991334 | MC-NAO(N/S): [4276 2024] | MC-SIM (S/N): [ 712 2519] | Criterion: entropy, | ALVO: DIABETES\n",
      "Depht: 10 | Split: 1500 | Acurácia: 0.7129367327667611 | ERRO MC-NAO(N/S): 67.87301587301587 | ERRO MC-SIM(S/N): 77.9634787991334 | MC-NAO(N/S): [4276 2024] | MC-SIM (S/N): [ 712 2519] | Criterion: entropy, | ALVO: DIABETES\n",
      "Depht: 10 | Split: 1600 | Acurácia: 0.7129367327667611 | ERRO MC-NAO(N/S): 67.87301587301587 | ERRO MC-SIM(S/N): 77.9634787991334 | MC-NAO(N/S): [4276 2024] | MC-SIM (S/N): [ 712 2519] | Criterion: entropy, | ALVO: DIABETES\n",
      "Depht: 10 | Split: 1700 | Acurácia: 0.7129367327667611 | ERRO MC-NAO(N/S): 67.87301587301587 | ERRO MC-SIM(S/N): 77.9634787991334 | MC-NAO(N/S): [4276 2024] | MC-SIM (S/N): [ 712 2519] | Criterion: entropy, | ALVO: DIABETES\n",
      "Depht: 10 | Split: 1800 | Acurácia: 0.7129367327667611 | ERRO MC-NAO(N/S): 67.87301587301587 | ERRO MC-SIM(S/N): 77.9634787991334 | MC-NAO(N/S): [4276 2024] | MC-SIM (S/N): [ 712 2519] | Criterion: entropy, | ALVO: DIABETES\n",
      "Depht: 10 | Split: 1900 | Acurácia: 0.7125170496275313 | ERRO MC-NAO(N/S): 67.77777777777777 | ERRO MC-SIM(S/N): 78.02537913958527 | MC-NAO(N/S): [4270 2030] | MC-SIM (S/N): [ 710 2521] | Criterion: entropy, | ALVO: DIABETES\n",
      "Depht: 10 | Split: 2000 | Acurácia: 0.7125170496275313 | ERRO MC-NAO(N/S): 67.77777777777777 | ERRO MC-SIM(S/N): 78.02537913958527 | MC-NAO(N/S): [4270 2030] | MC-SIM (S/N): [ 710 2521] | Criterion: entropy, | ALVO: DIABETES\n",
      "Depht: 15 | Split: 200 | Acurácia: 0.7006610009442871 | ERRO MC-NAO(N/S): 66.79365079365078 | ERRO MC-SIM(S/N): 76.44692045806252 | MC-NAO(N/S): [4208 2092] | MC-SIM (S/N): [ 761 2470] | Criterion: entropy, | ALVO: DIABETES\n",
      "Depht: 15 | Split: 300 | Acurácia: 0.7063267233238905 | ERRO MC-NAO(N/S): 67.92063492063491 | ERRO MC-SIM(S/N): 75.9207675642216 | MC-NAO(N/S): [4279 2021] | MC-SIM (S/N): [ 778 2453] | Criterion: entropy, | ALVO: DIABETES\n",
      "Depht: 15 | Split: 400 | Acurácia: 0.7118875249186863 | ERRO MC-NAO(N/S): 69.3015873015873 | ERRO MC-SIM(S/N): 74.86846177653976 | MC-NAO(N/S): [4366 1934] | MC-SIM (S/N): [ 812 2419] | Criterion: entropy, | ALVO: DIABETES\n",
      "Depht: 15 | Split: 500 | Acurácia: 0.7177630888679047 | ERRO MC-NAO(N/S): 70.34920634920636 | ERRO MC-SIM(S/N): 74.5589600742804 | MC-NAO(N/S): [4432 1868] | MC-SIM (S/N): [ 822 2409] | Criterion: entropy, | ALVO: DIABETES\n",
      "Depht: 15 | Split: 600 | Acurácia: 0.7086349805896548 | ERRO MC-NAO(N/S): 68.34920634920636 | ERRO MC-SIM(S/N): 75.76601671309191 | MC-NAO(N/S): [4306 1994] | MC-SIM (S/N): [ 783 2448] | Criterion: entropy, | ALVO: DIABETES\n",
      "Depht: 15 | Split: 700 | Acurácia: 0.706221802539083 | ERRO MC-NAO(N/S): 66.96825396825398 | ERRO MC-SIM(S/N): 77.74682760755184 | MC-NAO(N/S): [4219 2081] | MC-SIM (S/N): [ 719 2512] | Criterion: entropy, | ALVO: DIABETES\n",
      "Depht: 15 | Split: 800 | Acurácia: 0.7061168817542756 | ERRO MC-NAO(N/S): 66.85714285714286 | ERRO MC-SIM(S/N): 77.93252862890746 | MC-NAO(N/S): [4212 2088] | MC-SIM (S/N): [ 713 2518] | Criterion: entropy, | ALVO: DIABETES\n",
      "Depht: 15 | Split: 900 | Acurácia: 0.7070611688175428 | ERRO MC-NAO(N/S): 67.15873015873015 | ERRO MC-SIM(S/N): 77.6230269266481 | MC-NAO(N/S): [4231 2069] | MC-SIM (S/N): [ 723 2508] | Criterion: entropy, | ALVO: DIABETES\n",
      "Depht: 15 | Split: 1000 | Acurácia: 0.7063267233238905 | ERRO MC-NAO(N/S): 67.20634920634922 | ERRO MC-SIM(S/N): 77.31352522438874 | MC-NAO(N/S): [4234 2066] | MC-SIM (S/N): [ 733 2498] | Criterion: entropy, | ALVO: DIABETES\n",
      "Depht: 15 | Split: 1100 | Acurácia: 0.7048578323365858 | ERRO MC-NAO(N/S): 66.46031746031746 | ERRO MC-SIM(S/N): 78.33488084184464 | MC-NAO(N/S): [4187 2113] | MC-SIM (S/N): [ 700 2531] | Criterion: entropy, | ALVO: DIABETES\n",
      "Depht: 15 | Split: 1200 | Acurácia: 0.7048578323365858 | ERRO MC-NAO(N/S): 66.46031746031746 | ERRO MC-SIM(S/N): 78.33488084184464 | MC-NAO(N/S): [4187 2113] | MC-SIM (S/N): [ 700 2531] | Criterion: entropy, | ALVO: DIABETES\n",
      "Depht: 15 | Split: 1300 | Acurácia: 0.7138810198300283 | ERRO MC-NAO(N/S): 68.44444444444444 | ERRO MC-SIM(S/N): 77.12782420303311 | MC-NAO(N/S): [4312 1988] | MC-SIM (S/N): [ 739 2492] | Criterion: entropy, | ALVO: DIABETES\n",
      "Depht: 15 | Split: 1400 | Acurácia: 0.713356415905991 | ERRO MC-NAO(N/S): 68.19047619047619 | ERRO MC-SIM(S/N): 77.46827607551842 | MC-NAO(N/S): [4296 2004] | MC-SIM (S/N): [ 728 2503] | Criterion: entropy, | ALVO: DIABETES\n",
      "Depht: 15 | Split: 1500 | Acurácia: 0.713356415905991 | ERRO MC-NAO(N/S): 68.19047619047619 | ERRO MC-SIM(S/N): 77.46827607551842 | MC-NAO(N/S): [4296 2004] | MC-SIM (S/N): [ 728 2503] | Criterion: entropy, | ALVO: DIABETES\n",
      "Depht: 15 | Split: 1600 | Acurácia: 0.7128318119819537 | ERRO MC-NAO(N/S): 67.88888888888889 | ERRO MC-SIM(S/N): 77.90157845868153 | MC-NAO(N/S): [4277 2023] | MC-SIM (S/N): [ 714 2517] | Criterion: entropy, | ALVO: DIABETES\n",
      "Depht: 15 | Split: 1700 | Acurácia: 0.7128318119819537 | ERRO MC-NAO(N/S): 67.88888888888889 | ERRO MC-SIM(S/N): 77.90157845868153 | MC-NAO(N/S): [4277 2023] | MC-SIM (S/N): [ 714 2517] | Criterion: entropy, | ALVO: DIABETES\n",
      "Depht: 15 | Split: 1800 | Acurácia: 0.7128318119819537 | ERRO MC-NAO(N/S): 67.88888888888889 | ERRO MC-SIM(S/N): 77.90157845868153 | MC-NAO(N/S): [4277 2023] | MC-SIM (S/N): [ 714 2517] | Criterion: entropy, | ALVO: DIABETES\n",
      "Depht: 15 | Split: 1900 | Acurácia: 0.7124121288427238 | ERRO MC-NAO(N/S): 67.7936507936508 | ERRO MC-SIM(S/N): 77.9634787991334 | MC-NAO(N/S): [4271 2029] | MC-SIM (S/N): [ 712 2519] | Criterion: entropy, | ALVO: DIABETES\n",
      "Depht: 15 | Split: 2000 | Acurácia: 0.7124121288427238 | ERRO MC-NAO(N/S): 67.7936507936508 | ERRO MC-SIM(S/N): 77.9634787991334 | MC-NAO(N/S): [4271 2029] | MC-SIM (S/N): [ 712 2519] | Criterion: entropy, | ALVO: DIABETES\n",
      "Depht: 20 | Split: 200 | Acurácia: 0.6926870212989193 | ERRO MC-NAO(N/S): 65.68253968253968 | ERRO MC-SIM(S/N): 76.26121943670691 | MC-NAO(N/S): [4138 2162] | MC-SIM (S/N): [ 767 2464] | Criterion: entropy, | ALVO: DIABETES\n",
      "Depht: 20 | Split: 300 | Acurácia: 0.7000314762354423 | ERRO MC-NAO(N/S): 66.92063492063491 | ERRO MC-SIM(S/N): 76.01361807489941 | MC-NAO(N/S): [4216 2084] | MC-SIM (S/N): [ 775 2456] | Criterion: entropy, | ALVO: DIABETES\n",
      "Depht: 20 | Split: 400 | Acurácia: 0.7068513272479278 | ERRO MC-NAO(N/S): 68.88888888888889 | ERRO MC-SIM(S/N): 74.18755803156917 | MC-NAO(N/S): [4340 1960] | MC-SIM (S/N): [ 834 2397] | Criterion: entropy, | ALVO: DIABETES\n",
      "Depht: 20 | Split: 500 | Acurácia: 0.7178680096527122 | ERRO MC-NAO(N/S): 71.11111111111111 | ERRO MC-SIM(S/N): 73.1043020736614 | MC-NAO(N/S): [4480 1820] | MC-SIM (S/N): [ 869 2362] | Criterion: entropy, | ALVO: DIABETES\n",
      "Depht: 20 | Split: 600 | Acurácia: 0.7087399013744623 | ERRO MC-NAO(N/S): 69.11111111111111 | ERRO MC-SIM(S/N): 74.31135871247292 | MC-NAO(N/S): [4354 1946] | MC-SIM (S/N): [ 830 2401] | Criterion: entropy, | ALVO: DIABETES\n",
      "Depht: 20 | Split: 700 | Acurácia: 0.706431644108698 | ERRO MC-NAO(N/S): 67.73015873015873 | ERRO MC-SIM(S/N): 76.32311977715878 | MC-NAO(N/S): [4267 2033] | MC-SIM (S/N): [ 765 2466] | Criterion: entropy, | ALVO: DIABETES\n",
      "Depht: 20 | Split: 800 | Acurácia: 0.7063267233238905 | ERRO MC-NAO(N/S): 67.61904761904762 | ERRO MC-SIM(S/N): 76.50882079851439 | MC-NAO(N/S): [4260 2040] | MC-SIM (S/N): [ 759 2472] | Criterion: entropy, | ALVO: DIABETES\n",
      "Depht: 20 | Split: 900 | Acurácia: 0.7072710103871577 | ERRO MC-NAO(N/S): 67.92063492063491 | ERRO MC-SIM(S/N): 76.19931909625504 | MC-NAO(N/S): [4279 2021] | MC-SIM (S/N): [ 769 2462] | Criterion: entropy, | ALVO: DIABETES\n",
      "Depht: 20 | Split: 1000 | Acurácia: 0.7065365648935054 | ERRO MC-NAO(N/S): 67.96825396825398 | ERRO MC-SIM(S/N): 75.88981739399567 | MC-NAO(N/S): [4282 2018] | MC-SIM (S/N): [ 779 2452] | Criterion: entropy, | ALVO: DIABETES\n",
      "Depht: 20 | Split: 1100 | Acurácia: 0.7055922778302381 | ERRO MC-NAO(N/S): 67.04761904761905 | ERRO MC-SIM(S/N): 77.40637573506655 | MC-NAO(N/S): [4224 2076] | MC-SIM (S/N): [ 730 2501] | Criterion: entropy, | ALVO: DIABETES\n",
      "Depht: 20 | Split: 1200 | Acurácia: 0.7055922778302381 | ERRO MC-NAO(N/S): 67.04761904761905 | ERRO MC-SIM(S/N): 77.40637573506655 | MC-NAO(N/S): [4224 2076] | MC-SIM (S/N): [ 730 2501] | Criterion: entropy, | ALVO: DIABETES\n",
      "Depht: 20 | Split: 1300 | Acurácia: 0.7138810198300283 | ERRO MC-NAO(N/S): 68.44444444444444 | ERRO MC-SIM(S/N): 77.12782420303311 | MC-NAO(N/S): [4312 1988] | MC-SIM (S/N): [ 739 2492] | Criterion: entropy, | ALVO: DIABETES\n",
      "Depht: 20 | Split: 1400 | Acurácia: 0.713356415905991 | ERRO MC-NAO(N/S): 68.19047619047619 | ERRO MC-SIM(S/N): 77.46827607551842 | MC-NAO(N/S): [4296 2004] | MC-SIM (S/N): [ 728 2503] | Criterion: entropy, | ALVO: DIABETES\n",
      "Depht: 20 | Split: 1500 | Acurácia: 0.713356415905991 | ERRO MC-NAO(N/S): 68.19047619047619 | ERRO MC-SIM(S/N): 77.46827607551842 | MC-NAO(N/S): [4296 2004] | MC-SIM (S/N): [ 728 2503] | Criterion: entropy, | ALVO: DIABETES\n",
      "Depht: 20 | Split: 1600 | Acurácia: 0.7128318119819537 | ERRO MC-NAO(N/S): 67.88888888888889 | ERRO MC-SIM(S/N): 77.90157845868153 | MC-NAO(N/S): [4277 2023] | MC-SIM (S/N): [ 714 2517] | Criterion: entropy, | ALVO: DIABETES\n",
      "Depht: 20 | Split: 1700 | Acurácia: 0.7128318119819537 | ERRO MC-NAO(N/S): 67.88888888888889 | ERRO MC-SIM(S/N): 77.90157845868153 | MC-NAO(N/S): [4277 2023] | MC-SIM (S/N): [ 714 2517] | Criterion: entropy, | ALVO: DIABETES\n",
      "Depht: 20 | Split: 1800 | Acurácia: 0.7128318119819537 | ERRO MC-NAO(N/S): 67.88888888888889 | ERRO MC-SIM(S/N): 77.90157845868153 | MC-NAO(N/S): [4277 2023] | MC-SIM (S/N): [ 714 2517] | Criterion: entropy, | ALVO: DIABETES\n",
      "Depht: 20 | Split: 1900 | Acurácia: 0.7124121288427238 | ERRO MC-NAO(N/S): 67.7936507936508 | ERRO MC-SIM(S/N): 77.9634787991334 | MC-NAO(N/S): [4271 2029] | MC-SIM (S/N): [ 712 2519] | Criterion: entropy, | ALVO: DIABETES\n",
      "Depht: 20 | Split: 2000 | Acurácia: 0.7124121288427238 | ERRO MC-NAO(N/S): 67.7936507936508 | ERRO MC-SIM(S/N): 77.9634787991334 | MC-NAO(N/S): [4271 2029] | MC-SIM (S/N): [ 712 2519] | Criterion: entropy, | ALVO: DIABETES\n",
      "Depht: 25 | Split: 200 | Acurácia: 0.6977232189696779 | ERRO MC-NAO(N/S): 67.74603174603175 | ERRO MC-SIM(S/N): 73.72330547818012 | MC-NAO(N/S): [4268 2032] | MC-SIM (S/N): [ 849 2382] | Criterion: entropy, | ALVO: DIABETES\n",
      "Depht: 25 | Split: 300 | Acurácia: 0.7033889413492813 | ERRO MC-NAO(N/S): 68.2063492063492 | ERRO MC-SIM(S/N): 74.49705973382854 | MC-NAO(N/S): [4297 2003] | MC-SIM (S/N): [ 824 2407] | Criterion: entropy, | ALVO: DIABETES\n",
      "Depht: 25 | Split: 400 | Acurácia: 0.7072710103871577 | ERRO MC-NAO(N/S): 69.15873015873015 | ERRO MC-SIM(S/N): 73.78520581863201 | MC-NAO(N/S): [4357 1943] | MC-SIM (S/N): [ 847 2384] | Criterion: entropy, | ALVO: DIABETES\n",
      "Depht: 25 | Split: 500 | Acurácia: 0.7174483265134823 | ERRO MC-NAO(N/S): 71.11111111111111 | ERRO MC-SIM(S/N): 72.98050139275766 | MC-NAO(N/S): [4480 1820] | MC-SIM (S/N): [ 873 2358] | Criterion: entropy, | ALVO: DIABETES\n",
      "Depht: 25 | Split: 600 | Acurácia: 0.7087399013744623 | ERRO MC-NAO(N/S): 69.15873015873015 | ERRO MC-SIM(S/N): 74.2185082017951 | MC-NAO(N/S): [4357 1943] | MC-SIM (S/N): [ 833 2398] | Criterion: entropy, | ALVO: DIABETES\n",
      "Depht: 25 | Split: 700 | Acurácia: 0.706221802539083 | ERRO MC-NAO(N/S): 67.76190476190476 | ERRO MC-SIM(S/N): 76.19931909625504 | MC-NAO(N/S): [4269 2031] | MC-SIM (S/N): [ 769 2462] | Criterion: entropy, | ALVO: DIABETES\n",
      "Depht: 25 | Split: 800 | Acurácia: 0.7061168817542756 | ERRO MC-NAO(N/S): 67.65079365079364 | ERRO MC-SIM(S/N): 76.38502011761065 | MC-NAO(N/S): [4262 2038] | MC-SIM (S/N): [ 763 2468] | Criterion: entropy, | ALVO: DIABETES\n",
      "Depht: 25 | Split: 900 | Acurácia: 0.7072710103871577 | ERRO MC-NAO(N/S): 67.92063492063491 | ERRO MC-SIM(S/N): 76.19931909625504 | MC-NAO(N/S): [4279 2021] | MC-SIM (S/N): [ 769 2462] | Criterion: entropy, | ALVO: DIABETES\n",
      "Depht: 25 | Split: 1000 | Acurácia: 0.7065365648935054 | ERRO MC-NAO(N/S): 67.96825396825398 | ERRO MC-SIM(S/N): 75.88981739399567 | MC-NAO(N/S): [4282 2018] | MC-SIM (S/N): [ 779 2452] | Criterion: entropy, | ALVO: DIABETES\n",
      "Depht: 25 | Split: 1100 | Acurácia: 0.7055922778302381 | ERRO MC-NAO(N/S): 67.04761904761905 | ERRO MC-SIM(S/N): 77.40637573506655 | MC-NAO(N/S): [4224 2076] | MC-SIM (S/N): [ 730 2501] | Criterion: entropy, | ALVO: DIABETES\n",
      "Depht: 25 | Split: 1200 | Acurácia: 0.7055922778302381 | ERRO MC-NAO(N/S): 67.04761904761905 | ERRO MC-SIM(S/N): 77.40637573506655 | MC-NAO(N/S): [4224 2076] | MC-SIM (S/N): [ 730 2501] | Criterion: entropy, | ALVO: DIABETES\n",
      "Depht: 25 | Split: 1300 | Acurácia: 0.7138810198300283 | ERRO MC-NAO(N/S): 68.44444444444444 | ERRO MC-SIM(S/N): 77.12782420303311 | MC-NAO(N/S): [4312 1988] | MC-SIM (S/N): [ 739 2492] | Criterion: entropy, | ALVO: DIABETES\n",
      "Depht: 25 | Split: 1400 | Acurácia: 0.713356415905991 | ERRO MC-NAO(N/S): 68.19047619047619 | ERRO MC-SIM(S/N): 77.46827607551842 | MC-NAO(N/S): [4296 2004] | MC-SIM (S/N): [ 728 2503] | Criterion: entropy, | ALVO: DIABETES\n",
      "Depht: 25 | Split: 1500 | Acurácia: 0.713356415905991 | ERRO MC-NAO(N/S): 68.19047619047619 | ERRO MC-SIM(S/N): 77.46827607551842 | MC-NAO(N/S): [4296 2004] | MC-SIM (S/N): [ 728 2503] | Criterion: entropy, | ALVO: DIABETES\n",
      "Depht: 25 | Split: 1600 | Acurácia: 0.7128318119819537 | ERRO MC-NAO(N/S): 67.88888888888889 | ERRO MC-SIM(S/N): 77.90157845868153 | MC-NAO(N/S): [4277 2023] | MC-SIM (S/N): [ 714 2517] | Criterion: entropy, | ALVO: DIABETES\n",
      "Depht: 25 | Split: 1700 | Acurácia: 0.7128318119819537 | ERRO MC-NAO(N/S): 67.88888888888889 | ERRO MC-SIM(S/N): 77.90157845868153 | MC-NAO(N/S): [4277 2023] | MC-SIM (S/N): [ 714 2517] | Criterion: entropy, | ALVO: DIABETES\n",
      "Depht: 25 | Split: 1800 | Acurácia: 0.7128318119819537 | ERRO MC-NAO(N/S): 67.88888888888889 | ERRO MC-SIM(S/N): 77.90157845868153 | MC-NAO(N/S): [4277 2023] | MC-SIM (S/N): [ 714 2517] | Criterion: entropy, | ALVO: DIABETES\n",
      "Depht: 25 | Split: 1900 | Acurácia: 0.7124121288427238 | ERRO MC-NAO(N/S): 67.7936507936508 | ERRO MC-SIM(S/N): 77.9634787991334 | MC-NAO(N/S): [4271 2029] | MC-SIM (S/N): [ 712 2519] | Criterion: entropy, | ALVO: DIABETES\n",
      "Depht: 25 | Split: 2000 | Acurácia: 0.7124121288427238 | ERRO MC-NAO(N/S): 67.7936507936508 | ERRO MC-SIM(S/N): 77.9634787991334 | MC-NAO(N/S): [4271 2029] | MC-SIM (S/N): [ 712 2519] | Criterion: entropy, | ALVO: DIABETES\n",
      "Depht: 30 | Split: 200 | Acurácia: 0.697303535830448 | ERRO MC-NAO(N/S): 67.61904761904762 | ERRO MC-SIM(S/N): 73.84710615908388 | MC-NAO(N/S): [4260 2040] | MC-SIM (S/N): [ 845 2386] | Criterion: entropy, | ALVO: DIABETES\n",
      "Depht: 30 | Split: 300 | Acurácia: 0.7034938621340887 | ERRO MC-NAO(N/S): 68.26984126984127 | ERRO MC-SIM(S/N): 74.40420922315073 | MC-NAO(N/S): [4301 1999] | MC-SIM (S/N): [ 827 2404] | Criterion: entropy, | ALVO: DIABETES\n",
      "Depht: 30 | Split: 400 | Acurácia: 0.7072710103871577 | ERRO MC-NAO(N/S): 69.19047619047619 | ERRO MC-SIM(S/N): 73.72330547818012 | MC-NAO(N/S): [4359 1941] | MC-SIM (S/N): [ 849 2382] | Criterion: entropy, | ALVO: DIABETES\n",
      "Depht: 30 | Split: 500 | Acurácia: 0.7176581680830972 | ERRO MC-NAO(N/S): 71.14285714285714 | ERRO MC-SIM(S/N): 72.98050139275766 | MC-NAO(N/S): [4482 1818] | MC-SIM (S/N): [ 873 2358] | Criterion: entropy, | ALVO: DIABETES\n",
      "Depht: 30 | Split: 600 | Acurácia: 0.7087399013744623 | ERRO MC-NAO(N/S): 69.15873015873015 | ERRO MC-SIM(S/N): 74.2185082017951 | MC-NAO(N/S): [4357 1943] | MC-SIM (S/N): [ 833 2398] | Criterion: entropy, | ALVO: DIABETES\n",
      "Depht: 30 | Split: 700 | Acurácia: 0.706221802539083 | ERRO MC-NAO(N/S): 67.76190476190476 | ERRO MC-SIM(S/N): 76.19931909625504 | MC-NAO(N/S): [4269 2031] | MC-SIM (S/N): [ 769 2462] | Criterion: entropy, | ALVO: DIABETES\n",
      "Depht: 30 | Split: 800 | Acurácia: 0.7061168817542756 | ERRO MC-NAO(N/S): 67.65079365079364 | ERRO MC-SIM(S/N): 76.38502011761065 | MC-NAO(N/S): [4262 2038] | MC-SIM (S/N): [ 763 2468] | Criterion: entropy, | ALVO: DIABETES\n",
      "Depht: 30 | Split: 900 | Acurácia: 0.7072710103871577 | ERRO MC-NAO(N/S): 67.92063492063491 | ERRO MC-SIM(S/N): 76.19931909625504 | MC-NAO(N/S): [4279 2021] | MC-SIM (S/N): [ 769 2462] | Criterion: entropy, | ALVO: DIABETES\n",
      "Depht: 30 | Split: 1000 | Acurácia: 0.7065365648935054 | ERRO MC-NAO(N/S): 67.96825396825398 | ERRO MC-SIM(S/N): 75.88981739399567 | MC-NAO(N/S): [4282 2018] | MC-SIM (S/N): [ 779 2452] | Criterion: entropy, | ALVO: DIABETES\n",
      "Depht: 30 | Split: 1100 | Acurácia: 0.7055922778302381 | ERRO MC-NAO(N/S): 67.04761904761905 | ERRO MC-SIM(S/N): 77.40637573506655 | MC-NAO(N/S): [4224 2076] | MC-SIM (S/N): [ 730 2501] | Criterion: entropy, | ALVO: DIABETES\n",
      "Depht: 30 | Split: 1200 | Acurácia: 0.7055922778302381 | ERRO MC-NAO(N/S): 67.04761904761905 | ERRO MC-SIM(S/N): 77.40637573506655 | MC-NAO(N/S): [4224 2076] | MC-SIM (S/N): [ 730 2501] | Criterion: entropy, | ALVO: DIABETES\n",
      "Depht: 30 | Split: 1300 | Acurácia: 0.7138810198300283 | ERRO MC-NAO(N/S): 68.44444444444444 | ERRO MC-SIM(S/N): 77.12782420303311 | MC-NAO(N/S): [4312 1988] | MC-SIM (S/N): [ 739 2492] | Criterion: entropy, | ALVO: DIABETES\n",
      "Depht: 30 | Split: 1400 | Acurácia: 0.713356415905991 | ERRO MC-NAO(N/S): 68.19047619047619 | ERRO MC-SIM(S/N): 77.46827607551842 | MC-NAO(N/S): [4296 2004] | MC-SIM (S/N): [ 728 2503] | Criterion: entropy, | ALVO: DIABETES\n",
      "Depht: 30 | Split: 1500 | Acurácia: 0.713356415905991 | ERRO MC-NAO(N/S): 68.19047619047619 | ERRO MC-SIM(S/N): 77.46827607551842 | MC-NAO(N/S): [4296 2004] | MC-SIM (S/N): [ 728 2503] | Criterion: entropy, | ALVO: DIABETES\n",
      "Depht: 30 | Split: 1600 | Acurácia: 0.7128318119819537 | ERRO MC-NAO(N/S): 67.88888888888889 | ERRO MC-SIM(S/N): 77.90157845868153 | MC-NAO(N/S): [4277 2023] | MC-SIM (S/N): [ 714 2517] | Criterion: entropy, | ALVO: DIABETES\n",
      "Depht: 30 | Split: 1700 | Acurácia: 0.7128318119819537 | ERRO MC-NAO(N/S): 67.88888888888889 | ERRO MC-SIM(S/N): 77.90157845868153 | MC-NAO(N/S): [4277 2023] | MC-SIM (S/N): [ 714 2517] | Criterion: entropy, | ALVO: DIABETES\n",
      "Depht: 30 | Split: 1800 | Acurácia: 0.7128318119819537 | ERRO MC-NAO(N/S): 67.88888888888889 | ERRO MC-SIM(S/N): 77.90157845868153 | MC-NAO(N/S): [4277 2023] | MC-SIM (S/N): [ 714 2517] | Criterion: entropy, | ALVO: DIABETES\n",
      "Depht: 30 | Split: 1900 | Acurácia: 0.7124121288427238 | ERRO MC-NAO(N/S): 67.7936507936508 | ERRO MC-SIM(S/N): 77.9634787991334 | MC-NAO(N/S): [4271 2029] | MC-SIM (S/N): [ 712 2519] | Criterion: entropy, | ALVO: DIABETES\n",
      "Depht: 30 | Split: 2000 | Acurácia: 0.7124121288427238 | ERRO MC-NAO(N/S): 67.7936507936508 | ERRO MC-SIM(S/N): 77.9634787991334 | MC-NAO(N/S): [4271 2029] | MC-SIM (S/N): [ 712 2519] | Criterion: entropy, | ALVO: DIABETES\n",
      "Depht: 35 | Split: 200 | Acurácia: 0.6967789319064107 | ERRO MC-NAO(N/S): 67.65079365079364 | ERRO MC-SIM(S/N): 73.63045496750232 | MC-NAO(N/S): [4262 2038] | MC-SIM (S/N): [ 852 2379] | Criterion: entropy, | ALVO: DIABETES\n",
      "Depht: 35 | Split: 300 | Acurácia: 0.7035987829188962 | ERRO MC-NAO(N/S): 68.26984126984127 | ERRO MC-SIM(S/N): 74.43515939337667 | MC-NAO(N/S): [4301 1999] | MC-SIM (S/N): [ 826 2405] | Criterion: entropy, | ALVO: DIABETES\n",
      "Depht: 35 | Split: 400 | Acurácia: 0.7071660896023503 | ERRO MC-NAO(N/S): 69.17460317460316 | ERRO MC-SIM(S/N): 73.72330547818012 | MC-NAO(N/S): [4358 1942] | MC-SIM (S/N): [ 849 2382] | Criterion: entropy, | ALVO: DIABETES\n",
      "Depht: 35 | Split: 500 | Acurácia: 0.7175532472982898 | ERRO MC-NAO(N/S): 71.12698412698413 | ERRO MC-SIM(S/N): 72.98050139275766 | MC-NAO(N/S): [4481 1819] | MC-SIM (S/N): [ 873 2358] | Criterion: entropy, | ALVO: DIABETES\n",
      "Depht: 35 | Split: 600 | Acurácia: 0.7087399013744623 | ERRO MC-NAO(N/S): 69.15873015873015 | ERRO MC-SIM(S/N): 74.2185082017951 | MC-NAO(N/S): [4357 1943] | MC-SIM (S/N): [ 833 2398] | Criterion: entropy, | ALVO: DIABETES\n",
      "Depht: 35 | Split: 700 | Acurácia: 0.706221802539083 | ERRO MC-NAO(N/S): 67.76190476190476 | ERRO MC-SIM(S/N): 76.19931909625504 | MC-NAO(N/S): [4269 2031] | MC-SIM (S/N): [ 769 2462] | Criterion: entropy, | ALVO: DIABETES\n",
      "Depht: 35 | Split: 800 | Acurácia: 0.7061168817542756 | ERRO MC-NAO(N/S): 67.65079365079364 | ERRO MC-SIM(S/N): 76.38502011761065 | MC-NAO(N/S): [4262 2038] | MC-SIM (S/N): [ 763 2468] | Criterion: entropy, | ALVO: DIABETES\n",
      "Depht: 35 | Split: 900 | Acurácia: 0.7072710103871577 | ERRO MC-NAO(N/S): 67.92063492063491 | ERRO MC-SIM(S/N): 76.19931909625504 | MC-NAO(N/S): [4279 2021] | MC-SIM (S/N): [ 769 2462] | Criterion: entropy, | ALVO: DIABETES\n",
      "Depht: 35 | Split: 1000 | Acurácia: 0.7065365648935054 | ERRO MC-NAO(N/S): 67.96825396825398 | ERRO MC-SIM(S/N): 75.88981739399567 | MC-NAO(N/S): [4282 2018] | MC-SIM (S/N): [ 779 2452] | Criterion: entropy, | ALVO: DIABETES\n",
      "Depht: 35 | Split: 1100 | Acurácia: 0.7055922778302381 | ERRO MC-NAO(N/S): 67.04761904761905 | ERRO MC-SIM(S/N): 77.40637573506655 | MC-NAO(N/S): [4224 2076] | MC-SIM (S/N): [ 730 2501] | Criterion: entropy, | ALVO: DIABETES\n",
      "Depht: 35 | Split: 1200 | Acurácia: 0.7055922778302381 | ERRO MC-NAO(N/S): 67.04761904761905 | ERRO MC-SIM(S/N): 77.40637573506655 | MC-NAO(N/S): [4224 2076] | MC-SIM (S/N): [ 730 2501] | Criterion: entropy, | ALVO: DIABETES\n",
      "Depht: 35 | Split: 1300 | Acurácia: 0.7138810198300283 | ERRO MC-NAO(N/S): 68.44444444444444 | ERRO MC-SIM(S/N): 77.12782420303311 | MC-NAO(N/S): [4312 1988] | MC-SIM (S/N): [ 739 2492] | Criterion: entropy, | ALVO: DIABETES\n",
      "Depht: 35 | Split: 1400 | Acurácia: 0.713356415905991 | ERRO MC-NAO(N/S): 68.19047619047619 | ERRO MC-SIM(S/N): 77.46827607551842 | MC-NAO(N/S): [4296 2004] | MC-SIM (S/N): [ 728 2503] | Criterion: entropy, | ALVO: DIABETES\n",
      "Depht: 35 | Split: 1500 | Acurácia: 0.713356415905991 | ERRO MC-NAO(N/S): 68.19047619047619 | ERRO MC-SIM(S/N): 77.46827607551842 | MC-NAO(N/S): [4296 2004] | MC-SIM (S/N): [ 728 2503] | Criterion: entropy, | ALVO: DIABETES\n",
      "Depht: 35 | Split: 1600 | Acurácia: 0.7128318119819537 | ERRO MC-NAO(N/S): 67.88888888888889 | ERRO MC-SIM(S/N): 77.90157845868153 | MC-NAO(N/S): [4277 2023] | MC-SIM (S/N): [ 714 2517] | Criterion: entropy, | ALVO: DIABETES\n",
      "Depht: 35 | Split: 1700 | Acurácia: 0.7128318119819537 | ERRO MC-NAO(N/S): 67.88888888888889 | ERRO MC-SIM(S/N): 77.90157845868153 | MC-NAO(N/S): [4277 2023] | MC-SIM (S/N): [ 714 2517] | Criterion: entropy, | ALVO: DIABETES\n",
      "Depht: 35 | Split: 1800 | Acurácia: 0.7128318119819537 | ERRO MC-NAO(N/S): 67.88888888888889 | ERRO MC-SIM(S/N): 77.90157845868153 | MC-NAO(N/S): [4277 2023] | MC-SIM (S/N): [ 714 2517] | Criterion: entropy, | ALVO: DIABETES\n",
      "Depht: 35 | Split: 1900 | Acurácia: 0.7124121288427238 | ERRO MC-NAO(N/S): 67.7936507936508 | ERRO MC-SIM(S/N): 77.9634787991334 | MC-NAO(N/S): [4271 2029] | MC-SIM (S/N): [ 712 2519] | Criterion: entropy, | ALVO: DIABETES\n",
      "Depht: 35 | Split: 2000 | Acurácia: 0.7124121288427238 | ERRO MC-NAO(N/S): 67.7936507936508 | ERRO MC-SIM(S/N): 77.9634787991334 | MC-NAO(N/S): [4271 2029] | MC-SIM (S/N): [ 712 2519] | Criterion: entropy, | ALVO: DIABETES\n",
      "Depht: 40 | Split: 200 | Acurácia: 0.6959395656279509 | ERRO MC-NAO(N/S): 67.33333333333334 | ERRO MC-SIM(S/N): 74.00185701021356 | MC-NAO(N/S): [4242 2058] | MC-SIM (S/N): [ 840 2391] | Criterion: entropy, | ALVO: DIABETES\n",
      "Depht: 40 | Split: 300 | Acurácia: 0.7034938621340887 | ERRO MC-NAO(N/S): 68.26984126984127 | ERRO MC-SIM(S/N): 74.40420922315073 | MC-NAO(N/S): [4301 1999] | MC-SIM (S/N): [ 827 2404] | Criterion: entropy, | ALVO: DIABETES\n",
      "Depht: 40 | Split: 400 | Acurácia: 0.7072710103871577 | ERRO MC-NAO(N/S): 69.19047619047619 | ERRO MC-SIM(S/N): 73.72330547818012 | MC-NAO(N/S): [4359 1941] | MC-SIM (S/N): [ 849 2382] | Criterion: entropy, | ALVO: DIABETES\n",
      "Depht: 40 | Split: 500 | Acurácia: 0.7178680096527122 | ERRO MC-NAO(N/S): 71.17460317460318 | ERRO MC-SIM(S/N): 72.98050139275766 | MC-NAO(N/S): [4484 1816] | MC-SIM (S/N): [ 873 2358] | Criterion: entropy, | ALVO: DIABETES\n",
      "Depht: 40 | Split: 600 | Acurácia: 0.7087399013744623 | ERRO MC-NAO(N/S): 69.15873015873015 | ERRO MC-SIM(S/N): 74.2185082017951 | MC-NAO(N/S): [4357 1943] | MC-SIM (S/N): [ 833 2398] | Criterion: entropy, | ALVO: DIABETES\n",
      "Depht: 40 | Split: 700 | Acurácia: 0.706221802539083 | ERRO MC-NAO(N/S): 67.76190476190476 | ERRO MC-SIM(S/N): 76.19931909625504 | MC-NAO(N/S): [4269 2031] | MC-SIM (S/N): [ 769 2462] | Criterion: entropy, | ALVO: DIABETES\n",
      "Depht: 40 | Split: 800 | Acurácia: 0.7061168817542756 | ERRO MC-NAO(N/S): 67.65079365079364 | ERRO MC-SIM(S/N): 76.38502011761065 | MC-NAO(N/S): [4262 2038] | MC-SIM (S/N): [ 763 2468] | Criterion: entropy, | ALVO: DIABETES\n",
      "Depht: 40 | Split: 900 | Acurácia: 0.7072710103871577 | ERRO MC-NAO(N/S): 67.92063492063491 | ERRO MC-SIM(S/N): 76.19931909625504 | MC-NAO(N/S): [4279 2021] | MC-SIM (S/N): [ 769 2462] | Criterion: entropy, | ALVO: DIABETES\n",
      "Depht: 40 | Split: 1000 | Acurácia: 0.7065365648935054 | ERRO MC-NAO(N/S): 67.96825396825398 | ERRO MC-SIM(S/N): 75.88981739399567 | MC-NAO(N/S): [4282 2018] | MC-SIM (S/N): [ 779 2452] | Criterion: entropy, | ALVO: DIABETES\n",
      "Depht: 40 | Split: 1100 | Acurácia: 0.7055922778302381 | ERRO MC-NAO(N/S): 67.04761904761905 | ERRO MC-SIM(S/N): 77.40637573506655 | MC-NAO(N/S): [4224 2076] | MC-SIM (S/N): [ 730 2501] | Criterion: entropy, | ALVO: DIABETES\n",
      "Depht: 40 | Split: 1200 | Acurácia: 0.7055922778302381 | ERRO MC-NAO(N/S): 67.04761904761905 | ERRO MC-SIM(S/N): 77.40637573506655 | MC-NAO(N/S): [4224 2076] | MC-SIM (S/N): [ 730 2501] | Criterion: entropy, | ALVO: DIABETES\n",
      "Depht: 40 | Split: 1300 | Acurácia: 0.7138810198300283 | ERRO MC-NAO(N/S): 68.44444444444444 | ERRO MC-SIM(S/N): 77.12782420303311 | MC-NAO(N/S): [4312 1988] | MC-SIM (S/N): [ 739 2492] | Criterion: entropy, | ALVO: DIABETES\n",
      "Depht: 40 | Split: 1400 | Acurácia: 0.713356415905991 | ERRO MC-NAO(N/S): 68.19047619047619 | ERRO MC-SIM(S/N): 77.46827607551842 | MC-NAO(N/S): [4296 2004] | MC-SIM (S/N): [ 728 2503] | Criterion: entropy, | ALVO: DIABETES\n",
      "Depht: 40 | Split: 1500 | Acurácia: 0.713356415905991 | ERRO MC-NAO(N/S): 68.19047619047619 | ERRO MC-SIM(S/N): 77.46827607551842 | MC-NAO(N/S): [4296 2004] | MC-SIM (S/N): [ 728 2503] | Criterion: entropy, | ALVO: DIABETES\n",
      "Depht: 40 | Split: 1600 | Acurácia: 0.7128318119819537 | ERRO MC-NAO(N/S): 67.88888888888889 | ERRO MC-SIM(S/N): 77.90157845868153 | MC-NAO(N/S): [4277 2023] | MC-SIM (S/N): [ 714 2517] | Criterion: entropy, | ALVO: DIABETES\n",
      "Depht: 40 | Split: 1700 | Acurácia: 0.7128318119819537 | ERRO MC-NAO(N/S): 67.88888888888889 | ERRO MC-SIM(S/N): 77.90157845868153 | MC-NAO(N/S): [4277 2023] | MC-SIM (S/N): [ 714 2517] | Criterion: entropy, | ALVO: DIABETES\n",
      "Depht: 40 | Split: 1800 | Acurácia: 0.7128318119819537 | ERRO MC-NAO(N/S): 67.88888888888889 | ERRO MC-SIM(S/N): 77.90157845868153 | MC-NAO(N/S): [4277 2023] | MC-SIM (S/N): [ 714 2517] | Criterion: entropy, | ALVO: DIABETES\n",
      "Depht: 40 | Split: 1900 | Acurácia: 0.7124121288427238 | ERRO MC-NAO(N/S): 67.7936507936508 | ERRO MC-SIM(S/N): 77.9634787991334 | MC-NAO(N/S): [4271 2029] | MC-SIM (S/N): [ 712 2519] | Criterion: entropy, | ALVO: DIABETES\n",
      "Depht: 40 | Split: 2000 | Acurácia: 0.7124121288427238 | ERRO MC-NAO(N/S): 67.7936507936508 | ERRO MC-SIM(S/N): 77.9634787991334 | MC-NAO(N/S): [4271 2029] | MC-SIM (S/N): [ 712 2519] | Criterion: entropy, | ALVO: DIABETES\n",
      "Depht: 45 | Split: 200 | Acurácia: 0.695729724058336 | ERRO MC-NAO(N/S): 67.33333333333334 | ERRO MC-SIM(S/N): 73.93995666976168 | MC-NAO(N/S): [4242 2058] | MC-SIM (S/N): [ 842 2389] | Criterion: entropy, | ALVO: DIABETES\n",
      "Depht: 45 | Split: 300 | Acurácia: 0.7034938621340887 | ERRO MC-NAO(N/S): 68.25396825396825 | ERRO MC-SIM(S/N): 74.43515939337667 | MC-NAO(N/S): [4300 2000] | MC-SIM (S/N): [ 826 2405] | Criterion: entropy, | ALVO: DIABETES\n",
      "Depht: 45 | Split: 400 | Acurácia: 0.7071660896023503 | ERRO MC-NAO(N/S): 69.17460317460316 | ERRO MC-SIM(S/N): 73.72330547818012 | MC-NAO(N/S): [4358 1942] | MC-SIM (S/N): [ 849 2382] | Criterion: entropy, | ALVO: DIABETES\n",
      "Depht: 45 | Split: 500 | Acurácia: 0.7176581680830972 | ERRO MC-NAO(N/S): 71.14285714285714 | ERRO MC-SIM(S/N): 72.98050139275766 | MC-NAO(N/S): [4482 1818] | MC-SIM (S/N): [ 873 2358] | Criterion: entropy, | ALVO: DIABETES\n",
      "Depht: 45 | Split: 600 | Acurácia: 0.7086349805896548 | ERRO MC-NAO(N/S): 69.15873015873015 | ERRO MC-SIM(S/N): 74.18755803156917 | MC-NAO(N/S): [4357 1943] | MC-SIM (S/N): [ 834 2397] | Criterion: entropy, | ALVO: DIABETES\n",
      "Depht: 45 | Split: 700 | Acurácia: 0.706221802539083 | ERRO MC-NAO(N/S): 67.76190476190476 | ERRO MC-SIM(S/N): 76.19931909625504 | MC-NAO(N/S): [4269 2031] | MC-SIM (S/N): [ 769 2462] | Criterion: entropy, | ALVO: DIABETES\n",
      "Depht: 45 | Split: 800 | Acurácia: 0.7061168817542756 | ERRO MC-NAO(N/S): 67.65079365079364 | ERRO MC-SIM(S/N): 76.38502011761065 | MC-NAO(N/S): [4262 2038] | MC-SIM (S/N): [ 763 2468] | Criterion: entropy, | ALVO: DIABETES\n",
      "Depht: 45 | Split: 900 | Acurácia: 0.7072710103871577 | ERRO MC-NAO(N/S): 67.92063492063491 | ERRO MC-SIM(S/N): 76.19931909625504 | MC-NAO(N/S): [4279 2021] | MC-SIM (S/N): [ 769 2462] | Criterion: entropy, | ALVO: DIABETES\n",
      "Depht: 45 | Split: 1000 | Acurácia: 0.7065365648935054 | ERRO MC-NAO(N/S): 67.96825396825398 | ERRO MC-SIM(S/N): 75.88981739399567 | MC-NAO(N/S): [4282 2018] | MC-SIM (S/N): [ 779 2452] | Criterion: entropy, | ALVO: DIABETES\n",
      "Depht: 45 | Split: 1100 | Acurácia: 0.7055922778302381 | ERRO MC-NAO(N/S): 67.04761904761905 | ERRO MC-SIM(S/N): 77.40637573506655 | MC-NAO(N/S): [4224 2076] | MC-SIM (S/N): [ 730 2501] | Criterion: entropy, | ALVO: DIABETES\n",
      "Depht: 45 | Split: 1200 | Acurácia: 0.7055922778302381 | ERRO MC-NAO(N/S): 67.04761904761905 | ERRO MC-SIM(S/N): 77.40637573506655 | MC-NAO(N/S): [4224 2076] | MC-SIM (S/N): [ 730 2501] | Criterion: entropy, | ALVO: DIABETES\n",
      "Depht: 45 | Split: 1300 | Acurácia: 0.7138810198300283 | ERRO MC-NAO(N/S): 68.44444444444444 | ERRO MC-SIM(S/N): 77.12782420303311 | MC-NAO(N/S): [4312 1988] | MC-SIM (S/N): [ 739 2492] | Criterion: entropy, | ALVO: DIABETES\n",
      "Depht: 45 | Split: 1400 | Acurácia: 0.713356415905991 | ERRO MC-NAO(N/S): 68.19047619047619 | ERRO MC-SIM(S/N): 77.46827607551842 | MC-NAO(N/S): [4296 2004] | MC-SIM (S/N): [ 728 2503] | Criterion: entropy, | ALVO: DIABETES\n",
      "Depht: 45 | Split: 1500 | Acurácia: 0.713356415905991 | ERRO MC-NAO(N/S): 68.19047619047619 | ERRO MC-SIM(S/N): 77.46827607551842 | MC-NAO(N/S): [4296 2004] | MC-SIM (S/N): [ 728 2503] | Criterion: entropy, | ALVO: DIABETES\n",
      "Depht: 45 | Split: 1600 | Acurácia: 0.7128318119819537 | ERRO MC-NAO(N/S): 67.88888888888889 | ERRO MC-SIM(S/N): 77.90157845868153 | MC-NAO(N/S): [4277 2023] | MC-SIM (S/N): [ 714 2517] | Criterion: entropy, | ALVO: DIABETES\n",
      "Depht: 45 | Split: 1700 | Acurácia: 0.7128318119819537 | ERRO MC-NAO(N/S): 67.88888888888889 | ERRO MC-SIM(S/N): 77.90157845868153 | MC-NAO(N/S): [4277 2023] | MC-SIM (S/N): [ 714 2517] | Criterion: entropy, | ALVO: DIABETES\n",
      "Depht: 45 | Split: 1800 | Acurácia: 0.7128318119819537 | ERRO MC-NAO(N/S): 67.88888888888889 | ERRO MC-SIM(S/N): 77.90157845868153 | MC-NAO(N/S): [4277 2023] | MC-SIM (S/N): [ 714 2517] | Criterion: entropy, | ALVO: DIABETES\n",
      "Depht: 45 | Split: 1900 | Acurácia: 0.7124121288427238 | ERRO MC-NAO(N/S): 67.7936507936508 | ERRO MC-SIM(S/N): 77.9634787991334 | MC-NAO(N/S): [4271 2029] | MC-SIM (S/N): [ 712 2519] | Criterion: entropy, | ALVO: DIABETES\n",
      "Depht: 45 | Split: 2000 | Acurácia: 0.7124121288427238 | ERRO MC-NAO(N/S): 67.7936507936508 | ERRO MC-SIM(S/N): 77.9634787991334 | MC-NAO(N/S): [4271 2029] | MC-SIM (S/N): [ 712 2519] | Criterion: entropy, | ALVO: DIABETES\n",
      "Depht: 50 | Split: 200 | Acurácia: 0.6959395656279509 | ERRO MC-NAO(N/S): 67.33333333333334 | ERRO MC-SIM(S/N): 74.00185701021356 | MC-NAO(N/S): [4242 2058] | MC-SIM (S/N): [ 840 2391] | Criterion: entropy, | ALVO: DIABETES\n",
      "Depht: 50 | Split: 300 | Acurácia: 0.7034938621340887 | ERRO MC-NAO(N/S): 68.25396825396825 | ERRO MC-SIM(S/N): 74.43515939337667 | MC-NAO(N/S): [4300 2000] | MC-SIM (S/N): [ 826 2405] | Criterion: entropy, | ALVO: DIABETES\n",
      "Depht: 50 | Split: 400 | Acurácia: 0.7071660896023503 | ERRO MC-NAO(N/S): 69.17460317460316 | ERRO MC-SIM(S/N): 73.72330547818012 | MC-NAO(N/S): [4358 1942] | MC-SIM (S/N): [ 849 2382] | Criterion: entropy, | ALVO: DIABETES\n",
      "Depht: 50 | Split: 500 | Acurácia: 0.7179729304375196 | ERRO MC-NAO(N/S): 71.19047619047619 | ERRO MC-SIM(S/N): 72.98050139275766 | MC-NAO(N/S): [4485 1815] | MC-SIM (S/N): [ 873 2358] | Criterion: entropy, | ALVO: DIABETES\n",
      "Depht: 50 | Split: 600 | Acurácia: 0.7087399013744623 | ERRO MC-NAO(N/S): 69.15873015873015 | ERRO MC-SIM(S/N): 74.2185082017951 | MC-NAO(N/S): [4357 1943] | MC-SIM (S/N): [ 833 2398] | Criterion: entropy, | ALVO: DIABETES\n",
      "Depht: 50 | Split: 700 | Acurácia: 0.706221802539083 | ERRO MC-NAO(N/S): 67.76190476190476 | ERRO MC-SIM(S/N): 76.19931909625504 | MC-NAO(N/S): [4269 2031] | MC-SIM (S/N): [ 769 2462] | Criterion: entropy, | ALVO: DIABETES\n",
      "Depht: 50 | Split: 800 | Acurácia: 0.7061168817542756 | ERRO MC-NAO(N/S): 67.65079365079364 | ERRO MC-SIM(S/N): 76.38502011761065 | MC-NAO(N/S): [4262 2038] | MC-SIM (S/N): [ 763 2468] | Criterion: entropy, | ALVO: DIABETES\n",
      "Depht: 50 | Split: 900 | Acurácia: 0.7072710103871577 | ERRO MC-NAO(N/S): 67.92063492063491 | ERRO MC-SIM(S/N): 76.19931909625504 | MC-NAO(N/S): [4279 2021] | MC-SIM (S/N): [ 769 2462] | Criterion: entropy, | ALVO: DIABETES\n",
      "Depht: 50 | Split: 1000 | Acurácia: 0.7065365648935054 | ERRO MC-NAO(N/S): 67.96825396825398 | ERRO MC-SIM(S/N): 75.88981739399567 | MC-NAO(N/S): [4282 2018] | MC-SIM (S/N): [ 779 2452] | Criterion: entropy, | ALVO: DIABETES\n",
      "Depht: 50 | Split: 1100 | Acurácia: 0.7055922778302381 | ERRO MC-NAO(N/S): 67.04761904761905 | ERRO MC-SIM(S/N): 77.40637573506655 | MC-NAO(N/S): [4224 2076] | MC-SIM (S/N): [ 730 2501] | Criterion: entropy, | ALVO: DIABETES\n",
      "Depht: 50 | Split: 1200 | Acurácia: 0.7055922778302381 | ERRO MC-NAO(N/S): 67.04761904761905 | ERRO MC-SIM(S/N): 77.40637573506655 | MC-NAO(N/S): [4224 2076] | MC-SIM (S/N): [ 730 2501] | Criterion: entropy, | ALVO: DIABETES\n",
      "Depht: 50 | Split: 1300 | Acurácia: 0.7138810198300283 | ERRO MC-NAO(N/S): 68.44444444444444 | ERRO MC-SIM(S/N): 77.12782420303311 | MC-NAO(N/S): [4312 1988] | MC-SIM (S/N): [ 739 2492] | Criterion: entropy, | ALVO: DIABETES\n",
      "Depht: 50 | Split: 1400 | Acurácia: 0.713356415905991 | ERRO MC-NAO(N/S): 68.19047619047619 | ERRO MC-SIM(S/N): 77.46827607551842 | MC-NAO(N/S): [4296 2004] | MC-SIM (S/N): [ 728 2503] | Criterion: entropy, | ALVO: DIABETES\n",
      "Depht: 50 | Split: 1500 | Acurácia: 0.713356415905991 | ERRO MC-NAO(N/S): 68.19047619047619 | ERRO MC-SIM(S/N): 77.46827607551842 | MC-NAO(N/S): [4296 2004] | MC-SIM (S/N): [ 728 2503] | Criterion: entropy, | ALVO: DIABETES\n",
      "Depht: 50 | Split: 1600 | Acurácia: 0.7128318119819537 | ERRO MC-NAO(N/S): 67.88888888888889 | ERRO MC-SIM(S/N): 77.90157845868153 | MC-NAO(N/S): [4277 2023] | MC-SIM (S/N): [ 714 2517] | Criterion: entropy, | ALVO: DIABETES\n",
      "Depht: 50 | Split: 1700 | Acurácia: 0.7128318119819537 | ERRO MC-NAO(N/S): 67.88888888888889 | ERRO MC-SIM(S/N): 77.90157845868153 | MC-NAO(N/S): [4277 2023] | MC-SIM (S/N): [ 714 2517] | Criterion: entropy, | ALVO: DIABETES\n",
      "Depht: 50 | Split: 1800 | Acurácia: 0.7128318119819537 | ERRO MC-NAO(N/S): 67.88888888888889 | ERRO MC-SIM(S/N): 77.90157845868153 | MC-NAO(N/S): [4277 2023] | MC-SIM (S/N): [ 714 2517] | Criterion: entropy, | ALVO: DIABETES\n",
      "Depht: 50 | Split: 1900 | Acurácia: 0.7124121288427238 | ERRO MC-NAO(N/S): 67.7936507936508 | ERRO MC-SIM(S/N): 77.9634787991334 | MC-NAO(N/S): [4271 2029] | MC-SIM (S/N): [ 712 2519] | Criterion: entropy, | ALVO: DIABETES\n",
      "Depht: 50 | Split: 2000 | Acurácia: 0.7124121288427238 | ERRO MC-NAO(N/S): 67.7936507936508 | ERRO MC-SIM(S/N): 77.9634787991334 | MC-NAO(N/S): [4271 2029] | MC-SIM (S/N): [ 712 2519] | Criterion: entropy, | ALVO: DIABETES\n"
     ]
    }
   ],
   "source": [
    "# Criação de modelos com ENTROPY\n",
    "TP_CRITERION = 'entropy'\n",
    "func_instancia_classif(TP_CRITERION, NU_DEPHT_INI, NU_DEPHT_FIM, NU_DEPHT_INC, NU_SPLIT_INI, NU_SPLIT_FIM, NU_SPLIT_INC,\n",
    "                       y_train, y_test, X_train, X_test, 'DIABETES')"
   ]
  },
  {
   "cell_type": "code",
   "execution_count": 40,
   "metadata": {
    "colab": {
     "base_uri": "https://localhost:8080/",
     "height": 1000
    },
    "colab_type": "code",
    "id": "FXvk-OvuwQ8K",
    "outputId": "3f54c665-fa7c-4833-c37f-b9d30185a1d1"
   },
   "outputs": [
    {
     "name": "stdout",
     "output_type": "stream",
     "text": [
      "\n",
      "RESULTADOS COM GINI\n",
      "\n",
      "Depht: 5 | Split: 200 | Acurácia: 0.6577483999580317 | ERRO MC-NAO(N/S): 64.22363166549212 | ERRO MC-SIM(S/N): 78.76106194690266 | MC-NAO(N/S): [5468 3046] | MC-SIM (S/N): [216 801] | Criterion: gini, | ALVO: DIABETES\n",
      "Depht: 5 | Split: 300 | Acurácia: 0.6577483999580317 | ERRO MC-NAO(N/S): 64.22363166549212 | ERRO MC-SIM(S/N): 78.76106194690266 | MC-NAO(N/S): [5468 3046] | MC-SIM (S/N): [216 801] | Criterion: gini, | ALVO: DIABETES\n",
      "Depht: 5 | Split: 400 | Acurácia: 0.6577483999580317 | ERRO MC-NAO(N/S): 64.22363166549212 | ERRO MC-SIM(S/N): 78.76106194690266 | MC-NAO(N/S): [5468 3046] | MC-SIM (S/N): [216 801] | Criterion: gini, | ALVO: DIABETES\n",
      "Depht: 5 | Split: 500 | Acurácia: 0.6648830133249397 | ERRO MC-NAO(N/S): 65.12802443035001 | ERRO MC-SIM(S/N): 77.87610619469027 | MC-NAO(N/S): [5545 2969] | MC-SIM (S/N): [225 792] | Criterion: gini, | ALVO: DIABETES\n",
      "Depht: 5 | Split: 600 | Acurácia: 0.6646731717553247 | ERRO MC-NAO(N/S): 65.09278834860231 | ERRO MC-SIM(S/N): 77.97443461160276 | MC-NAO(N/S): [5542 2972] | MC-SIM (S/N): [224 793] | Criterion: gini, | ALVO: DIABETES\n",
      "Depht: 5 | Split: 700 | Acurácia: 0.6646731717553247 | ERRO MC-NAO(N/S): 65.09278834860231 | ERRO MC-SIM(S/N): 77.97443461160276 | MC-NAO(N/S): [5542 2972] | MC-SIM (S/N): [224 793] | Criterion: gini, | ALVO: DIABETES\n",
      "Depht: 5 | Split: 800 | Acurácia: 0.66362396390725 | ERRO MC-NAO(N/S): 64.9753347427766 | ERRO MC-SIM(S/N): 77.97443461160276 | MC-NAO(N/S): [5532 2982] | MC-SIM (S/N): [224 793] | Criterion: gini, | ALVO: DIABETES\n",
      "Depht: 5 | Split: 900 | Acurácia: 0.66362396390725 | ERRO MC-NAO(N/S): 64.9753347427766 | ERRO MC-SIM(S/N): 77.97443461160276 | MC-NAO(N/S): [5532 2982] | MC-SIM (S/N): [224 793] | Criterion: gini, | ALVO: DIABETES\n",
      "Depht: 5 | Split: 1000 | Acurácia: 0.66362396390725 | ERRO MC-NAO(N/S): 64.9753347427766 | ERRO MC-SIM(S/N): 77.97443461160276 | MC-NAO(N/S): [5532 2982] | MC-SIM (S/N): [224 793] | Criterion: gini, | ALVO: DIABETES\n",
      "Depht: 5 | Split: 1100 | Acurácia: 0.6873360612737384 | ERRO MC-NAO(N/S): 67.95865633074936 | ERRO MC-SIM(S/N): 75.22123893805309 | MC-NAO(N/S): [5786 2728] | MC-SIM (S/N): [252 765] | Criterion: gini, | ALVO: DIABETES\n",
      "Depht: 5 | Split: 1200 | Acurácia: 0.709579267652922 | ERRO MC-NAO(N/S): 70.75405214940099 | ERRO MC-SIM(S/N): 72.66470009832841 | MC-NAO(N/S): [6024 2490] | MC-SIM (S/N): [278 739] | Criterion: gini, | ALVO: DIABETES\n",
      "Depht: 5 | Split: 1300 | Acurácia: 0.6938411499318015 | ERRO MC-NAO(N/S): 68.8043222926944 | ERRO MC-SIM(S/N): 74.23795476892822 | MC-NAO(N/S): [5858 2656] | MC-SIM (S/N): [262 755] | Criterion: gini, | ALVO: DIABETES\n",
      "Depht: 5 | Split: 1400 | Acurácia: 0.7030741789948589 | ERRO MC-NAO(N/S): 70.01409443269908 | ERRO MC-SIM(S/N): 72.7630285152409 | MC-NAO(N/S): [5961 2553] | MC-SIM (S/N): [277 740] | Criterion: gini, | ALVO: DIABETES\n",
      "Depht: 5 | Split: 1500 | Acurácia: 0.7030741789948589 | ERRO MC-NAO(N/S): 70.01409443269908 | ERRO MC-SIM(S/N): 72.7630285152409 | MC-NAO(N/S): [5961 2553] | MC-SIM (S/N): [277 740] | Criterion: gini, | ALVO: DIABETES\n",
      "Depht: 5 | Split: 1600 | Acurácia: 0.7030741789948589 | ERRO MC-NAO(N/S): 70.01409443269908 | ERRO MC-SIM(S/N): 72.7630285152409 | MC-NAO(N/S): [5961 2553] | MC-SIM (S/N): [277 740] | Criterion: gini, | ALVO: DIABETES\n",
      "Depht: 5 | Split: 1700 | Acurácia: 0.7030741789948589 | ERRO MC-NAO(N/S): 70.01409443269908 | ERRO MC-SIM(S/N): 72.7630285152409 | MC-NAO(N/S): [5961 2553] | MC-SIM (S/N): [277 740] | Criterion: gini, | ALVO: DIABETES\n",
      "Depht: 5 | Split: 1800 | Acurácia: 0.7030741789948589 | ERRO MC-NAO(N/S): 70.01409443269908 | ERRO MC-SIM(S/N): 72.7630285152409 | MC-NAO(N/S): [5961 2553] | MC-SIM (S/N): [277 740] | Criterion: gini, | ALVO: DIABETES\n",
      "Depht: 5 | Split: 1900 | Acurácia: 0.7030741789948589 | ERRO MC-NAO(N/S): 70.01409443269908 | ERRO MC-SIM(S/N): 72.7630285152409 | MC-NAO(N/S): [5961 2553] | MC-SIM (S/N): [277 740] | Criterion: gini, | ALVO: DIABETES\n",
      "Depht: 5 | Split: 2000 | Acurácia: 0.7030741789948589 | ERRO MC-NAO(N/S): 70.01409443269908 | ERRO MC-SIM(S/N): 72.7630285152409 | MC-NAO(N/S): [5961 2553] | MC-SIM (S/N): [277 740] | Criterion: gini, | ALVO: DIABETES\n",
      "Depht: 10 | Split: 200 | Acurácia: 0.686601615780086 | ERRO MC-NAO(N/S): 68.01738313366221 | ERRO MC-SIM(S/N): 74.04129793510324 | MC-NAO(N/S): [5791 2723] | MC-SIM (S/N): [264 753] | Criterion: gini, | ALVO: DIABETES\n",
      "Depht: 10 | Split: 300 | Acurácia: 0.6815654181093275 | ERRO MC-NAO(N/S): 67.35964294103829 | ERRO MC-SIM(S/N): 74.82792527040314 | MC-NAO(N/S): [5735 2779] | MC-SIM (S/N): [256 761] | Criterion: gini, | ALVO: DIABETES\n",
      "Depht: 10 | Split: 400 | Acurácia: 0.6658273003882069 | ERRO MC-NAO(N/S): 65.38642236316656 | ERRO MC-SIM(S/N): 76.59783677482793 | MC-NAO(N/S): [5567 2947] | MC-SIM (S/N): [238 779] | Criterion: gini, | ALVO: DIABETES\n",
      "Depht: 10 | Split: 500 | Acurácia: 0.6750603294512643 | ERRO MC-NAO(N/S): 66.51397697909326 | ERRO MC-SIM(S/N): 75.81120943952803 | MC-NAO(N/S): [5663 2851] | MC-SIM (S/N): [246 771] | Criterion: gini, | ALVO: DIABETES\n",
      "Depht: 10 | Split: 600 | Acurácia: 0.6782079529954884 | ERRO MC-NAO(N/S): 66.86633779657035 | ERRO MC-SIM(S/N): 75.81120943952803 | MC-NAO(N/S): [5693 2821] | MC-SIM (S/N): [246 771] | Criterion: gini, | ALVO: DIABETES\n",
      "Depht: 10 | Split: 700 | Acurácia: 0.6869163781345085 | ERRO MC-NAO(N/S): 67.92342024900165 | ERRO MC-SIM(S/N): 75.12291052114061 | MC-NAO(N/S): [5783 2731] | MC-SIM (S/N): [253 764] | Criterion: gini, | ALVO: DIABETES\n",
      "Depht: 10 | Split: 800 | Acurácia: 0.6860770118560486 | ERRO MC-NAO(N/S): 67.80596664317595 | ERRO MC-SIM(S/N): 75.31956735496559 | MC-NAO(N/S): [5773 2741] | MC-SIM (S/N): [251 766] | Criterion: gini, | ALVO: DIABETES\n",
      "Depht: 10 | Split: 900 | Acurácia: 0.6756898541601091 | ERRO MC-NAO(N/S): 66.51397697909326 | ERRO MC-SIM(S/N): 76.40117994100295 | MC-NAO(N/S): [5663 2851] | MC-SIM (S/N): [240 777] | Criterion: gini, | ALVO: DIABETES\n",
      "Depht: 10 | Split: 1000 | Acurácia: 0.6571188752491869 | ERRO MC-NAO(N/S): 64.117923420249 | ERRO MC-SIM(S/N): 79.05604719764011 | MC-NAO(N/S): [5459 3055] | MC-SIM (S/N): [213 804] | Criterion: gini, | ALVO: DIABETES\n",
      "Depht: 10 | Split: 1100 | Acurácia: 0.6858671702864337 | ERRO MC-NAO(N/S): 67.81771200375852 | ERRO MC-SIM(S/N): 75.02458210422812 | MC-NAO(N/S): [5774 2740] | MC-SIM (S/N): [254 763] | Criterion: gini, | ALVO: DIABETES\n",
      "Depht: 10 | Split: 1200 | Acurácia: 0.7085300598048473 | ERRO MC-NAO(N/S): 70.66008926474044 | ERRO MC-SIM(S/N): 72.46804326450344 | MC-NAO(N/S): [6016 2498] | MC-SIM (S/N): [280 737] | Criterion: gini, | ALVO: DIABETES\n",
      "Depht: 10 | Split: 1300 | Acurácia: 0.6927919420837267 | ERRO MC-NAO(N/S): 68.71035940803382 | ERRO MC-SIM(S/N): 74.04129793510324 | MC-NAO(N/S): [5850 2664] | MC-SIM (S/N): [264 753] | Criterion: gini, | ALVO: DIABETES\n",
      "Depht: 10 | Split: 1400 | Acurácia: 0.7020249711467842 | ERRO MC-NAO(N/S): 69.92013154803853 | ERRO MC-SIM(S/N): 72.56637168141593 | MC-NAO(N/S): [5953 2561] | MC-SIM (S/N): [279 738] | Criterion: gini, | ALVO: DIABETES\n",
      "Depht: 10 | Split: 1500 | Acurácia: 0.7020249711467842 | ERRO MC-NAO(N/S): 69.92013154803853 | ERRO MC-SIM(S/N): 72.56637168141593 | MC-NAO(N/S): [5953 2561] | MC-SIM (S/N): [279 738] | Criterion: gini, | ALVO: DIABETES\n",
      "Depht: 10 | Split: 1600 | Acurácia: 0.7018151295771692 | ERRO MC-NAO(N/S): 69.88489546629081 | ERRO MC-SIM(S/N): 72.66470009832841 | MC-NAO(N/S): [5950 2564] | MC-SIM (S/N): [278 739] | Criterion: gini, | ALVO: DIABETES\n",
      "Depht: 10 | Split: 1700 | Acurácia: 0.7041233868429336 | ERRO MC-NAO(N/S): 70.15503875968993 | ERRO MC-SIM(S/N): 72.56637168141593 | MC-NAO(N/S): [5973 2541] | MC-SIM (S/N): [279 738] | Criterion: gini, | ALVO: DIABETES\n",
      "Depht: 10 | Split: 1800 | Acurácia: 0.6805162102612528 | ERRO MC-NAO(N/S): 67.0072821235612 | ERRO MC-SIM(S/N): 76.7944936086529 | MC-NAO(N/S): [5705 2809] | MC-SIM (S/N): [236 781] | Criterion: gini, | ALVO: DIABETES\n",
      "Depht: 10 | Split: 1900 | Acurácia: 0.6805162102612528 | ERRO MC-NAO(N/S): 67.0072821235612 | ERRO MC-SIM(S/N): 76.7944936086529 | MC-NAO(N/S): [5705 2809] | MC-SIM (S/N): [236 781] | Criterion: gini, | ALVO: DIABETES\n",
      "Depht: 10 | Split: 2000 | Acurácia: 0.679676843982793 | ERRO MC-NAO(N/S): 66.91331923890064 | ERRO MC-SIM(S/N): 76.7944936086529 | MC-NAO(N/S): [5697 2817] | MC-SIM (S/N): [236 781] | Criterion: gini, | ALVO: DIABETES\n",
      "Depht: 15 | Split: 200 | Acurácia: 0.6976182981848704 | ERRO MC-NAO(N/S): 69.80267794221282 | ERRO MC-SIM(S/N): 69.41986234021633 | MC-NAO(N/S): [5943 2571] | MC-SIM (S/N): [311 706] | Criterion: gini, | ALVO: DIABETES\n",
      "Depht: 15 | Split: 300 | Acurácia: 0.6858671702864337 | ERRO MC-NAO(N/S): 68.2170542635659 | ERRO MC-SIM(S/N): 71.68141592920354 | MC-NAO(N/S): [5808 2706] | MC-SIM (S/N): [288 729] | Criterion: gini, | ALVO: DIABETES\n",
      "Depht: 15 | Split: 400 | Acurácia: 0.6658273003882069 | ERRO MC-NAO(N/S): 65.58609349307024 | ERRO MC-SIM(S/N): 74.92625368731564 | MC-NAO(N/S): [5584 2930] | MC-SIM (S/N): [255 762] | Criterion: gini, | ALVO: DIABETES\n",
      "Depht: 15 | Split: 500 | Acurácia: 0.6772636659322212 | ERRO MC-NAO(N/S): 66.93680996006577 | ERRO MC-SIM(S/N): 74.3362831858407 | MC-NAO(N/S): [5699 2815] | MC-SIM (S/N): [261 756] | Criterion: gini, | ALVO: DIABETES\n",
      "Depht: 15 | Split: 600 | Acurácia: 0.6831392298814395 | ERRO MC-NAO(N/S): 67.64153159501996 | ERRO MC-SIM(S/N): 73.94296951819076 | MC-NAO(N/S): [5759 2755] | MC-SIM (S/N): [265 752] | Criterion: gini, | ALVO: DIABETES\n",
      "Depht: 15 | Split: 700 | Acurácia: 0.6918476550204595 | ERRO MC-NAO(N/S): 68.74559548978154 | ERRO MC-SIM(S/N): 72.8613569321534 | MC-NAO(N/S): [5853 2661] | MC-SIM (S/N): [276 741] | Criterion: gini, | ALVO: DIABETES\n",
      "Depht: 15 | Split: 800 | Acurácia: 0.690378764033155 | ERRO MC-NAO(N/S): 68.52243363871271 | ERRO MC-SIM(S/N): 73.35299901671583 | MC-NAO(N/S): [5834 2680] | MC-SIM (S/N): [271 746] | Criterion: gini, | ALVO: DIABETES\n",
      "Depht: 15 | Split: 900 | Acurácia: 0.6767390620081838 | ERRO MC-NAO(N/S): 66.70190274841437 | ERRO MC-SIM(S/N): 75.81120943952803 | MC-NAO(N/S): [5679 2835] | MC-SIM (S/N): [246 771] | Criterion: gini, | ALVO: DIABETES\n",
      "Depht: 15 | Split: 1000 | Acurácia: 0.6574336376036093 | ERRO MC-NAO(N/S): 64.20014094432699 | ERRO MC-SIM(S/N): 78.66273352999016 | MC-NAO(N/S): [5466 3048] | MC-SIM (S/N): [217 800] | Criterion: gini, | ALVO: DIABETES\n",
      "Depht: 15 | Split: 1100 | Acurácia: 0.6859720910712412 | ERRO MC-NAO(N/S): 67.86469344608881 | ERRO MC-SIM(S/N): 74.72959685349066 | MC-NAO(N/S): [5778 2736] | MC-SIM (S/N): [257 760] | Criterion: gini, | ALVO: DIABETES\n",
      "Depht: 15 | Split: 1200 | Acurácia: 0.7088448221592698 | ERRO MC-NAO(N/S): 70.74230678881841 | ERRO MC-SIM(S/N): 72.0747295968535 | MC-NAO(N/S): [6023 2491] | MC-SIM (S/N): [284 733] | Criterion: gini, | ALVO: DIABETES\n",
      "Depht: 15 | Split: 1300 | Acurácia: 0.6928968628685342 | ERRO MC-NAO(N/S): 68.7573408503641 | ERRO MC-SIM(S/N): 73.74631268436579 | MC-NAO(N/S): [5854 2660] | MC-SIM (S/N): [267 750] | Criterion: gini, | ALVO: DIABETES\n",
      "Depht: 15 | Split: 1400 | Acurácia: 0.7025495750708215 | ERRO MC-NAO(N/S): 70.01409443269908 | ERRO MC-SIM(S/N): 72.27138643067846 | MC-NAO(N/S): [5961 2553] | MC-SIM (S/N): [282 735] | Criterion: gini, | ALVO: DIABETES\n",
      "Depht: 15 | Split: 1500 | Acurácia: 0.7025495750708215 | ERRO MC-NAO(N/S): 70.01409443269908 | ERRO MC-SIM(S/N): 72.27138643067846 | MC-NAO(N/S): [5961 2553] | MC-SIM (S/N): [282 735] | Criterion: gini, | ALVO: DIABETES\n",
      "Depht: 15 | Split: 1600 | Acurácia: 0.7023397335012066 | ERRO MC-NAO(N/S): 69.97885835095137 | ERRO MC-SIM(S/N): 72.36971484759096 | MC-NAO(N/S): [5958 2556] | MC-SIM (S/N): [281 736] | Criterion: gini, | ALVO: DIABETES\n",
      "Depht: 15 | Split: 1700 | Acurácia: 0.7046479907669709 | ERRO MC-NAO(N/S): 70.24900164435049 | ERRO MC-SIM(S/N): 72.27138643067846 | MC-NAO(N/S): [5981 2533] | MC-SIM (S/N): [282 735] | Criterion: gini, | ALVO: DIABETES\n",
      "Depht: 15 | Split: 1800 | Acurácia: 0.68104081418529 | ERRO MC-NAO(N/S): 67.10124500822175 | ERRO MC-SIM(S/N): 76.49950835791543 | MC-NAO(N/S): [5713 2801] | MC-SIM (S/N): [239 778] | Criterion: gini, | ALVO: DIABETES\n",
      "Depht: 15 | Split: 1900 | Acurácia: 0.68104081418529 | ERRO MC-NAO(N/S): 67.10124500822175 | ERRO MC-SIM(S/N): 76.49950835791543 | MC-NAO(N/S): [5713 2801] | MC-SIM (S/N): [239 778] | Criterion: gini, | ALVO: DIABETES\n",
      "Depht: 15 | Split: 2000 | Acurácia: 0.6799916063372154 | ERRO MC-NAO(N/S): 66.96030068123092 | ERRO MC-SIM(S/N): 76.69616519174042 | MC-NAO(N/S): [5701 2813] | MC-SIM (S/N): [237 780] | Criterion: gini, | ALVO: DIABETES\n",
      "Depht: 20 | Split: 200 | Acurácia: 0.7039135452733186 | ERRO MC-NAO(N/S): 70.91848719755697 | ERRO MC-SIM(S/N): 65.97836774827925 | MC-NAO(N/S): [6038 2476] | MC-SIM (S/N): [346 671] | Criterion: gini, | ALVO: DIABETES\n",
      "Depht: 20 | Split: 300 | Acurácia: 0.6894344769698877 | ERRO MC-NAO(N/S): 68.94526661968523 | ERRO MC-SIM(S/N): 68.92822025565388 | MC-NAO(N/S): [5870 2644] | MC-SIM (S/N): [316 701] | Criterion: gini, | ALVO: DIABETES\n",
      "Depht: 20 | Split: 400 | Acurácia: 0.6679257160843564 | ERRO MC-NAO(N/S): 66.02067183462532 | ERRO MC-SIM(S/N): 73.25467059980335 | MC-NAO(N/S): [5621 2893] | MC-SIM (S/N): [272 745] | Criterion: gini, | ALVO: DIABETES\n",
      "Depht: 20 | Split: 500 | Acurácia: 0.6793620816283705 | ERRO MC-NAO(N/S): 67.32440685929058 | ERRO MC-SIM(S/N): 73.05801376597837 | MC-NAO(N/S): [5732 2782] | MC-SIM (S/N): [274 743] | Criterion: gini, | ALVO: DIABETES\n",
      "Depht: 20 | Split: 600 | Acurácia: 0.684817962438359 | ERRO MC-NAO(N/S): 67.87643880667136 | ERRO MC-SIM(S/N): 73.5496558505408 | MC-NAO(N/S): [5779 2735] | MC-SIM (S/N): [269 748] | Criterion: gini, | ALVO: DIABETES\n",
      "Depht: 20 | Split: 700 | Acurácia: 0.6928968628685342 | ERRO MC-NAO(N/S): 68.91003053793752 | ERRO MC-SIM(S/N): 72.46804326450344 | MC-NAO(N/S): [5867 2647] | MC-SIM (S/N): [280 737] | Criterion: gini, | ALVO: DIABETES\n",
      "Depht: 20 | Split: 800 | Acurácia: 0.6916378134508446 | ERRO MC-NAO(N/S): 68.72210476861639 | ERRO MC-SIM(S/N): 72.8613569321534 | MC-NAO(N/S): [5851 2663] | MC-SIM (S/N): [276 741] | Criterion: gini, | ALVO: DIABETES\n",
      "Depht: 20 | Split: 900 | Acurácia: 0.6770538243626062 | ERRO MC-NAO(N/S): 66.7723749119098 | ERRO MC-SIM(S/N): 75.51622418879056 | MC-NAO(N/S): [5685 2829] | MC-SIM (S/N): [249 768] | Criterion: gini, | ALVO: DIABETES\n",
      "Depht: 20 | Split: 1000 | Acurácia: 0.6575385583884168 | ERRO MC-NAO(N/S): 64.2353770260747 | ERRO MC-SIM(S/N): 78.46607669616519 | MC-NAO(N/S): [5469 3045] | MC-SIM (S/N): [219 798] | Criterion: gini, | ALVO: DIABETES\n",
      "Depht: 20 | Split: 1100 | Acurácia: 0.6862868534256636 | ERRO MC-NAO(N/S): 67.93516560958422 | ERRO MC-SIM(S/N): 74.4346116027532 | MC-NAO(N/S): [5784 2730] | MC-SIM (S/N): [260 757] | Criterion: gini, | ALVO: DIABETES\n",
      "Depht: 20 | Split: 1200 | Acurácia: 0.7089497429440772 | ERRO MC-NAO(N/S): 70.77754287056612 | ERRO MC-SIM(S/N): 71.87807276302851 | MC-NAO(N/S): [6026 2488] | MC-SIM (S/N): [286 731] | Criterion: gini, | ALVO: DIABETES\n",
      "Depht: 20 | Split: 1300 | Acurácia: 0.6930017836533418 | ERRO MC-NAO(N/S): 68.79257693211181 | ERRO MC-SIM(S/N): 73.5496558505408 | MC-NAO(N/S): [5857 2657] | MC-SIM (S/N): [269 748] | Criterion: gini, | ALVO: DIABETES\n",
      "Depht: 20 | Split: 1400 | Acurácia: 0.702654495855629 | ERRO MC-NAO(N/S): 70.0493305144468 | ERRO MC-SIM(S/N): 72.0747295968535 | MC-NAO(N/S): [5964 2550] | MC-SIM (S/N): [284 733] | Criterion: gini, | ALVO: DIABETES\n",
      "Depht: 20 | Split: 1500 | Acurácia: 0.702654495855629 | ERRO MC-NAO(N/S): 70.0493305144468 | ERRO MC-SIM(S/N): 72.0747295968535 | MC-NAO(N/S): [5964 2550] | MC-SIM (S/N): [284 733] | Criterion: gini, | ALVO: DIABETES\n",
      "Depht: 20 | Split: 1600 | Acurácia: 0.7024446542860141 | ERRO MC-NAO(N/S): 70.01409443269908 | ERRO MC-SIM(S/N): 72.17305801376598 | MC-NAO(N/S): [5961 2553] | MC-SIM (S/N): [283 734] | Criterion: gini, | ALVO: DIABETES\n",
      "Depht: 20 | Split: 1700 | Acurácia: 0.7047529115517784 | ERRO MC-NAO(N/S): 70.28423772609818 | ERRO MC-SIM(S/N): 72.0747295968535 | MC-NAO(N/S): [5984 2530] | MC-SIM (S/N): [284 733] | Criterion: gini, | ALVO: DIABETES\n",
      "Depht: 20 | Split: 1800 | Acurácia: 0.6811457349700976 | ERRO MC-NAO(N/S): 67.13648108996946 | ERRO MC-SIM(S/N): 76.30285152409046 | MC-NAO(N/S): [5716 2798] | MC-SIM (S/N): [241 776] | Criterion: gini, | ALVO: DIABETES\n",
      "Depht: 20 | Split: 1900 | Acurácia: 0.6811457349700976 | ERRO MC-NAO(N/S): 67.13648108996946 | ERRO MC-SIM(S/N): 76.30285152409046 | MC-NAO(N/S): [5716 2798] | MC-SIM (S/N): [241 776] | Criterion: gini, | ALVO: DIABETES\n",
      "Depht: 20 | Split: 2000 | Acurácia: 0.6800965271220228 | ERRO MC-NAO(N/S): 66.99553676297862 | ERRO MC-SIM(S/N): 76.49950835791543 | MC-NAO(N/S): [5704 2810] | MC-SIM (S/N): [239 778] | Criterion: gini, | ALVO: DIABETES\n",
      "Depht: 25 | Split: 200 | Acurácia: 0.706221802539083 | ERRO MC-NAO(N/S): 71.30608409678177 | ERRO MC-SIM(S/N): 64.89675516224189 | MC-NAO(N/S): [6071 2443] | MC-SIM (S/N): [357 660] | Criterion: gini, | ALVO: DIABETES\n",
      "Depht: 25 | Split: 300 | Acurácia: 0.6914279718812296 | ERRO MC-NAO(N/S): 69.26239135541461 | ERRO MC-SIM(S/N): 68.14159292035399 | MC-NAO(N/S): [5897 2617] | MC-SIM (S/N): [324 693] | Criterion: gini, | ALVO: DIABETES\n",
      "Depht: 25 | Split: 400 | Acurácia: 0.6684503200083937 | ERRO MC-NAO(N/S): 66.14987080103359 | ERRO MC-SIM(S/N): 72.66470009832841 | MC-NAO(N/S): [5632 2882] | MC-SIM (S/N): [278 739] | Criterion: gini, | ALVO: DIABETES\n",
      "Depht: 25 | Split: 500 | Acurácia: 0.6792571608435631 | ERRO MC-NAO(N/S): 67.32440685929058 | ERRO MC-SIM(S/N): 72.95968534906588 | MC-NAO(N/S): [5732 2782] | MC-SIM (S/N): [275 742] | Criterion: gini, | ALVO: DIABETES\n",
      "Depht: 25 | Split: 600 | Acurácia: 0.6845032000839366 | ERRO MC-NAO(N/S): 67.87643880667136 | ERRO MC-SIM(S/N): 73.25467059980335 | MC-NAO(N/S): [5779 2735] | MC-SIM (S/N): [272 745] | Criterion: gini, | ALVO: DIABETES\n",
      "Depht: 25 | Split: 700 | Acurácia: 0.6926870212989193 | ERRO MC-NAO(N/S): 68.91003053793752 | ERRO MC-SIM(S/N): 72.27138643067846 | MC-NAO(N/S): [5867 2647] | MC-SIM (S/N): [282 735] | Criterion: gini, | ALVO: DIABETES\n",
      "Depht: 25 | Split: 800 | Acurácia: 0.6916378134508446 | ERRO MC-NAO(N/S): 68.72210476861639 | ERRO MC-SIM(S/N): 72.8613569321534 | MC-NAO(N/S): [5851 2663] | MC-SIM (S/N): [276 741] | Criterion: gini, | ALVO: DIABETES\n",
      "Depht: 25 | Split: 900 | Acurácia: 0.6770538243626062 | ERRO MC-NAO(N/S): 66.7723749119098 | ERRO MC-SIM(S/N): 75.51622418879056 | MC-NAO(N/S): [5685 2829] | MC-SIM (S/N): [249 768] | Criterion: gini, | ALVO: DIABETES\n",
      "Depht: 25 | Split: 1000 | Acurácia: 0.6573287168188018 | ERRO MC-NAO(N/S): 64.2353770260747 | ERRO MC-SIM(S/N): 78.26941986234021 | MC-NAO(N/S): [5469 3045] | MC-SIM (S/N): [221 796] | Criterion: gini, | ALVO: DIABETES\n",
      "Depht: 25 | Split: 1100 | Acurácia: 0.6862868534256636 | ERRO MC-NAO(N/S): 67.93516560958422 | ERRO MC-SIM(S/N): 74.4346116027532 | MC-NAO(N/S): [5784 2730] | MC-SIM (S/N): [260 757] | Criterion: gini, | ALVO: DIABETES\n",
      "Depht: 25 | Split: 1200 | Acurácia: 0.7087399013744623 | ERRO MC-NAO(N/S): 70.77754287056612 | ERRO MC-SIM(S/N): 71.68141592920354 | MC-NAO(N/S): [6026 2488] | MC-SIM (S/N): [288 729] | Criterion: gini, | ALVO: DIABETES\n",
      "Depht: 25 | Split: 1300 | Acurácia: 0.6927919420837267 | ERRO MC-NAO(N/S): 68.79257693211181 | ERRO MC-SIM(S/N): 73.35299901671583 | MC-NAO(N/S): [5857 2657] | MC-SIM (S/N): [271 746] | Criterion: gini, | ALVO: DIABETES\n",
      "Depht: 25 | Split: 1400 | Acurácia: 0.7024446542860141 | ERRO MC-NAO(N/S): 70.0493305144468 | ERRO MC-SIM(S/N): 71.87807276302851 | MC-NAO(N/S): [5964 2550] | MC-SIM (S/N): [286 731] | Criterion: gini, | ALVO: DIABETES\n",
      "Depht: 25 | Split: 1500 | Acurácia: 0.702654495855629 | ERRO MC-NAO(N/S): 70.0493305144468 | ERRO MC-SIM(S/N): 72.0747295968535 | MC-NAO(N/S): [5964 2550] | MC-SIM (S/N): [284 733] | Criterion: gini, | ALVO: DIABETES\n",
      "Depht: 25 | Split: 1600 | Acurácia: 0.7024446542860141 | ERRO MC-NAO(N/S): 70.01409443269908 | ERRO MC-SIM(S/N): 72.17305801376598 | MC-NAO(N/S): [5961 2553] | MC-SIM (S/N): [283 734] | Criterion: gini, | ALVO: DIABETES\n",
      "Depht: 25 | Split: 1700 | Acurácia: 0.7047529115517784 | ERRO MC-NAO(N/S): 70.28423772609818 | ERRO MC-SIM(S/N): 72.0747295968535 | MC-NAO(N/S): [5984 2530] | MC-SIM (S/N): [284 733] | Criterion: gini, | ALVO: DIABETES\n",
      "Depht: 25 | Split: 1800 | Acurácia: 0.6811457349700976 | ERRO MC-NAO(N/S): 67.13648108996946 | ERRO MC-SIM(S/N): 76.30285152409046 | MC-NAO(N/S): [5716 2798] | MC-SIM (S/N): [241 776] | Criterion: gini, | ALVO: DIABETES\n",
      "Depht: 25 | Split: 1900 | Acurácia: 0.6811457349700976 | ERRO MC-NAO(N/S): 67.13648108996946 | ERRO MC-SIM(S/N): 76.30285152409046 | MC-NAO(N/S): [5716 2798] | MC-SIM (S/N): [241 776] | Criterion: gini, | ALVO: DIABETES\n",
      "Depht: 25 | Split: 2000 | Acurácia: 0.6800965271220228 | ERRO MC-NAO(N/S): 66.99553676297862 | ERRO MC-SIM(S/N): 76.49950835791543 | MC-NAO(N/S): [5704 2810] | MC-SIM (S/N): [239 778] | Criterion: gini, | ALVO: DIABETES\n",
      "Depht: 30 | Split: 200 | Acurácia: 0.7074808519567727 | ERRO MC-NAO(N/S): 71.48226450552032 | ERRO MC-SIM(S/N): 64.60176991150442 | MC-NAO(N/S): [6086 2428] | MC-SIM (S/N): [360 657] | Criterion: gini, | ALVO: DIABETES\n",
      "Depht: 30 | Split: 300 | Acurácia: 0.6917427342356521 | ERRO MC-NAO(N/S): 69.33286351891003 | ERRO MC-SIM(S/N): 67.84660766961652 | MC-NAO(N/S): [5903 2611] | MC-SIM (S/N): [327 690] | Criterion: gini, | ALVO: DIABETES\n",
      "Depht: 30 | Split: 400 | Acurácia: 0.6690798447172385 | ERRO MC-NAO(N/S): 66.23208832511159 | ERRO MC-SIM(S/N): 72.56637168141593 | MC-NAO(N/S): [5639 2875] | MC-SIM (S/N): [279 738] | Criterion: gini, | ALVO: DIABETES\n",
      "Depht: 30 | Split: 500 | Acurácia: 0.679676843982793 | ERRO MC-NAO(N/S): 67.394879022786 | ERRO MC-SIM(S/N): 72.7630285152409 | MC-NAO(N/S): [5738 2776] | MC-SIM (S/N): [277 740] | Criterion: gini, | ALVO: DIABETES\n",
      "Depht: 30 | Split: 600 | Acurácia: 0.685027804007974 | ERRO MC-NAO(N/S): 67.92342024900165 | ERRO MC-SIM(S/N): 73.35299901671583 | MC-NAO(N/S): [5783 2731] | MC-SIM (S/N): [271 746] | Criterion: gini, | ALVO: DIABETES\n",
      "Depht: 30 | Split: 700 | Acurácia: 0.6931067044381491 | ERRO MC-NAO(N/S): 68.9570119802678 | ERRO MC-SIM(S/N): 72.27138643067846 | MC-NAO(N/S): [5871 2643] | MC-SIM (S/N): [282 735] | Criterion: gini, | ALVO: DIABETES\n",
      "Depht: 30 | Split: 800 | Acurácia: 0.691952575805267 | ERRO MC-NAO(N/S): 68.79257693211181 | ERRO MC-SIM(S/N): 72.56637168141593 | MC-NAO(N/S): [5857 2657] | MC-SIM (S/N): [279 738] | Criterion: gini, | ALVO: DIABETES\n",
      "Depht: 30 | Split: 900 | Acurácia: 0.6772636659322212 | ERRO MC-NAO(N/S): 66.81935635424007 | ERRO MC-SIM(S/N): 75.31956735496559 | MC-NAO(N/S): [5689 2825] | MC-SIM (S/N): [251 766] | Criterion: gini, | ALVO: DIABETES\n",
      "Depht: 30 | Split: 1000 | Acurácia: 0.6577483999580317 | ERRO MC-NAO(N/S): 64.28235846840498 | ERRO MC-SIM(S/N): 78.26941986234021 | MC-NAO(N/S): [5473 3041] | MC-SIM (S/N): [221 796] | Criterion: gini, | ALVO: DIABETES\n",
      "Depht: 30 | Split: 1100 | Acurácia: 0.6864966949952785 | ERRO MC-NAO(N/S): 67.9821470519145 | ERRO MC-SIM(S/N): 74.23795476892822 | MC-NAO(N/S): [5788 2726] | MC-SIM (S/N): [262 755] | Criterion: gini, | ALVO: DIABETES\n",
      "Depht: 30 | Split: 1200 | Acurácia: 0.7091595845136922 | ERRO MC-NAO(N/S): 70.82452431289641 | ERRO MC-SIM(S/N): 71.68141592920354 | MC-NAO(N/S): [6030 2484] | MC-SIM (S/N): [288 729] | Criterion: gini, | ALVO: DIABETES\n",
      "Depht: 30 | Split: 1300 | Acurácia: 0.6932116252229567 | ERRO MC-NAO(N/S): 68.83955837444209 | ERRO MC-SIM(S/N): 73.35299901671583 | MC-NAO(N/S): [5861 2653] | MC-SIM (S/N): [271 746] | Criterion: gini, | ALVO: DIABETES\n",
      "Depht: 30 | Split: 1400 | Acurácia: 0.7028643374252439 | ERRO MC-NAO(N/S): 70.09631195677707 | ERRO MC-SIM(S/N): 71.87807276302851 | MC-NAO(N/S): [5968 2546] | MC-SIM (S/N): [286 731] | Criterion: gini, | ALVO: DIABETES\n",
      "Depht: 30 | Split: 1500 | Acurácia: 0.7028643374252439 | ERRO MC-NAO(N/S): 70.09631195677707 | ERRO MC-SIM(S/N): 71.87807276302851 | MC-NAO(N/S): [5968 2546] | MC-SIM (S/N): [286 731] | Criterion: gini, | ALVO: DIABETES\n",
      "Depht: 30 | Split: 1600 | Acurácia: 0.702654495855629 | ERRO MC-NAO(N/S): 70.06107587502936 | ERRO MC-SIM(S/N): 71.976401179941 | MC-NAO(N/S): [5965 2549] | MC-SIM (S/N): [285 732] | Criterion: gini, | ALVO: DIABETES\n",
      "Depht: 30 | Split: 1700 | Acurácia: 0.7049627531213933 | ERRO MC-NAO(N/S): 70.33121916842848 | ERRO MC-SIM(S/N): 71.87807276302851 | MC-NAO(N/S): [5988 2526] | MC-SIM (S/N): [286 731] | Criterion: gini, | ALVO: DIABETES\n",
      "Depht: 30 | Split: 1800 | Acurácia: 0.6809358934004827 | ERRO MC-NAO(N/S): 67.13648108996946 | ERRO MC-SIM(S/N): 76.10619469026548 | MC-NAO(N/S): [5716 2798] | MC-SIM (S/N): [243 774] | Criterion: gini, | ALVO: DIABETES\n",
      "Depht: 30 | Split: 1900 | Acurácia: 0.6809358934004827 | ERRO MC-NAO(N/S): 67.13648108996946 | ERRO MC-SIM(S/N): 76.10619469026548 | MC-NAO(N/S): [5716 2798] | MC-SIM (S/N): [243 774] | Criterion: gini, | ALVO: DIABETES\n",
      "Depht: 30 | Split: 2000 | Acurácia: 0.6798866855524079 | ERRO MC-NAO(N/S): 66.99553676297862 | ERRO MC-SIM(S/N): 76.30285152409046 | MC-NAO(N/S): [5704 2810] | MC-SIM (S/N): [241 776] | Criterion: gini, | ALVO: DIABETES\n",
      "Depht: 35 | Split: 200 | Acurácia: 0.7073759311719652 | ERRO MC-NAO(N/S): 71.51750058726803 | ERRO MC-SIM(S/N): 64.20845624385447 | MC-NAO(N/S): [6089 2425] | MC-SIM (S/N): [364 653] | Criterion: gini, | ALVO: DIABETES\n",
      "Depht: 35 | Split: 300 | Acurácia: 0.6922673381596894 | ERRO MC-NAO(N/S): 69.41508104298802 | ERRO MC-SIM(S/N): 67.64995083579154 | MC-NAO(N/S): [5910 2604] | MC-SIM (S/N): [329 688] | Criterion: gini, | ALVO: DIABETES\n",
      "Depht: 35 | Split: 400 | Acurácia: 0.6690798447172385 | ERRO MC-NAO(N/S): 66.23208832511159 | ERRO MC-SIM(S/N): 72.56637168141593 | MC-NAO(N/S): [5639 2875] | MC-SIM (S/N): [279 738] | Criterion: gini, | ALVO: DIABETES\n",
      "Depht: 35 | Split: 500 | Acurácia: 0.6795719231979855 | ERRO MC-NAO(N/S): 67.394879022786 | ERRO MC-SIM(S/N): 72.66470009832841 | MC-NAO(N/S): [5738 2776] | MC-SIM (S/N): [278 739] | Criterion: gini, | ALVO: DIABETES\n",
      "Depht: 35 | Split: 600 | Acurácia: 0.685027804007974 | ERRO MC-NAO(N/S): 67.94691097016678 | ERRO MC-SIM(S/N): 73.15634218289085 | MC-NAO(N/S): [5785 2729] | MC-SIM (S/N): [273 744] | Criterion: gini, | ALVO: DIABETES\n",
      "Depht: 35 | Split: 700 | Acurácia: 0.6932116252229567 | ERRO MC-NAO(N/S): 68.98050270143293 | ERRO MC-SIM(S/N): 72.17305801376598 | MC-NAO(N/S): [5873 2641] | MC-SIM (S/N): [283 734] | Criterion: gini, | ALVO: DIABETES\n",
      "Depht: 35 | Split: 800 | Acurácia: 0.6914279718812296 | ERRO MC-NAO(N/S): 68.72210476861639 | ERRO MC-SIM(S/N): 72.66470009832841 | MC-NAO(N/S): [5851 2663] | MC-SIM (S/N): [278 739] | Criterion: gini, | ALVO: DIABETES\n",
      "Depht: 35 | Split: 900 | Acurácia: 0.6772636659322212 | ERRO MC-NAO(N/S): 66.81935635424007 | ERRO MC-SIM(S/N): 75.31956735496559 | MC-NAO(N/S): [5689 2825] | MC-SIM (S/N): [251 766] | Criterion: gini, | ALVO: DIABETES\n",
      "Depht: 35 | Split: 1000 | Acurácia: 0.6577483999580317 | ERRO MC-NAO(N/S): 64.28235846840498 | ERRO MC-SIM(S/N): 78.26941986234021 | MC-NAO(N/S): [5473 3041] | MC-SIM (S/N): [221 796] | Criterion: gini, | ALVO: DIABETES\n",
      "Depht: 35 | Split: 1100 | Acurácia: 0.6864966949952785 | ERRO MC-NAO(N/S): 67.9821470519145 | ERRO MC-SIM(S/N): 74.23795476892822 | MC-NAO(N/S): [5788 2726] | MC-SIM (S/N): [262 755] | Criterion: gini, | ALVO: DIABETES\n",
      "Depht: 35 | Split: 1200 | Acurácia: 0.7091595845136922 | ERRO MC-NAO(N/S): 70.82452431289641 | ERRO MC-SIM(S/N): 71.68141592920354 | MC-NAO(N/S): [6030 2484] | MC-SIM (S/N): [288 729] | Criterion: gini, | ALVO: DIABETES\n",
      "Depht: 35 | Split: 1300 | Acurácia: 0.6932116252229567 | ERRO MC-NAO(N/S): 68.83955837444209 | ERRO MC-SIM(S/N): 73.35299901671583 | MC-NAO(N/S): [5861 2653] | MC-SIM (S/N): [271 746] | Criterion: gini, | ALVO: DIABETES\n",
      "Depht: 35 | Split: 1400 | Acurácia: 0.7028643374252439 | ERRO MC-NAO(N/S): 70.09631195677707 | ERRO MC-SIM(S/N): 71.87807276302851 | MC-NAO(N/S): [5968 2546] | MC-SIM (S/N): [286 731] | Criterion: gini, | ALVO: DIABETES\n",
      "Depht: 35 | Split: 1500 | Acurácia: 0.7028643374252439 | ERRO MC-NAO(N/S): 70.09631195677707 | ERRO MC-SIM(S/N): 71.87807276302851 | MC-NAO(N/S): [5968 2546] | MC-SIM (S/N): [286 731] | Criterion: gini, | ALVO: DIABETES\n",
      "Depht: 35 | Split: 1600 | Acurácia: 0.702654495855629 | ERRO MC-NAO(N/S): 70.06107587502936 | ERRO MC-SIM(S/N): 71.976401179941 | MC-NAO(N/S): [5965 2549] | MC-SIM (S/N): [285 732] | Criterion: gini, | ALVO: DIABETES\n",
      "Depht: 35 | Split: 1700 | Acurácia: 0.7049627531213933 | ERRO MC-NAO(N/S): 70.33121916842848 | ERRO MC-SIM(S/N): 71.87807276302851 | MC-NAO(N/S): [5988 2526] | MC-SIM (S/N): [286 731] | Criterion: gini, | ALVO: DIABETES\n",
      "Depht: 35 | Split: 1800 | Acurácia: 0.6809358934004827 | ERRO MC-NAO(N/S): 67.13648108996946 | ERRO MC-SIM(S/N): 76.10619469026548 | MC-NAO(N/S): [5716 2798] | MC-SIM (S/N): [243 774] | Criterion: gini, | ALVO: DIABETES\n",
      "Depht: 35 | Split: 1900 | Acurácia: 0.6809358934004827 | ERRO MC-NAO(N/S): 67.13648108996946 | ERRO MC-SIM(S/N): 76.10619469026548 | MC-NAO(N/S): [5716 2798] | MC-SIM (S/N): [243 774] | Criterion: gini, | ALVO: DIABETES\n",
      "Depht: 35 | Split: 2000 | Acurácia: 0.6798866855524079 | ERRO MC-NAO(N/S): 66.99553676297862 | ERRO MC-SIM(S/N): 76.30285152409046 | MC-NAO(N/S): [5704 2810] | MC-SIM (S/N): [241 776] | Criterion: gini, | ALVO: DIABETES\n",
      "Depht: 40 | Split: 200 | Acurácia: 0.7084251390200399 | ERRO MC-NAO(N/S): 71.59971811134602 | ERRO MC-SIM(S/N): 64.50344149459193 | MC-NAO(N/S): [6096 2418] | MC-SIM (S/N): [361 656] | Criterion: gini, | ALVO: DIABETES\n",
      "Depht: 40 | Split: 300 | Acurácia: 0.6921624173748819 | ERRO MC-NAO(N/S): 69.39159032182289 | ERRO MC-SIM(S/N): 67.74827925270404 | MC-NAO(N/S): [5908 2606] | MC-SIM (S/N): [328 689] | Criterion: gini, | ALVO: DIABETES\n",
      "Depht: 40 | Split: 400 | Acurácia: 0.6690798447172385 | ERRO MC-NAO(N/S): 66.24383368569416 | ERRO MC-SIM(S/N): 72.46804326450344 | MC-NAO(N/S): [5640 2874] | MC-SIM (S/N): [280 737] | Criterion: gini, | ALVO: DIABETES\n",
      "Depht: 40 | Split: 500 | Acurácia: 0.679676843982793 | ERRO MC-NAO(N/S): 67.40662438336857 | ERRO MC-SIM(S/N): 72.66470009832841 | MC-NAO(N/S): [5739 2775] | MC-SIM (S/N): [278 739] | Criterion: gini, | ALVO: DIABETES\n",
      "Depht: 40 | Split: 600 | Acurácia: 0.6851327247927814 | ERRO MC-NAO(N/S): 67.95865633074936 | ERRO MC-SIM(S/N): 73.15634218289085 | MC-NAO(N/S): [5786 2728] | MC-SIM (S/N): [273 744] | Criterion: gini, | ALVO: DIABETES\n",
      "Depht: 40 | Split: 700 | Acurácia: 0.6927919420837267 | ERRO MC-NAO(N/S): 68.92177589852008 | ERRO MC-SIM(S/N): 72.27138643067846 | MC-NAO(N/S): [5868 2646] | MC-SIM (S/N): [282 735] | Criterion: gini, | ALVO: DIABETES\n",
      "Depht: 40 | Split: 800 | Acurácia: 0.6915328926660371 | ERRO MC-NAO(N/S): 68.73385012919897 | ERRO MC-SIM(S/N): 72.66470009832841 | MC-NAO(N/S): [5852 2662] | MC-SIM (S/N): [278 739] | Criterion: gini, | ALVO: DIABETES\n",
      "Depht: 40 | Split: 900 | Acurácia: 0.6773685867170286 | ERRO MC-NAO(N/S): 66.83110171482264 | ERRO MC-SIM(S/N): 75.31956735496559 | MC-NAO(N/S): [5690 2824] | MC-SIM (S/N): [251 766] | Criterion: gini, | ALVO: DIABETES\n",
      "Depht: 40 | Split: 1000 | Acurácia: 0.6578533207428392 | ERRO MC-NAO(N/S): 64.29410382898755 | ERRO MC-SIM(S/N): 78.26941986234021 | MC-NAO(N/S): [5474 3040] | MC-SIM (S/N): [221 796] | Criterion: gini, | ALVO: DIABETES\n",
      "Depht: 40 | Split: 1100 | Acurácia: 0.686601615780086 | ERRO MC-NAO(N/S): 67.99389241249706 | ERRO MC-SIM(S/N): 74.23795476892822 | MC-NAO(N/S): [5789 2725] | MC-SIM (S/N): [262 755] | Criterion: gini, | ALVO: DIABETES\n",
      "Depht: 40 | Split: 1200 | Acurácia: 0.7092645052984996 | ERRO MC-NAO(N/S): 70.83626967347897 | ERRO MC-SIM(S/N): 71.68141592920354 | MC-NAO(N/S): [6031 2483] | MC-SIM (S/N): [288 729] | Criterion: gini, | ALVO: DIABETES\n",
      "Depht: 40 | Split: 1300 | Acurácia: 0.6933165460077642 | ERRO MC-NAO(N/S): 68.85130373502466 | ERRO MC-SIM(S/N): 73.35299901671583 | MC-NAO(N/S): [5862 2652] | MC-SIM (S/N): [271 746] | Criterion: gini, | ALVO: DIABETES\n",
      "Depht: 40 | Split: 1400 | Acurácia: 0.7028643374252439 | ERRO MC-NAO(N/S): 70.09631195677707 | ERRO MC-SIM(S/N): 71.87807276302851 | MC-NAO(N/S): [5968 2546] | MC-SIM (S/N): [286 731] | Criterion: gini, | ALVO: DIABETES\n",
      "Depht: 40 | Split: 1500 | Acurácia: 0.7028643374252439 | ERRO MC-NAO(N/S): 70.09631195677707 | ERRO MC-SIM(S/N): 71.87807276302851 | MC-NAO(N/S): [5968 2546] | MC-SIM (S/N): [286 731] | Criterion: gini, | ALVO: DIABETES\n",
      "Depht: 40 | Split: 1600 | Acurácia: 0.702654495855629 | ERRO MC-NAO(N/S): 70.06107587502936 | ERRO MC-SIM(S/N): 71.976401179941 | MC-NAO(N/S): [5965 2549] | MC-SIM (S/N): [285 732] | Criterion: gini, | ALVO: DIABETES\n",
      "Depht: 40 | Split: 1700 | Acurácia: 0.7049627531213933 | ERRO MC-NAO(N/S): 70.33121916842848 | ERRO MC-SIM(S/N): 71.87807276302851 | MC-NAO(N/S): [5988 2526] | MC-SIM (S/N): [286 731] | Criterion: gini, | ALVO: DIABETES\n",
      "Depht: 40 | Split: 1800 | Acurácia: 0.6809358934004827 | ERRO MC-NAO(N/S): 67.13648108996946 | ERRO MC-SIM(S/N): 76.10619469026548 | MC-NAO(N/S): [5716 2798] | MC-SIM (S/N): [243 774] | Criterion: gini, | ALVO: DIABETES\n",
      "Depht: 40 | Split: 1900 | Acurácia: 0.6809358934004827 | ERRO MC-NAO(N/S): 67.13648108996946 | ERRO MC-SIM(S/N): 76.10619469026548 | MC-NAO(N/S): [5716 2798] | MC-SIM (S/N): [243 774] | Criterion: gini, | ALVO: DIABETES\n",
      "Depht: 40 | Split: 2000 | Acurácia: 0.6798866855524079 | ERRO MC-NAO(N/S): 66.99553676297862 | ERRO MC-SIM(S/N): 76.30285152409046 | MC-NAO(N/S): [5704 2810] | MC-SIM (S/N): [241 776] | Criterion: gini, | ALVO: DIABETES\n",
      "Depht: 45 | Split: 200 | Acurácia: 0.7077956143111951 | ERRO MC-NAO(N/S): 71.59971811134602 | ERRO MC-SIM(S/N): 63.91347099311701 | MC-NAO(N/S): [6096 2418] | MC-SIM (S/N): [367 650] | Criterion: gini, | ALVO: DIABETES\n",
      "Depht: 45 | Split: 300 | Acurácia: 0.6921624173748819 | ERRO MC-NAO(N/S): 69.4620624853183 | ERRO MC-SIM(S/N): 67.1583087512291 | MC-NAO(N/S): [5914 2600] | MC-SIM (S/N): [334 683] | Criterion: gini, | ALVO: DIABETES\n",
      "Depht: 45 | Split: 400 | Acurácia: 0.669184765502046 | ERRO MC-NAO(N/S): 66.29081512802443 | ERRO MC-SIM(S/N): 72.17305801376598 | MC-NAO(N/S): [5644 2870] | MC-SIM (S/N): [283 734] | Criterion: gini, | ALVO: DIABETES\n",
      "Depht: 45 | Split: 500 | Acurácia: 0.6799916063372154 | ERRO MC-NAO(N/S): 67.44186046511628 | ERRO MC-SIM(S/N): 72.66470009832841 | MC-NAO(N/S): [5742 2772] | MC-SIM (S/N): [278 739] | Criterion: gini, | ALVO: DIABETES\n",
      "Depht: 45 | Split: 600 | Acurácia: 0.6853425663623964 | ERRO MC-NAO(N/S): 67.99389241249706 | ERRO MC-SIM(S/N): 73.05801376597837 | MC-NAO(N/S): [5789 2725] | MC-SIM (S/N): [274 743] | Criterion: gini, | ALVO: DIABETES\n",
      "Depht: 45 | Split: 700 | Acurácia: 0.6933165460077642 | ERRO MC-NAO(N/S): 68.9922480620155 | ERRO MC-SIM(S/N): 72.17305801376598 | MC-NAO(N/S): [5874 2640] | MC-SIM (S/N): [283 734] | Criterion: gini, | ALVO: DIABETES\n",
      "Depht: 45 | Split: 800 | Acurácia: 0.6915328926660371 | ERRO MC-NAO(N/S): 68.73385012919897 | ERRO MC-SIM(S/N): 72.66470009832841 | MC-NAO(N/S): [5852 2662] | MC-SIM (S/N): [278 739] | Criterion: gini, | ALVO: DIABETES\n",
      "Depht: 45 | Split: 900 | Acurácia: 0.6773685867170286 | ERRO MC-NAO(N/S): 66.83110171482264 | ERRO MC-SIM(S/N): 75.31956735496559 | MC-NAO(N/S): [5690 2824] | MC-SIM (S/N): [251 766] | Criterion: gini, | ALVO: DIABETES\n",
      "Depht: 45 | Split: 1000 | Acurácia: 0.6578533207428392 | ERRO MC-NAO(N/S): 64.29410382898755 | ERRO MC-SIM(S/N): 78.26941986234021 | MC-NAO(N/S): [5474 3040] | MC-SIM (S/N): [221 796] | Criterion: gini, | ALVO: DIABETES\n",
      "Depht: 45 | Split: 1100 | Acurácia: 0.686601615780086 | ERRO MC-NAO(N/S): 67.99389241249706 | ERRO MC-SIM(S/N): 74.23795476892822 | MC-NAO(N/S): [5789 2725] | MC-SIM (S/N): [262 755] | Criterion: gini, | ALVO: DIABETES\n",
      "Depht: 45 | Split: 1200 | Acurácia: 0.7092645052984996 | ERRO MC-NAO(N/S): 70.83626967347897 | ERRO MC-SIM(S/N): 71.68141592920354 | MC-NAO(N/S): [6031 2483] | MC-SIM (S/N): [288 729] | Criterion: gini, | ALVO: DIABETES\n",
      "Depht: 45 | Split: 1300 | Acurácia: 0.6933165460077642 | ERRO MC-NAO(N/S): 68.85130373502466 | ERRO MC-SIM(S/N): 73.35299901671583 | MC-NAO(N/S): [5862 2652] | MC-SIM (S/N): [271 746] | Criterion: gini, | ALVO: DIABETES\n",
      "Depht: 45 | Split: 1400 | Acurácia: 0.7028643374252439 | ERRO MC-NAO(N/S): 70.09631195677707 | ERRO MC-SIM(S/N): 71.87807276302851 | MC-NAO(N/S): [5968 2546] | MC-SIM (S/N): [286 731] | Criterion: gini, | ALVO: DIABETES\n",
      "Depht: 45 | Split: 1500 | Acurácia: 0.7028643374252439 | ERRO MC-NAO(N/S): 70.09631195677707 | ERRO MC-SIM(S/N): 71.87807276302851 | MC-NAO(N/S): [5968 2546] | MC-SIM (S/N): [286 731] | Criterion: gini, | ALVO: DIABETES\n",
      "Depht: 45 | Split: 1600 | Acurácia: 0.702654495855629 | ERRO MC-NAO(N/S): 70.06107587502936 | ERRO MC-SIM(S/N): 71.976401179941 | MC-NAO(N/S): [5965 2549] | MC-SIM (S/N): [285 732] | Criterion: gini, | ALVO: DIABETES\n",
      "Depht: 45 | Split: 1700 | Acurácia: 0.7049627531213933 | ERRO MC-NAO(N/S): 70.33121916842848 | ERRO MC-SIM(S/N): 71.87807276302851 | MC-NAO(N/S): [5988 2526] | MC-SIM (S/N): [286 731] | Criterion: gini, | ALVO: DIABETES\n",
      "Depht: 45 | Split: 1800 | Acurácia: 0.6809358934004827 | ERRO MC-NAO(N/S): 67.13648108996946 | ERRO MC-SIM(S/N): 76.10619469026548 | MC-NAO(N/S): [5716 2798] | MC-SIM (S/N): [243 774] | Criterion: gini, | ALVO: DIABETES\n",
      "Depht: 45 | Split: 1900 | Acurácia: 0.6809358934004827 | ERRO MC-NAO(N/S): 67.13648108996946 | ERRO MC-SIM(S/N): 76.10619469026548 | MC-NAO(N/S): [5716 2798] | MC-SIM (S/N): [243 774] | Criterion: gini, | ALVO: DIABETES\n",
      "Depht: 45 | Split: 2000 | Acurácia: 0.6798866855524079 | ERRO MC-NAO(N/S): 66.99553676297862 | ERRO MC-SIM(S/N): 76.30285152409046 | MC-NAO(N/S): [5704 2810] | MC-SIM (S/N): [241 776] | Criterion: gini, | ALVO: DIABETES\n",
      "Depht: 50 | Split: 200 | Acurácia: 0.7079005350960025 | ERRO MC-NAO(N/S): 71.6466995536763 | ERRO MC-SIM(S/N): 63.61848574237955 | MC-NAO(N/S): [6100 2414] | MC-SIM (S/N): [370 647] | Criterion: gini, | ALVO: DIABETES\n",
      "Depht: 50 | Split: 300 | Acurácia: 0.6925821005141118 | ERRO MC-NAO(N/S): 69.53253464881372 | ERRO MC-SIM(S/N): 66.96165191740414 | MC-NAO(N/S): [5920 2594] | MC-SIM (S/N): [336 681] | Criterion: gini, | ALVO: DIABETES\n",
      "Depht: 50 | Split: 400 | Acurácia: 0.6694995278564684 | ERRO MC-NAO(N/S): 66.33779657035471 | ERRO MC-SIM(S/N): 72.0747295968535 | MC-NAO(N/S): [5648 2866] | MC-SIM (S/N): [284 733] | Criterion: gini, | ALVO: DIABETES\n",
      "Depht: 50 | Split: 500 | Acurácia: 0.6802014479068303 | ERRO MC-NAO(N/S): 67.48884190744656 | ERRO MC-SIM(S/N): 72.46804326450344 | MC-NAO(N/S): [5746 2768] | MC-SIM (S/N): [280 737] | Criterion: gini, | ALVO: DIABETES\n",
      "Depht: 50 | Split: 600 | Acurácia: 0.6855524079320113 | ERRO MC-NAO(N/S): 68.01738313366221 | ERRO MC-SIM(S/N): 73.05801376597837 | MC-NAO(N/S): [5791 2723] | MC-SIM (S/N): [274 743] | Criterion: gini, | ALVO: DIABETES\n",
      "Depht: 50 | Split: 700 | Acurácia: 0.6927919420837267 | ERRO MC-NAO(N/S): 68.92177589852008 | ERRO MC-SIM(S/N): 72.27138643067846 | MC-NAO(N/S): [5868 2646] | MC-SIM (S/N): [282 735] | Criterion: gini, | ALVO: DIABETES\n",
      "Depht: 50 | Split: 800 | Acurácia: 0.6920574965900745 | ERRO MC-NAO(N/S): 68.8043222926944 | ERRO MC-SIM(S/N): 72.56637168141593 | MC-NAO(N/S): [5858 2656] | MC-SIM (S/N): [279 738] | Criterion: gini, | ALVO: DIABETES\n",
      "Depht: 50 | Split: 900 | Acurácia: 0.6773685867170286 | ERRO MC-NAO(N/S): 66.83110171482264 | ERRO MC-SIM(S/N): 75.31956735496559 | MC-NAO(N/S): [5690 2824] | MC-SIM (S/N): [251 766] | Criterion: gini, | ALVO: DIABETES\n",
      "Depht: 50 | Split: 1000 | Acurácia: 0.6578533207428392 | ERRO MC-NAO(N/S): 64.29410382898755 | ERRO MC-SIM(S/N): 78.26941986234021 | MC-NAO(N/S): [5474 3040] | MC-SIM (S/N): [221 796] | Criterion: gini, | ALVO: DIABETES\n",
      "Depht: 50 | Split: 1100 | Acurácia: 0.686601615780086 | ERRO MC-NAO(N/S): 67.99389241249706 | ERRO MC-SIM(S/N): 74.23795476892822 | MC-NAO(N/S): [5789 2725] | MC-SIM (S/N): [262 755] | Criterion: gini, | ALVO: DIABETES\n",
      "Depht: 50 | Split: 1200 | Acurácia: 0.7092645052984996 | ERRO MC-NAO(N/S): 70.83626967347897 | ERRO MC-SIM(S/N): 71.68141592920354 | MC-NAO(N/S): [6031 2483] | MC-SIM (S/N): [288 729] | Criterion: gini, | ALVO: DIABETES\n",
      "Depht: 50 | Split: 1300 | Acurácia: 0.6933165460077642 | ERRO MC-NAO(N/S): 68.85130373502466 | ERRO MC-SIM(S/N): 73.35299901671583 | MC-NAO(N/S): [5862 2652] | MC-SIM (S/N): [271 746] | Criterion: gini, | ALVO: DIABETES\n",
      "Depht: 50 | Split: 1400 | Acurácia: 0.7028643374252439 | ERRO MC-NAO(N/S): 70.09631195677707 | ERRO MC-SIM(S/N): 71.87807276302851 | MC-NAO(N/S): [5968 2546] | MC-SIM (S/N): [286 731] | Criterion: gini, | ALVO: DIABETES\n",
      "Depht: 50 | Split: 1500 | Acurácia: 0.7028643374252439 | ERRO MC-NAO(N/S): 70.09631195677707 | ERRO MC-SIM(S/N): 71.87807276302851 | MC-NAO(N/S): [5968 2546] | MC-SIM (S/N): [286 731] | Criterion: gini, | ALVO: DIABETES\n",
      "Depht: 50 | Split: 1600 | Acurácia: 0.702654495855629 | ERRO MC-NAO(N/S): 70.06107587502936 | ERRO MC-SIM(S/N): 71.976401179941 | MC-NAO(N/S): [5965 2549] | MC-SIM (S/N): [285 732] | Criterion: gini, | ALVO: DIABETES\n",
      "Depht: 50 | Split: 1700 | Acurácia: 0.7049627531213933 | ERRO MC-NAO(N/S): 70.33121916842848 | ERRO MC-SIM(S/N): 71.87807276302851 | MC-NAO(N/S): [5988 2526] | MC-SIM (S/N): [286 731] | Criterion: gini, | ALVO: DIABETES\n",
      "Depht: 50 | Split: 1800 | Acurácia: 0.6809358934004827 | ERRO MC-NAO(N/S): 67.13648108996946 | ERRO MC-SIM(S/N): 76.10619469026548 | MC-NAO(N/S): [5716 2798] | MC-SIM (S/N): [243 774] | Criterion: gini, | ALVO: DIABETES\n",
      "Depht: 50 | Split: 1900 | Acurácia: 0.6809358934004827 | ERRO MC-NAO(N/S): 67.13648108996946 | ERRO MC-SIM(S/N): 76.10619469026548 | MC-NAO(N/S): [5716 2798] | MC-SIM (S/N): [243 774] | Criterion: gini, | ALVO: DIABETES\n",
      "Depht: 50 | Split: 2000 | Acurácia: 0.6798866855524079 | ERRO MC-NAO(N/S): 66.99553676297862 | ERRO MC-SIM(S/N): 76.30285152409046 | MC-NAO(N/S): [5704 2810] | MC-SIM (S/N): [241 776] | Criterion: gini, | ALVO: DIABETES\n"
     ]
    }
   ],
   "source": [
    "# Criação de modelos com GINI\n",
    "TP_CRITERION = 'gini'\n",
    "func_instancia_classif(TP_CRITERION, NU_DEPHT_INI, NU_DEPHT_FIM, NU_DEPHT_INC, NU_SPLIT_INI, NU_SPLIT_FIM, NU_SPLIT_INC,\n",
    "                       y_train_diabetes, y_test_diabetes, X_train_diabetes, X_test_diabetes, 'DIABETES')"
   ]
  },
  {
   "cell_type": "markdown",
   "metadata": {
    "colab_type": "text",
    "id": "aP3vxxbIkUd6"
   },
   "source": [
    "# **3) AVALIAÇÃO DO MODELO - Escolha da melhor configuração para o Classificador**\n",
    "\n"
   ]
  },
  {
   "cell_type": "code",
   "execution_count": 0,
   "metadata": {
    "colab": {},
    "colab_type": "code",
    "id": "tnkmtFfSvfkC"
   },
   "outputs": [],
   "source": [
    "# Exportando o DataFrame com os resultados para XLS\n",
    "df_scores.to_excel('metricas_arvore.xls')"
   ]
  },
  {
   "cell_type": "markdown",
   "metadata": {
    "colab_type": "text",
    "id": "BalAyw3UT7W7"
   },
   "source": [
    "# 3.1) Modelo de Hipertensão - Configuração escolhida\n",
    "\n",
    "\n"
   ]
  },
  {
   "cell_type": "code",
   "execution_count": 42,
   "metadata": {
    "colab": {
     "base_uri": "https://localhost:8080/",
     "height": 197
    },
    "colab_type": "code",
    "id": "a0eM7TpXh-pu",
    "outputId": "3b2be0d5-b2f8-4eac-fdba-d2c85223639b"
   },
   "outputs": [
    {
     "data": {
      "text/html": [
       "<div>\n",
       "<style scoped>\n",
       "    .dataframe tbody tr th:only-of-type {\n",
       "        vertical-align: middle;\n",
       "    }\n",
       "\n",
       "    .dataframe tbody tr th {\n",
       "        vertical-align: top;\n",
       "    }\n",
       "\n",
       "    .dataframe thead th {\n",
       "        text-align: right;\n",
       "    }\n",
       "</style>\n",
       "<table border=\"1\" class=\"dataframe\">\n",
       "  <thead>\n",
       "    <tr style=\"text-align: right;\">\n",
       "      <th></th>\n",
       "      <th>x_depht</th>\n",
       "      <th>y_split</th>\n",
       "      <th>accuracy_score</th>\n",
       "      <th>MC - NAO(N/S)</th>\n",
       "      <th>MC - SIM (S/N)</th>\n",
       "      <th>Matriz Conf NAO</th>\n",
       "      <th>Matriz Conf SIM</th>\n",
       "      <th>Criterion</th>\n",
       "      <th>ALVO</th>\n",
       "    </tr>\n",
       "  </thead>\n",
       "  <tbody>\n",
       "    <tr>\n",
       "      <th>0</th>\n",
       "      <td>5</td>\n",
       "      <td>200</td>\n",
       "      <td>0.6887</td>\n",
       "      <td>63.619048</td>\n",
       "      <td>79.108635</td>\n",
       "      <td>[4008, 2292]</td>\n",
       "      <td>[675, 2556]</td>\n",
       "      <td>entropy</td>\n",
       "      <td>HIPERTENSAO</td>\n",
       "    </tr>\n",
       "    <tr>\n",
       "      <th>1</th>\n",
       "      <td>5</td>\n",
       "      <td>300</td>\n",
       "      <td>0.6887</td>\n",
       "      <td>63.619048</td>\n",
       "      <td>79.108635</td>\n",
       "      <td>[4008, 2292]</td>\n",
       "      <td>[675, 2556]</td>\n",
       "      <td>entropy</td>\n",
       "      <td>HIPERTENSAO</td>\n",
       "    </tr>\n",
       "    <tr>\n",
       "      <th>2</th>\n",
       "      <td>5</td>\n",
       "      <td>400</td>\n",
       "      <td>0.6887</td>\n",
       "      <td>63.650794</td>\n",
       "      <td>79.046735</td>\n",
       "      <td>[4010, 2290]</td>\n",
       "      <td>[677, 2554]</td>\n",
       "      <td>entropy</td>\n",
       "      <td>HIPERTENSAO</td>\n",
       "    </tr>\n",
       "    <tr>\n",
       "      <th>3</th>\n",
       "      <td>5</td>\n",
       "      <td>500</td>\n",
       "      <td>0.6887</td>\n",
       "      <td>63.650794</td>\n",
       "      <td>79.046735</td>\n",
       "      <td>[4010, 2290]</td>\n",
       "      <td>[677, 2554]</td>\n",
       "      <td>entropy</td>\n",
       "      <td>HIPERTENSAO</td>\n",
       "    </tr>\n",
       "    <tr>\n",
       "      <th>4</th>\n",
       "      <td>5</td>\n",
       "      <td>600</td>\n",
       "      <td>0.6887</td>\n",
       "      <td>63.650794</td>\n",
       "      <td>79.046735</td>\n",
       "      <td>[4010, 2290]</td>\n",
       "      <td>[677, 2554]</td>\n",
       "      <td>entropy</td>\n",
       "      <td>HIPERTENSAO</td>\n",
       "    </tr>\n",
       "  </tbody>\n",
       "</table>\n",
       "</div>"
      ],
      "text/plain": [
       "  x_depht y_split  accuracy_score  ...  Matriz Conf SIM  Criterion         ALVO\n",
       "0       5     200          0.6887  ...      [675, 2556]    entropy  HIPERTENSAO\n",
       "1       5     300          0.6887  ...      [675, 2556]    entropy  HIPERTENSAO\n",
       "2       5     400          0.6887  ...      [677, 2554]    entropy  HIPERTENSAO\n",
       "3       5     500          0.6887  ...      [677, 2554]    entropy  HIPERTENSAO\n",
       "4       5     600          0.6887  ...      [677, 2554]    entropy  HIPERTENSAO\n",
       "\n",
       "[5 rows x 9 columns]"
      ]
     },
     "execution_count": 42,
     "metadata": {
      "tags": []
     },
     "output_type": "execute_result"
    }
   ],
   "source": [
    "df_scores[df_scores['ALVO'] == 'HIPERTENSAO'].head()"
   ]
  },
  {
   "cell_type": "code",
   "execution_count": 43,
   "metadata": {
    "colab": {
     "base_uri": "https://localhost:8080/",
     "height": 86
    },
    "colab_type": "code",
    "id": "4rnG28tKVQ__",
    "outputId": "de629e13-7fdf-4a4d-eae5-88f3751b2fba"
   },
   "outputs": [
    {
     "name": "stderr",
     "output_type": "stream",
     "text": [
      "/usr/local/lib/python3.6/dist-packages/sklearn/model_selection/_split.py:296: FutureWarning: Setting a random_state has no effect since shuffle is False. This will raise an error in 0.24. You should leave random_state to its default (None), or set shuffle=True.\n",
      "  FutureWarning\n"
     ]
    },
    {
     "name": "stdout",
     "output_type": "stream",
     "text": [
      "0.6696674944527599\n"
     ]
    }
   ],
   "source": [
    "KF = KFold(n_splits=10, random_state=7)\n",
    "clf_dtree_hiper = DecisionTreeClassifier(criterion = 'gini', max_depth = 30, min_samples_split = 1200)\n",
    "clf_dtree_hiper = clf_dtree_hiper.fit(X_train, y_train)\n",
    "\n",
    "#Acurácia com Cross Validation e K-Folds\n",
    "resultado = cross_val_score(clf_dtree_hiper, X_train, y_train, cv=KF, scoring='accuracy')\n",
    "acc_dtree_hiper = resultado.mean()\n",
    "#df_comp.loc[len(df_comp)] = ['Decisao Acuracia - CV', resultado.mean() , '']\n",
    "print(acc_dtree_hiper)\n"
   ]
  },
  {
   "cell_type": "markdown",
   "metadata": {
    "colab_type": "text",
    "id": "Ki8ezQRxkk5C"
   },
   "source": [
    "**Geração da Árvore Gráfica**"
   ]
  },
  {
   "cell_type": "code",
   "execution_count": 0,
   "metadata": {
    "colab": {},
    "colab_type": "code",
    "id": "1BBPDbW4Wnkc"
   },
   "outputs": [],
   "source": [
    "import pydotplus\n",
    "import graphviz"
   ]
  },
  {
   "cell_type": "code",
   "execution_count": 0,
   "metadata": {
    "colab": {},
    "colab_type": "code",
    "id": "JBgy6-DNVRDc"
   },
   "outputs": [],
   "source": [
    "arvore_grafica = export_graphviz( \n",
    "         clf_dtree_hiper, \n",
    "         out_file=None,\n",
    "         feature_names=X_test.columns,\n",
    "         class_names=['(0) NÃO HIPERTENSO','(1) HIPERTENSO'],  \n",
    "         filled=True, \n",
    "         rounded=True,\n",
    "         proportion=True,\n",
    "         node_ids=True,\n",
    "         rotate=False,\n",
    "         label='all',\n",
    "         special_characters=True\n",
    "        )  "
   ]
  },
  {
   "cell_type": "code",
   "execution_count": 46,
   "metadata": {
    "colab": {
     "base_uri": "https://localhost:8080/",
     "height": 33
    },
    "colab_type": "code",
    "id": "Gc8QYH0vtG90",
    "outputId": "0ac8efcf-aac4-421c-b299-fde0c09cb110"
   },
   "outputs": [
    {
     "data": {
      "text/plain": [
       "True"
      ]
     },
     "execution_count": 46,
     "metadata": {
      "tags": []
     },
     "output_type": "execute_result"
    }
   ],
   "source": [
    "graph = pydotplus.graph_from_dot_data(arvore_grafica)  \n",
    "graph.write_png('arvore_grafica_hipertenso.png')"
   ]
  },
  {
   "cell_type": "markdown",
   "metadata": {
    "colab_type": "text",
    "id": "lzGtbGNtWESW"
   },
   "source": [
    "# 3.1) Modelo de Diabetes - Configuração escolhida"
   ]
  },
  {
   "cell_type": "code",
   "execution_count": 47,
   "metadata": {
    "colab": {
     "base_uri": "https://localhost:8080/",
     "height": 197
    },
    "colab_type": "code",
    "id": "hXtVVqALWDh-",
    "outputId": "86438c53-a282-4183-ee95-0dc5887a9f8b"
   },
   "outputs": [
    {
     "data": {
      "text/html": [
       "<div>\n",
       "<style scoped>\n",
       "    .dataframe tbody tr th:only-of-type {\n",
       "        vertical-align: middle;\n",
       "    }\n",
       "\n",
       "    .dataframe tbody tr th {\n",
       "        vertical-align: top;\n",
       "    }\n",
       "\n",
       "    .dataframe thead th {\n",
       "        text-align: right;\n",
       "    }\n",
       "</style>\n",
       "<table border=\"1\" class=\"dataframe\">\n",
       "  <thead>\n",
       "    <tr style=\"text-align: right;\">\n",
       "      <th></th>\n",
       "      <th>x_depht</th>\n",
       "      <th>y_split</th>\n",
       "      <th>accuracy_score</th>\n",
       "      <th>MC - NAO(N/S)</th>\n",
       "      <th>MC - SIM (S/N)</th>\n",
       "      <th>Matriz Conf NAO</th>\n",
       "      <th>Matriz Conf SIM</th>\n",
       "      <th>Criterion</th>\n",
       "      <th>ALVO</th>\n",
       "    </tr>\n",
       "  </thead>\n",
       "  <tbody>\n",
       "    <tr>\n",
       "      <th>380</th>\n",
       "      <td>5</td>\n",
       "      <td>200</td>\n",
       "      <td>0.6887</td>\n",
       "      <td>63.619048</td>\n",
       "      <td>79.108635</td>\n",
       "      <td>[4008, 2292]</td>\n",
       "      <td>[675, 2556]</td>\n",
       "      <td>entropy</td>\n",
       "      <td>DIABETES</td>\n",
       "    </tr>\n",
       "    <tr>\n",
       "      <th>381</th>\n",
       "      <td>5</td>\n",
       "      <td>300</td>\n",
       "      <td>0.6887</td>\n",
       "      <td>63.619048</td>\n",
       "      <td>79.108635</td>\n",
       "      <td>[4008, 2292]</td>\n",
       "      <td>[675, 2556]</td>\n",
       "      <td>entropy</td>\n",
       "      <td>DIABETES</td>\n",
       "    </tr>\n",
       "    <tr>\n",
       "      <th>382</th>\n",
       "      <td>5</td>\n",
       "      <td>400</td>\n",
       "      <td>0.6887</td>\n",
       "      <td>63.650794</td>\n",
       "      <td>79.046735</td>\n",
       "      <td>[4010, 2290]</td>\n",
       "      <td>[677, 2554]</td>\n",
       "      <td>entropy</td>\n",
       "      <td>DIABETES</td>\n",
       "    </tr>\n",
       "    <tr>\n",
       "      <th>383</th>\n",
       "      <td>5</td>\n",
       "      <td>500</td>\n",
       "      <td>0.6887</td>\n",
       "      <td>63.650794</td>\n",
       "      <td>79.046735</td>\n",
       "      <td>[4010, 2290]</td>\n",
       "      <td>[677, 2554]</td>\n",
       "      <td>entropy</td>\n",
       "      <td>DIABETES</td>\n",
       "    </tr>\n",
       "    <tr>\n",
       "      <th>384</th>\n",
       "      <td>5</td>\n",
       "      <td>600</td>\n",
       "      <td>0.6887</td>\n",
       "      <td>63.650794</td>\n",
       "      <td>79.046735</td>\n",
       "      <td>[4010, 2290]</td>\n",
       "      <td>[677, 2554]</td>\n",
       "      <td>entropy</td>\n",
       "      <td>DIABETES</td>\n",
       "    </tr>\n",
       "  </tbody>\n",
       "</table>\n",
       "</div>"
      ],
      "text/plain": [
       "    x_depht y_split  accuracy_score  ...  Matriz Conf SIM  Criterion      ALVO\n",
       "380       5     200          0.6887  ...      [675, 2556]    entropy  DIABETES\n",
       "381       5     300          0.6887  ...      [675, 2556]    entropy  DIABETES\n",
       "382       5     400          0.6887  ...      [677, 2554]    entropy  DIABETES\n",
       "383       5     500          0.6887  ...      [677, 2554]    entropy  DIABETES\n",
       "384       5     600          0.6887  ...      [677, 2554]    entropy  DIABETES\n",
       "\n",
       "[5 rows x 9 columns]"
      ]
     },
     "execution_count": 47,
     "metadata": {
      "tags": []
     },
     "output_type": "execute_result"
    }
   ],
   "source": [
    "df_scores[df_scores['ALVO'] == 'DIABETES'].head()"
   ]
  },
  {
   "cell_type": "code",
   "execution_count": 48,
   "metadata": {
    "colab": {
     "base_uri": "https://localhost:8080/",
     "height": 86
    },
    "colab_type": "code",
    "id": "eUixEUNhWjL9",
    "outputId": "dc62178d-6a83-49f3-c836-6ae1dd59dd59"
   },
   "outputs": [
    {
     "name": "stderr",
     "output_type": "stream",
     "text": [
      "/usr/local/lib/python3.6/dist-packages/sklearn/model_selection/_split.py:296: FutureWarning: Setting a random_state has no effect since shuffle is False. This will raise an error in 0.24. You should leave random_state to its default (None), or set shuffle=True.\n",
      "  FutureWarning\n"
     ]
    },
    {
     "name": "stdout",
     "output_type": "stream",
     "text": [
      "0.6867462034807195\n"
     ]
    }
   ],
   "source": [
    "KF = KFold(n_splits=10, random_state=7)\n",
    "clf_dtree_diab = DecisionTreeClassifier(criterion = 'entropy', max_depth = 15, min_samples_split = 1100)\n",
    "clf_dtree_diab = clf_dtree_diab.fit(X_train_diabetes, y_train_diabetes)\n",
    "resultado = cross_val_score(clf_dtree_diab, X_train_diabetes, y_train_diabetes, cv=KF, scoring='accuracy')\n",
    "\n",
    "acc_dtree_diab = resultado.mean()\n",
    "#df_comp.loc[len(df_comp)] = ['Decisao Acuracia - CV', resultado.mean() , '']\n",
    "print(acc_dtree_diab)"
   ]
  },
  {
   "cell_type": "markdown",
   "metadata": {
    "colab_type": "text",
    "id": "ZMncQWhjrOuI"
   },
   "source": [
    "**Geração da Árvore Gráfica**"
   ]
  },
  {
   "cell_type": "code",
   "execution_count": 0,
   "metadata": {
    "colab": {},
    "colab_type": "code",
    "id": "iPq0cjaBXVrg"
   },
   "outputs": [],
   "source": [
    "import pydotplus\n",
    "import graphviz"
   ]
  },
  {
   "cell_type": "code",
   "execution_count": 0,
   "metadata": {
    "colab": {},
    "colab_type": "code",
    "id": "baLLflTwXaEL"
   },
   "outputs": [],
   "source": [
    "arvore_grafica = export_graphviz( \n",
    "         clf_dtree_diab, \n",
    "         out_file=None,\n",
    "         feature_names=X_test.columns,\n",
    "         class_names=['(0) NÃO DIABÉTICO','(1) DIABÉTICO'],  \n",
    "         filled=True, \n",
    "         rounded=True,\n",
    "         proportion=True,\n",
    "         node_ids=True,\n",
    "         rotate=False,\n",
    "         label='all',\n",
    "         special_characters=True\n",
    "        )  "
   ]
  },
  {
   "cell_type": "code",
   "execution_count": 51,
   "metadata": {
    "colab": {
     "base_uri": "https://localhost:8080/",
     "height": 33
    },
    "colab_type": "code",
    "id": "xkalBW9VXiaj",
    "outputId": "cac78335-ce1f-4c43-c1bf-1e8dbe427d58"
   },
   "outputs": [
    {
     "data": {
      "text/plain": [
       "True"
      ]
     },
     "execution_count": 51,
     "metadata": {
      "tags": []
     },
     "output_type": "execute_result"
    }
   ],
   "source": [
    "graph = pydotplus.graph_from_dot_data(arvore_grafica)  \n",
    "graph.write_png('arvore_grafica_diabetes.png')"
   ]
  },
  {
   "cell_type": "markdown",
   "metadata": {
    "colab_type": "text",
    "id": "d5ek2l6sh9Hr"
   },
   "source": [
    "# **4) CRIAÇÃO DO MODELO DE REDE NEURAL ARTIFICIAL - HIPERTENSÃO**"
   ]
  },
  {
   "cell_type": "code",
   "execution_count": 0,
   "metadata": {
    "colab": {},
    "colab_type": "code",
    "id": "oTCNrCHtiIoQ"
   },
   "outputs": [],
   "source": [
    "#from sklearn import metrics\n",
    "from sklearn.neural_network import MLPClassifier\n",
    "from sklearn.metrics import accuracy_score\n",
    "from sklearn.metrics import confusion_matrix"
   ]
  },
  {
   "cell_type": "code",
   "execution_count": 0,
   "metadata": {
    "colab": {},
    "colab_type": "code",
    "id": "65nTPYLhiI8R"
   },
   "outputs": [],
   "source": [
    "# Criação do DataFrame Vazio para armazenamento de todas as configurações e resultados dos modelos de \n",
    "#árvore de decisão implementados\n",
    "df_scores_rna = pd.DataFrame(columns=['NU_ITERACAO', 'ACURACIA', 'ACERTO - MC NAO', 'ACERTO - MC SIM', 'MATRIZ CONFUSAO', 'IN_ALVO'])"
   ]
  },
  {
   "cell_type": "code",
   "execution_count": 0,
   "metadata": {
    "colab": {},
    "colab_type": "code",
    "id": "cMtRCXUdiI6e"
   },
   "outputs": [],
   "source": [
    "def gera_classificador_RNA(MAX_INTER, MAX_INTER_FIM, MAX_INTER_INT, Y_TRAIN, Y_TEST, X_TRAIN, X_TEST, IN_ALVO):                           \n",
    "    print('Inicio da função')\n",
    "    for X_MAX_INTER in range(MAX_INTER, MAX_INTER_FIM, MAX_INTER_INT):\n",
    "        print('Execucao {} de {} '.format(X_MAX_INTER, MAX_INTER_FIM-1))\n",
    "        clf = MLPClassifier(hidden_layer_sizes=100, activation='relu', solver='adam', alpha=0.0001, batch_size='auto', verbose='False',\n",
    "                            max_iter=X_MAX_INTER)\n",
    "        clf = clf.fit(X_TRAIN, Y_TRAIN)\n",
    "        resultado = clf.predict(X_TEST)\n",
    "        acuracia = accuracy_score(Y_TEST, resultado)\n",
    "        mat_conf = confusion_matrix(Y_TEST, resultado)\n",
    "        mat_conf_nao = mat_conf[0][0] / (mat_conf[0][0] + mat_conf[0][1]) * 100\n",
    "        mat_conf_sim = mat_conf[1][1] / (mat_conf[1][0] + mat_conf[1][1]) * 100\n",
    "        df_scores_rna.loc[len(df_scores_rna)] = [X_MAX_INTER, acuracia, mat_conf_nao, mat_conf_sim, mat_conf, IN_ALVO]\n",
    "    print('Fim da função')"
   ]
  },
  {
   "cell_type": "markdown",
   "metadata": {
    "colab_type": "text",
    "id": "srYy6eKK5-TE"
   },
   "source": [
    "# Classificação Rede Neural - Hipertensão"
   ]
  },
  {
   "cell_type": "code",
   "execution_count": 56,
   "metadata": {
    "colab": {
     "base_uri": "https://localhost:8080/",
     "height": 1000
    },
    "colab_type": "code",
    "id": "oLiLXrLtiI2E",
    "outputId": "3efdaaf6-92eb-4809-a2a5-1012fd1a2e5b"
   },
   "outputs": [
    {
     "name": "stdout",
     "output_type": "stream",
     "text": [
      "Inicio da função\n",
      "Execucao 1 de 29 \n",
      "Iteration 1, loss = 0.56891636\n",
      "Execucao 2 de 29 \n"
     ]
    },
    {
     "name": "stderr",
     "output_type": "stream",
     "text": [
      "/usr/local/lib/python3.6/dist-packages/sklearn/neural_network/_multilayer_perceptron.py:571: ConvergenceWarning: Stochastic Optimizer: Maximum iterations (1) reached and the optimization hasn't converged yet.\n",
      "  % self.max_iter, ConvergenceWarning)\n"
     ]
    },
    {
     "name": "stdout",
     "output_type": "stream",
     "text": [
      "Iteration 1, loss = 0.57068053\n",
      "Iteration 2, loss = 0.53706410\n",
      "Execucao 3 de 29 \n"
     ]
    },
    {
     "name": "stderr",
     "output_type": "stream",
     "text": [
      "/usr/local/lib/python3.6/dist-packages/sklearn/neural_network/_multilayer_perceptron.py:571: ConvergenceWarning: Stochastic Optimizer: Maximum iterations (2) reached and the optimization hasn't converged yet.\n",
      "  % self.max_iter, ConvergenceWarning)\n"
     ]
    },
    {
     "name": "stdout",
     "output_type": "stream",
     "text": [
      "Iteration 1, loss = 0.57722840\n",
      "Iteration 2, loss = 0.53669449\n",
      "Iteration 3, loss = 0.53412616\n",
      "Execucao 4 de 29 \n"
     ]
    },
    {
     "name": "stderr",
     "output_type": "stream",
     "text": [
      "/usr/local/lib/python3.6/dist-packages/sklearn/neural_network/_multilayer_perceptron.py:571: ConvergenceWarning: Stochastic Optimizer: Maximum iterations (3) reached and the optimization hasn't converged yet.\n",
      "  % self.max_iter, ConvergenceWarning)\n"
     ]
    },
    {
     "name": "stdout",
     "output_type": "stream",
     "text": [
      "Iteration 1, loss = 0.56873161\n",
      "Iteration 2, loss = 0.53779713\n",
      "Iteration 3, loss = 0.53373603\n",
      "Iteration 4, loss = 0.53281355\n",
      "Execucao 5 de 29 \n"
     ]
    },
    {
     "name": "stderr",
     "output_type": "stream",
     "text": [
      "/usr/local/lib/python3.6/dist-packages/sklearn/neural_network/_multilayer_perceptron.py:571: ConvergenceWarning: Stochastic Optimizer: Maximum iterations (4) reached and the optimization hasn't converged yet.\n",
      "  % self.max_iter, ConvergenceWarning)\n"
     ]
    },
    {
     "name": "stdout",
     "output_type": "stream",
     "text": [
      "Iteration 1, loss = 0.57210208\n",
      "Iteration 2, loss = 0.53732269\n",
      "Iteration 3, loss = 0.53429126\n",
      "Iteration 4, loss = 0.53275367\n",
      "Iteration 5, loss = 0.53130421\n",
      "Execucao 6 de 29 \n"
     ]
    },
    {
     "name": "stderr",
     "output_type": "stream",
     "text": [
      "/usr/local/lib/python3.6/dist-packages/sklearn/neural_network/_multilayer_perceptron.py:571: ConvergenceWarning: Stochastic Optimizer: Maximum iterations (5) reached and the optimization hasn't converged yet.\n",
      "  % self.max_iter, ConvergenceWarning)\n"
     ]
    },
    {
     "name": "stdout",
     "output_type": "stream",
     "text": [
      "Iteration 1, loss = 0.57112022\n",
      "Iteration 2, loss = 0.53903211\n",
      "Iteration 3, loss = 0.53374155\n",
      "Iteration 4, loss = 0.53296100\n",
      "Iteration 5, loss = 0.53271878\n",
      "Iteration 6, loss = 0.53032792\n",
      "Execucao 7 de 29 \n"
     ]
    },
    {
     "name": "stderr",
     "output_type": "stream",
     "text": [
      "/usr/local/lib/python3.6/dist-packages/sklearn/neural_network/_multilayer_perceptron.py:571: ConvergenceWarning: Stochastic Optimizer: Maximum iterations (6) reached and the optimization hasn't converged yet.\n",
      "  % self.max_iter, ConvergenceWarning)\n"
     ]
    },
    {
     "name": "stdout",
     "output_type": "stream",
     "text": [
      "Iteration 1, loss = 0.57247842\n",
      "Iteration 2, loss = 0.53650038\n",
      "Iteration 3, loss = 0.53401189\n",
      "Iteration 4, loss = 0.53163961\n",
      "Iteration 5, loss = 0.53132983\n",
      "Iteration 6, loss = 0.53013474\n",
      "Iteration 7, loss = 0.52845962\n",
      "Execucao 8 de 29 \n"
     ]
    },
    {
     "name": "stderr",
     "output_type": "stream",
     "text": [
      "/usr/local/lib/python3.6/dist-packages/sklearn/neural_network/_multilayer_perceptron.py:571: ConvergenceWarning: Stochastic Optimizer: Maximum iterations (7) reached and the optimization hasn't converged yet.\n",
      "  % self.max_iter, ConvergenceWarning)\n"
     ]
    },
    {
     "name": "stdout",
     "output_type": "stream",
     "text": [
      "Iteration 1, loss = 0.57085490\n",
      "Iteration 2, loss = 0.53612611\n",
      "Iteration 3, loss = 0.53328794\n",
      "Iteration 4, loss = 0.53303558\n",
      "Iteration 5, loss = 0.53203513\n",
      "Iteration 6, loss = 0.52890831\n",
      "Iteration 7, loss = 0.52833359\n",
      "Iteration 8, loss = 0.52605926\n",
      "Execucao 9 de 29 \n"
     ]
    },
    {
     "name": "stderr",
     "output_type": "stream",
     "text": [
      "/usr/local/lib/python3.6/dist-packages/sklearn/neural_network/_multilayer_perceptron.py:571: ConvergenceWarning: Stochastic Optimizer: Maximum iterations (8) reached and the optimization hasn't converged yet.\n",
      "  % self.max_iter, ConvergenceWarning)\n"
     ]
    },
    {
     "name": "stdout",
     "output_type": "stream",
     "text": [
      "Iteration 1, loss = 0.57065874\n",
      "Iteration 2, loss = 0.53657410\n",
      "Iteration 3, loss = 0.53370539\n",
      "Iteration 4, loss = 0.53235494\n",
      "Iteration 5, loss = 0.53305679\n",
      "Iteration 6, loss = 0.53079953\n",
      "Iteration 7, loss = 0.52793690\n",
      "Iteration 8, loss = 0.52832003\n",
      "Iteration 9, loss = 0.52526278\n",
      "Execucao 10 de 29 \n"
     ]
    },
    {
     "name": "stderr",
     "output_type": "stream",
     "text": [
      "/usr/local/lib/python3.6/dist-packages/sklearn/neural_network/_multilayer_perceptron.py:571: ConvergenceWarning: Stochastic Optimizer: Maximum iterations (9) reached and the optimization hasn't converged yet.\n",
      "  % self.max_iter, ConvergenceWarning)\n"
     ]
    },
    {
     "name": "stdout",
     "output_type": "stream",
     "text": [
      "Iteration 1, loss = 0.57186228\n",
      "Iteration 2, loss = 0.53712045\n",
      "Iteration 3, loss = 0.53345664\n",
      "Iteration 4, loss = 0.53329697\n",
      "Iteration 5, loss = 0.53227761\n",
      "Iteration 6, loss = 0.53050937\n",
      "Iteration 7, loss = 0.52955072\n",
      "Iteration 8, loss = 0.52743398\n",
      "Iteration 9, loss = 0.52610583\n",
      "Iteration 10, loss = 0.52476794\n",
      "Execucao 11 de 29 \n"
     ]
    },
    {
     "name": "stderr",
     "output_type": "stream",
     "text": [
      "/usr/local/lib/python3.6/dist-packages/sklearn/neural_network/_multilayer_perceptron.py:571: ConvergenceWarning: Stochastic Optimizer: Maximum iterations (10) reached and the optimization hasn't converged yet.\n",
      "  % self.max_iter, ConvergenceWarning)\n"
     ]
    },
    {
     "name": "stdout",
     "output_type": "stream",
     "text": [
      "Iteration 1, loss = 0.56804166\n",
      "Iteration 2, loss = 0.53618616\n",
      "Iteration 3, loss = 0.53393051\n",
      "Iteration 4, loss = 0.53119121\n",
      "Iteration 5, loss = 0.52900291\n",
      "Iteration 6, loss = 0.52835045\n",
      "Iteration 7, loss = 0.52600031\n",
      "Iteration 8, loss = 0.52358326\n",
      "Iteration 9, loss = 0.52096940\n",
      "Iteration 10, loss = 0.51997400\n",
      "Iteration 11, loss = 0.51584789\n",
      "Execucao 12 de 29 \n"
     ]
    },
    {
     "name": "stderr",
     "output_type": "stream",
     "text": [
      "/usr/local/lib/python3.6/dist-packages/sklearn/neural_network/_multilayer_perceptron.py:571: ConvergenceWarning: Stochastic Optimizer: Maximum iterations (11) reached and the optimization hasn't converged yet.\n",
      "  % self.max_iter, ConvergenceWarning)\n"
     ]
    },
    {
     "name": "stdout",
     "output_type": "stream",
     "text": [
      "Iteration 1, loss = 0.57954592\n",
      "Iteration 2, loss = 0.53672870\n",
      "Iteration 3, loss = 0.53365156\n",
      "Iteration 4, loss = 0.53301076\n",
      "Iteration 5, loss = 0.53300009\n",
      "Iteration 6, loss = 0.53059846\n",
      "Iteration 7, loss = 0.52875303\n",
      "Iteration 8, loss = 0.52680900\n",
      "Iteration 9, loss = 0.52450876\n",
      "Iteration 10, loss = 0.52147032\n",
      "Iteration 11, loss = 0.52043424\n",
      "Iteration 12, loss = 0.51843431\n",
      "Execucao 13 de 29 \n"
     ]
    },
    {
     "name": "stderr",
     "output_type": "stream",
     "text": [
      "/usr/local/lib/python3.6/dist-packages/sklearn/neural_network/_multilayer_perceptron.py:571: ConvergenceWarning: Stochastic Optimizer: Maximum iterations (12) reached and the optimization hasn't converged yet.\n",
      "  % self.max_iter, ConvergenceWarning)\n"
     ]
    },
    {
     "name": "stdout",
     "output_type": "stream",
     "text": [
      "Iteration 1, loss = 0.57987065\n",
      "Iteration 2, loss = 0.53739069\n",
      "Iteration 3, loss = 0.53369151\n",
      "Iteration 4, loss = 0.53310192\n",
      "Iteration 5, loss = 0.53204534\n",
      "Iteration 6, loss = 0.53147669\n",
      "Iteration 7, loss = 0.53088877\n",
      "Iteration 8, loss = 0.52824771\n",
      "Iteration 9, loss = 0.52812287\n",
      "Iteration 10, loss = 0.52361338\n",
      "Iteration 11, loss = 0.52084487\n",
      "Iteration 12, loss = 0.51843355\n",
      "Iteration 13, loss = 0.51564241\n",
      "Execucao 14 de 29 \n"
     ]
    },
    {
     "name": "stderr",
     "output_type": "stream",
     "text": [
      "/usr/local/lib/python3.6/dist-packages/sklearn/neural_network/_multilayer_perceptron.py:571: ConvergenceWarning: Stochastic Optimizer: Maximum iterations (13) reached and the optimization hasn't converged yet.\n",
      "  % self.max_iter, ConvergenceWarning)\n"
     ]
    },
    {
     "name": "stdout",
     "output_type": "stream",
     "text": [
      "Iteration 1, loss = 0.58480471\n",
      "Iteration 2, loss = 0.53769516\n",
      "Iteration 3, loss = 0.53414349\n",
      "Iteration 4, loss = 0.53268846\n",
      "Iteration 5, loss = 0.53236078\n",
      "Iteration 6, loss = 0.53115882\n",
      "Iteration 7, loss = 0.52900113\n",
      "Iteration 8, loss = 0.52713413\n",
      "Iteration 9, loss = 0.52505738\n",
      "Iteration 10, loss = 0.52411800\n",
      "Iteration 11, loss = 0.52151466\n",
      "Iteration 12, loss = 0.52017641\n",
      "Iteration 13, loss = 0.51738492\n",
      "Iteration 14, loss = 0.51474382\n",
      "Execucao 15 de 29 \n"
     ]
    },
    {
     "name": "stderr",
     "output_type": "stream",
     "text": [
      "/usr/local/lib/python3.6/dist-packages/sklearn/neural_network/_multilayer_perceptron.py:571: ConvergenceWarning: Stochastic Optimizer: Maximum iterations (14) reached and the optimization hasn't converged yet.\n",
      "  % self.max_iter, ConvergenceWarning)\n"
     ]
    },
    {
     "name": "stdout",
     "output_type": "stream",
     "text": [
      "Iteration 1, loss = 0.56864344\n",
      "Iteration 2, loss = 0.53655979\n",
      "Iteration 3, loss = 0.53307783\n",
      "Iteration 4, loss = 0.53378413\n",
      "Iteration 5, loss = 0.53097620\n",
      "Iteration 6, loss = 0.53009821\n",
      "Iteration 7, loss = 0.52764782\n",
      "Iteration 8, loss = 0.52619009\n",
      "Iteration 9, loss = 0.52442149\n",
      "Iteration 10, loss = 0.52375348\n",
      "Iteration 11, loss = 0.52157159\n",
      "Iteration 12, loss = 0.51880532\n",
      "Iteration 13, loss = 0.51552537\n",
      "Iteration 14, loss = 0.51347936\n",
      "Iteration 15, loss = 0.51213023\n",
      "Execucao 16 de 29 \n"
     ]
    },
    {
     "name": "stderr",
     "output_type": "stream",
     "text": [
      "/usr/local/lib/python3.6/dist-packages/sklearn/neural_network/_multilayer_perceptron.py:571: ConvergenceWarning: Stochastic Optimizer: Maximum iterations (15) reached and the optimization hasn't converged yet.\n",
      "  % self.max_iter, ConvergenceWarning)\n"
     ]
    },
    {
     "name": "stdout",
     "output_type": "stream",
     "text": [
      "Iteration 1, loss = 0.58019179\n",
      "Iteration 2, loss = 0.53755382\n",
      "Iteration 3, loss = 0.53442092\n",
      "Iteration 4, loss = 0.53180661\n",
      "Iteration 5, loss = 0.53351936\n",
      "Iteration 6, loss = 0.53039939\n",
      "Iteration 7, loss = 0.52790179\n",
      "Iteration 8, loss = 0.52741744\n",
      "Iteration 9, loss = 0.52581876\n",
      "Iteration 10, loss = 0.52284227\n",
      "Iteration 11, loss = 0.52032106\n",
      "Iteration 12, loss = 0.51838800\n",
      "Iteration 13, loss = 0.51798477\n",
      "Iteration 14, loss = 0.51382002\n",
      "Iteration 15, loss = 0.51136267\n",
      "Iteration 16, loss = 0.50849939\n",
      "Execucao 17 de 29 \n"
     ]
    },
    {
     "name": "stderr",
     "output_type": "stream",
     "text": [
      "/usr/local/lib/python3.6/dist-packages/sklearn/neural_network/_multilayer_perceptron.py:571: ConvergenceWarning: Stochastic Optimizer: Maximum iterations (16) reached and the optimization hasn't converged yet.\n",
      "  % self.max_iter, ConvergenceWarning)\n"
     ]
    },
    {
     "name": "stdout",
     "output_type": "stream",
     "text": [
      "Iteration 1, loss = 0.57095557\n",
      "Iteration 2, loss = 0.53824280\n",
      "Iteration 3, loss = 0.53441958\n",
      "Iteration 4, loss = 0.53257306\n",
      "Iteration 5, loss = 0.53180458\n",
      "Iteration 6, loss = 0.52870142\n",
      "Iteration 7, loss = 0.52727300\n",
      "Iteration 8, loss = 0.52600879\n",
      "Iteration 9, loss = 0.52370176\n",
      "Iteration 10, loss = 0.52199591\n",
      "Iteration 11, loss = 0.52038822\n",
      "Iteration 12, loss = 0.51826188\n",
      "Iteration 13, loss = 0.51523731\n",
      "Iteration 14, loss = 0.51376914\n",
      "Iteration 15, loss = 0.50993536\n",
      "Iteration 16, loss = 0.50693637\n",
      "Iteration 17, loss = 0.50502395\n",
      "Execucao 18 de 29 \n"
     ]
    },
    {
     "name": "stderr",
     "output_type": "stream",
     "text": [
      "/usr/local/lib/python3.6/dist-packages/sklearn/neural_network/_multilayer_perceptron.py:571: ConvergenceWarning: Stochastic Optimizer: Maximum iterations (17) reached and the optimization hasn't converged yet.\n",
      "  % self.max_iter, ConvergenceWarning)\n"
     ]
    },
    {
     "name": "stdout",
     "output_type": "stream",
     "text": [
      "Iteration 1, loss = 0.57471678\n",
      "Iteration 2, loss = 0.53657717\n",
      "Iteration 3, loss = 0.53391463\n",
      "Iteration 4, loss = 0.53340953\n",
      "Iteration 5, loss = 0.53324462\n",
      "Iteration 6, loss = 0.53014870\n",
      "Iteration 7, loss = 0.52780753\n",
      "Iteration 8, loss = 0.52643619\n",
      "Iteration 9, loss = 0.52503100\n",
      "Iteration 10, loss = 0.52227960\n",
      "Iteration 11, loss = 0.52256148\n",
      "Iteration 12, loss = 0.51974074\n",
      "Iteration 13, loss = 0.51571803\n",
      "Iteration 14, loss = 0.51487322\n",
      "Iteration 15, loss = 0.51201820\n",
      "Iteration 16, loss = 0.51082618\n",
      "Iteration 17, loss = 0.50900861\n",
      "Iteration 18, loss = 0.50544337\n",
      "Execucao 19 de 29 \n"
     ]
    },
    {
     "name": "stderr",
     "output_type": "stream",
     "text": [
      "/usr/local/lib/python3.6/dist-packages/sklearn/neural_network/_multilayer_perceptron.py:571: ConvergenceWarning: Stochastic Optimizer: Maximum iterations (18) reached and the optimization hasn't converged yet.\n",
      "  % self.max_iter, ConvergenceWarning)\n"
     ]
    },
    {
     "name": "stdout",
     "output_type": "stream",
     "text": [
      "Iteration 1, loss = 0.57475876\n",
      "Iteration 2, loss = 0.53586577\n",
      "Iteration 3, loss = 0.53380656\n",
      "Iteration 4, loss = 0.53271204\n",
      "Iteration 5, loss = 0.53191746\n",
      "Iteration 6, loss = 0.52899028\n",
      "Iteration 7, loss = 0.52906145\n",
      "Iteration 8, loss = 0.52737693\n",
      "Iteration 9, loss = 0.52443070\n",
      "Iteration 10, loss = 0.52298962\n",
      "Iteration 11, loss = 0.52012048\n",
      "Iteration 12, loss = 0.51770891\n",
      "Iteration 13, loss = 0.51601225\n",
      "Iteration 14, loss = 0.51462480\n",
      "Iteration 15, loss = 0.51045572\n",
      "Iteration 16, loss = 0.50822892\n",
      "Iteration 17, loss = 0.50561418\n",
      "Iteration 18, loss = 0.50223659\n",
      "Iteration 19, loss = 0.49978272\n",
      "Execucao 20 de 29 \n"
     ]
    },
    {
     "name": "stderr",
     "output_type": "stream",
     "text": [
      "/usr/local/lib/python3.6/dist-packages/sklearn/neural_network/_multilayer_perceptron.py:571: ConvergenceWarning: Stochastic Optimizer: Maximum iterations (19) reached and the optimization hasn't converged yet.\n",
      "  % self.max_iter, ConvergenceWarning)\n"
     ]
    },
    {
     "name": "stdout",
     "output_type": "stream",
     "text": [
      "Iteration 1, loss = 0.57268124\n",
      "Iteration 2, loss = 0.53806869\n",
      "Iteration 3, loss = 0.53365757\n",
      "Iteration 4, loss = 0.53336601\n",
      "Iteration 5, loss = 0.53186049\n",
      "Iteration 6, loss = 0.52947939\n",
      "Iteration 7, loss = 0.52900729\n",
      "Iteration 8, loss = 0.52834325\n",
      "Iteration 9, loss = 0.52495336\n",
      "Iteration 10, loss = 0.52419533\n",
      "Iteration 11, loss = 0.52129576\n",
      "Iteration 12, loss = 0.51973232\n",
      "Iteration 13, loss = 0.51778333\n",
      "Iteration 14, loss = 0.51647597\n",
      "Iteration 15, loss = 0.51267192\n",
      "Iteration 16, loss = 0.51081411\n",
      "Iteration 17, loss = 0.50844694\n",
      "Iteration 18, loss = 0.50626526\n",
      "Iteration 19, loss = 0.50439470\n",
      "Iteration 20, loss = 0.50303817\n",
      "Execucao 21 de 29 \n"
     ]
    },
    {
     "name": "stderr",
     "output_type": "stream",
     "text": [
      "/usr/local/lib/python3.6/dist-packages/sklearn/neural_network/_multilayer_perceptron.py:571: ConvergenceWarning: Stochastic Optimizer: Maximum iterations (20) reached and the optimization hasn't converged yet.\n",
      "  % self.max_iter, ConvergenceWarning)\n"
     ]
    },
    {
     "name": "stdout",
     "output_type": "stream",
     "text": [
      "Iteration 1, loss = 0.57265913\n",
      "Iteration 2, loss = 0.53734044\n",
      "Iteration 3, loss = 0.53532006\n",
      "Iteration 4, loss = 0.53361414\n",
      "Iteration 5, loss = 0.53242608\n",
      "Iteration 6, loss = 0.53122315\n",
      "Iteration 7, loss = 0.53144895\n",
      "Iteration 8, loss = 0.52851824\n",
      "Iteration 9, loss = 0.52646081\n",
      "Iteration 10, loss = 0.52447668\n",
      "Iteration 11, loss = 0.52289742\n",
      "Iteration 12, loss = 0.52124601\n",
      "Iteration 13, loss = 0.51853763\n",
      "Iteration 14, loss = 0.51569365\n",
      "Iteration 15, loss = 0.51544128\n",
      "Iteration 16, loss = 0.51131215\n",
      "Iteration 17, loss = 0.50920391\n",
      "Iteration 18, loss = 0.50820631\n",
      "Iteration 19, loss = 0.50540207\n",
      "Iteration 20, loss = 0.50365007\n",
      "Iteration 21, loss = 0.50150927\n",
      "Execucao 22 de 29 \n"
     ]
    },
    {
     "name": "stderr",
     "output_type": "stream",
     "text": [
      "/usr/local/lib/python3.6/dist-packages/sklearn/neural_network/_multilayer_perceptron.py:571: ConvergenceWarning: Stochastic Optimizer: Maximum iterations (21) reached and the optimization hasn't converged yet.\n",
      "  % self.max_iter, ConvergenceWarning)\n"
     ]
    },
    {
     "name": "stdout",
     "output_type": "stream",
     "text": [
      "Iteration 1, loss = 0.57006612\n",
      "Iteration 2, loss = 0.53775966\n",
      "Iteration 3, loss = 0.53452901\n",
      "Iteration 4, loss = 0.53299889\n",
      "Iteration 5, loss = 0.53200616\n",
      "Iteration 6, loss = 0.53020033\n",
      "Iteration 7, loss = 0.52940748\n",
      "Iteration 8, loss = 0.52726751\n",
      "Iteration 9, loss = 0.52608745\n",
      "Iteration 10, loss = 0.52521586\n",
      "Iteration 11, loss = 0.52401901\n",
      "Iteration 12, loss = 0.52038923\n",
      "Iteration 13, loss = 0.51787433\n",
      "Iteration 14, loss = 0.51489040\n",
      "Iteration 15, loss = 0.51307182\n",
      "Iteration 16, loss = 0.51038415\n",
      "Iteration 17, loss = 0.50862099\n",
      "Iteration 18, loss = 0.50479049\n",
      "Iteration 19, loss = 0.50297328\n",
      "Iteration 20, loss = 0.49944001\n",
      "Iteration 21, loss = 0.49735524\n",
      "Iteration 22, loss = 0.49500702\n",
      "Execucao 23 de 29 \n"
     ]
    },
    {
     "name": "stderr",
     "output_type": "stream",
     "text": [
      "/usr/local/lib/python3.6/dist-packages/sklearn/neural_network/_multilayer_perceptron.py:571: ConvergenceWarning: Stochastic Optimizer: Maximum iterations (22) reached and the optimization hasn't converged yet.\n",
      "  % self.max_iter, ConvergenceWarning)\n"
     ]
    },
    {
     "name": "stdout",
     "output_type": "stream",
     "text": [
      "Iteration 1, loss = 0.57492451\n",
      "Iteration 2, loss = 0.53688024\n",
      "Iteration 3, loss = 0.53363742\n",
      "Iteration 4, loss = 0.53186946\n",
      "Iteration 5, loss = 0.53110077\n",
      "Iteration 6, loss = 0.52932180\n",
      "Iteration 7, loss = 0.52772770\n",
      "Iteration 8, loss = 0.52669991\n",
      "Iteration 9, loss = 0.52502423\n",
      "Iteration 10, loss = 0.52179063\n",
      "Iteration 11, loss = 0.51945502\n",
      "Iteration 12, loss = 0.51791249\n",
      "Iteration 13, loss = 0.51399054\n",
      "Iteration 14, loss = 0.51240118\n",
      "Iteration 15, loss = 0.50983890\n",
      "Iteration 16, loss = 0.50777139\n",
      "Iteration 17, loss = 0.50354724\n",
      "Iteration 18, loss = 0.50318403\n",
      "Iteration 19, loss = 0.50127920\n",
      "Iteration 20, loss = 0.49774056\n",
      "Iteration 21, loss = 0.49500488\n",
      "Iteration 22, loss = 0.49139848\n",
      "Iteration 23, loss = 0.49071765\n",
      "Execucao 24 de 29 \n"
     ]
    },
    {
     "name": "stderr",
     "output_type": "stream",
     "text": [
      "/usr/local/lib/python3.6/dist-packages/sklearn/neural_network/_multilayer_perceptron.py:571: ConvergenceWarning: Stochastic Optimizer: Maximum iterations (23) reached and the optimization hasn't converged yet.\n",
      "  % self.max_iter, ConvergenceWarning)\n"
     ]
    },
    {
     "name": "stdout",
     "output_type": "stream",
     "text": [
      "Iteration 1, loss = 0.57220394\n",
      "Iteration 2, loss = 0.53748577\n",
      "Iteration 3, loss = 0.53447212\n",
      "Iteration 4, loss = 0.53388278\n",
      "Iteration 5, loss = 0.53217210\n",
      "Iteration 6, loss = 0.53092162\n",
      "Iteration 7, loss = 0.52879753\n",
      "Iteration 8, loss = 0.52816672\n",
      "Iteration 9, loss = 0.52668510\n",
      "Iteration 10, loss = 0.52462050\n",
      "Iteration 11, loss = 0.52263666\n",
      "Iteration 12, loss = 0.51912689\n",
      "Iteration 13, loss = 0.51634829\n",
      "Iteration 14, loss = 0.51638166\n",
      "Iteration 15, loss = 0.51188416\n",
      "Iteration 16, loss = 0.51017463\n",
      "Iteration 17, loss = 0.50539603\n",
      "Iteration 18, loss = 0.50503498\n",
      "Iteration 19, loss = 0.50019644\n",
      "Iteration 20, loss = 0.49765980\n",
      "Iteration 21, loss = 0.49552223\n",
      "Iteration 22, loss = 0.49253021\n",
      "Iteration 23, loss = 0.49096296\n",
      "Iteration 24, loss = 0.48874793\n",
      "Execucao 25 de 29 \n"
     ]
    },
    {
     "name": "stderr",
     "output_type": "stream",
     "text": [
      "/usr/local/lib/python3.6/dist-packages/sklearn/neural_network/_multilayer_perceptron.py:571: ConvergenceWarning: Stochastic Optimizer: Maximum iterations (24) reached and the optimization hasn't converged yet.\n",
      "  % self.max_iter, ConvergenceWarning)\n"
     ]
    },
    {
     "name": "stdout",
     "output_type": "stream",
     "text": [
      "Iteration 1, loss = 0.56928906\n",
      "Iteration 2, loss = 0.53687711\n",
      "Iteration 3, loss = 0.53640688\n",
      "Iteration 4, loss = 0.53468692\n",
      "Iteration 5, loss = 0.53289813\n",
      "Iteration 6, loss = 0.53089008\n",
      "Iteration 7, loss = 0.52953865\n",
      "Iteration 8, loss = 0.52771454\n",
      "Iteration 9, loss = 0.52664623\n",
      "Iteration 10, loss = 0.52450443\n",
      "Iteration 11, loss = 0.52328759\n",
      "Iteration 12, loss = 0.52113916\n",
      "Iteration 13, loss = 0.52021279\n",
      "Iteration 14, loss = 0.51547714\n",
      "Iteration 15, loss = 0.51348912\n",
      "Iteration 16, loss = 0.51283581\n",
      "Iteration 17, loss = 0.50795900\n",
      "Iteration 18, loss = 0.50697258\n",
      "Iteration 19, loss = 0.50305929\n",
      "Iteration 20, loss = 0.50070351\n",
      "Iteration 21, loss = 0.49766342\n",
      "Iteration 22, loss = 0.49730873\n",
      "Iteration 23, loss = 0.49467209\n",
      "Iteration 24, loss = 0.49044354\n",
      "Iteration 25, loss = 0.48829414\n",
      "Execucao 26 de 29 \n"
     ]
    },
    {
     "name": "stderr",
     "output_type": "stream",
     "text": [
      "/usr/local/lib/python3.6/dist-packages/sklearn/neural_network/_multilayer_perceptron.py:571: ConvergenceWarning: Stochastic Optimizer: Maximum iterations (25) reached and the optimization hasn't converged yet.\n",
      "  % self.max_iter, ConvergenceWarning)\n"
     ]
    },
    {
     "name": "stdout",
     "output_type": "stream",
     "text": [
      "Iteration 1, loss = 0.57937408\n",
      "Iteration 2, loss = 0.53726007\n",
      "Iteration 3, loss = 0.53420209\n",
      "Iteration 4, loss = 0.53319580\n",
      "Iteration 5, loss = 0.53095076\n",
      "Iteration 6, loss = 0.52883051\n",
      "Iteration 7, loss = 0.52776798\n",
      "Iteration 8, loss = 0.52502926\n",
      "Iteration 9, loss = 0.52288859\n",
      "Iteration 10, loss = 0.52089778\n",
      "Iteration 11, loss = 0.51750913\n",
      "Iteration 12, loss = 0.51612565\n",
      "Iteration 13, loss = 0.51316373\n",
      "Iteration 14, loss = 0.51088459\n",
      "Iteration 15, loss = 0.50760958\n",
      "Iteration 16, loss = 0.50586627\n",
      "Iteration 17, loss = 0.50313193\n",
      "Iteration 18, loss = 0.49935471\n",
      "Iteration 19, loss = 0.49605873\n",
      "Iteration 20, loss = 0.49407267\n",
      "Iteration 21, loss = 0.49020260\n",
      "Iteration 22, loss = 0.48878391\n",
      "Iteration 23, loss = 0.48441685\n",
      "Iteration 24, loss = 0.48348014\n",
      "Iteration 25, loss = 0.48276306\n",
      "Iteration 26, loss = 0.47848468\n",
      "Execucao 27 de 29 \n"
     ]
    },
    {
     "name": "stderr",
     "output_type": "stream",
     "text": [
      "/usr/local/lib/python3.6/dist-packages/sklearn/neural_network/_multilayer_perceptron.py:571: ConvergenceWarning: Stochastic Optimizer: Maximum iterations (26) reached and the optimization hasn't converged yet.\n",
      "  % self.max_iter, ConvergenceWarning)\n"
     ]
    },
    {
     "name": "stdout",
     "output_type": "stream",
     "text": [
      "Iteration 1, loss = 0.57781111\n",
      "Iteration 2, loss = 0.53702481\n",
      "Iteration 3, loss = 0.53376242\n",
      "Iteration 4, loss = 0.53338001\n",
      "Iteration 5, loss = 0.53095098\n",
      "Iteration 6, loss = 0.53024351\n",
      "Iteration 7, loss = 0.52703124\n",
      "Iteration 8, loss = 0.52461445\n",
      "Iteration 9, loss = 0.52217245\n",
      "Iteration 10, loss = 0.52005323\n",
      "Iteration 11, loss = 0.51768889\n",
      "Iteration 12, loss = 0.51542979\n",
      "Iteration 13, loss = 0.51178232\n",
      "Iteration 14, loss = 0.50931729\n",
      "Iteration 15, loss = 0.50671621\n",
      "Iteration 16, loss = 0.50292820\n",
      "Iteration 17, loss = 0.50034350\n",
      "Iteration 18, loss = 0.49798178\n",
      "Iteration 19, loss = 0.49365432\n",
      "Iteration 20, loss = 0.49129711\n",
      "Iteration 21, loss = 0.48922824\n",
      "Iteration 22, loss = 0.48585339\n",
      "Iteration 23, loss = 0.48322083\n",
      "Iteration 24, loss = 0.48091534\n",
      "Iteration 25, loss = 0.47910039\n",
      "Iteration 26, loss = 0.47533317\n",
      "Iteration 27, loss = 0.47350385\n",
      "Execucao 28 de 29 \n"
     ]
    },
    {
     "name": "stderr",
     "output_type": "stream",
     "text": [
      "/usr/local/lib/python3.6/dist-packages/sklearn/neural_network/_multilayer_perceptron.py:571: ConvergenceWarning: Stochastic Optimizer: Maximum iterations (27) reached and the optimization hasn't converged yet.\n",
      "  % self.max_iter, ConvergenceWarning)\n"
     ]
    },
    {
     "name": "stdout",
     "output_type": "stream",
     "text": [
      "Iteration 1, loss = 0.57364150\n",
      "Iteration 2, loss = 0.53661552\n",
      "Iteration 3, loss = 0.53498642\n",
      "Iteration 4, loss = 0.53303932\n",
      "Iteration 5, loss = 0.53209818\n",
      "Iteration 6, loss = 0.53095737\n",
      "Iteration 7, loss = 0.52974231\n",
      "Iteration 8, loss = 0.52805448\n",
      "Iteration 9, loss = 0.52628096\n",
      "Iteration 10, loss = 0.52494220\n",
      "Iteration 11, loss = 0.52229121\n",
      "Iteration 12, loss = 0.52125119\n",
      "Iteration 13, loss = 0.51893692\n",
      "Iteration 14, loss = 0.51661911\n",
      "Iteration 15, loss = 0.51298445\n",
      "Iteration 16, loss = 0.51076561\n",
      "Iteration 17, loss = 0.50979351\n",
      "Iteration 18, loss = 0.50509596\n",
      "Iteration 19, loss = 0.50343033\n",
      "Iteration 20, loss = 0.50014700\n",
      "Iteration 21, loss = 0.49843648\n",
      "Iteration 22, loss = 0.49744503\n",
      "Iteration 23, loss = 0.49354777\n",
      "Iteration 24, loss = 0.49304846\n",
      "Iteration 25, loss = 0.48990458\n",
      "Iteration 26, loss = 0.48800151\n",
      "Iteration 27, loss = 0.48570783\n",
      "Iteration 28, loss = 0.48336615\n",
      "Execucao 29 de 29 \n"
     ]
    },
    {
     "name": "stderr",
     "output_type": "stream",
     "text": [
      "/usr/local/lib/python3.6/dist-packages/sklearn/neural_network/_multilayer_perceptron.py:571: ConvergenceWarning: Stochastic Optimizer: Maximum iterations (28) reached and the optimization hasn't converged yet.\n",
      "  % self.max_iter, ConvergenceWarning)\n"
     ]
    },
    {
     "name": "stdout",
     "output_type": "stream",
     "text": [
      "Iteration 1, loss = 0.57451954\n",
      "Iteration 2, loss = 0.53730402\n",
      "Iteration 3, loss = 0.53435869\n",
      "Iteration 4, loss = 0.53282548\n",
      "Iteration 5, loss = 0.53112759\n",
      "Iteration 6, loss = 0.52995781\n",
      "Iteration 7, loss = 0.52779068\n",
      "Iteration 8, loss = 0.52603406\n",
      "Iteration 9, loss = 0.52324135\n",
      "Iteration 10, loss = 0.52221026\n",
      "Iteration 11, loss = 0.51909950\n",
      "Iteration 12, loss = 0.51667309\n",
      "Iteration 13, loss = 0.51464839\n",
      "Iteration 14, loss = 0.51068879\n",
      "Iteration 15, loss = 0.50889884\n",
      "Iteration 16, loss = 0.50650193\n",
      "Iteration 17, loss = 0.50497239\n",
      "Iteration 18, loss = 0.50208340\n",
      "Iteration 19, loss = 0.50062517\n",
      "Iteration 20, loss = 0.49712071\n",
      "Iteration 21, loss = 0.49477869\n",
      "Iteration 22, loss = 0.49483894\n",
      "Iteration 23, loss = 0.49068309\n",
      "Iteration 24, loss = 0.48783680\n",
      "Iteration 25, loss = 0.48703716\n",
      "Iteration 26, loss = 0.48382712\n",
      "Iteration 27, loss = 0.48246410\n",
      "Iteration 28, loss = 0.47904384\n",
      "Iteration 29, loss = 0.47913775\n",
      "Fim da função\n"
     ]
    },
    {
     "name": "stderr",
     "output_type": "stream",
     "text": [
      "/usr/local/lib/python3.6/dist-packages/sklearn/neural_network/_multilayer_perceptron.py:571: ConvergenceWarning: Stochastic Optimizer: Maximum iterations (29) reached and the optimization hasn't converged yet.\n",
      "  % self.max_iter, ConvergenceWarning)\n"
     ]
    }
   ],
   "source": [
    "gera_classificador_RNA(1, 30, 1, y_train, y_test, X_train, X_test, 'HIPERTENSAO')"
   ]
  },
  {
   "cell_type": "code",
   "execution_count": 57,
   "metadata": {
    "colab": {
     "base_uri": "https://localhost:8080/",
     "height": 197
    },
    "colab_type": "code",
    "id": "9i-EvQAZif4i",
    "outputId": "1449e66a-3222-4b8e-8f98-b893a43275ef"
   },
   "outputs": [
    {
     "data": {
      "text/html": [
       "<div>\n",
       "<style scoped>\n",
       "    .dataframe tbody tr th:only-of-type {\n",
       "        vertical-align: middle;\n",
       "    }\n",
       "\n",
       "    .dataframe tbody tr th {\n",
       "        vertical-align: top;\n",
       "    }\n",
       "\n",
       "    .dataframe thead th {\n",
       "        text-align: right;\n",
       "    }\n",
       "</style>\n",
       "<table border=\"1\" class=\"dataframe\">\n",
       "  <thead>\n",
       "    <tr style=\"text-align: right;\">\n",
       "      <th></th>\n",
       "      <th>NU_ITERACAO</th>\n",
       "      <th>ACURACIA</th>\n",
       "      <th>ACERTO - MC NAO</th>\n",
       "      <th>ACERTO - MC SIM</th>\n",
       "      <th>MATRIZ CONFUSAO</th>\n",
       "      <th>IN_ALVO</th>\n",
       "    </tr>\n",
       "  </thead>\n",
       "  <tbody>\n",
       "    <tr>\n",
       "      <th>0</th>\n",
       "      <td>1</td>\n",
       "      <td>0.724793</td>\n",
       "      <td>73.873016</td>\n",
       "      <td>69.761684</td>\n",
       "      <td>[[4654, 1646], [977, 2254]]</td>\n",
       "      <td>HIPERTENSAO</td>\n",
       "    </tr>\n",
       "    <tr>\n",
       "      <th>1</th>\n",
       "      <td>2</td>\n",
       "      <td>0.725212</td>\n",
       "      <td>72.809524</td>\n",
       "      <td>71.959146</td>\n",
       "      <td>[[4587, 1713], [906, 2325]]</td>\n",
       "      <td>HIPERTENSAO</td>\n",
       "    </tr>\n",
       "    <tr>\n",
       "      <th>2</th>\n",
       "      <td>3</td>\n",
       "      <td>0.707586</td>\n",
       "      <td>66.492063</td>\n",
       "      <td>79.077685</td>\n",
       "      <td>[[4189, 2111], [676, 2555]]</td>\n",
       "      <td>HIPERTENSAO</td>\n",
       "    </tr>\n",
       "    <tr>\n",
       "      <th>3</th>\n",
       "      <td>4</td>\n",
       "      <td>0.705802</td>\n",
       "      <td>66.015873</td>\n",
       "      <td>79.480037</td>\n",
       "      <td>[[4159, 2141], [663, 2568]]</td>\n",
       "      <td>HIPERTENSAO</td>\n",
       "    </tr>\n",
       "    <tr>\n",
       "      <th>4</th>\n",
       "      <td>5</td>\n",
       "      <td>0.720386</td>\n",
       "      <td>71.031746</td>\n",
       "      <td>74.001857</td>\n",
       "      <td>[[4475, 1825], [840, 2391]]</td>\n",
       "      <td>HIPERTENSAO</td>\n",
       "    </tr>\n",
       "  </tbody>\n",
       "</table>\n",
       "</div>"
      ],
      "text/plain": [
       "  NU_ITERACAO  ACURACIA  ...              MATRIZ CONFUSAO      IN_ALVO\n",
       "0           1  0.724793  ...  [[4654, 1646], [977, 2254]]  HIPERTENSAO\n",
       "1           2  0.725212  ...  [[4587, 1713], [906, 2325]]  HIPERTENSAO\n",
       "2           3  0.707586  ...  [[4189, 2111], [676, 2555]]  HIPERTENSAO\n",
       "3           4  0.705802  ...  [[4159, 2141], [663, 2568]]  HIPERTENSAO\n",
       "4           5  0.720386  ...  [[4475, 1825], [840, 2391]]  HIPERTENSAO\n",
       "\n",
       "[5 rows x 6 columns]"
      ]
     },
     "execution_count": 57,
     "metadata": {
      "tags": []
     },
     "output_type": "execute_result"
    }
   ],
   "source": [
    "df_scores_rna.head()"
   ]
  },
  {
   "cell_type": "code",
   "execution_count": 58,
   "metadata": {
    "colab": {
     "base_uri": "https://localhost:8080/",
     "height": 420
    },
    "colab_type": "code",
    "id": "cyoRrw85ikHE",
    "outputId": "4a22e2a0-b375-4657-8bab-2c9115ae2ee0"
   },
   "outputs": [
    {
     "name": "stderr",
     "output_type": "stream",
     "text": [
      "/usr/local/lib/python3.6/dist-packages/sklearn/model_selection/_split.py:296: FutureWarning: Setting a random_state has no effect since shuffle is False. This will raise an error in 0.24. You should leave random_state to its default (None), or set shuffle=True.\n",
      "  FutureWarning\n",
      "/usr/local/lib/python3.6/dist-packages/sklearn/neural_network/_multilayer_perceptron.py:571: ConvergenceWarning: Stochastic Optimizer: Maximum iterations (10) reached and the optimization hasn't converged yet.\n",
      "  % self.max_iter, ConvergenceWarning)\n",
      "/usr/local/lib/python3.6/dist-packages/sklearn/neural_network/_multilayer_perceptron.py:571: ConvergenceWarning: Stochastic Optimizer: Maximum iterations (10) reached and the optimization hasn't converged yet.\n",
      "  % self.max_iter, ConvergenceWarning)\n",
      "/usr/local/lib/python3.6/dist-packages/sklearn/neural_network/_multilayer_perceptron.py:571: ConvergenceWarning: Stochastic Optimizer: Maximum iterations (10) reached and the optimization hasn't converged yet.\n",
      "  % self.max_iter, ConvergenceWarning)\n",
      "/usr/local/lib/python3.6/dist-packages/sklearn/neural_network/_multilayer_perceptron.py:571: ConvergenceWarning: Stochastic Optimizer: Maximum iterations (10) reached and the optimization hasn't converged yet.\n",
      "  % self.max_iter, ConvergenceWarning)\n",
      "/usr/local/lib/python3.6/dist-packages/sklearn/neural_network/_multilayer_perceptron.py:571: ConvergenceWarning: Stochastic Optimizer: Maximum iterations (10) reached and the optimization hasn't converged yet.\n",
      "  % self.max_iter, ConvergenceWarning)\n",
      "/usr/local/lib/python3.6/dist-packages/sklearn/neural_network/_multilayer_perceptron.py:571: ConvergenceWarning: Stochastic Optimizer: Maximum iterations (10) reached and the optimization hasn't converged yet.\n",
      "  % self.max_iter, ConvergenceWarning)\n",
      "/usr/local/lib/python3.6/dist-packages/sklearn/neural_network/_multilayer_perceptron.py:571: ConvergenceWarning: Stochastic Optimizer: Maximum iterations (10) reached and the optimization hasn't converged yet.\n",
      "  % self.max_iter, ConvergenceWarning)\n",
      "/usr/local/lib/python3.6/dist-packages/sklearn/neural_network/_multilayer_perceptron.py:571: ConvergenceWarning: Stochastic Optimizer: Maximum iterations (10) reached and the optimization hasn't converged yet.\n",
      "  % self.max_iter, ConvergenceWarning)\n",
      "/usr/local/lib/python3.6/dist-packages/sklearn/neural_network/_multilayer_perceptron.py:571: ConvergenceWarning: Stochastic Optimizer: Maximum iterations (10) reached and the optimization hasn't converged yet.\n",
      "  % self.max_iter, ConvergenceWarning)\n"
     ]
    },
    {
     "name": "stdout",
     "output_type": "stream",
     "text": [
      "0.6578908750618156\n"
     ]
    },
    {
     "name": "stderr",
     "output_type": "stream",
     "text": [
      "/usr/local/lib/python3.6/dist-packages/sklearn/neural_network/_multilayer_perceptron.py:571: ConvergenceWarning: Stochastic Optimizer: Maximum iterations (10) reached and the optimization hasn't converged yet.\n",
      "  % self.max_iter, ConvergenceWarning)\n"
     ]
    }
   ],
   "source": [
    "KF = KFold(n_splits=10, random_state=7)\n",
    "clf_rna_hiper = MLPClassifier(hidden_layer_sizes=100, activation='relu', solver='adam', alpha=0.0001, batch_size='auto', max_iter=10)\n",
    "resultado = cross_val_score(clf_rna_hiper, X_train, y_train, cv=KF, scoring='accuracy')\n",
    "\n",
    "acc_rna_hip = resultado.mean()\n",
    "#df_comp.loc[len(df_comp)] = ['Decisao Acuracia - CV', resultado.mean() , '']\n",
    "print(acc_rna_hip)\n"
   ]
  },
  {
   "cell_type": "markdown",
   "metadata": {
    "colab_type": "text",
    "id": "Dgslf1IE6gr_"
   },
   "source": [
    "# Classificação Rede Neural - Diabetes"
   ]
  },
  {
   "cell_type": "code",
   "execution_count": 59,
   "metadata": {
    "colab": {
     "base_uri": "https://localhost:8080/",
     "height": 1000
    },
    "colab_type": "code",
    "id": "4gmnib-ii02j",
    "outputId": "46744caf-ad64-405b-9769-a597052b7b6f"
   },
   "outputs": [
    {
     "name": "stdout",
     "output_type": "stream",
     "text": [
      "Inicio da função\n",
      "Execucao 1 de 29 \n",
      "Iteration 1, loss = 0.55291382\n",
      "Execucao 2 de 29 \n"
     ]
    },
    {
     "name": "stderr",
     "output_type": "stream",
     "text": [
      "/usr/local/lib/python3.6/dist-packages/sklearn/neural_network/_multilayer_perceptron.py:571: ConvergenceWarning: Stochastic Optimizer: Maximum iterations (1) reached and the optimization hasn't converged yet.\n",
      "  % self.max_iter, ConvergenceWarning)\n"
     ]
    },
    {
     "name": "stdout",
     "output_type": "stream",
     "text": [
      "Iteration 1, loss = 0.55040234\n",
      "Iteration 2, loss = 0.51221649\n",
      "Execucao 3 de 29 \n"
     ]
    },
    {
     "name": "stderr",
     "output_type": "stream",
     "text": [
      "/usr/local/lib/python3.6/dist-packages/sklearn/neural_network/_multilayer_perceptron.py:571: ConvergenceWarning: Stochastic Optimizer: Maximum iterations (2) reached and the optimization hasn't converged yet.\n",
      "  % self.max_iter, ConvergenceWarning)\n"
     ]
    },
    {
     "name": "stdout",
     "output_type": "stream",
     "text": [
      "Iteration 1, loss = 0.54648096\n",
      "Iteration 2, loss = 0.51244643\n",
      "Iteration 3, loss = 0.51017656\n",
      "Execucao 4 de 29 \n"
     ]
    },
    {
     "name": "stderr",
     "output_type": "stream",
     "text": [
      "/usr/local/lib/python3.6/dist-packages/sklearn/neural_network/_multilayer_perceptron.py:571: ConvergenceWarning: Stochastic Optimizer: Maximum iterations (3) reached and the optimization hasn't converged yet.\n",
      "  % self.max_iter, ConvergenceWarning)\n"
     ]
    },
    {
     "name": "stdout",
     "output_type": "stream",
     "text": [
      "Iteration 1, loss = 0.55535344\n",
      "Iteration 2, loss = 0.51214545\n",
      "Iteration 3, loss = 0.50689473\n",
      "Iteration 4, loss = 0.50302661\n",
      "Execucao 5 de 29 \n"
     ]
    },
    {
     "name": "stderr",
     "output_type": "stream",
     "text": [
      "/usr/local/lib/python3.6/dist-packages/sklearn/neural_network/_multilayer_perceptron.py:571: ConvergenceWarning: Stochastic Optimizer: Maximum iterations (4) reached and the optimization hasn't converged yet.\n",
      "  % self.max_iter, ConvergenceWarning)\n"
     ]
    },
    {
     "name": "stdout",
     "output_type": "stream",
     "text": [
      "Iteration 1, loss = 0.54937924\n",
      "Iteration 2, loss = 0.51177800\n",
      "Iteration 3, loss = 0.50881605\n",
      "Iteration 4, loss = 0.50252958\n",
      "Iteration 5, loss = 0.49837051\n",
      "Execucao 6 de 29 \n"
     ]
    },
    {
     "name": "stderr",
     "output_type": "stream",
     "text": [
      "/usr/local/lib/python3.6/dist-packages/sklearn/neural_network/_multilayer_perceptron.py:571: ConvergenceWarning: Stochastic Optimizer: Maximum iterations (5) reached and the optimization hasn't converged yet.\n",
      "  % self.max_iter, ConvergenceWarning)\n"
     ]
    },
    {
     "name": "stdout",
     "output_type": "stream",
     "text": [
      "Iteration 1, loss = 0.54954945\n",
      "Iteration 2, loss = 0.51266427\n",
      "Iteration 3, loss = 0.50943113\n",
      "Iteration 4, loss = 0.50451549\n",
      "Iteration 5, loss = 0.49983094\n",
      "Iteration 6, loss = 0.49185393\n",
      "Execucao 7 de 29 \n"
     ]
    },
    {
     "name": "stderr",
     "output_type": "stream",
     "text": [
      "/usr/local/lib/python3.6/dist-packages/sklearn/neural_network/_multilayer_perceptron.py:571: ConvergenceWarning: Stochastic Optimizer: Maximum iterations (6) reached and the optimization hasn't converged yet.\n",
      "  % self.max_iter, ConvergenceWarning)\n"
     ]
    },
    {
     "name": "stdout",
     "output_type": "stream",
     "text": [
      "Iteration 1, loss = 0.56209598\n",
      "Iteration 2, loss = 0.51401435\n",
      "Iteration 3, loss = 0.50677002\n",
      "Iteration 4, loss = 0.50262376\n",
      "Iteration 5, loss = 0.49788284\n",
      "Iteration 6, loss = 0.48779521\n",
      "Iteration 7, loss = 0.47939111\n",
      "Execucao 8 de 29 \n"
     ]
    },
    {
     "name": "stderr",
     "output_type": "stream",
     "text": [
      "/usr/local/lib/python3.6/dist-packages/sklearn/neural_network/_multilayer_perceptron.py:571: ConvergenceWarning: Stochastic Optimizer: Maximum iterations (7) reached and the optimization hasn't converged yet.\n",
      "  % self.max_iter, ConvergenceWarning)\n"
     ]
    },
    {
     "name": "stdout",
     "output_type": "stream",
     "text": [
      "Iteration 1, loss = 0.55031116\n",
      "Iteration 2, loss = 0.51135287\n",
      "Iteration 3, loss = 0.50831317\n",
      "Iteration 4, loss = 0.50306041\n",
      "Iteration 5, loss = 0.49769912\n",
      "Iteration 6, loss = 0.49143783\n",
      "Iteration 7, loss = 0.48598791\n",
      "Iteration 8, loss = 0.47567512\n",
      "Execucao 9 de 29 \n"
     ]
    },
    {
     "name": "stderr",
     "output_type": "stream",
     "text": [
      "/usr/local/lib/python3.6/dist-packages/sklearn/neural_network/_multilayer_perceptron.py:571: ConvergenceWarning: Stochastic Optimizer: Maximum iterations (8) reached and the optimization hasn't converged yet.\n",
      "  % self.max_iter, ConvergenceWarning)\n"
     ]
    },
    {
     "name": "stdout",
     "output_type": "stream",
     "text": [
      "Iteration 1, loss = 0.54767707\n",
      "Iteration 2, loss = 0.51355662\n",
      "Iteration 3, loss = 0.50899904\n",
      "Iteration 4, loss = 0.50599794\n",
      "Iteration 5, loss = 0.50159387\n",
      "Iteration 6, loss = 0.49662657\n",
      "Iteration 7, loss = 0.49151683\n",
      "Iteration 8, loss = 0.48390049\n",
      "Iteration 9, loss = 0.47695082\n",
      "Execucao 10 de 29 \n"
     ]
    },
    {
     "name": "stderr",
     "output_type": "stream",
     "text": [
      "/usr/local/lib/python3.6/dist-packages/sklearn/neural_network/_multilayer_perceptron.py:571: ConvergenceWarning: Stochastic Optimizer: Maximum iterations (9) reached and the optimization hasn't converged yet.\n",
      "  % self.max_iter, ConvergenceWarning)\n"
     ]
    },
    {
     "name": "stdout",
     "output_type": "stream",
     "text": [
      "Iteration 1, loss = 0.54747750\n",
      "Iteration 2, loss = 0.51224803\n",
      "Iteration 3, loss = 0.50928815\n",
      "Iteration 4, loss = 0.50571454\n",
      "Iteration 5, loss = 0.49927137\n",
      "Iteration 6, loss = 0.49532465\n",
      "Iteration 7, loss = 0.48750128\n",
      "Iteration 8, loss = 0.48191667\n",
      "Iteration 9, loss = 0.47389306\n",
      "Iteration 10, loss = 0.46669338\n",
      "Execucao 11 de 29 \n"
     ]
    },
    {
     "name": "stderr",
     "output_type": "stream",
     "text": [
      "/usr/local/lib/python3.6/dist-packages/sklearn/neural_network/_multilayer_perceptron.py:571: ConvergenceWarning: Stochastic Optimizer: Maximum iterations (10) reached and the optimization hasn't converged yet.\n",
      "  % self.max_iter, ConvergenceWarning)\n"
     ]
    },
    {
     "name": "stdout",
     "output_type": "stream",
     "text": [
      "Iteration 1, loss = 0.55149700\n",
      "Iteration 2, loss = 0.51181226\n",
      "Iteration 3, loss = 0.50610482\n",
      "Iteration 4, loss = 0.50164235\n",
      "Iteration 5, loss = 0.49560591\n",
      "Iteration 6, loss = 0.48834454\n",
      "Iteration 7, loss = 0.47862630\n",
      "Iteration 8, loss = 0.47022396\n",
      "Iteration 9, loss = 0.46094628\n",
      "Iteration 10, loss = 0.45243330\n",
      "Iteration 11, loss = 0.44323514\n",
      "Execucao 12 de 29 \n"
     ]
    },
    {
     "name": "stderr",
     "output_type": "stream",
     "text": [
      "/usr/local/lib/python3.6/dist-packages/sklearn/neural_network/_multilayer_perceptron.py:571: ConvergenceWarning: Stochastic Optimizer: Maximum iterations (11) reached and the optimization hasn't converged yet.\n",
      "  % self.max_iter, ConvergenceWarning)\n"
     ]
    },
    {
     "name": "stdout",
     "output_type": "stream",
     "text": [
      "Iteration 1, loss = 0.55122458\n",
      "Iteration 2, loss = 0.51265010\n",
      "Iteration 3, loss = 0.50710780\n",
      "Iteration 4, loss = 0.50364677\n",
      "Iteration 5, loss = 0.49827035\n",
      "Iteration 6, loss = 0.49206512\n",
      "Iteration 7, loss = 0.48458927\n",
      "Iteration 8, loss = 0.47628604\n",
      "Iteration 9, loss = 0.46799487\n",
      "Iteration 10, loss = 0.46058589\n",
      "Iteration 11, loss = 0.45270928\n",
      "Iteration 12, loss = 0.44564381\n",
      "Execucao 13 de 29 \n"
     ]
    },
    {
     "name": "stderr",
     "output_type": "stream",
     "text": [
      "/usr/local/lib/python3.6/dist-packages/sklearn/neural_network/_multilayer_perceptron.py:571: ConvergenceWarning: Stochastic Optimizer: Maximum iterations (12) reached and the optimization hasn't converged yet.\n",
      "  % self.max_iter, ConvergenceWarning)\n"
     ]
    },
    {
     "name": "stdout",
     "output_type": "stream",
     "text": [
      "Iteration 1, loss = 0.55469153\n",
      "Iteration 2, loss = 0.51194750\n",
      "Iteration 3, loss = 0.50768160\n",
      "Iteration 4, loss = 0.50386338\n",
      "Iteration 5, loss = 0.49947525\n",
      "Iteration 6, loss = 0.49298720\n",
      "Iteration 7, loss = 0.48751191\n",
      "Iteration 8, loss = 0.47980593\n",
      "Iteration 9, loss = 0.46976636\n",
      "Iteration 10, loss = 0.46313868\n",
      "Iteration 11, loss = 0.45585049\n",
      "Iteration 12, loss = 0.44808204\n",
      "Iteration 13, loss = 0.43910361\n",
      "Execucao 14 de 29 \n"
     ]
    },
    {
     "name": "stderr",
     "output_type": "stream",
     "text": [
      "/usr/local/lib/python3.6/dist-packages/sklearn/neural_network/_multilayer_perceptron.py:571: ConvergenceWarning: Stochastic Optimizer: Maximum iterations (13) reached and the optimization hasn't converged yet.\n",
      "  % self.max_iter, ConvergenceWarning)\n"
     ]
    },
    {
     "name": "stdout",
     "output_type": "stream",
     "text": [
      "Iteration 1, loss = 0.54644260\n",
      "Iteration 2, loss = 0.51235813\n",
      "Iteration 3, loss = 0.50736315\n",
      "Iteration 4, loss = 0.50523268\n",
      "Iteration 5, loss = 0.49888048\n",
      "Iteration 6, loss = 0.49361653\n",
      "Iteration 7, loss = 0.48569810\n",
      "Iteration 8, loss = 0.47891657\n",
      "Iteration 9, loss = 0.47078962\n",
      "Iteration 10, loss = 0.46501893\n",
      "Iteration 11, loss = 0.45647247\n",
      "Iteration 12, loss = 0.45089745\n",
      "Iteration 13, loss = 0.44466570\n",
      "Iteration 14, loss = 0.43629245\n",
      "Execucao 15 de 29 \n"
     ]
    },
    {
     "name": "stderr",
     "output_type": "stream",
     "text": [
      "/usr/local/lib/python3.6/dist-packages/sklearn/neural_network/_multilayer_perceptron.py:571: ConvergenceWarning: Stochastic Optimizer: Maximum iterations (14) reached and the optimization hasn't converged yet.\n",
      "  % self.max_iter, ConvergenceWarning)\n"
     ]
    },
    {
     "name": "stdout",
     "output_type": "stream",
     "text": [
      "Iteration 1, loss = 0.55338418\n",
      "Iteration 2, loss = 0.51148983\n",
      "Iteration 3, loss = 0.50741347\n",
      "Iteration 4, loss = 0.50415776\n",
      "Iteration 5, loss = 0.49914072\n",
      "Iteration 6, loss = 0.49426038\n",
      "Iteration 7, loss = 0.48887778\n",
      "Iteration 8, loss = 0.48131579\n",
      "Iteration 9, loss = 0.47585982\n",
      "Iteration 10, loss = 0.46552247\n",
      "Iteration 11, loss = 0.45938990\n",
      "Iteration 12, loss = 0.45238554\n",
      "Iteration 13, loss = 0.44478216\n",
      "Iteration 14, loss = 0.43699335\n",
      "Iteration 15, loss = 0.42983967\n",
      "Execucao 16 de 29 \n"
     ]
    },
    {
     "name": "stderr",
     "output_type": "stream",
     "text": [
      "/usr/local/lib/python3.6/dist-packages/sklearn/neural_network/_multilayer_perceptron.py:571: ConvergenceWarning: Stochastic Optimizer: Maximum iterations (15) reached and the optimization hasn't converged yet.\n",
      "  % self.max_iter, ConvergenceWarning)\n"
     ]
    },
    {
     "name": "stdout",
     "output_type": "stream",
     "text": [
      "Iteration 1, loss = 0.55116402\n",
      "Iteration 2, loss = 0.51260269\n",
      "Iteration 3, loss = 0.50826158\n",
      "Iteration 4, loss = 0.50329255\n",
      "Iteration 5, loss = 0.49825172\n",
      "Iteration 6, loss = 0.49176391\n",
      "Iteration 7, loss = 0.48346319\n",
      "Iteration 8, loss = 0.47534573\n",
      "Iteration 9, loss = 0.46709100\n",
      "Iteration 10, loss = 0.46079883\n",
      "Iteration 11, loss = 0.45126016\n",
      "Iteration 12, loss = 0.44224774\n",
      "Iteration 13, loss = 0.43488928\n",
      "Iteration 14, loss = 0.42756957\n",
      "Iteration 15, loss = 0.41913929\n",
      "Iteration 16, loss = 0.41062239\n",
      "Execucao 17 de 29 \n"
     ]
    },
    {
     "name": "stderr",
     "output_type": "stream",
     "text": [
      "/usr/local/lib/python3.6/dist-packages/sklearn/neural_network/_multilayer_perceptron.py:571: ConvergenceWarning: Stochastic Optimizer: Maximum iterations (16) reached and the optimization hasn't converged yet.\n",
      "  % self.max_iter, ConvergenceWarning)\n"
     ]
    },
    {
     "name": "stdout",
     "output_type": "stream",
     "text": [
      "Iteration 1, loss = 0.55809449\n",
      "Iteration 2, loss = 0.51272702\n",
      "Iteration 3, loss = 0.50937063\n",
      "Iteration 4, loss = 0.50297063\n",
      "Iteration 5, loss = 0.49690383\n",
      "Iteration 6, loss = 0.49062696\n",
      "Iteration 7, loss = 0.48099203\n",
      "Iteration 8, loss = 0.47211510\n",
      "Iteration 9, loss = 0.46341970\n",
      "Iteration 10, loss = 0.45407973\n",
      "Iteration 11, loss = 0.44681018\n",
      "Iteration 12, loss = 0.43725145\n",
      "Iteration 13, loss = 0.42849471\n",
      "Iteration 14, loss = 0.42215770\n",
      "Iteration 15, loss = 0.41531892\n",
      "Iteration 16, loss = 0.40792528\n",
      "Iteration 17, loss = 0.40193960\n",
      "Execucao 18 de 29 \n"
     ]
    },
    {
     "name": "stderr",
     "output_type": "stream",
     "text": [
      "/usr/local/lib/python3.6/dist-packages/sklearn/neural_network/_multilayer_perceptron.py:571: ConvergenceWarning: Stochastic Optimizer: Maximum iterations (17) reached and the optimization hasn't converged yet.\n",
      "  % self.max_iter, ConvergenceWarning)\n"
     ]
    },
    {
     "name": "stdout",
     "output_type": "stream",
     "text": [
      "Iteration 1, loss = 0.54995896\n",
      "Iteration 2, loss = 0.51282289\n",
      "Iteration 3, loss = 0.50816311\n",
      "Iteration 4, loss = 0.50416279\n",
      "Iteration 5, loss = 0.50064626\n",
      "Iteration 6, loss = 0.49654580\n",
      "Iteration 7, loss = 0.48996249\n",
      "Iteration 8, loss = 0.48436702\n",
      "Iteration 9, loss = 0.47804582\n",
      "Iteration 10, loss = 0.46984973\n",
      "Iteration 11, loss = 0.46371042\n",
      "Iteration 12, loss = 0.45704984\n",
      "Iteration 13, loss = 0.45099223\n",
      "Iteration 14, loss = 0.44349591\n",
      "Iteration 15, loss = 0.43953104\n",
      "Iteration 16, loss = 0.43051396\n",
      "Iteration 17, loss = 0.42603081\n",
      "Iteration 18, loss = 0.41907099\n",
      "Execucao 19 de 29 \n"
     ]
    },
    {
     "name": "stderr",
     "output_type": "stream",
     "text": [
      "/usr/local/lib/python3.6/dist-packages/sklearn/neural_network/_multilayer_perceptron.py:571: ConvergenceWarning: Stochastic Optimizer: Maximum iterations (18) reached and the optimization hasn't converged yet.\n",
      "  % self.max_iter, ConvergenceWarning)\n"
     ]
    },
    {
     "name": "stdout",
     "output_type": "stream",
     "text": [
      "Iteration 1, loss = 0.54994501\n",
      "Iteration 2, loss = 0.51192537\n",
      "Iteration 3, loss = 0.50877448\n",
      "Iteration 4, loss = 0.50685651\n",
      "Iteration 5, loss = 0.49923375\n",
      "Iteration 6, loss = 0.49522117\n",
      "Iteration 7, loss = 0.48778182\n",
      "Iteration 8, loss = 0.47970694\n",
      "Iteration 9, loss = 0.47214382\n",
      "Iteration 10, loss = 0.46381892\n",
      "Iteration 11, loss = 0.45479230\n",
      "Iteration 12, loss = 0.44747022\n",
      "Iteration 13, loss = 0.43946281\n",
      "Iteration 14, loss = 0.43291413\n",
      "Iteration 15, loss = 0.42551365\n",
      "Iteration 16, loss = 0.41665129\n",
      "Iteration 17, loss = 0.41145063\n",
      "Iteration 18, loss = 0.40428918\n",
      "Iteration 19, loss = 0.39847070\n",
      "Execucao 20 de 29 \n"
     ]
    },
    {
     "name": "stderr",
     "output_type": "stream",
     "text": [
      "/usr/local/lib/python3.6/dist-packages/sklearn/neural_network/_multilayer_perceptron.py:571: ConvergenceWarning: Stochastic Optimizer: Maximum iterations (19) reached and the optimization hasn't converged yet.\n",
      "  % self.max_iter, ConvergenceWarning)\n"
     ]
    },
    {
     "name": "stdout",
     "output_type": "stream",
     "text": [
      "Iteration 1, loss = 0.56729582\n",
      "Iteration 2, loss = 0.51364469\n",
      "Iteration 3, loss = 0.50780844\n",
      "Iteration 4, loss = 0.50381640\n",
      "Iteration 5, loss = 0.49902524\n",
      "Iteration 6, loss = 0.49095759\n",
      "Iteration 7, loss = 0.48474621\n",
      "Iteration 8, loss = 0.47543557\n",
      "Iteration 9, loss = 0.46795140\n",
      "Iteration 10, loss = 0.45965963\n",
      "Iteration 11, loss = 0.45307273\n",
      "Iteration 12, loss = 0.44430886\n",
      "Iteration 13, loss = 0.43616566\n",
      "Iteration 14, loss = 0.42889395\n",
      "Iteration 15, loss = 0.42088928\n",
      "Iteration 16, loss = 0.41563989\n",
      "Iteration 17, loss = 0.40959112\n",
      "Iteration 18, loss = 0.40275690\n",
      "Iteration 19, loss = 0.39743682\n",
      "Iteration 20, loss = 0.38972598\n",
      "Execucao 21 de 29 \n"
     ]
    },
    {
     "name": "stderr",
     "output_type": "stream",
     "text": [
      "/usr/local/lib/python3.6/dist-packages/sklearn/neural_network/_multilayer_perceptron.py:571: ConvergenceWarning: Stochastic Optimizer: Maximum iterations (20) reached and the optimization hasn't converged yet.\n",
      "  % self.max_iter, ConvergenceWarning)\n"
     ]
    },
    {
     "name": "stdout",
     "output_type": "stream",
     "text": [
      "Iteration 1, loss = 0.54932562\n",
      "Iteration 2, loss = 0.51328652\n",
      "Iteration 3, loss = 0.50865419\n",
      "Iteration 4, loss = 0.50435049\n",
      "Iteration 5, loss = 0.49949769\n",
      "Iteration 6, loss = 0.49256681\n",
      "Iteration 7, loss = 0.48620982\n",
      "Iteration 8, loss = 0.47850535\n",
      "Iteration 9, loss = 0.47186894\n",
      "Iteration 10, loss = 0.46347054\n",
      "Iteration 11, loss = 0.45722287\n",
      "Iteration 12, loss = 0.45047052\n",
      "Iteration 13, loss = 0.44279779\n",
      "Iteration 14, loss = 0.43641887\n",
      "Iteration 15, loss = 0.42835233\n",
      "Iteration 16, loss = 0.42287530\n",
      "Iteration 17, loss = 0.41628924\n",
      "Iteration 18, loss = 0.41283392\n",
      "Iteration 19, loss = 0.40590445\n",
      "Iteration 20, loss = 0.40200034\n",
      "Iteration 21, loss = 0.39550273\n",
      "Execucao 22 de 29 \n"
     ]
    },
    {
     "name": "stderr",
     "output_type": "stream",
     "text": [
      "/usr/local/lib/python3.6/dist-packages/sklearn/neural_network/_multilayer_perceptron.py:571: ConvergenceWarning: Stochastic Optimizer: Maximum iterations (21) reached and the optimization hasn't converged yet.\n",
      "  % self.max_iter, ConvergenceWarning)\n"
     ]
    },
    {
     "name": "stdout",
     "output_type": "stream",
     "text": [
      "Iteration 1, loss = 0.55356417\n",
      "Iteration 2, loss = 0.51199227\n",
      "Iteration 3, loss = 0.50857786\n",
      "Iteration 4, loss = 0.50194261\n",
      "Iteration 5, loss = 0.49699554\n",
      "Iteration 6, loss = 0.49027298\n",
      "Iteration 7, loss = 0.48100852\n",
      "Iteration 8, loss = 0.47211758\n",
      "Iteration 9, loss = 0.46274203\n",
      "Iteration 10, loss = 0.45477632\n",
      "Iteration 11, loss = 0.44502708\n",
      "Iteration 12, loss = 0.43724485\n",
      "Iteration 13, loss = 0.43090051\n",
      "Iteration 14, loss = 0.41974715\n",
      "Iteration 15, loss = 0.41488925\n",
      "Iteration 16, loss = 0.40459797\n",
      "Iteration 17, loss = 0.39935275\n",
      "Iteration 18, loss = 0.39072355\n",
      "Iteration 19, loss = 0.38402974\n",
      "Iteration 20, loss = 0.37857556\n",
      "Iteration 21, loss = 0.37268704\n",
      "Iteration 22, loss = 0.36803969\n",
      "Execucao 23 de 29 \n"
     ]
    },
    {
     "name": "stderr",
     "output_type": "stream",
     "text": [
      "/usr/local/lib/python3.6/dist-packages/sklearn/neural_network/_multilayer_perceptron.py:571: ConvergenceWarning: Stochastic Optimizer: Maximum iterations (22) reached and the optimization hasn't converged yet.\n",
      "  % self.max_iter, ConvergenceWarning)\n"
     ]
    },
    {
     "name": "stdout",
     "output_type": "stream",
     "text": [
      "Iteration 1, loss = 0.55510223\n",
      "Iteration 2, loss = 0.51357149\n",
      "Iteration 3, loss = 0.50943840\n",
      "Iteration 4, loss = 0.50558795\n",
      "Iteration 5, loss = 0.50046402\n",
      "Iteration 6, loss = 0.49716846\n",
      "Iteration 7, loss = 0.48995731\n",
      "Iteration 8, loss = 0.48189092\n",
      "Iteration 9, loss = 0.47436072\n",
      "Iteration 10, loss = 0.46710416\n",
      "Iteration 11, loss = 0.46071084\n",
      "Iteration 12, loss = 0.45260124\n",
      "Iteration 13, loss = 0.44408661\n",
      "Iteration 14, loss = 0.43666418\n",
      "Iteration 15, loss = 0.42978049\n",
      "Iteration 16, loss = 0.42421831\n",
      "Iteration 17, loss = 0.41804870\n",
      "Iteration 18, loss = 0.40995891\n",
      "Iteration 19, loss = 0.40480869\n",
      "Iteration 20, loss = 0.39979695\n",
      "Iteration 21, loss = 0.39507775\n",
      "Iteration 22, loss = 0.39062453\n",
      "Iteration 23, loss = 0.38529749\n",
      "Execucao 24 de 29 \n"
     ]
    },
    {
     "name": "stderr",
     "output_type": "stream",
     "text": [
      "/usr/local/lib/python3.6/dist-packages/sklearn/neural_network/_multilayer_perceptron.py:571: ConvergenceWarning: Stochastic Optimizer: Maximum iterations (23) reached and the optimization hasn't converged yet.\n",
      "  % self.max_iter, ConvergenceWarning)\n"
     ]
    },
    {
     "name": "stdout",
     "output_type": "stream",
     "text": [
      "Iteration 1, loss = 0.54885806\n",
      "Iteration 2, loss = 0.51397335\n",
      "Iteration 3, loss = 0.50849539\n",
      "Iteration 4, loss = 0.50438171\n",
      "Iteration 5, loss = 0.49699937\n",
      "Iteration 6, loss = 0.49164371\n",
      "Iteration 7, loss = 0.48319880\n",
      "Iteration 8, loss = 0.47644266\n",
      "Iteration 9, loss = 0.46819868\n",
      "Iteration 10, loss = 0.45913786\n",
      "Iteration 11, loss = 0.45033666\n",
      "Iteration 12, loss = 0.44496295\n",
      "Iteration 13, loss = 0.43738072\n",
      "Iteration 14, loss = 0.43137494\n",
      "Iteration 15, loss = 0.42713657\n",
      "Iteration 16, loss = 0.41995601\n",
      "Iteration 17, loss = 0.41312400\n",
      "Iteration 18, loss = 0.40830292\n",
      "Iteration 19, loss = 0.40432178\n",
      "Iteration 20, loss = 0.39939118\n",
      "Iteration 21, loss = 0.39205049\n",
      "Iteration 22, loss = 0.39046218\n",
      "Iteration 23, loss = 0.38232288\n",
      "Iteration 24, loss = 0.37892864\n",
      "Execucao 25 de 29 \n"
     ]
    },
    {
     "name": "stderr",
     "output_type": "stream",
     "text": [
      "/usr/local/lib/python3.6/dist-packages/sklearn/neural_network/_multilayer_perceptron.py:571: ConvergenceWarning: Stochastic Optimizer: Maximum iterations (24) reached and the optimization hasn't converged yet.\n",
      "  % self.max_iter, ConvergenceWarning)\n"
     ]
    },
    {
     "name": "stdout",
     "output_type": "stream",
     "text": [
      "Iteration 1, loss = 0.54298624\n",
      "Iteration 2, loss = 0.51294028\n",
      "Iteration 3, loss = 0.50761574\n",
      "Iteration 4, loss = 0.50264852\n",
      "Iteration 5, loss = 0.49741386\n",
      "Iteration 6, loss = 0.49194732\n",
      "Iteration 7, loss = 0.48315959\n",
      "Iteration 8, loss = 0.47656598\n",
      "Iteration 9, loss = 0.46811292\n",
      "Iteration 10, loss = 0.46111000\n",
      "Iteration 11, loss = 0.45347484\n",
      "Iteration 12, loss = 0.44666144\n",
      "Iteration 13, loss = 0.44064452\n",
      "Iteration 14, loss = 0.43372192\n",
      "Iteration 15, loss = 0.42591687\n",
      "Iteration 16, loss = 0.41949903\n",
      "Iteration 17, loss = 0.41858151\n",
      "Iteration 18, loss = 0.40817933\n",
      "Iteration 19, loss = 0.40358843\n",
      "Iteration 20, loss = 0.39639641\n",
      "Iteration 21, loss = 0.39202920\n",
      "Iteration 22, loss = 0.38787439\n",
      "Iteration 23, loss = 0.38590783\n",
      "Iteration 24, loss = 0.37717163\n",
      "Iteration 25, loss = 0.37324504\n",
      "Execucao 26 de 29 \n"
     ]
    },
    {
     "name": "stderr",
     "output_type": "stream",
     "text": [
      "/usr/local/lib/python3.6/dist-packages/sklearn/neural_network/_multilayer_perceptron.py:571: ConvergenceWarning: Stochastic Optimizer: Maximum iterations (25) reached and the optimization hasn't converged yet.\n",
      "  % self.max_iter, ConvergenceWarning)\n"
     ]
    },
    {
     "name": "stdout",
     "output_type": "stream",
     "text": [
      "Iteration 1, loss = 0.55381352\n",
      "Iteration 2, loss = 0.51132078\n",
      "Iteration 3, loss = 0.50847784\n",
      "Iteration 4, loss = 0.50305223\n",
      "Iteration 5, loss = 0.49619266\n",
      "Iteration 6, loss = 0.48927599\n",
      "Iteration 7, loss = 0.48191987\n",
      "Iteration 8, loss = 0.47323956\n",
      "Iteration 9, loss = 0.46641646\n",
      "Iteration 10, loss = 0.46036329\n",
      "Iteration 11, loss = 0.45085813\n",
      "Iteration 12, loss = 0.44382625\n",
      "Iteration 13, loss = 0.43759639\n",
      "Iteration 14, loss = 0.43181776\n",
      "Iteration 15, loss = 0.42424118\n",
      "Iteration 16, loss = 0.41620689\n",
      "Iteration 17, loss = 0.41072326\n",
      "Iteration 18, loss = 0.40529674\n",
      "Iteration 19, loss = 0.39787990\n",
      "Iteration 20, loss = 0.39151982\n",
      "Iteration 21, loss = 0.38687010\n",
      "Iteration 22, loss = 0.38204691\n",
      "Iteration 23, loss = 0.37757816\n",
      "Iteration 24, loss = 0.37368798\n",
      "Iteration 25, loss = 0.36733524\n",
      "Iteration 26, loss = 0.36192525\n",
      "Execucao 27 de 29 \n"
     ]
    },
    {
     "name": "stderr",
     "output_type": "stream",
     "text": [
      "/usr/local/lib/python3.6/dist-packages/sklearn/neural_network/_multilayer_perceptron.py:571: ConvergenceWarning: Stochastic Optimizer: Maximum iterations (26) reached and the optimization hasn't converged yet.\n",
      "  % self.max_iter, ConvergenceWarning)\n"
     ]
    },
    {
     "name": "stdout",
     "output_type": "stream",
     "text": [
      "Iteration 1, loss = 0.55453341\n",
      "Iteration 2, loss = 0.51346246\n",
      "Iteration 3, loss = 0.50806274\n",
      "Iteration 4, loss = 0.50444344\n",
      "Iteration 5, loss = 0.49757699\n",
      "Iteration 6, loss = 0.49441733\n",
      "Iteration 7, loss = 0.48863071\n",
      "Iteration 8, loss = 0.48051617\n",
      "Iteration 9, loss = 0.47542557\n",
      "Iteration 10, loss = 0.46816543\n",
      "Iteration 11, loss = 0.46109119\n",
      "Iteration 12, loss = 0.45620415\n",
      "Iteration 13, loss = 0.44816978\n",
      "Iteration 14, loss = 0.44145614\n",
      "Iteration 15, loss = 0.43531188\n",
      "Iteration 16, loss = 0.43047916\n",
      "Iteration 17, loss = 0.42639635\n",
      "Iteration 18, loss = 0.42052092\n",
      "Iteration 19, loss = 0.41410035\n",
      "Iteration 20, loss = 0.40939556\n",
      "Iteration 21, loss = 0.40558415\n",
      "Iteration 22, loss = 0.39779996\n",
      "Iteration 23, loss = 0.39544978\n",
      "Iteration 24, loss = 0.38910258\n",
      "Iteration 25, loss = 0.38615446\n",
      "Iteration 26, loss = 0.37990481\n",
      "Iteration 27, loss = 0.37608911\n",
      "Execucao 28 de 29 \n"
     ]
    },
    {
     "name": "stderr",
     "output_type": "stream",
     "text": [
      "/usr/local/lib/python3.6/dist-packages/sklearn/neural_network/_multilayer_perceptron.py:571: ConvergenceWarning: Stochastic Optimizer: Maximum iterations (27) reached and the optimization hasn't converged yet.\n",
      "  % self.max_iter, ConvergenceWarning)\n"
     ]
    },
    {
     "name": "stdout",
     "output_type": "stream",
     "text": [
      "Iteration 1, loss = 0.55283188\n",
      "Iteration 2, loss = 0.51353278\n",
      "Iteration 3, loss = 0.50796086\n",
      "Iteration 4, loss = 0.50449088\n",
      "Iteration 5, loss = 0.50010343\n",
      "Iteration 6, loss = 0.49374814\n",
      "Iteration 7, loss = 0.48730616\n",
      "Iteration 8, loss = 0.47869440\n",
      "Iteration 9, loss = 0.46885255\n",
      "Iteration 10, loss = 0.46060848\n",
      "Iteration 11, loss = 0.45028500\n",
      "Iteration 12, loss = 0.44284381\n",
      "Iteration 13, loss = 0.43584747\n",
      "Iteration 14, loss = 0.42604446\n",
      "Iteration 15, loss = 0.41705381\n",
      "Iteration 16, loss = 0.41091760\n",
      "Iteration 17, loss = 0.40375676\n",
      "Iteration 18, loss = 0.39736266\n",
      "Iteration 19, loss = 0.39201554\n",
      "Iteration 20, loss = 0.38437441\n",
      "Iteration 21, loss = 0.37854018\n",
      "Iteration 22, loss = 0.37292307\n",
      "Iteration 23, loss = 0.36929990\n",
      "Iteration 24, loss = 0.36282947\n",
      "Iteration 25, loss = 0.35925615\n",
      "Iteration 26, loss = 0.35324746\n",
      "Iteration 27, loss = 0.34957068\n",
      "Iteration 28, loss = 0.34477711\n",
      "Execucao 29 de 29 \n"
     ]
    },
    {
     "name": "stderr",
     "output_type": "stream",
     "text": [
      "/usr/local/lib/python3.6/dist-packages/sklearn/neural_network/_multilayer_perceptron.py:571: ConvergenceWarning: Stochastic Optimizer: Maximum iterations (28) reached and the optimization hasn't converged yet.\n",
      "  % self.max_iter, ConvergenceWarning)\n"
     ]
    },
    {
     "name": "stdout",
     "output_type": "stream",
     "text": [
      "Iteration 1, loss = 0.55284449\n",
      "Iteration 2, loss = 0.51317379\n",
      "Iteration 3, loss = 0.50664748\n",
      "Iteration 4, loss = 0.50129292\n",
      "Iteration 5, loss = 0.49372215\n",
      "Iteration 6, loss = 0.48529808\n",
      "Iteration 7, loss = 0.47672291\n",
      "Iteration 8, loss = 0.46775687\n",
      "Iteration 9, loss = 0.45847948\n",
      "Iteration 10, loss = 0.44875475\n",
      "Iteration 11, loss = 0.43941491\n",
      "Iteration 12, loss = 0.43167761\n",
      "Iteration 13, loss = 0.42223703\n",
      "Iteration 14, loss = 0.41468465\n",
      "Iteration 15, loss = 0.40613409\n",
      "Iteration 16, loss = 0.39707634\n",
      "Iteration 17, loss = 0.38995077\n",
      "Iteration 18, loss = 0.38340456\n",
      "Iteration 19, loss = 0.37660172\n",
      "Iteration 20, loss = 0.36960553\n",
      "Iteration 21, loss = 0.36574674\n",
      "Iteration 22, loss = 0.35736955\n",
      "Iteration 23, loss = 0.35476929\n",
      "Iteration 24, loss = 0.34969100\n",
      "Iteration 25, loss = 0.34250630\n",
      "Iteration 26, loss = 0.33793145\n",
      "Iteration 27, loss = 0.33307192\n",
      "Iteration 28, loss = 0.32924023\n",
      "Iteration 29, loss = 0.32326140\n",
      "Fim da função\n"
     ]
    },
    {
     "name": "stderr",
     "output_type": "stream",
     "text": [
      "/usr/local/lib/python3.6/dist-packages/sklearn/neural_network/_multilayer_perceptron.py:571: ConvergenceWarning: Stochastic Optimizer: Maximum iterations (29) reached and the optimization hasn't converged yet.\n",
      "  % self.max_iter, ConvergenceWarning)\n"
     ]
    }
   ],
   "source": [
    "gera_classificador_RNA(1, 30, 1, y_train_diabetes, y_test_diabetes, X_train_diabetes, X_test_diabetes, 'DIABETES')"
   ]
  },
  {
   "cell_type": "code",
   "execution_count": 60,
   "metadata": {
    "colab": {
     "base_uri": "https://localhost:8080/",
     "height": 197
    },
    "colab_type": "code",
    "id": "Bo0KA4mZ60jE",
    "outputId": "d47c05df-a873-4a15-c051-4edc88da4855"
   },
   "outputs": [
    {
     "data": {
      "text/html": [
       "<div>\n",
       "<style scoped>\n",
       "    .dataframe tbody tr th:only-of-type {\n",
       "        vertical-align: middle;\n",
       "    }\n",
       "\n",
       "    .dataframe tbody tr th {\n",
       "        vertical-align: top;\n",
       "    }\n",
       "\n",
       "    .dataframe thead th {\n",
       "        text-align: right;\n",
       "    }\n",
       "</style>\n",
       "<table border=\"1\" class=\"dataframe\">\n",
       "  <thead>\n",
       "    <tr style=\"text-align: right;\">\n",
       "      <th></th>\n",
       "      <th>NU_ITERACAO</th>\n",
       "      <th>ACURACIA</th>\n",
       "      <th>ACERTO - MC NAO</th>\n",
       "      <th>ACERTO - MC SIM</th>\n",
       "      <th>MATRIZ CONFUSAO</th>\n",
       "      <th>IN_ALVO</th>\n",
       "    </tr>\n",
       "  </thead>\n",
       "  <tbody>\n",
       "    <tr>\n",
       "      <th>0</th>\n",
       "      <td>1</td>\n",
       "      <td>0.724793</td>\n",
       "      <td>73.873016</td>\n",
       "      <td>69.761684</td>\n",
       "      <td>[[4654, 1646], [977, 2254]]</td>\n",
       "      <td>HIPERTENSAO</td>\n",
       "    </tr>\n",
       "    <tr>\n",
       "      <th>1</th>\n",
       "      <td>2</td>\n",
       "      <td>0.725212</td>\n",
       "      <td>72.809524</td>\n",
       "      <td>71.959146</td>\n",
       "      <td>[[4587, 1713], [906, 2325]]</td>\n",
       "      <td>HIPERTENSAO</td>\n",
       "    </tr>\n",
       "    <tr>\n",
       "      <th>2</th>\n",
       "      <td>3</td>\n",
       "      <td>0.707586</td>\n",
       "      <td>66.492063</td>\n",
       "      <td>79.077685</td>\n",
       "      <td>[[4189, 2111], [676, 2555]]</td>\n",
       "      <td>HIPERTENSAO</td>\n",
       "    </tr>\n",
       "    <tr>\n",
       "      <th>3</th>\n",
       "      <td>4</td>\n",
       "      <td>0.705802</td>\n",
       "      <td>66.015873</td>\n",
       "      <td>79.480037</td>\n",
       "      <td>[[4159, 2141], [663, 2568]]</td>\n",
       "      <td>HIPERTENSAO</td>\n",
       "    </tr>\n",
       "    <tr>\n",
       "      <th>4</th>\n",
       "      <td>5</td>\n",
       "      <td>0.720386</td>\n",
       "      <td>71.031746</td>\n",
       "      <td>74.001857</td>\n",
       "      <td>[[4475, 1825], [840, 2391]]</td>\n",
       "      <td>HIPERTENSAO</td>\n",
       "    </tr>\n",
       "  </tbody>\n",
       "</table>\n",
       "</div>"
      ],
      "text/plain": [
       "  NU_ITERACAO  ACURACIA  ...              MATRIZ CONFUSAO      IN_ALVO\n",
       "0           1  0.724793  ...  [[4654, 1646], [977, 2254]]  HIPERTENSAO\n",
       "1           2  0.725212  ...  [[4587, 1713], [906, 2325]]  HIPERTENSAO\n",
       "2           3  0.707586  ...  [[4189, 2111], [676, 2555]]  HIPERTENSAO\n",
       "3           4  0.705802  ...  [[4159, 2141], [663, 2568]]  HIPERTENSAO\n",
       "4           5  0.720386  ...  [[4475, 1825], [840, 2391]]  HIPERTENSAO\n",
       "\n",
       "[5 rows x 6 columns]"
      ]
     },
     "execution_count": 60,
     "metadata": {
      "tags": []
     },
     "output_type": "execute_result"
    }
   ],
   "source": [
    "df_scores_rna.head()"
   ]
  },
  {
   "cell_type": "code",
   "execution_count": 61,
   "metadata": {
    "colab": {
     "base_uri": "https://localhost:8080/",
     "height": 420
    },
    "colab_type": "code",
    "id": "1sRr18eV639Y",
    "outputId": "10f227b0-f799-43b2-bb62-39bb35bebc08"
   },
   "outputs": [
    {
     "name": "stderr",
     "output_type": "stream",
     "text": [
      "/usr/local/lib/python3.6/dist-packages/sklearn/model_selection/_split.py:296: FutureWarning: Setting a random_state has no effect since shuffle is False. This will raise an error in 0.24. You should leave random_state to its default (None), or set shuffle=True.\n",
      "  FutureWarning\n",
      "/usr/local/lib/python3.6/dist-packages/sklearn/neural_network/_multilayer_perceptron.py:571: ConvergenceWarning: Stochastic Optimizer: Maximum iterations (10) reached and the optimization hasn't converged yet.\n",
      "  % self.max_iter, ConvergenceWarning)\n",
      "/usr/local/lib/python3.6/dist-packages/sklearn/neural_network/_multilayer_perceptron.py:571: ConvergenceWarning: Stochastic Optimizer: Maximum iterations (10) reached and the optimization hasn't converged yet.\n",
      "  % self.max_iter, ConvergenceWarning)\n",
      "/usr/local/lib/python3.6/dist-packages/sklearn/neural_network/_multilayer_perceptron.py:571: ConvergenceWarning: Stochastic Optimizer: Maximum iterations (10) reached and the optimization hasn't converged yet.\n",
      "  % self.max_iter, ConvergenceWarning)\n",
      "/usr/local/lib/python3.6/dist-packages/sklearn/neural_network/_multilayer_perceptron.py:571: ConvergenceWarning: Stochastic Optimizer: Maximum iterations (10) reached and the optimization hasn't converged yet.\n",
      "  % self.max_iter, ConvergenceWarning)\n",
      "/usr/local/lib/python3.6/dist-packages/sklearn/neural_network/_multilayer_perceptron.py:571: ConvergenceWarning: Stochastic Optimizer: Maximum iterations (10) reached and the optimization hasn't converged yet.\n",
      "  % self.max_iter, ConvergenceWarning)\n",
      "/usr/local/lib/python3.6/dist-packages/sklearn/neural_network/_multilayer_perceptron.py:571: ConvergenceWarning: Stochastic Optimizer: Maximum iterations (10) reached and the optimization hasn't converged yet.\n",
      "  % self.max_iter, ConvergenceWarning)\n",
      "/usr/local/lib/python3.6/dist-packages/sklearn/neural_network/_multilayer_perceptron.py:571: ConvergenceWarning: Stochastic Optimizer: Maximum iterations (10) reached and the optimization hasn't converged yet.\n",
      "  % self.max_iter, ConvergenceWarning)\n",
      "/usr/local/lib/python3.6/dist-packages/sklearn/neural_network/_multilayer_perceptron.py:571: ConvergenceWarning: Stochastic Optimizer: Maximum iterations (10) reached and the optimization hasn't converged yet.\n",
      "  % self.max_iter, ConvergenceWarning)\n",
      "/usr/local/lib/python3.6/dist-packages/sklearn/neural_network/_multilayer_perceptron.py:571: ConvergenceWarning: Stochastic Optimizer: Maximum iterations (10) reached and the optimization hasn't converged yet.\n",
      "  % self.max_iter, ConvergenceWarning)\n"
     ]
    },
    {
     "name": "stdout",
     "output_type": "stream",
     "text": [
      "0.7405714806225677\n"
     ]
    },
    {
     "name": "stderr",
     "output_type": "stream",
     "text": [
      "/usr/local/lib/python3.6/dist-packages/sklearn/neural_network/_multilayer_perceptron.py:571: ConvergenceWarning: Stochastic Optimizer: Maximum iterations (10) reached and the optimization hasn't converged yet.\n",
      "  % self.max_iter, ConvergenceWarning)\n"
     ]
    }
   ],
   "source": [
    "KF = KFold(n_splits=10, random_state=7)\n",
    "clf_rna_diab = MLPClassifier(hidden_layer_sizes=100, activation='relu', solver='adam', alpha=0.0001, batch_size='auto', max_iter=10)\n",
    "resultado = cross_val_score(clf_rna_diab, X_train_diabetes, y_train_diabetes, cv=KF, scoring='accuracy')\n",
    "\n",
    "acc_rna_diab = resultado.mean()\n",
    "#df_comp.loc[len(df_comp)] = ['Decisao Acuracia - CV', resultado.mean() , '']\n",
    "print(acc_rna_diab)\n"
   ]
  },
  {
   "cell_type": "code",
   "execution_count": 0,
   "metadata": {
    "colab": {},
    "colab_type": "code",
    "id": "ldiVqHTil5TP"
   },
   "outputs": [],
   "source": [
    "# Exportando o DataFrame com os resultados para XLS\n",
    "df_scores_rna.to_excel('metricas_rna.xls')"
   ]
  },
  {
   "cell_type": "code",
   "execution_count": 0,
   "metadata": {
    "colab": {},
    "colab_type": "code",
    "id": "3WtTccHEfA0i"
   },
   "outputs": [],
   "source": [
    "df_comp.loc[len(df_comp)] = ['CV - Acurácia DTree', acc_dtree_hiper , acc_dtree_diab]\n",
    "df_comp.loc[len(df_comp)] = ['CV - Acurácia RNA (MLP)', acc_rna_hip , acc_rna_diab]\n"
   ]
  },
  {
   "cell_type": "code",
   "execution_count": 64,
   "metadata": {
    "colab": {
     "base_uri": "https://localhost:8080/",
     "height": 66
    },
    "colab_type": "code",
    "id": "-KTxRPbWwc_v",
    "outputId": "629e9fac-8dd3-44e1-a396-85498b1da2af"
   },
   "outputs": [
    {
     "name": "stdout",
     "output_type": "stream",
     "text": [
      "       *******************  HIPERTENSÃO  DIABETES\n",
      "0      CV - Acurácia DTree     0.669667  0.686746\n",
      "1  CV - Acurácia RNA (MLP)     0.657891  0.740571\n"
     ]
    }
   ],
   "source": [
    "print(df_comp)\n"
   ]
  }
 ],
 "metadata": {
  "colab": {
   "collapsed_sections": [],
   "name": "TCC.ipynb",
   "provenance": [],
   "toc_visible": true
  },
  "kernelspec": {
   "display_name": "Python 3",
   "language": "python",
   "name": "python3"
  },
  "language_info": {
   "codemirror_mode": {
    "name": "ipython",
    "version": 3
   },
   "file_extension": ".py",
   "mimetype": "text/x-python",
   "name": "python",
   "nbconvert_exporter": "python",
   "pygments_lexer": "ipython3",
   "version": "3.7.4"
  }
 },
 "nbformat": 4,
 "nbformat_minor": 1
}
